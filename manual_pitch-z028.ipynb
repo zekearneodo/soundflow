{
 "cells": [
  {
   "cell_type": "code",
   "execution_count": 1,
   "metadata": {},
   "outputs": [
    {
     "name": "stdout",
     "output_type": "stream",
     "text": [
      "Computer: passaro\n"
     ]
    }
   ],
   "source": [
    "# Definitions and functions\n",
    "%matplotlib inline\n",
    "import pdb\n",
    "import sys\n",
    "import pandas as pd\n",
    "import numpy as np\n",
    "import scipy.io as sio\n",
    "import matplotlib.pyplot as plt\n",
    "import matplotlib\n",
    "import scipy.signal as sg\n",
    "import math\n",
    "import scipy as sp\n",
    "import socket\n",
    "import os\n",
    "import wave\n",
    "import struct\n",
    "import h5py\n",
    "from scipy.io import wavfile\n",
    "from scipy.interpolate import interp1d\n",
    "from scipy.signal import spectrogram\n",
    "import logging\n",
    "from IPython.display import display\n",
    "matplotlib.style.use('ggplot')\n",
    "from ipywidgets import *\n",
    "import yaml\n",
    "import numpy.lib.recfunctions as rfn \n",
    "import numpy.matlib as npm\n",
    "import glob\n",
    "from __future__ import division\n",
    "# Check wich computer to decide where the things are mounted\n",
    "comp_name=socket.gethostname()\n",
    "print 'Computer: ' + comp_name\n",
    "\n",
    "if 'txori' in comp_name or 'passaro' in comp_name or 'lintu' in comp_name:\n",
    "    repos_folder = os.path.abspath('/mnt/cube/earneodo/repos')\n",
    "    experiment_folder = os.path.join('/mnt/cube/earneodo/bci_zf/')\n",
    "if 'lookfar' in comp_name:\n",
    "    repos_folder = os.path.abspath('/Users/zeke/repos/')\n",
    "    experiment_folder = os.path.abspath('/Users/zeke/experiments/bci_zf/')\n",
    "\n",
    "sys.path.append(os.path.join(repos_folder, 'soundflow', 'sound_tools'))\n",
    "sys.path.append(os.path.join(repos_folder, 'ephysflow'))\n",
    "sys.path.append(os.path.join(repos_folder, 'analysis-tools'))\n",
    "\n",
    "#setup the data folder\n",
    "ss_data_folder = os.path.join(experiment_folder, 'ss_data')\n",
    "\n",
    "# from file_tools import experiment as et\n",
    "# from basic_viewing import events as evt\n",
    "# from basic_viewing.units import Unit\n",
    "# from basic_viewing.basic_plot import plot_raster, sparse_raster\n",
    "# from basic_viewing import basic_plot as bp\n",
    "# from basic_viewing import kwik_functions as kwf\n",
    "# from basic_viewing import h5_functions as h5\n"
   ]
  },
  {
   "cell_type": "code",
   "execution_count": 47,
   "metadata": {
    "collapsed": true
   },
   "outputs": [],
   "source": [
    "bird = 'z028'\n",
    "stim_sess = '001'\n",
    "base_name = 'motiff_2b'\n",
    "\n",
    "stim_folder = os.path.join(experiment_folder, 'stim_data', bird, stim_sess)\n",
    "pitch_file = os.path.join(stim_folder, 'pitch_list - {0}.tsv'.format(bird))\n",
    "bos_file = os.path.join(stim_folder, '{}.wav'.format(base_name))\n",
    "auto_pitch_file = os.path.join(stim_folder, 'f0_smooth_{}.dat'.format(base_name))\n",
    "env_file = os.path.join(stim_folder, 'env_{}.dat'.format(base_name))\n",
    "#out_pitch_file = os.path.join(stim_folder, 'f0_extern_bos.dat')\n",
    "out_pitch_file = os.path.abspath('/mnt/cube/earneodo/repos/synthesizer_working/f0_extern_{}.dat'.format(base_name))\n",
    "\n",
    "\n",
    "auto_pitch_list = np.loadtxt(auto_pitch_file)\n",
    "pitch_list = np.loadtxt(pitch_file)\n",
    "env_list = np.loadtxt(env_file)\n",
    "s_f, bos = wavfile.read(bos_file)\n",
    "\n",
    "t= np.arange(0., np.max(pitch_list[:,0])*s_f+1)/s_f\n",
    "\n",
    "t_out = np.arange(0., np.max(pitch_list[:,0])*s_f+1)/44100.\n",
    "\n",
    "interp_pitch = np.interp(t, pitch_list[:,0], pitch_list[:,1])\n",
    "pitch_f = interp1d(pitch_list[:,0], pitch_list[:,1], kind='cubic')\n",
    "#interp_pitch = pitch_f(t)\n",
    "out_pitch = np.array([np.arange(t.size), t, interp_pitch]).T\n",
    "np.savetxt(out_pitch_file, out_pitch, fmt='%lg')"
   ]
  },
  {
   "cell_type": "code",
   "execution_count": 48,
   "metadata": {},
   "outputs": [
    {
     "data": {
      "text/plain": [
       "[<matplotlib.lines.Line2D at 0x7fcedbdc0910>]"
      ]
     },
     "execution_count": 48,
     "metadata": {},
     "output_type": "execute_result"
    },
    {
     "data": {
      "image/png": "[encoded data removed]",
      "text/plain": [
       "<matplotlib.figure.Figure at 0x7fcedbf05f10>"
      ]
     },
     "metadata": {},
     "output_type": "display_data"
    }
   ],
   "source": [
    "plt.plot(t, bos[:t.size]/10)\n",
    "plt.plot(pitch_list[:,0], pitch_list[:,1], 'k')\n",
    "plt.plot(env_list[:,0], env_list[:,2]*1000)\n",
    "plt.plot(t, interp_pitch)"
   ]
  },
  {
   "cell_type": "code",
   "execution_count": 40,
   "metadata": {
    "collapsed": true
   },
   "outputs": [],
   "source": [
    "interp_pitch = np.interp(t, pitch_list[:,0], pitch_list[:,1])"
   ]
  },
  {
   "cell_type": "code",
   "execution_count": 41,
   "metadata": {},
   "outputs": [
    {
     "data": {
      "text/plain": [
       "array([ 0.97569161])"
      ]
     },
     "execution_count": 41,
     "metadata": {},
     "output_type": "execute_result"
    }
   ],
   "source": [
    "t[-1:]"
   ]
  },
  {
   "cell_type": "code",
   "execution_count": 42,
   "metadata": {},
   "outputs": [
    {
     "data": {
      "text/plain": [
       "array([ 44100.        ,  44100.        ,  44100.        , ...,\n",
       "        44099.99999998,  44099.99999998,  44099.99999998])"
      ]
     },
     "execution_count": 42,
     "metadata": {},
     "output_type": "execute_result"
    }
   ],
   "source": [
    "1/np.diff(t)"
   ]
  },
  {
   "cell_type": "code",
   "execution_count": 43,
   "metadata": {},
   "outputs": [
    {
     "data": {
      "text/plain": [
       "array([  0.00000000e+00,   2.26757370e-05,   4.53514739e-05, ...,\n",
       "         9.75623583e-01,   9.75646259e-01,   9.75668934e-01])"
      ]
     },
     "execution_count": 43,
     "metadata": {},
     "output_type": "execute_result"
    }
   ],
   "source": [
    "np.arange(0., pitch_list[-1,0]*s_f)/s_f"
   ]
  },
  {
   "cell_type": "code",
   "execution_count": 44,
   "metadata": {},
   "outputs": [
    {
     "data": {
      "text/plain": [
       "[<matplotlib.lines.Line2D at 0x7fcedb57e590>]"
      ]
     },
     "execution_count": 44,
     "metadata": {},
     "output_type": "execute_result"
    },
    {
     "data": {
      "image/png": "[encoded data removed]",
      "text/plain": [
       "<matplotlib.figure.Figure at 0x7fcedb57e610>"
      ]
     },
     "metadata": {},
     "output_type": "display_data"
    }
   ],
   "source": [
    "plt.plot(t, interp_pitch)\n",
    "plt.plot(pitch_list[:,0], pitch_list[:,1], 'k')"
   ]
  },
  {
   "cell_type": "code",
   "execution_count": 45,
   "metadata": {},
   "outputs": [
    {
     "data": {
      "text/plain": [
       "[<matplotlib.lines.Line2D at 0x7fcedbe00690>]"
      ]
     },
     "execution_count": 45,
     "metadata": {},
     "output_type": "execute_result"
    },
    {
     "data": {
      "image/png": "[encoded data removed]",
      "text/plain": [
       "<matplotlib.figure.Figure at 0x7fcedb7e79d0>"
      ]
     },
     "metadata": {},
     "output_type": "display_data"
    }
   ],
   "source": [
    "plt.plot(interp_pitch)"
   ]
  },
  {
   "cell_type": "code",
   "execution_count": 27,
   "metadata": {},
   "outputs": [
    {
     "data": {
      "text/plain": [
       "array([ 0.0680272,  0.0680499,  0.0680726,  0.0680952,  0.0681179,\n",
       "        0.0681406,  0.0681633,  0.0681859,  0.0682086,  0.0682313,\n",
       "        0.068254 ,  0.0682766,  0.0682993,  0.068322 ,  0.0683447,\n",
       "        0.0683673,  0.06839  ,  0.0684127,  0.0684354,  0.068458 ,\n",
       "        0.0684807,  0.0685034,  0.0685261,  0.0685488,  0.0685714,\n",
       "        0.0685941,  0.0686168,  0.0686395,  0.0686621,  0.0686848,\n",
       "        0.0687075,  0.0687302,  0.0687528,  0.0687755,  0.0687982,\n",
       "        0.0688209,  0.0688435,  0.0688662,  0.0688889,  0.0689116,\n",
       "        0.0689342,  0.0689569,  0.0689796,  0.0690023,  0.0690249,\n",
       "        0.0690476,  0.0690703,  0.069093 ,  0.0691156,  0.0691383,\n",
       "        0.069161 ,  0.0691837,  0.0692063,  0.069229 ,  0.0692517,\n",
       "        0.0692744,  0.0692971,  0.0693197,  0.0693424,  0.0693651,\n",
       "        0.0693878,  0.0694104,  0.0694331,  0.0694558,  0.0694785,\n",
       "        0.0695011,  0.0695238,  0.0695465,  0.0695692,  0.0695918,\n",
       "        0.0696145,  0.0696372,  0.0696599,  0.0696825,  0.0697052,\n",
       "        0.0697279,  0.0697506,  0.0697732,  0.0697959,  0.0698186,\n",
       "        0.0698413,  0.0698639,  0.0698866,  0.0699093,  0.069932 ,\n",
       "        0.0699546,  0.0699773,  0.07     ,  0.0700227,  0.0700454,\n",
       "        0.070068 ,  0.0700907,  0.0701134,  0.0701361,  0.0701587,\n",
       "        0.0701814,  0.0702041,  0.0702268,  0.0702494,  0.0702721,\n",
       "        0.0702948,  0.0703175,  0.0703401,  0.0703628,  0.0703855,\n",
       "        0.0704082,  0.0704308,  0.0704535,  0.0704762,  0.0704989,\n",
       "        0.0705215,  0.0705442,  0.0705669,  0.0705896,  0.0706122,\n",
       "        0.0706349,  0.0706576,  0.0706803,  0.0707029,  0.0707256,\n",
       "        0.0707483,  0.070771 ,  0.0707937,  0.0708163,  0.070839 ,\n",
       "        0.0708617,  0.0708844,  0.070907 ,  0.0709297,  0.0709524,\n",
       "        0.0709751,  0.0709977,  0.0710204,  0.0710431,  0.0710658,\n",
       "        0.0710884,  0.0711111,  0.0711338,  0.0711565,  0.0711791,\n",
       "        0.0712018,  0.0712245,  0.0712472,  0.0712698,  0.0712925,\n",
       "        0.0713152,  0.0713379,  0.0713605,  0.0713832,  0.0714059,\n",
       "        0.0714286,  0.0714512,  0.0714739,  0.0714966,  0.0715193,\n",
       "        0.071542 ,  0.0715646,  0.0715873,  0.07161  ,  0.0716327,\n",
       "        0.0716553,  0.071678 ,  0.0717007,  0.0717234,  0.071746 ,\n",
       "        0.0717687,  0.0717914,  0.0718141,  0.0718367,  0.0718594,\n",
       "        0.0718821,  0.0719048,  0.0719274,  0.0719501,  0.0719728,\n",
       "        0.0719955,  0.0720181,  0.0720408,  0.0720635,  0.0720862,\n",
       "        0.0721088,  0.0721315,  0.0721542,  0.0721769,  0.0721995,\n",
       "        0.0722222,  0.0722449,  0.0722676,  0.0722902,  0.0723129,\n",
       "        0.0723356,  0.0723583,  0.072381 ,  0.0724036,  0.0724263,\n",
       "        0.072449 ,  0.0724717,  0.0724943,  0.072517 ,  0.0725397,\n",
       "        0.0725624,  0.072585 ,  0.0726077,  0.0726304,  0.0726531,\n",
       "        0.0726757,  0.0726984,  0.0727211,  0.0727438,  0.0727664,\n",
       "        0.0727891,  0.0728118,  0.0728345,  0.0728571,  0.0728798,\n",
       "        0.0729025,  0.0729252,  0.0729478,  0.0729705,  0.0729932,\n",
       "        0.0730159,  0.0730385,  0.0730612,  0.0730839,  0.0731066,\n",
       "        0.0731293,  0.0731519,  0.0731746,  0.0731973,  0.07322  ,\n",
       "        0.0732426,  0.0732653,  0.073288 ,  0.0733107,  0.0733333,\n",
       "        0.073356 ,  0.0733787,  0.0734014,  0.073424 ,  0.0734467,\n",
       "        0.0734694,  0.0734921,  0.0735147,  0.0735374,  0.0735601,\n",
       "        0.0735828,  0.0736054,  0.0736281,  0.0736508,  0.0736735,\n",
       "        0.0736961,  0.0737188,  0.0737415,  0.0737642,  0.0737868,\n",
       "        0.0738095,  0.0738322,  0.0738549,  0.0738776,  0.0739002,\n",
       "        0.0739229,  0.0739456,  0.0739683,  0.0739909,  0.0740136,\n",
       "        0.0740363,  0.074059 ,  0.0740816,  0.0741043,  0.074127 ,\n",
       "        0.0741497,  0.0741723,  0.074195 ,  0.0742177,  0.0742404,\n",
       "        0.074263 ,  0.0742857,  0.0743084,  0.0743311,  0.0743537,\n",
       "        0.0743764,  0.0743991,  0.0744218,  0.0744444,  0.0744671,\n",
       "        0.0744898,  0.0745125,  0.0745351,  0.0745578,  0.0745805,\n",
       "        0.0746032,  0.0746259,  0.0746485,  0.0746712,  0.0746939,\n",
       "        0.0747166,  0.0747392,  0.0747619,  0.0747846,  0.0748073,\n",
       "        0.0748299,  0.0748526,  0.0748753,  0.074898 ,  0.0749206,\n",
       "        0.0749433,  0.074966 ,  0.0749887,  0.0750113,  0.075034 ,\n",
       "        0.0750567,  0.0750794,  0.075102 ,  0.0751247,  0.0751474,\n",
       "        0.0751701,  0.0751927,  0.0752154,  0.0752381,  0.0752608,\n",
       "        0.0752834,  0.0753061,  0.0753288,  0.0753515,  0.0753741,\n",
       "        0.0753968,  0.0754195,  0.0754422,  0.0754649,  0.0754875,\n",
       "        0.0755102,  0.0755329,  0.0755556,  0.0755782,  0.0756009,\n",
       "        0.0756236,  0.0756463,  0.0756689,  0.0756916,  0.0757143,\n",
       "        0.075737 ,  0.0757596,  0.0757823,  0.075805 ,  0.0758277,\n",
       "        0.0758503,  0.075873 ,  0.0758957,  0.0759184,  0.075941 ,\n",
       "        0.0759637,  0.0759864,  0.0760091,  0.0760317,  0.0760544,\n",
       "        0.0760771,  0.0760998,  0.0761224,  0.0761451,  0.0761678,\n",
       "        0.0761905,  0.0762132,  0.0762358,  0.0762585,  0.0762812,\n",
       "        0.0763039,  0.0763265,  0.0763492,  0.0763719,  0.0763946,\n",
       "        0.0764172,  0.0764399,  0.0764626,  0.0764853,  0.0765079,\n",
       "        0.0765306,  0.0765533,  0.076576 ,  0.0765986,  0.0766213,\n",
       "        0.076644 ,  0.0766667,  0.0766893,  0.076712 ,  0.0767347,\n",
       "        0.0767574,  0.07678  ,  0.0768027,  0.0768254,  0.0768481,\n",
       "        0.0768707,  0.0768934,  0.0769161,  0.0769388,  0.0769615,\n",
       "        0.0769841,  0.0770068,  0.0770295,  0.0770522,  0.0770748,\n",
       "        0.0770975,  0.0771202,  0.0771429,  0.0771655,  0.0771882,\n",
       "        0.0772109,  0.0772336,  0.0772562,  0.0772789,  0.0773016,\n",
       "        0.0773243,  0.0773469,  0.0773696,  0.0773923,  0.077415 ,\n",
       "        0.0774376,  0.0774603,  0.077483 ,  0.0775057,  0.0775283,\n",
       "        0.077551 ,  0.0775737,  0.0775964,  0.077619 ,  0.0776417,\n",
       "        0.0776644,  0.0776871,  0.0777098,  0.0777324,  0.0777551,\n",
       "        0.0777778,  0.0778005,  0.0778231,  0.0778458,  0.0778685,\n",
       "        0.0778912,  0.0779138,  0.0779365,  0.0779592,  0.0779819,\n",
       "        0.0780045,  0.0780272,  0.0780499,  0.0780726,  0.0780952,\n",
       "        0.0781179,  0.0781406,  0.0781633,  0.0781859,  0.0782086,\n",
       "        0.0782313,  0.078254 ,  0.0782766,  0.0782993,  0.078322 ,\n",
       "        0.0783447,  0.0783673,  0.07839  ,  0.0784127,  0.0784354,\n",
       "        0.078458 ,  0.0784807,  0.0785034,  0.0785261,  0.0785488,\n",
       "        0.0785714,  0.0785941,  0.0786168,  0.0786395,  0.0786621,\n",
       "        0.0786848,  0.0787075,  0.0787302,  0.0787528,  0.0787755,\n",
       "        0.0787982,  0.0788209,  0.0788435,  0.0788662,  0.0788889,\n",
       "        0.0789116,  0.0789342,  0.0789569,  0.0789796,  0.0790023,\n",
       "        0.0790249,  0.0790476,  0.0790703,  0.079093 ,  0.0791156,\n",
       "        0.0791383,  0.079161 ,  0.0791837,  0.0792063,  0.079229 ,\n",
       "        0.0792517,  0.0792744,  0.0792971,  0.0793197,  0.0793424,\n",
       "        0.0793651,  0.0793878,  0.0794104,  0.0794331,  0.0794558,\n",
       "        0.0794785,  0.0795011,  0.0795238,  0.0795465,  0.0795692,\n",
       "        0.0795918,  0.0796145,  0.0796372,  0.0796599,  0.0796825,\n",
       "        0.0797052,  0.0797279,  0.0797506,  0.0797732,  0.0797959,\n",
       "        0.0798186,  0.0798413,  0.0798639,  0.0798866,  0.0799093,\n",
       "        0.079932 ,  0.0799546,  0.0799773,  0.08     ,  0.0800227,\n",
       "        0.0800454,  0.080068 ,  0.0800907,  0.0801134,  0.0801361,\n",
       "        0.0801587,  0.0801814,  0.0802041,  0.0802268,  0.0802494,\n",
       "        0.0802721,  0.0802948,  0.0803175,  0.0803401,  0.0803628,\n",
       "        0.0803855,  0.0804082,  0.0804308,  0.0804535,  0.0804762,\n",
       "        0.0804989,  0.0805215,  0.0805442,  0.0805669,  0.0805896,\n",
       "        0.0806122,  0.0806349,  0.0806576,  0.0806803,  0.0807029,\n",
       "        0.0807256,  0.0807483,  0.080771 ,  0.0807937,  0.0808163,\n",
       "        0.080839 ,  0.0808617,  0.0808844,  0.080907 ,  0.0809297,\n",
       "        0.0809524,  0.0809751,  0.0809977,  0.0810204,  0.0810431,\n",
       "        0.0810658,  0.0810884,  0.0811111,  0.0811338,  0.0811565,\n",
       "        0.0811791,  0.0812018,  0.0812245,  0.0812472,  0.0812698,\n",
       "        0.0812925,  0.0813152,  0.0813379,  0.0813605,  0.0813832,\n",
       "        0.0814059,  0.0814286,  0.0814512,  0.0814739,  0.0814966,\n",
       "        0.0815193,  0.081542 ,  0.0815646,  0.0815873,  0.08161  ,\n",
       "        0.0816327,  0.0816553,  0.081678 ,  0.0817007,  0.0817234,\n",
       "        0.081746 ,  0.0817687,  0.0817914,  0.0818141,  0.0818367,\n",
       "        0.0818594,  0.0818821,  0.0819048,  0.0819274,  0.0819501,\n",
       "        0.0819728,  0.0819955,  0.0820181,  0.0820408,  0.0820635,\n",
       "        0.0820862,  0.0821088,  0.0821315,  0.0821542,  0.0821769,\n",
       "        0.0821995,  0.0822222,  0.0822449,  0.0822676,  0.0822902,\n",
       "        0.0823129,  0.0823356,  0.0823583,  0.082381 ,  0.0824036,\n",
       "        0.0824263,  0.082449 ,  0.0824717,  0.0824943,  0.082517 ,\n",
       "        0.0825397,  0.0825624,  0.082585 ,  0.0826077,  0.0826304,\n",
       "        0.0826531,  0.0826757,  0.0826984,  0.0827211,  0.0827438,\n",
       "        0.0827664,  0.0827891,  0.0828118,  0.0828345,  0.0828571,\n",
       "        0.0828798,  0.0829025,  0.0829252,  0.0829478,  0.0829705,\n",
       "        0.0829932,  0.0830159,  0.0830385,  0.0830612,  0.0830839,\n",
       "        0.0831066,  0.0831293,  0.0831519,  0.0831746,  0.0831973,\n",
       "        0.08322  ,  0.0832426,  0.0832653,  0.083288 ,  0.0833107,\n",
       "        0.0833333,  0.083356 ,  0.0833787,  0.0834014,  0.083424 ,\n",
       "        0.0834467,  0.0834694,  0.0834921,  0.0835147,  0.0835374,\n",
       "        0.0835601,  0.0835828,  0.0836054,  0.0836281,  0.0836508,\n",
       "        0.0836735,  0.0836961,  0.0837188,  0.0837415,  0.0837642,\n",
       "        0.0837868,  0.0838095,  0.0838322,  0.0838549,  0.0838776,\n",
       "        0.0839002,  0.0839229,  0.0839456,  0.0839683,  0.0839909,\n",
       "        0.0840136,  0.0840363,  0.084059 ,  0.0840816,  0.0841043,\n",
       "        0.084127 ,  0.0841497,  0.0841723,  0.084195 ,  0.0842177,\n",
       "        0.0842404,  0.084263 ,  0.0842857,  0.0843084,  0.0843311,\n",
       "        0.0843537,  0.0843764,  0.0843991,  0.0844218,  0.0844444,\n",
       "        0.0844671,  0.0844898,  0.0845125,  0.0845351,  0.0845578,\n",
       "        0.0845805,  0.0846032,  0.0846259,  0.0846485,  0.0846712,\n",
       "        0.0846939,  0.0847166,  0.0847392,  0.0847619,  0.0847846,\n",
       "        0.0848073,  0.0848299,  0.0848526,  0.0848753,  0.084898 ,\n",
       "        0.0849206,  0.0849433,  0.084966 ,  0.0849887,  0.0850113,\n",
       "        0.085034 ,  0.0850567,  0.0850794,  0.085102 ,  0.0851247,\n",
       "        0.0851474,  0.0851701,  0.0851927,  0.0852154,  0.0852381,\n",
       "        0.0852608,  0.0852834,  0.0853061,  0.0853288,  0.0853515,\n",
       "        0.0853741,  0.0853968,  0.0854195,  0.0854422,  0.0854649,\n",
       "        0.0854875,  0.0855102,  0.0855329,  0.0855556,  0.0855782,\n",
       "        0.0856009,  0.0856236,  0.0856463,  0.0856689,  0.0856916,\n",
       "        0.0857143,  0.085737 ,  0.0857596,  0.0857823,  0.085805 ,\n",
       "        0.0858277,  0.0858503,  0.085873 ,  0.0858957,  0.0859184,\n",
       "        0.085941 ,  0.0859637,  0.0859864,  0.0860091,  0.0860317,\n",
       "        0.0860544,  0.0860771,  0.0860998,  0.0861224,  0.0861451,\n",
       "        0.0861678,  0.0861905,  0.0862132,  0.0862358,  0.0862585,\n",
       "        0.0862812,  0.0863039,  0.0863265,  0.0863492,  0.0863719,\n",
       "        0.0863946,  0.0864172,  0.0864399,  0.0864626,  0.0864853,\n",
       "        0.0865079,  0.0865306,  0.0865533,  0.086576 ,  0.0865986,\n",
       "        0.0866213,  0.086644 ,  0.0866667,  0.0866893,  0.086712 ,\n",
       "        0.0867347,  0.0867574,  0.08678  ,  0.0868027,  0.0868254,\n",
       "        0.0868481,  0.0868707,  0.0868934,  0.0869161,  0.0869388,\n",
       "        0.0869615,  0.0869841,  0.0870068,  0.0870295,  0.0870522,\n",
       "        0.0870748,  0.0870975,  0.0871202,  0.0871429,  0.0871655,\n",
       "        0.0871882,  0.0872109,  0.0872336,  0.0872562,  0.0872789,\n",
       "        0.0873016,  0.0873243,  0.0873469,  0.0873696,  0.0873923,\n",
       "        0.087415 ,  0.0874376,  0.0874603,  0.087483 ,  0.0875057,\n",
       "        0.0875283,  0.087551 ,  0.0875737,  0.0875964,  0.087619 ,\n",
       "        0.0876417,  0.0876644,  0.0876871,  0.0877098,  0.0877324,\n",
       "        0.0877551,  0.0877778,  0.0878005,  0.0878231,  0.0878458,\n",
       "        0.0878685,  0.0878912,  0.0879138,  0.0879365,  0.0879592,\n",
       "        0.0879819,  0.0880045,  0.0880272,  0.0880499,  0.0880726,\n",
       "        0.0880952,  0.0881179,  0.0881406,  0.0881633,  0.0881859,\n",
       "        0.0882086,  0.0882313,  0.088254 ,  0.0882766,  0.0882993,\n",
       "        0.088322 ,  0.0883447,  0.0883673,  0.08839  ,  0.0884127,\n",
       "        0.0884354,  0.088458 ,  0.0884807,  0.0885034,  0.0885261,\n",
       "        0.0885488,  0.0885714,  0.0885941,  0.0886168,  0.0886395,\n",
       "        0.0886621,  0.0886848,  0.0887075,  0.0887302,  0.0887528,\n",
       "        0.0887755,  0.0887982,  0.0888209,  0.0888435,  0.0888662,\n",
       "        0.0888889,  0.0889116,  0.0889342,  0.0889569,  0.0889796,\n",
       "        0.0890023,  0.0890249,  0.0890476,  0.0890703,  0.089093 ,\n",
       "        0.0891156,  0.0891383,  0.089161 ,  0.0891837,  0.0892063,\n",
       "        0.089229 ,  0.0892517,  0.0892744,  0.0892971,  0.0893197,\n",
       "        0.0893424,  0.0893651,  0.0893878,  0.0894104,  0.0894331,\n",
       "        0.0894558,  0.0894785,  0.0895011,  0.0895238,  0.0895465,\n",
       "        0.0895692,  0.0895918,  0.0896145,  0.0896372,  0.0896599,\n",
       "        0.0896825,  0.0897052,  0.0897279,  0.0897506,  0.0897732,\n",
       "        0.0897959,  0.0898186,  0.0898413,  0.0898639,  0.0898866,\n",
       "        0.0899093,  0.089932 ,  0.0899546,  0.0899773,  0.09     ,\n",
       "        0.0900227,  0.0900454,  0.090068 ,  0.0900907,  0.0901134,\n",
       "        0.0901361,  0.0901587,  0.0901814,  0.0902041,  0.0902268,\n",
       "        0.0902494,  0.0902721,  0.0902948,  0.0903175,  0.0903401,\n",
       "        0.0903628,  0.0903855,  0.0904082,  0.0904308,  0.0904535,\n",
       "        0.0904762,  0.0904989,  0.0905215,  0.0905442,  0.0905669,\n",
       "        0.0905896,  0.0906122,  0.0906349,  0.0906576,  0.0906803])"
      ]
     },
     "execution_count": 27,
     "metadata": {},
     "output_type": "execute_result"
    }
   ],
   "source": [
    "env_list[3000:4000,0]"
   ]
  },
  {
   "cell_type": "code",
   "execution_count": 13,
   "metadata": {
    "collapsed": true
   },
   "outputs": [],
   "source": [
    "out_pitch = np.array([np.arange(t.size), t, interp_pitch]).T"
   ]
  },
  {
   "cell_type": "code",
   "execution_count": null,
   "metadata": {
    "collapsed": true
   },
   "outputs": [],
   "source": []
  }
 ],
 "metadata": {
  "kernelspec": {
   "display_name": "Tf 1.2 - Py3.6",
   "language": "python",
   "name": "tf12"
  },
  "language_info": {
   "codemirror_mode": {
    "name": "ipython",
    "version": 3
   },
   "file_extension": ".py",
   "mimetype": "text/x-python",
   "name": "python",
   "nbconvert_exporter": "python",
   "pygments_lexer": "ipython3",
   "version": "3.6.2"
  }
 },
 "nbformat": 4,
 "nbformat_minor": 1
}
