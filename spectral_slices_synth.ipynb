{
 "cells": [
  {
   "cell_type": "code",
   "execution_count": 1,
   "metadata": {},
   "outputs": [
    {
     "name": "stderr",
     "output_type": "stream",
     "text": [
      "/home/earneodo/.conda/envs/py35/lib/python3.5/site-packages/h5py/__init__.py:34: FutureWarning: Conversion of the second argument of issubdtype from `float` to `np.floating` is deprecated. In future, it will be treated as `np.float64 == np.dtype(float).type`.\n",
      "  from ._conv import register_converters as _register_converters\n",
      "2018-01-30 11:13:08,442 root         INFO     Computer: passaro\n"
     ]
    }
   ],
   "source": [
    "# read h5file with simmulated zf song\n",
    "from __future__ import division\n",
    "%matplotlib inline\n",
    "import numpy as np\n",
    "from matplotlib import pyplot as plt\n",
    "from scipy.signal import spectrogram\n",
    "import scipy.signal as sg\n",
    "import socket\n",
    "import os\n",
    "import sys\n",
    "import logging\n",
    "import h5py\n",
    "import copy\n",
    "import glob\n",
    "import shutil\n",
    "\n",
    "logger = logging.getLogger()\n",
    "handler = logging.StreamHandler()\n",
    "formatter = logging.Formatter(\n",
    "        '%(asctime)s %(name)-12s %(levelname)-8s %(message)s')\n",
    "handler.setFormatter(formatter)\n",
    "logger.addHandler(handler)\n",
    "logger.setLevel(logging.DEBUG)\n",
    "\n",
    "# Check wich computer to decide where the things are mounted\n",
    "comp_name=socket.gethostname()\n",
    "logger.info('Computer: ' + comp_name)\n",
    "\n",
    "if 'txori' in comp_name or 'passaro' in comp_name or 'manu' in comp_name:\n",
    "    repos_folder = os.path.abspath('/mnt/cube/earneodo/repos')\n",
    "    experiment_folder = os.path.join('/mnt/cube/earneodo/bci_zf/')\n",
    "\n",
    "if 'lookfar' in comp_name:\n",
    "    repos_folder = os.path.abspath('/Users/zeke/repos/')\n",
    "    experiment_folder = os.path.join('/Users/zeke/bci_zf/')\n",
    "\n",
    "sys.path.append(os.path.join(repos_folder, 'swissknife'))\n",
    "\n",
    "#setup the data folder\n",
    "from swissknife.h5tools import h5tools\n",
    "from swissknife.h5tools import tables\n",
    "from swissknife.dynamo import finch as zf\n",
    "from swissknife.dynamo import takens as tk\n",
    "from swissknife.bci.core import expstruct as es\n",
    "from swissknife.threadtools import threadedfunction as td\n",
    "from swissknife.streamtools import spectral as sp"
   ]
  },
  {
   "cell_type": "code",
   "execution_count": 3,
   "metadata": {},
   "outputs": [
    {
     "name": "stderr",
     "output_type": "stream",
     "text": [
      "2018-01-30 11:13:53,731 root         INFO     Sweep file is /mnt/cube/earneodo/bci_zf/syn_sweeps/finch_002.h5\n"
     ]
    }
   ],
   "source": [
    "sweep_id = '002'\n",
    "sweep_name = 'sweep_'+sweep_id\n",
    "file_name_base = 'finch_'+sweep_id \n",
    "sweep_folder = os.path.join(es.file_names('')['locations']['experiment'], 'syn_sweeps')\n",
    "sweep_file_name = '{}.h5'.format(file_name_base)\n",
    "sweep_file_path = os.path.join(sweep_folder, sweep_file_name)\n",
    "logger.info('Sweep file is {}'.format(sweep_file_path))"
   ]
  },
  {
   "cell_type": "code",
   "execution_count": 7,
   "metadata": {},
   "outputs": [
    {
     "name": "stderr",
     "output_type": "stream",
     "text": [
      "2017-12-06 14:29:58,294 h5tools      DEBUG    Translating group sweep_pars into its own dictionary\n",
      "2017-12-06 14:29:58,296 h5tools      DEBUG    Subgroup sys\n",
      "2017-12-06 14:29:58,297 h5tools      DEBUG    Translating group sys into its own dictionary\n",
      "2017-12-06 14:29:58,298 root         INFO     Tables are in /sweep_002/synth/23500\n",
      "2017-12-06 14:29:58,299 root         INFO     Groups: ItemsViewHDF5(<HDF5 group \"/sweep_002/synth/23500\" (3 members)>)\n"
     ]
    },
    {
     "name": "stdout",
     "output_type": "stream",
     "text": [
      "ItemsViewHDF5(<HDF5 group \"/sweep_002/vocal_pars\" (1 members)>)\n"
     ]
    }
   ],
   "source": [
    "import pandas as pd\n",
    "from swissknife.streamtools import streams as st\n",
    "\n",
    "def load_sweep_pars(sweep_file, sweep_name):\n",
    "    sweep_group = sweep_file['/{}'.format(sweep_name)]\n",
    "    print(sweep_group['vocal_pars'].items())\n",
    "    sweep_pars = h5tools.group_2_dict({}, sweep_group['vocal_pars'], 'sweep_pars')\n",
    "    return sweep_pars['sweep_pars']\n",
    "\n",
    "\n",
    "class ParSweep(object):\n",
    "    def __init__(self, sweep_file, sweep_name, streams=['pre_in', 'pre_out'], transient_ms=50):\n",
    "        self.sweep_file = sweep_file\n",
    "        self.pars = load_sweep_pars(sweep_file, sweep_name)\n",
    "        tables_path = '/{0}/synth/{1:d}'.format(sweep_name,\n",
    "                                                 int(self.pars['sys']['gamma']))\n",
    "        logger.info('Tables are in {}'.format(tables_path))\n",
    "        self.sweep_tables_group = sweep_file[tables_path]\n",
    "        logger.info('Groups: {}'.format(self.sweep_tables_group.items()))\n",
    "\n",
    "        self.ab = pd.DataFrame(self.sweep_tables_group['alpha_beta'][()])\n",
    "        self.ab.columns = ['a', 'b']\n",
    "        self.transient_samples = int(transient_ms*0.001*self.pars['sys']['s_f'])\n",
    "        self.syn_streams = {stream: st.H5Data(self.sweep_tables_group[stream], \n",
    "                                            self.pars['sys']['s_f']) for stream in streams}\n",
    "        \n",
    "    def synthetic(self, row, rows=0, stream='pre_out'):\n",
    "        #get index of alpha, beta\n",
    "        return self.syn_streams[stream].get_chunk(row, row + rows, \n",
    "                                                  np.arange(self.transient_samples, \n",
    "                                                            self.syn_streams[stream].n_chans)\n",
    "                                                           )      \n",
    "\n",
    "import tensorflow as tf\n",
    "\n",
    "\n",
    "def regularize(u, cut_off=75, logarithmic=True):\n",
    "    cut_db = 1./np.exp(cut_off/10)\n",
    "    \n",
    "    y_thresh = np.repeat(np.amax(u, axis = 1, keepdims=True), u.shape[-1], axis=1)*cut_db\n",
    "    \n",
    "    if logarithmic:\n",
    "        u[u < y_thresh] = np.amin(y_thresh)\n",
    "        z = np.log(u)\n",
    "    else:\n",
    "        u[u < y_thresh] = np.amin(y_thresh)\n",
    "        z = u\n",
    "    \n",
    "    return z\n",
    "\n",
    "def normalize(u):\n",
    "    u_max = np.repeat(np.amax(u, axis = 1, keepdims=True), u.shape[-1], axis=1)\n",
    "    u_min = np.repeat(np.amin(u, axis = 1, keepdims=True), u.shape[-1], axis=1)\n",
    "    u_range = u_max - u_min\n",
    "    return (u - u_min)/u_range\n",
    "\n",
    "# with h5py.File(sweep_file_path, 'r') as sweep_file:\n",
    "#     #s_p = load_sweep_pars(sweep_file, sweep_name)\n",
    "#     p_s = ParSweep(sweep_file, sweep_name)\n",
    "#     one_stream = p_s.synthetic(153915)\n",
    "    \n",
    "sweep_file = h5py.File(sweep_file_path, 'r')\n",
    "p_s = ParSweep(sweep_file, sweep_name)"
   ]
  },
  {
   "cell_type": "code",
   "execution_count": 14,
   "metadata": {},
   "outputs": [
    {
     "data": {
      "text/plain": [
       "<matplotlib.axes._subplots.AxesSubplot at 0x7f68be8ec198>"
      ]
     },
     "execution_count": 14,
     "metadata": {},
     "output_type": "execute_result"
    },
    {
     "data": {
      "image/png": "[encoded data removed]",
      "text/plain": [
       "<matplotlib.figure.Figure at 0x7f68be8f3128>"
      ]
     },
     "metadata": {},
     "output_type": "display_data"
    }
   ],
   "source": [
    "p_s.ab.plot.scatter('a', 'b')"
   ]
  },
  {
   "cell_type": "code",
   "execution_count": 15,
   "metadata": {
    "collapsed": true
   },
   "outputs": [
    {
     "data": {
      "text/html": [
       "<div>\n",
       "<style>\n",
       "    .dataframe thead tr:only-child th {\n",
       "        text-align: right;\n",
       "    }\n",
       "\n",
       "    .dataframe thead th {\n",
       "        text-align: left;\n",
       "    }\n",
       "\n",
       "    .dataframe tbody tr th {\n",
       "        vertical-align: top;\n",
       "    }\n",
       "</style>\n",
       "<table border=\"1\" class=\"dataframe\">\n",
       "  <thead>\n",
       "    <tr style=\"text-align: right;\">\n",
       "      <th></th>\n",
       "      <th>a</th>\n",
       "      <th>b</th>\n",
       "    </tr>\n",
       "  </thead>\n",
       "  <tbody>\n",
       "    <tr>\n",
       "      <th>22000</th>\n",
       "      <td>-0.146835</td>\n",
       "      <td>-0.033812</td>\n",
       "    </tr>\n",
       "    <tr>\n",
       "      <th>22001</th>\n",
       "      <td>-0.146835</td>\n",
       "      <td>-0.034264</td>\n",
       "    </tr>\n",
       "    <tr>\n",
       "      <th>22002</th>\n",
       "      <td>-0.146835</td>\n",
       "      <td>-0.034723</td>\n",
       "    </tr>\n",
       "    <tr>\n",
       "      <th>22003</th>\n",
       "      <td>-0.146835</td>\n",
       "      <td>-0.035188</td>\n",
       "    </tr>\n",
       "    <tr>\n",
       "      <th>22004</th>\n",
       "      <td>-0.146835</td>\n",
       "      <td>-0.035659</td>\n",
       "    </tr>\n",
       "    <tr>\n",
       "      <th>22005</th>\n",
       "      <td>-0.146835</td>\n",
       "      <td>-0.036137</td>\n",
       "    </tr>\n",
       "    <tr>\n",
       "      <th>22006</th>\n",
       "      <td>-0.146835</td>\n",
       "      <td>-0.036622</td>\n",
       "    </tr>\n",
       "    <tr>\n",
       "      <th>22007</th>\n",
       "      <td>-0.146835</td>\n",
       "      <td>-0.037113</td>\n",
       "    </tr>\n",
       "    <tr>\n",
       "      <th>22008</th>\n",
       "      <td>-0.146835</td>\n",
       "      <td>-0.037612</td>\n",
       "    </tr>\n",
       "    <tr>\n",
       "      <th>22009</th>\n",
       "      <td>-0.146835</td>\n",
       "      <td>-0.038117</td>\n",
       "    </tr>\n",
       "    <tr>\n",
       "      <th>22010</th>\n",
       "      <td>-0.146835</td>\n",
       "      <td>-0.038629</td>\n",
       "    </tr>\n",
       "    <tr>\n",
       "      <th>22011</th>\n",
       "      <td>-0.146835</td>\n",
       "      <td>-0.039149</td>\n",
       "    </tr>\n",
       "    <tr>\n",
       "      <th>22012</th>\n",
       "      <td>-0.146835</td>\n",
       "      <td>-0.039675</td>\n",
       "    </tr>\n",
       "    <tr>\n",
       "      <th>22013</th>\n",
       "      <td>-0.146835</td>\n",
       "      <td>-0.040209</td>\n",
       "    </tr>\n",
       "    <tr>\n",
       "      <th>22014</th>\n",
       "      <td>-0.146835</td>\n",
       "      <td>-0.040751</td>\n",
       "    </tr>\n",
       "    <tr>\n",
       "      <th>22015</th>\n",
       "      <td>-0.146835</td>\n",
       "      <td>-0.041300</td>\n",
       "    </tr>\n",
       "    <tr>\n",
       "      <th>22016</th>\n",
       "      <td>-0.146835</td>\n",
       "      <td>-0.041856</td>\n",
       "    </tr>\n",
       "    <tr>\n",
       "      <th>22017</th>\n",
       "      <td>-0.146835</td>\n",
       "      <td>-0.042420</td>\n",
       "    </tr>\n",
       "    <tr>\n",
       "      <th>22018</th>\n",
       "      <td>-0.146835</td>\n",
       "      <td>-0.042993</td>\n",
       "    </tr>\n",
       "    <tr>\n",
       "      <th>22019</th>\n",
       "      <td>-0.146835</td>\n",
       "      <td>-0.043573</td>\n",
       "    </tr>\n",
       "    <tr>\n",
       "      <th>22020</th>\n",
       "      <td>-0.146835</td>\n",
       "      <td>-0.044161</td>\n",
       "    </tr>\n",
       "    <tr>\n",
       "      <th>22021</th>\n",
       "      <td>-0.146835</td>\n",
       "      <td>-0.044757</td>\n",
       "    </tr>\n",
       "    <tr>\n",
       "      <th>22022</th>\n",
       "      <td>-0.146835</td>\n",
       "      <td>-0.045362</td>\n",
       "    </tr>\n",
       "    <tr>\n",
       "      <th>22023</th>\n",
       "      <td>-0.146835</td>\n",
       "      <td>-0.045975</td>\n",
       "    </tr>\n",
       "    <tr>\n",
       "      <th>22024</th>\n",
       "      <td>-0.146835</td>\n",
       "      <td>-0.046597</td>\n",
       "    </tr>\n",
       "    <tr>\n",
       "      <th>22025</th>\n",
       "      <td>-0.146835</td>\n",
       "      <td>-0.047227</td>\n",
       "    </tr>\n",
       "    <tr>\n",
       "      <th>22026</th>\n",
       "      <td>-0.146835</td>\n",
       "      <td>-0.047866</td>\n",
       "    </tr>\n",
       "    <tr>\n",
       "      <th>22027</th>\n",
       "      <td>-0.146835</td>\n",
       "      <td>-0.048514</td>\n",
       "    </tr>\n",
       "    <tr>\n",
       "      <th>22028</th>\n",
       "      <td>-0.146835</td>\n",
       "      <td>-0.049171</td>\n",
       "    </tr>\n",
       "    <tr>\n",
       "      <th>22029</th>\n",
       "      <td>-0.146835</td>\n",
       "      <td>-0.049837</td>\n",
       "    </tr>\n",
       "    <tr>\n",
       "      <th>...</th>\n",
       "      <td>...</td>\n",
       "      <td>...</td>\n",
       "    </tr>\n",
       "    <tr>\n",
       "      <th>156637</th>\n",
       "      <td>-0.149873</td>\n",
       "      <td>-2.163982</td>\n",
       "    </tr>\n",
       "    <tr>\n",
       "      <th>156638</th>\n",
       "      <td>-0.149873</td>\n",
       "      <td>-2.194139</td>\n",
       "    </tr>\n",
       "    <tr>\n",
       "      <th>156639</th>\n",
       "      <td>-0.149873</td>\n",
       "      <td>-2.224715</td>\n",
       "    </tr>\n",
       "    <tr>\n",
       "      <th>156640</th>\n",
       "      <td>-0.149873</td>\n",
       "      <td>-2.255717</td>\n",
       "    </tr>\n",
       "    <tr>\n",
       "      <th>156641</th>\n",
       "      <td>-0.149873</td>\n",
       "      <td>-2.287151</td>\n",
       "    </tr>\n",
       "    <tr>\n",
       "      <th>156642</th>\n",
       "      <td>-0.149873</td>\n",
       "      <td>-2.319022</td>\n",
       "    </tr>\n",
       "    <tr>\n",
       "      <th>156643</th>\n",
       "      <td>-0.149873</td>\n",
       "      <td>-2.351337</td>\n",
       "    </tr>\n",
       "    <tr>\n",
       "      <th>156644</th>\n",
       "      <td>-0.149873</td>\n",
       "      <td>-2.384101</td>\n",
       "    </tr>\n",
       "    <tr>\n",
       "      <th>156645</th>\n",
       "      <td>-0.149873</td>\n",
       "      <td>-2.417321</td>\n",
       "    </tr>\n",
       "    <tr>\n",
       "      <th>156646</th>\n",
       "      <td>-0.149873</td>\n",
       "      <td>-2.451004</td>\n",
       "    </tr>\n",
       "    <tr>\n",
       "      <th>156647</th>\n",
       "      <td>-0.149873</td>\n",
       "      <td>-2.485156</td>\n",
       "    </tr>\n",
       "    <tr>\n",
       "      <th>156648</th>\n",
       "      <td>-0.149873</td>\n",
       "      <td>-2.519783</td>\n",
       "    </tr>\n",
       "    <tr>\n",
       "      <th>156649</th>\n",
       "      <td>-0.149873</td>\n",
       "      <td>-2.554892</td>\n",
       "    </tr>\n",
       "    <tr>\n",
       "      <th>156650</th>\n",
       "      <td>-0.149873</td>\n",
       "      <td>-2.590489</td>\n",
       "    </tr>\n",
       "    <tr>\n",
       "      <th>156651</th>\n",
       "      <td>-0.149873</td>\n",
       "      <td>-2.626582</td>\n",
       "    </tr>\n",
       "    <tr>\n",
       "      <th>156652</th>\n",
       "      <td>-0.149873</td>\n",
       "      <td>-2.663178</td>\n",
       "    </tr>\n",
       "    <tr>\n",
       "      <th>156653</th>\n",
       "      <td>-0.149873</td>\n",
       "      <td>-2.700283</td>\n",
       "    </tr>\n",
       "    <tr>\n",
       "      <th>156654</th>\n",
       "      <td>-0.149873</td>\n",
       "      <td>-2.737904</td>\n",
       "    </tr>\n",
       "    <tr>\n",
       "      <th>156655</th>\n",
       "      <td>-0.149873</td>\n",
       "      <td>-2.776049</td>\n",
       "    </tr>\n",
       "    <tr>\n",
       "      <th>156656</th>\n",
       "      <td>-0.149873</td>\n",
       "      <td>-2.814724</td>\n",
       "    </tr>\n",
       "    <tr>\n",
       "      <th>156657</th>\n",
       "      <td>-0.149873</td>\n",
       "      <td>-2.853938</td>\n",
       "    </tr>\n",
       "    <tr>\n",
       "      <th>156658</th>\n",
       "      <td>-0.149873</td>\n",
       "      <td>-2.893698</td>\n",
       "    </tr>\n",
       "    <tr>\n",
       "      <th>156659</th>\n",
       "      <td>-0.149873</td>\n",
       "      <td>-2.934011</td>\n",
       "    </tr>\n",
       "    <tr>\n",
       "      <th>156660</th>\n",
       "      <td>-0.149873</td>\n",
       "      <td>-2.974886</td>\n",
       "    </tr>\n",
       "    <tr>\n",
       "      <th>156661</th>\n",
       "      <td>-0.149873</td>\n",
       "      <td>-3.016329</td>\n",
       "    </tr>\n",
       "    <tr>\n",
       "      <th>156662</th>\n",
       "      <td>-0.149873</td>\n",
       "      <td>-3.058349</td>\n",
       "    </tr>\n",
       "    <tr>\n",
       "      <th>156663</th>\n",
       "      <td>-0.149873</td>\n",
       "      <td>-3.100954</td>\n",
       "    </tr>\n",
       "    <tr>\n",
       "      <th>156664</th>\n",
       "      <td>-0.149873</td>\n",
       "      <td>-3.144152</td>\n",
       "    </tr>\n",
       "    <tr>\n",
       "      <th>156665</th>\n",
       "      <td>-0.149873</td>\n",
       "      <td>-3.187951</td>\n",
       "    </tr>\n",
       "    <tr>\n",
       "      <th>156666</th>\n",
       "      <td>-0.149873</td>\n",
       "      <td>-3.232360</td>\n",
       "    </tr>\n",
       "  </tbody>\n",
       "</table>\n",
       "<p>8000 rows × 2 columns</p>\n",
       "</div>"
      ],
      "text/plain": [
       "               a         b\n",
       "22000  -0.146835 -0.033812\n",
       "22001  -0.146835 -0.034264\n",
       "22002  -0.146835 -0.034723\n",
       "22003  -0.146835 -0.035188\n",
       "22004  -0.146835 -0.035659\n",
       "22005  -0.146835 -0.036137\n",
       "22006  -0.146835 -0.036622\n",
       "22007  -0.146835 -0.037113\n",
       "22008  -0.146835 -0.037612\n",
       "22009  -0.146835 -0.038117\n",
       "22010  -0.146835 -0.038629\n",
       "22011  -0.146835 -0.039149\n",
       "22012  -0.146835 -0.039675\n",
       "22013  -0.146835 -0.040209\n",
       "22014  -0.146835 -0.040751\n",
       "22015  -0.146835 -0.041300\n",
       "22016  -0.146835 -0.041856\n",
       "22017  -0.146835 -0.042420\n",
       "22018  -0.146835 -0.042993\n",
       "22019  -0.146835 -0.043573\n",
       "22020  -0.146835 -0.044161\n",
       "22021  -0.146835 -0.044757\n",
       "22022  -0.146835 -0.045362\n",
       "22023  -0.146835 -0.045975\n",
       "22024  -0.146835 -0.046597\n",
       "22025  -0.146835 -0.047227\n",
       "22026  -0.146835 -0.047866\n",
       "22027  -0.146835 -0.048514\n",
       "22028  -0.146835 -0.049171\n",
       "22029  -0.146835 -0.049837\n",
       "...          ...       ...\n",
       "156637 -0.149873 -2.163982\n",
       "156638 -0.149873 -2.194139\n",
       "156639 -0.149873 -2.224715\n",
       "156640 -0.149873 -2.255717\n",
       "156641 -0.149873 -2.287151\n",
       "156642 -0.149873 -2.319022\n",
       "156643 -0.149873 -2.351337\n",
       "156644 -0.149873 -2.384101\n",
       "156645 -0.149873 -2.417321\n",
       "156646 -0.149873 -2.451004\n",
       "156647 -0.149873 -2.485156\n",
       "156648 -0.149873 -2.519783\n",
       "156649 -0.149873 -2.554892\n",
       "156650 -0.149873 -2.590489\n",
       "156651 -0.149873 -2.626582\n",
       "156652 -0.149873 -2.663178\n",
       "156653 -0.149873 -2.700283\n",
       "156654 -0.149873 -2.737904\n",
       "156655 -0.149873 -2.776049\n",
       "156656 -0.149873 -2.814724\n",
       "156657 -0.149873 -2.853938\n",
       "156658 -0.149873 -2.893698\n",
       "156659 -0.149873 -2.934011\n",
       "156660 -0.149873 -2.974886\n",
       "156661 -0.149873 -3.016329\n",
       "156662 -0.149873 -3.058349\n",
       "156663 -0.149873 -3.100954\n",
       "156664 -0.149873 -3.144152\n",
       "156665 -0.149873 -3.187951\n",
       "156666 -0.149873 -3.232360\n",
       "\n",
       "[8000 rows x 2 columns]"
      ]
     },
     "execution_count": 15,
     "metadata": {},
     "output_type": "execute_result"
    }
   ],
   "source": [
    "p_s.ab.loc[(p_s.ab['a'] > -0.15) & (p_s.ab['a'] < -0.146)]"
   ]
  },
  {
   "cell_type": "code",
   "execution_count": 16,
   "metadata": {},
   "outputs": [
    {
     "data": {
      "text/plain": [
       "array([-0.08, -0.08, -0.08, ..., -0.16, -0.16, -0.16])"
      ]
     },
     "execution_count": 16,
     "metadata": {},
     "output_type": "execute_result"
    }
   ],
   "source": [
    "np.array(p_s.ab['a'])"
   ]
  },
  {
   "cell_type": "code",
   "execution_count": 82,
   "metadata": {
    "collapsed": true
   },
   "outputs": [],
   "source": [
    "i=0\n",
    "rows_chunk = 1000\n",
    "n_samples = 128*2\n",
    "x_i = p_s.synthetic(i*rows_chunk, rows=rows_chunk)[:, :n_samples]\n",
    "f_cut = 10000"
   ]
  },
  {
   "cell_type": "code",
   "execution_count": 83,
   "metadata": {},
   "outputs": [
    {
     "data": {
      "text/plain": [
       "(1000, 256)"
      ]
     },
     "execution_count": 83,
     "metadata": {},
     "output_type": "execute_result"
    }
   ],
   "source": [
    "x_i.shape"
   ]
  },
  {
   "cell_type": "code",
   "execution_count": 84,
   "metadata": {
    "collapsed": true
   },
   "outputs": [],
   "source": [
    "f, t, s = sp.pretty_spectrogram(x_i.flatten(), p_s.pars['sys']['s_f'], \n",
    "                                fft_size=n_samples, log=True,\n",
    "                                step_size=n_samples, \n",
    "                                db_cut=60,\n",
    "                                f_min=0, f_max=f_cut, \n",
    "                                window=('gaussian', 40))"
   ]
  },
  {
   "cell_type": "code",
   "execution_count": 85,
   "metadata": {},
   "outputs": [
    {
     "data": {
      "text/plain": [
       "(86, 1000)"
      ]
     },
     "execution_count": 85,
     "metadata": {},
     "output_type": "execute_result"
    }
   ],
   "source": [
    "s.shape"
   ]
  },
  {
   "cell_type": "code",
   "execution_count": 86,
   "metadata": {},
   "outputs": [
    {
     "data": {
      "text/plain": [
       "[<matplotlib.lines.Line2D at 0x7f68b8b19390>]"
      ]
     },
     "execution_count": 86,
     "metadata": {},
     "output_type": "execute_result"
    },
    {
     "data": {
      "image/png": "[encoded data removed]",
      "text/plain": [
       "<matplotlib.figure.Figure at 0x7f6897a796d8>"
      ]
     },
     "metadata": {},
     "output_type": "display_data"
    }
   ],
   "source": [
    "plt.plot(s[:,0])"
   ]
  },
  {
   "cell_type": "code",
   "execution_count": 87,
   "metadata": {},
   "outputs": [
    {
     "data": {
      "text/plain": [
       "[<matplotlib.lines.Line2D at 0x7f68b8a95e80>]"
      ]
     },
     "execution_count": 87,
     "metadata": {},
     "output_type": "execute_result"
    },
    {
     "data": {
      "image/png": "[encoded data removed]",
      "text/plain": [
       "<matplotlib.figure.Figure at 0x7f68b8adb3c8>"
      ]
     },
     "metadata": {},
     "output_type": "display_data"
    }
   ],
   "source": [
    "## Compare with a slice from an actual song\n",
    "import scipy.io.wavfile as wav\n",
    "sample_path = '/mnt/cube/earneodo/bci_zf/stim_data/z_samples/z008.wav'\n",
    "f_s, sample = wav.read(sample_path)\n",
    "\n",
    "sample_f, sample_t, sample_s = sp.pretty_spectrogram(sample.flatten(), f_s, \n",
    "                                fft_size=n_samples, log=True,\n",
    "                                step_size=n_samples, \n",
    "                                db_cut=60,\n",
    "                                f_min=0, f_max=f_cut, \n",
    "                                window=('gaussian', 40))\n",
    "\n",
    "plt.plot(sample_s[:, 50])"
   ]
  },
  {
   "cell_type": "code",
   "execution_count": 65,
   "metadata": {},
   "outputs": [
    {
     "name": "stderr",
     "output_type": "stream",
     "text": [
      "100%|██████████| 160/160 [01:22<00:00,  3.02it/s]\n"
     ]
    }
   ],
   "source": [
    "from tqdm import tqdm\n",
    "\n",
    "n_streams = p_s.ab.shape[0]\n",
    "f_bins = 128\n",
    "n_samples = f_bins * 2 # resolution of fft is given by n of samples\n",
    "\n",
    "all_spectra = np.zeros([n_streams, f_bins], dtype=np.float32)\n",
    "rows_chunk = 1000\n",
    "for i in tqdm(np.arange(int(n_streams/rows_chunk))):\n",
    "#for i in tqdm(np.arange(1)):\n",
    "    x_i = p_s.synthetic(i*rows_chunk, rows=rows_chunk)[:, :n_samples]\n",
    "    f, t, s = sp.pretty_spectrogram(x_i.flatten(), p_s.pars['sys']['s_f'], \n",
    "                                fft_size=n_samples, log=False,\n",
    "                                step_size=n_samples, \n",
    "                                db_cut=80,\n",
    "                                f_min=0, f_max=f_cut, \n",
    "                                window=('gaussian', 40))\n",
    "    all_spectra[i*rows_chunk:(i+1)*rows_chunk, :f.size] = s.T\n"
   ]
  },
  {
   "cell_type": "code",
   "execution_count": 71,
   "metadata": {},
   "outputs": [
    {
     "data": {
      "text/plain": [
       "[<matplotlib.lines.Line2D at 0x7f68b8beeb00>]"
      ]
     },
     "execution_count": 71,
     "metadata": {},
     "output_type": "execute_result"
    },
    {
     "data": {
      "image/png": "[encoded data removed]",
      "text/plain": [
       "<matplotlib.figure.Figure at 0x7f68b96074a8>"
      ]
     },
     "metadata": {},
     "output_type": "display_data"
    }
   ],
   "source": [
    "plt.plot(all_spectra[56000])"
   ]
  },
  {
   "cell_type": "code",
   "execution_count": 73,
   "metadata": {},
   "outputs": [
    {
     "name": "stderr",
     "output_type": "stream",
     "text": [
      "2017-12-06 15:00:12,914 root         INFO     saved spectra to /mnt/cube/earneodo/bci_zf/syn_sweeps/spectral_pandas_sweep_002.pickle\n"
     ]
    }
   ],
   "source": [
    "syll_data = pd.DataFrame({\n",
    "        'bird': ['synth' for i in range(all_spectra.shape[0])],\n",
    "        'sess': [sweep_name for i in range(all_spectra.shape[0])],\n",
    "        'a': np.array(p_s.ab['a']).tolist(),\n",
    "        'b': np.array(p_s.ab['b']).tolist(),\n",
    "        'spectral': normalize(all_spectra[:,:f.size]).tolist(),\n",
    "        'freq': np.tile(f, (all_spectra.shape[0],1)).tolist()\n",
    "    })\n",
    "\n",
    "syll_data_path = os.path.join(sweep_folder, 'spectral_pandas_{}.pickle'.format(sweep_name))\n",
    "syll_data.to_pickle(syll_data_path)\n",
    "logger.info('saved spectra to ' + syll_data_path)                              "
   ]
  },
  {
   "cell_type": "code",
   "execution_count": 79,
   "metadata": {},
   "outputs": [
    {
     "data": {
      "text/plain": [
       "(86,)"
      ]
     },
     "execution_count": 79,
     "metadata": {},
     "output_type": "execute_result"
    }
   ],
   "source": [
    "f.shape"
   ]
  },
  {
   "cell_type": "code",
   "execution_count": 13,
   "metadata": {},
   "outputs": [
    {
     "data": {
      "text/plain": [
       "30000.0"
      ]
     },
     "execution_count": 13,
     "metadata": {},
     "output_type": "execute_result"
    }
   ],
   "source": [
    "p_s.pars['sys']['s_f']"
   ]
  },
  {
   "cell_type": "code",
   "execution_count": 77,
   "metadata": {
    "collapsed": true
   },
   "outputs": [],
   "source": [
    "def normalize(u):\n",
    "    u_max = np.repeat(np.amax(u, axis = 1, keepdims=True), u.shape[-1], axis=1)\n",
    "    u_min = np.repeat(np.amin(u, axis = 1, keepdims=True), u.shape[-1], axis=1)\n",
    "    u_range = u_max - u_min\n",
    "    return (u - u_min)/u_range\n",
    "\n",
    "#plt.plot(f, normalize(all_spectra)[5, :])"
   ]
  },
  {
   "cell_type": "code",
   "execution_count": 165,
   "metadata": {},
   "outputs": [
    {
     "data": {
      "text/plain": [
       "[<matplotlib.lines.Line2D at 0x7f83bd1c8890>]"
      ]
     },
     "execution_count": 165,
     "metadata": {},
     "output_type": "execute_result"
    },
    {
     "data": {
      "image/png": "[encoded data removed]",
      "text/plain": [
       "<matplotlib.figure.Figure at 0x7f83bd3869d0>"
      ]
     },
     "metadata": {},
     "output_type": "display_data"
    }
   ],
   "source": [
    "plt.plot(f, np.log(all_spectra[i_stream, :]))"
   ]
  },
  {
   "cell_type": "code",
   "execution_count": 166,
   "metadata": {},
   "outputs": [
    {
     "name": "stderr",
     "output_type": "stream",
     "text": [
      "/usr/local/anaconda/lib/python2.7/site-packages/ipykernel/__main__.py:60: RuntimeWarning: divide by zero encountered in log\n"
     ]
    },
    {
     "ename": "TypeError",
     "evalue": "'NoneType' object has no attribute '__getitem__'",
     "output_type": "error",
     "traceback": [
      "\u001b[0;31m\u001b[0m",
      "\u001b[0;31mTypeError\u001b[0mTraceback (most recent call last)",
      "\u001b[0;32m<ipython-input-166-2af74a7b25c0>\u001b[0m in \u001b[0;36m<module>\u001b[0;34m()\u001b[0m\n\u001b[0;32m----> 1\u001b[0;31m \u001b[0mregularize\u001b[0m\u001b[0;34m(\u001b[0m\u001b[0mall_spectra\u001b[0m\u001b[0;34m)\u001b[0m\u001b[0;34m[\u001b[0m\u001b[0mi_stream\u001b[0m\u001b[0;34m,\u001b[0m \u001b[0;34m:\u001b[0m\u001b[0;34m]\u001b[0m\u001b[0;34m\u001b[0m\u001b[0m\n\u001b[0m",
      "\u001b[0;31mTypeError\u001b[0m: 'NoneType' object has no attribute '__getitem__'"
     ]
    }
   ],
   "source": [
    "regularize(all_spectra)[i_stream, :]"
   ]
  },
  {
   "cell_type": "code",
   "execution_count": 148,
   "metadata": {},
   "outputs": [
    {
     "name": "stderr",
     "output_type": "stream",
     "text": [
      "/usr/local/anaconda/lib/python2.7/site-packages/ipykernel/__main__.py:60: RuntimeWarning: divide by zero encountered in log\n"
     ]
    },
    {
     "data": {
      "text/plain": [
       "[<matplotlib.lines.Line2D at 0x7f83bd87c850>]"
      ]
     },
     "execution_count": 148,
     "metadata": {},
     "output_type": "execute_result"
    },
    {
     "data": {
      "image/png": "[encoded data removed]",
      "text/plain": [
       "<matplotlib.figure.Figure at 0x7f83bddc9910>"
      ]
     },
     "metadata": {},
     "output_type": "display_data"
    }
   ],
   "source": [
    "plt.plot(f, regularize(all_spectra)[i_stream, :])"
   ]
  },
  {
   "cell_type": "code",
   "execution_count": 119,
   "metadata": {},
   "outputs": [
    {
     "data": {
      "text/plain": [
       "[<matplotlib.lines.Line2D at 0x7f83be30f750>]"
      ]
     },
     "execution_count": 119,
     "metadata": {},
     "output_type": "execute_result"
    },
    {
     "data": {
      "image/png": "[encoded data removed]",
      "text/plain": [
       "<matplotlib.figure.Figure at 0x7f83be383210>"
      ]
     },
     "metadata": {},
     "output_type": "display_data"
    }
   ],
   "source": [
    "yy = all_spectra[:50]\n",
    "y_thresh = np.repeat(np.amax(yy, axis = 1, keepdims=True), yy.shape[-1], axis=1)/np.exp(90/10)\n",
    "yy[yy<y_thresh]=0\n",
    "plt.plot(f, np.log(yy[20,:]))"
   ]
  },
  {
   "cell_type": "code",
   "execution_count": 35,
   "metadata": {},
   "outputs": [
    {
     "data": {
      "text/plain": [
       "[<matplotlib.lines.Line2D at 0x7f4445f976d0>]"
      ]
     },
     "execution_count": 35,
     "metadata": {},
     "output_type": "execute_result"
    },
    {
     "data": {
      "image/png": "[encoded data removed]",
      "text/plain": [
       "<matplotlib.figure.Figure at 0x7f4468456050>"
      ]
     },
     "metadata": {},
     "output_type": "display_data"
    }
   ],
   "source": [
    "f = np.arange(y.shape[1])*p_s.pars['sys']['s_f']/y.shape[-1]/2\n",
    "plt.plot(f, y[i_stream,:])"
   ]
  },
  {
   "cell_type": "code",
   "execution_count": 8,
   "metadata": {
    "scrolled": true
   },
   "outputs": [
    {
     "name": "stdout",
     "output_type": "stream",
     "text": [
      "1000\n"
     ]
    },
    {
     "ename": "NameError",
     "evalue": "name 'f' is not defined",
     "output_type": "error",
     "traceback": [
      "\u001b[0;31m\u001b[0m",
      "\u001b[0;31mNameError\u001b[0mTraceback (most recent call last)",
      "\u001b[0;32m<ipython-input-8-5df16955bf0f>\u001b[0m in \u001b[0;36m<module>\u001b[0;34m()\u001b[0m\n\u001b[1;32m      3\u001b[0m \u001b[0mx\u001b[0m \u001b[0;34m=\u001b[0m \u001b[0mp_s\u001b[0m\u001b[0;34m.\u001b[0m\u001b[0msynthetic\u001b[0m\u001b[0;34m(\u001b[0m\u001b[0mi\u001b[0m\u001b[0;34m)\u001b[0m\u001b[0;34m.\u001b[0m\u001b[0mflatten\u001b[0m\u001b[0;34m(\u001b[0m\u001b[0;34m)\u001b[0m\u001b[0;34m[\u001b[0m\u001b[0;34m:\u001b[0m\u001b[0;36m2048\u001b[0m\u001b[0;34m]\u001b[0m\u001b[0;34m\u001b[0m\u001b[0m\n\u001b[1;32m      4\u001b[0m \u001b[0ms\u001b[0m \u001b[0;34m=\u001b[0m \u001b[0mspectral_slice_tf\u001b[0m\u001b[0;34m(\u001b[0m\u001b[0mx\u001b[0m\u001b[0;34m)\u001b[0m\u001b[0;34m\u001b[0m\u001b[0m\n\u001b[0;32m----> 5\u001b[0;31m \u001b[0mplt\u001b[0m\u001b[0;34m.\u001b[0m\u001b[0mplot\u001b[0m\u001b[0;34m(\u001b[0m\u001b[0mf\u001b[0m\u001b[0;34m,\u001b[0m \u001b[0ms\u001b[0m\u001b[0;34m)\u001b[0m\u001b[0;34m\u001b[0m\u001b[0m\n\u001b[0m",
      "\u001b[0;31mNameError\u001b[0m: name 'f' is not defined"
     ]
    }
   ],
   "source": [
    "i=1000\n",
    "print(i)\n",
    "x = p_s.synthetic(i).flatten()[:2048]\n",
    "s = spectral_slice_tf(x)\n",
    "plt.plot(f, s)"
   ]
  },
  {
   "cell_type": "code",
   "execution_count": 11,
   "metadata": {},
   "outputs": [
    {
     "data": {
      "text/plain": [
       "160000"
      ]
     },
     "execution_count": 11,
     "metadata": {},
     "output_type": "execute_result"
    }
   ],
   "source": [
    "p_s.ab.shape[0]"
   ]
  },
  {
   "cell_type": "code",
   "execution_count": 33,
   "metadata": {},
   "outputs": [
    {
     "data": {
      "text/plain": [
       "[<matplotlib.lines.Line2D at 0x7f061c7b7a10>]"
      ]
     },
     "execution_count": 33,
     "metadata": {},
     "output_type": "execute_result"
    },
    {
     "data": {
      "image/png": "[encoded data removed]",
      "text/plain": [
       "<matplotlib.figure.Figure at 0x7f062c471410>"
      ]
     },
     "metadata": {},
     "output_type": "display_data"
    }
   ],
   "source": [
    "s = spectral_slice_tf(x)\n",
    "f = np.arange(s.size)*p_s.pars['sys']['s_f']/s.size/2\n",
    "plt.plot(f, s)"
   ]
  },
  {
   "cell_type": "code",
   "execution_count": 28,
   "metadata": {},
   "outputs": [
    {
     "data": {
      "text/plain": [
       "44100.0"
      ]
     },
     "execution_count": 28,
     "metadata": {},
     "output_type": "execute_result"
    }
   ],
   "source": [
    "p_s.pars['sys']['s_f']"
   ]
  },
  {
   "cell_type": "code",
   "execution_count": 31,
   "metadata": {},
   "outputs": [
    {
     "data": {
      "text/plain": [
       "6.666666666666667"
      ]
     },
     "execution_count": 31,
     "metadata": {},
     "output_type": "execute_result"
    }
   ],
   "source": [
    "1/.15"
   ]
  },
  {
   "cell_type": "code",
   "execution_count": 74,
   "metadata": {},
   "outputs": [
    {
     "data": {
      "text/plain": [
       "array([ 0.00064711,  0.00051946,  0.00043862, ...,  0.00014497,\n",
       "        0.00014609,  0.00014595], dtype=float32)"
      ]
     },
     "execution_count": 74,
     "metadata": {},
     "output_type": "execute_result"
    }
   ],
   "source": [
    "s"
   ]
  },
  {
   "cell_type": "code",
   "execution_count": 7,
   "metadata": {},
   "outputs": [
    {
     "name": "stderr",
     "output_type": "stream",
     "text": [
      "2016-10-28 00:53:07,897 h5tools      DEBUG    Translating group sweep_pars into its own dictionary\n",
      "2016-10-28 00:53:07,899 h5tools      DEBUG    Translating group sys into its own dictionary\n"
     ]
    },
    {
     "name": "stdout",
     "output_type": "stream",
     "text": [
      "[(u'sys', <HDF5 group \"/sweep_000/vocal_pars/sys\" (0 members)>)]\n",
      "/sweep_000/synth/23500\n",
      "[(u'alpha_beta', <HDF5 dataset \"alpha_beta\": shape (159500, 2), type \"<f8\">), (u'pre_in', <HDF5 dataset \"pre_in\": shape (159500, 4410), type \"<f8\">), (u'pre_out', <HDF5 dataset \"pre_out\": shape (159500, 4410), type \"<f8\">)]\n"
     ]
    }
   ],
   "source": [
    "f = h5py.File(sweep_file_path, 'r')\n",
    "p_s = ParSweep(f, sweep_name)\n",
    "#one_stream = p_s.synthetic(0, 0)"
   ]
  },
  {
   "cell_type": "code",
   "execution_count": 40,
   "metadata": {},
   "outputs": [
    {
     "data": {
      "text/plain": [
       "(1, 2205)"
      ]
     },
     "execution_count": 40,
     "metadata": {},
     "output_type": "execute_result"
    }
   ],
   "source": [
    "def slice_compare()"
   ]
  },
  {
   "cell_type": "code",
   "execution_count": 24,
   "metadata": {
    "collapsed": true
   },
   "outputs": [],
   "source": [
    "import h5tools as h5"
   ]
  },
  {
   "cell_type": "code",
   "execution_count": 25,
   "metadata": {},
   "outputs": [
    {
     "data": {
      "text/plain": [
       "<module 'h5tools.tables' from '/mnt/cube/earneodo/repos/swissknife/h5tools/tables.pyc'>"
      ]
     },
     "execution_count": 25,
     "metadata": {},
     "output_type": "execute_result"
    }
   ],
   "source": [
    "h5.tables"
   ]
  },
  {
   "cell_type": "code",
   "execution_count": 34,
   "metadata": {},
   "outputs": [
    {
     "data": {
      "text/plain": [
       "array([5, 6, 7, 8, 9])"
      ]
     },
     "execution_count": 34,
     "metadata": {},
     "output_type": "execute_result"
    }
   ],
   "source": [
    "np.arange(5, 10)"
   ]
  },
  {
   "cell_type": "code",
   "execution_count": null,
   "metadata": {
    "collapsed": true
   },
   "outputs": [],
   "source": []
  }
 ],
 "metadata": {
  "anaconda-cloud": {},
  "kernelspec": {
   "display_name": "Python [conda env:py35]",
   "language": "python",
   "name": "conda-env-py35-py"
  },
  "language_info": {
   "codemirror_mode": {
    "name": "ipython",
    "version": 3
   },
   "file_extension": ".py",
   "mimetype": "text/x-python",
   "name": "python",
   "nbconvert_exporter": "python",
   "pygments_lexer": "ipython3",
   "version": "3.5.3"
  }
 },
 "nbformat": 4,
 "nbformat_minor": 1
}
