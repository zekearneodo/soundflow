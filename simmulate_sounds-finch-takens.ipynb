{
 "cells": [
  {
   "cell_type": "markdown",
   "metadata": {},
   "source": [
    "# Make sweeps in the parameter space of the Mindlin model and create synthetic vocalizations\n",
    "\n",
    "Uses a RK4 ode integrator to compute segments of synthetic vocaliations of zebra finch (after the Mindlin Model presented in Sanz, Arneodo, Amador, Mindlin 2011 and Arneodo, Sanz, Goller, Mindlin (2012).\n",
    "\n",
    "Requires package swissknife (https://github.com/zekearneodo/swissknife)"
   ]
  },
  {
   "cell_type": "code",
   "execution_count": 1,
   "metadata": {},
   "outputs": [
    {
     "name": "stderr",
     "output_type": "stream",
     "text": [
      "2020-04-29 10:56:27,054 root         INFO     Computer: passaro\n"
     ]
    }
   ],
   "source": [
    "# simmulate sounds in a grid of parameter values\n",
    "%matplotlib inline\n",
    "import numpy as np\n",
    "from matplotlib import pyplot as plt\n",
    "from scipy.signal import spectrogram\n",
    "import scipy.signal as sg\n",
    "import socket\n",
    "import os\n",
    "import sys\n",
    "import logging\n",
    "import h5py\n",
    "import copy\n",
    "\n",
    "\n",
    "logger = logging.getLogger()\n",
    "handler = logging.StreamHandler()\n",
    "formatter = logging.Formatter(\n",
    "        '%(asctime)s %(name)-12s %(levelname)-8s %(message)s')\n",
    "handler.setFormatter(formatter)\n",
    "logger.addHandler(handler)\n",
    "logger.setLevel(logging.DEBUG)\n",
    "\n",
    "# Check wich computer to decide where the things are mounted\n",
    "comp_name=socket.gethostname()\n",
    "logger.info('Computer: ' + comp_name)\n",
    "\n",
    "\n",
    "#setup the data folder\n",
    "from swissknife.h5tools import h5tools\n",
    "from swissknife.h5tools import tables\n",
    "from swissknife.dynamo import finch as zf\n",
    "from swissknife.dynamo import takens as tk\n",
    "from swissknife.bci.core import expstruct as es\n",
    "from swissknife.threadtools import threadedfunction as td\n",
    "\n",
    "def splitlist(a, n):\n",
    "    k, m = len(a) / n, len(a) % n\n",
    "    return (a[i * k + min(i, m):(i + 1) * k + min(i + 1, m)] for i in xrange(n))\n",
    "\n",
    "def chunkify(lst,n):\n",
    "    return [ lst[i::n] for i in xrange(n) ]\n",
    "\n",
    "def sim_and_store(sim_pars, h5_file):\n",
    "    sweep_group = h5_file.require_group(sim_pars['sweep_name'])\n",
    "    h5tools.dict_2_group(sweep_group, sim_pars['vocal_pars'], 'vocal_pars')\n",
    "    synth_group = sweep_group.require_group('synth')\n",
    "    # create the group for the gamma\n",
    "    gamma_group = synth_group.require_group('{0:5d}'.format(sim_pars['gamma']))\n",
    "    sweep_table = tables.unlimited_rows_data(gamma_group, 'alpha_beta', \n",
    "                                             np.array([sim_pars['alpha'], \n",
    "                                                       sim_pars['beta']]).reshape([1,2]))\n",
    "                                            \n",
    "    \n",
    "    alpha_values = sim_pars['alpha'] * np.ones(sim_pars['sim_samples'])\n",
    "    beta_values = sim_pars['beta'] * np.ones(sim_pars['sim_samples'])\n",
    "    env_values = np.ones(sim_pars['sim_samples'])\n",
    "    par_stream = np.array([alpha_values, beta_values, env_values]).T\n",
    "    for key in ['alpha', 'beta', 'gamma', 's_f', 'steps_per_sample']:\n",
    "        vocal_pars['sys'][key] = sim_pars[key]\n",
    "    song_synth = zf.finch(vocal_pars, par_stream, x_0=sim_pars['x_0'])\n",
    "    pin_table = tables.unlimited_rows_data(gamma_group, 'pre_in', \n",
    "                                           song_synth[:,1].reshape([1,-1]))\n",
    "    pout_table = tables.unlimited_rows_data(gamma_group, 'pre_out', \n",
    "                                            song_synth[:,0].reshape([1,-1]))"
   ]
  },
  {
   "cell_type": "markdown",
   "metadata": {},
   "source": [
    "## Make a grid of parameter values (alpha, beta) in the phonation region\n",
    "There is a region delimited by a cusp bifurcation and a hopf bifurcation where stable oscilations occur.\n",
    "Method dynamo.takens.cusp_grid() yields a grid of vaules for the parameters alpha, beta that lies within that region."
   ]
  },
  {
   "cell_type": "code",
   "execution_count": 2,
   "metadata": {},
   "outputs": [
    {
     "name": "stdout",
     "output_type": "stream",
     "text": [
      "319\n"
     ]
    },
    {
     "data": {
      "text/plain": [
       "[<matplotlib.lines.Line2D at 0x7f7c8ce407f0>]"
      ]
     },
     "execution_count": 2,
     "metadata": {},
     "output_type": "execute_result"
    },
    {
     "name": "stderr",
     "output_type": "stream",
     "text": [
      "2020-04-29 10:56:28,056 matplotlib.font_manager DEBUG    findfont: Matching :family=sans-serif:style=normal:variant=normal:weight=normal:stretch=normal:size=10.0.\n",
      "2020-04-29 10:56:28,057 matplotlib.font_manager DEBUG    findfont: score(<Font 'DejaVu Sans' (DejaVuSans-Oblique.ttf) oblique normal 400 normal>) = 1.05\n",
      "2020-04-29 10:56:28,058 matplotlib.font_manager DEBUG    findfont: score(<Font 'STIXSizeOneSym' (STIXSizOneSymBol.ttf) normal normal bold normal>) = 10.335\n",
      "2020-04-29 10:56:28,060 matplotlib.font_manager DEBUG    findfont: score(<Font 'DejaVu Sans Mono' (DejaVuSansMono-BoldOblique.ttf) oblique normal bold normal>) = 11.335\n",
      "2020-04-29 10:56:28,061 matplotlib.font_manager DEBUG    findfont: score(<Font 'DejaVu Sans Mono' (DejaVuSansMono.ttf) normal normal 400 normal>) = 10.05\n",
      "2020-04-29 10:56:28,062 matplotlib.font_manager DEBUG    findfont: score(<Font 'STIXNonUnicode' (STIXNonUniBol.ttf) normal normal bold normal>) = 10.335\n",
      "2020-04-29 10:56:28,065 matplotlib.font_manager DEBUG    findfont: score(<Font 'STIXSizeFiveSym' (STIXSizFiveSymReg.ttf) normal normal regular normal>) = 10.05\n",
      "2020-04-29 10:56:28,066 matplotlib.font_manager DEBUG    findfont: score(<Font 'DejaVu Sans Mono' (DejaVuSansMono-Oblique.ttf) oblique normal 400 normal>) = 11.05\n",
      "2020-04-29 10:56:28,067 matplotlib.font_manager DEBUG    findfont: score(<Font 'STIXSizeThreeSym' (STIXSizThreeSymReg.ttf) normal normal regular normal>) = 10.05\n",
      "2020-04-29 10:56:28,068 matplotlib.font_manager DEBUG    findfont: score(<Font 'STIXSizeTwoSym' (STIXSizTwoSymReg.ttf) normal normal regular normal>) = 10.05\n",
      "2020-04-29 10:56:28,069 matplotlib.font_manager DEBUG    findfont: score(<Font 'DejaVu Sans Display' (DejaVuSansDisplay.ttf) normal normal 400 normal>) = 10.05\n",
      "2020-04-29 10:56:28,071 matplotlib.font_manager DEBUG    findfont: score(<Font 'cmss10' (cmss10.ttf) normal normal 400 normal>) = 10.05\n",
      "2020-04-29 10:56:28,072 matplotlib.font_manager DEBUG    findfont: score(<Font 'cmtt10' (cmtt10.ttf) normal normal 400 normal>) = 10.05\n",
      "2020-04-29 10:56:28,073 matplotlib.font_manager DEBUG    findfont: score(<Font 'STIXGeneral' (STIXGeneralBolIta.ttf) italic normal bold normal>) = 11.335\n",
      "2020-04-29 10:56:28,075 matplotlib.font_manager DEBUG    findfont: score(<Font 'STIXGeneral' (STIXGeneralBol.ttf) normal normal bold normal>) = 10.335\n",
      "2020-04-29 10:56:28,076 matplotlib.font_manager DEBUG    findfont: score(<Font 'DejaVu Sans' (DejaVuSans-BoldOblique.ttf) oblique normal bold normal>) = 1.335\n",
      "2020-04-29 10:56:28,077 matplotlib.font_manager DEBUG    findfont: score(<Font 'STIXNonUnicode' (STIXNonUniIta.ttf) italic normal 400 normal>) = 11.05\n",
      "2020-04-29 10:56:28,078 matplotlib.font_manager DEBUG    findfont: score(<Font 'DejaVu Serif Display' (DejaVuSerifDisplay.ttf) normal normal 400 normal>) = 10.05\n",
      "2020-04-29 10:56:28,080 matplotlib.font_manager DEBUG    findfont: score(<Font 'cmsy10' (cmsy10.ttf) normal normal 400 normal>) = 10.05\n",
      "2020-04-29 10:56:28,081 matplotlib.font_manager DEBUG    findfont: score(<Font 'STIXSizeFourSym' (STIXSizFourSymReg.ttf) normal normal regular normal>) = 10.05\n",
      "2020-04-29 10:56:28,082 matplotlib.font_manager DEBUG    findfont: score(<Font 'STIXGeneral' (STIXGeneralItalic.ttf) italic normal 400 normal>) = 11.05\n",
      "2020-04-29 10:56:28,083 matplotlib.font_manager DEBUG    findfont: score(<Font 'DejaVu Serif' (DejaVuSerif-BoldItalic.ttf) italic normal bold normal>) = 11.335\n",
      "2020-04-29 10:56:28,085 matplotlib.font_manager DEBUG    findfont: score(<Font 'cmex10' (cmex10.ttf) normal normal 400 normal>) = 10.05\n",
      "2020-04-29 10:56:28,086 matplotlib.font_manager DEBUG    findfont: score(<Font 'DejaVu Serif' (DejaVuSerif-Italic.ttf) italic normal 400 normal>) = 11.05\n",
      "2020-04-29 10:56:28,087 matplotlib.font_manager DEBUG    findfont: score(<Font 'STIXSizeTwoSym' (STIXSizTwoSymBol.ttf) normal normal bold normal>) = 10.335\n",
      "2020-04-29 10:56:28,088 matplotlib.font_manager DEBUG    findfont: score(<Font 'cmmi10' (cmmi10.ttf) normal normal 400 normal>) = 10.05\n",
      "2020-04-29 10:56:28,089 matplotlib.font_manager DEBUG    findfont: score(<Font 'STIXNonUnicode' (STIXNonUni.ttf) normal normal regular normal>) = 10.05\n",
      "2020-04-29 10:56:28,090 matplotlib.font_manager DEBUG    findfont: score(<Font 'STIXNonUnicode' (STIXNonUniBolIta.ttf) italic normal bold normal>) = 11.335\n",
      "2020-04-29 10:56:28,090 matplotlib.font_manager DEBUG    findfont: score(<Font 'cmb10' (cmb10.ttf) normal normal 400 normal>) = 10.05\n",
      "2020-04-29 10:56:28,091 matplotlib.font_manager DEBUG    findfont: score(<Font 'DejaVu Serif' (DejaVuSerif-Bold.ttf) normal normal bold normal>) = 10.335\n",
      "2020-04-29 10:56:28,092 matplotlib.font_manager DEBUG    findfont: score(<Font 'STIXSizeThreeSym' (STIXSizThreeSymBol.ttf) normal normal bold normal>) = 10.335\n",
      "2020-04-29 10:56:28,093 matplotlib.font_manager DEBUG    findfont: score(<Font 'DejaVu Serif' (DejaVuSerif.ttf) normal normal 400 normal>) = 10.05\n",
      "2020-04-29 10:56:28,094 matplotlib.font_manager DEBUG    findfont: score(<Font 'STIXSizeOneSym' (STIXSizOneSymReg.ttf) normal normal regular normal>) = 10.05\n",
      "2020-04-29 10:56:28,095 matplotlib.font_manager DEBUG    findfont: score(<Font 'STIXSizeFourSym' (STIXSizFourSymBol.ttf) normal normal bold normal>) = 10.335\n",
      "2020-04-29 10:56:28,096 matplotlib.font_manager DEBUG    findfont: score(<Font 'DejaVu Sans' (DejaVuSans-Bold.ttf) normal normal bold normal>) = 0.33499999999999996\n",
      "2020-04-29 10:56:28,097 matplotlib.font_manager DEBUG    findfont: score(<Font 'cmr10' (cmr10.ttf) normal normal 400 normal>) = 10.05\n",
      "2020-04-29 10:56:28,097 matplotlib.font_manager DEBUG    findfont: score(<Font 'DejaVu Sans Mono' (DejaVuSansMono-Bold.ttf) normal normal bold normal>) = 10.335\n",
      "2020-04-29 10:56:28,098 matplotlib.font_manager DEBUG    findfont: score(<Font 'DejaVu Sans' (DejaVuSans.ttf) normal normal 400 normal>) = 0.05\n",
      "2020-04-29 10:56:28,099 matplotlib.font_manager DEBUG    findfont: score(<Font 'STIXGeneral' (STIXGeneral.ttf) normal normal regular normal>) = 10.05\n",
      "2020-04-29 10:56:28,100 matplotlib.font_manager DEBUG    findfont: score(<Font 'Latin Modern Sans' (lmsans8-oblique.otf) oblique normal 400 normal>) = 11.05\n",
      "2020-04-29 10:56:28,104 matplotlib.font_manager DEBUG    findfont: score(<Font 'DejaVu Serif' (DejaVuSerifCondensed.ttf) normal normal 400 condensed>) = 10.25\n",
      "2020-04-29 10:56:28,105 matplotlib.font_manager DEBUG    findfont: score(<Font 'Latin Modern Roman Slanted' (lmromanslant8-regular.otf) normal normal regular normal>) = 10.05\n",
      "2020-04-29 10:56:28,106 matplotlib.font_manager DEBUG    findfont: score(<Font 'TeX Gyre Heros Cn' (texgyreheroscn-italic.otf) italic normal 400 normal>) = 11.05\n",
      "2020-04-29 10:56:28,107 matplotlib.font_manager DEBUG    findfont: score(<Font 'Liberation Mono' (LiberationMono-Italic.ttf) italic normal 400 normal>) = 11.05\n",
      "2020-04-29 10:56:28,108 matplotlib.font_manager DEBUG    findfont: score(<Font 'Cantarell' (Cantarell-Bold.otf) normal normal bold normal>) = 10.335\n",
      "2020-04-29 10:56:28,109 matplotlib.font_manager DEBUG    findfont: score(<Font 'TeX Gyre Bonum' (texgyrebonum-bold.otf) normal normal bold normal>) = 10.335\n",
      "2020-04-29 10:56:28,109 matplotlib.font_manager DEBUG    findfont: score(<Font 'TeX Gyre Schola' (texgyreschola-bold.otf) normal normal bold normal>) = 10.335\n",
      "2020-04-29 10:56:28,110 matplotlib.font_manager DEBUG    findfont: score(<Font 'DejaVu Sans' (DejaVuSansCondensed-Oblique.ttf) oblique normal 400 condensed>) = 1.25\n",
      "2020-04-29 10:56:28,111 matplotlib.font_manager DEBUG    findfont: score(<Font 'FreeMono' (FreeMonoBoldOblique.ttf) oblique normal bold normal>) = 11.335\n",
      "2020-04-29 10:56:28,112 matplotlib.font_manager DEBUG    findfont: score(<Font 'Latin Modern Roman' (lmroman9-italic.otf) italic normal roman normal>) = 11.145\n",
      "2020-04-29 10:56:28,113 matplotlib.font_manager DEBUG    findfont: score(<Font 'TeX Gyre Pagella' (texgyrepagella-regular.otf) normal normal 400 normal>) = 10.05\n",
      "2020-04-29 10:56:28,113 matplotlib.font_manager DEBUG    findfont: score(<Font 'Liberation Sans Narrow' (LiberationSansNarrow-Bold.ttf) normal normal bold condensed>) = 10.535\n",
      "2020-04-29 10:56:28,114 matplotlib.font_manager DEBUG    findfont: score(<Font 'TeX Gyre Bonum' (texgyrebonum-italic.otf) italic normal 400 normal>) = 11.05\n"
     ]
    },
    {
     "name": "stderr",
     "output_type": "stream",
     "text": [
      "2020-04-29 10:56:28,115 matplotlib.font_manager DEBUG    findfont: score(<Font 'TeX Gyre Heros' (texgyreheros-italic.otf) italic normal 400 normal>) = 11.05\n",
      "2020-04-29 10:56:28,116 matplotlib.font_manager DEBUG    findfont: score(<Font 'TeX Gyre Heros' (texgyreheros-bold.otf) normal normal bold normal>) = 10.335\n",
      "2020-04-29 10:56:28,117 matplotlib.font_manager DEBUG    findfont: score(<Font 'Droid Serif' (DroidSerif-Bold.ttf) normal normal bold normal>) = 10.335\n",
      "2020-04-29 10:56:28,117 matplotlib.font_manager DEBUG    findfont: score(<Font 'Latin Modern Mono Prop Light' (lmmonoproplt10-regular.otf) normal normal light normal>) = 10.24\n",
      "2020-04-29 10:56:28,118 matplotlib.font_manager DEBUG    findfont: score(<Font 'TeX Gyre Pagella' (texgyrepagella-bold.otf) normal normal bold normal>) = 10.335\n",
      "2020-04-29 10:56:28,119 matplotlib.font_manager DEBUG    findfont: score(<Font 'TeX Gyre Heros Cn' (texgyreheroscn-bolditalic.otf) italic normal bold normal>) = 11.335\n",
      "2020-04-29 10:56:28,120 matplotlib.font_manager DEBUG    findfont: score(<Font 'Latin Modern Mono Light' (lmmonolt10-boldoblique.otf) oblique normal light normal>) = 11.24\n",
      "2020-04-29 10:56:28,121 matplotlib.font_manager DEBUG    findfont: score(<Font 'Liberation Sans' (LiberationSans-Bold.ttf) normal normal bold normal>) = 10.335\n",
      "2020-04-29 10:56:28,121 matplotlib.font_manager DEBUG    findfont: score(<Font 'Latin Modern Mono Prop Light' (lmmonoproplt10-oblique.otf) oblique normal light normal>) = 11.24\n",
      "2020-04-29 10:56:28,122 matplotlib.font_manager DEBUG    findfont: score(<Font 'Latin Modern Roman' (lmroman12-italic.otf) italic normal roman normal>) = 11.145\n",
      "2020-04-29 10:56:28,123 matplotlib.font_manager DEBUG    findfont: score(<Font 'Latin Modern Roman' (lmroman10-regular.otf) normal normal regular normal>) = 10.05\n",
      "2020-04-29 10:56:28,124 matplotlib.font_manager DEBUG    findfont: score(<Font 'Latin Modern Roman' (lmroman10-bold.otf) normal normal roman normal>) = 10.145\n",
      "2020-04-29 10:56:28,124 matplotlib.font_manager DEBUG    findfont: score(<Font 'Liberation Sans' (LiberationSans-Italic.ttf) italic normal 400 normal>) = 11.05\n",
      "2020-04-29 10:56:28,125 matplotlib.font_manager DEBUG    findfont: score(<Font 'Droid Sans Armenian' (DroidSansArmenian.ttf) normal normal 400 normal>) = 10.05\n",
      "2020-04-29 10:56:28,126 matplotlib.font_manager DEBUG    findfont: score(<Font 'DejaVu Sans' (DejaVuSans-ExtraLight.ttf) normal normal light normal>) = 0.24\n",
      "2020-04-29 10:56:28,127 matplotlib.font_manager DEBUG    findfont: score(<Font 'Latin Modern Roman' (lmroman9-bold.otf) normal normal roman normal>) = 10.145\n",
      "2020-04-29 10:56:28,127 matplotlib.font_manager DEBUG    findfont: score(<Font 'TeX Gyre Adventor' (texgyreadventor-regular.otf) normal normal 400 normal>) = 10.05\n",
      "2020-04-29 10:56:28,128 matplotlib.font_manager DEBUG    findfont: score(<Font 'Latin Modern Roman' (lmroman9-regular.otf) normal normal regular normal>) = 10.05\n",
      "2020-04-29 10:56:28,129 matplotlib.font_manager DEBUG    findfont: score(<Font 'DejaVu Sans' (DejaVuSansCondensed-Bold.ttf) normal normal bold condensed>) = 0.5349999999999999\n",
      "2020-04-29 10:56:28,130 matplotlib.font_manager DEBUG    findfont: score(<Font 'TeX Gyre Pagella' (texgyrepagella-bolditalic.otf) italic normal bold normal>) = 11.335\n",
      "2020-04-29 10:56:28,130 matplotlib.font_manager DEBUG    findfont: score(<Font 'FreeSerif' (FreeSerifItalic.ttf) italic normal 400 normal>) = 11.05\n",
      "2020-04-29 10:56:28,137 matplotlib.font_manager DEBUG    findfont: score(<Font 'Droid Arabic Kufi' (DroidKufi-Bold.ttf) normal normal bold normal>) = 10.335\n",
      "2020-04-29 10:56:28,138 matplotlib.font_manager DEBUG    findfont: score(<Font 'Latin Modern Roman Slanted' (lmromanslant10-bold.otf) normal normal roman normal>) = 10.145\n",
      "2020-04-29 10:56:28,139 matplotlib.font_manager DEBUG    findfont: score(<Font 'Latin Modern Sans' (lmsans12-oblique.otf) oblique normal 400 normal>) = 11.05\n",
      "2020-04-29 10:56:28,139 matplotlib.font_manager DEBUG    findfont: score(<Font 'FreeSans' (FreeSansBoldOblique.ttf) oblique normal bold normal>) = 11.335\n",
      "2020-04-29 10:56:28,141 matplotlib.font_manager DEBUG    findfont: score(<Font 'FreeSerif' (FreeSerif.ttf) normal normal 400 normal>) = 10.05\n",
      "2020-04-29 10:56:28,142 matplotlib.font_manager DEBUG    findfont: score(<Font 'Droid Sans' (DroidSans.ttf) normal normal 400 normal>) = 10.05\n",
      "2020-04-29 10:56:28,142 matplotlib.font_manager DEBUG    findfont: score(<Font 'FreeMono' (FreeMonoBold.ttf) normal normal bold normal>) = 10.335\n",
      "2020-04-29 10:56:28,143 matplotlib.font_manager DEBUG    findfont: score(<Font 'Latin Modern Mono' (lmmono9-regular.otf) normal normal regular normal>) = 10.05\n",
      "2020-04-29 10:56:28,144 matplotlib.font_manager DEBUG    findfont: score(<Font 'Droid Sans Ethiopic' (DroidSansEthiopic-Regular.ttf) normal normal 400 normal>) = 10.05\n",
      "2020-04-29 10:56:28,144 matplotlib.font_manager DEBUG    findfont: score(<Font 'Liberation Sans Narrow' (LiberationSansNarrow-Regular.ttf) normal normal 400 condensed>) = 10.25\n",
      "2020-04-29 10:56:28,145 matplotlib.font_manager DEBUG    findfont: score(<Font 'Droid Serif' (DroidSerif-BoldItalic.ttf) italic normal bold normal>) = 11.335\n",
      "2020-04-29 10:56:28,146 matplotlib.font_manager DEBUG    findfont: score(<Font 'FreeSans' (FreeSansOblique.ttf) oblique normal 400 normal>) = 11.05\n",
      "2020-04-29 10:56:28,147 matplotlib.font_manager DEBUG    findfont: score(<Font 'Latin Modern Sans Quotation' (lmsansquot8-regular.otf) normal normal regular normal>) = 10.05\n",
      "2020-04-29 10:56:28,147 matplotlib.font_manager DEBUG    findfont: score(<Font 'Latin Modern Roman Slanted' (lmromanslant10-regular.otf) normal normal regular normal>) = 10.05\n",
      "2020-04-29 10:56:28,148 matplotlib.font_manager DEBUG    findfont: score(<Font 'Liberation Mono' (LiberationMono-Regular.ttf) normal normal 400 normal>) = 10.05\n",
      "2020-04-29 10:56:28,149 matplotlib.font_manager DEBUG    findfont: score(<Font 'Droid Sans Japanese' (DroidSansJapanese.ttf) normal normal 400 normal>) = 10.05\n",
      "2020-04-29 10:56:28,149 matplotlib.font_manager DEBUG    findfont: score(<Font 'Latin Modern Roman' (lmroman8-regular.otf) normal normal regular normal>) = 10.05\n",
      "2020-04-29 10:56:28,150 matplotlib.font_manager DEBUG    findfont: score(<Font 'Latin Modern Mono Light' (lmmonolt10-regular.otf) normal normal light normal>) = 10.24\n",
      "2020-04-29 10:56:28,151 matplotlib.font_manager DEBUG    findfont: score(<Font 'Liberation Mono' (LiberationMono-BoldItalic.ttf) italic normal bold normal>) = 11.335\n",
      "2020-04-29 10:56:28,154 matplotlib.font_manager DEBUG    findfont: score(<Font 'Latin Modern Math' (latinmodernmath-regular.otf) normal normal regular normal>) = 10.05\n",
      "2020-04-29 10:56:28,154 matplotlib.font_manager DEBUG    findfont: score(<Font 'Liberation Sans' (LiberationSans-Regular.ttf) normal normal 400 normal>) = 10.05\n",
      "2020-04-29 10:56:28,155 matplotlib.font_manager DEBUG    findfont: score(<Font 'Droid Arabic Kufi' (DroidKufi-Regular.ttf) normal normal 400 normal>) = 10.05\n",
      "2020-04-29 10:56:28,156 matplotlib.font_manager DEBUG    findfont: score(<Font 'Latin Modern Roman Demi' (lmromandemi10-regular.otf) normal normal regular normal>) = 10.05\n",
      "2020-04-29 10:56:28,156 matplotlib.font_manager DEBUG    findfont: score(<Font 'TeX Gyre Pagella Math' (texgyrepagella-math.otf) normal normal regular normal>) = 10.05\n",
      "2020-04-29 10:56:28,157 matplotlib.font_manager DEBUG    findfont: score(<Font 'TeX Gyre Termes' (texgyretermes-bolditalic.otf) italic normal bold normal>) = 11.335\n",
      "2020-04-29 10:56:28,158 matplotlib.font_manager DEBUG    findfont: score(<Font 'Latin Modern Sans' (lmsans10-bold.otf) normal normal bold normal>) = 10.335\n",
      "2020-04-29 10:56:28,158 matplotlib.font_manager DEBUG    findfont: score(<Font 'DejaVu Serif' (DejaVuSerifCondensed-Bold.ttf) normal normal bold condensed>) = 10.535\n",
      "2020-04-29 10:56:28,159 matplotlib.font_manager DEBUG    findfont: score(<Font 'Latin Modern Roman' (lmroman8-italic.otf) italic normal roman normal>) = 11.145\n",
      "2020-04-29 10:56:28,160 matplotlib.font_manager DEBUG    findfont: score(<Font 'DejaVu Sans' (DejaVuSansCondensed-BoldOblique.ttf) oblique normal bold condensed>) = 1.535\n",
      "2020-04-29 10:56:28,160 matplotlib.font_manager DEBUG    findfont: score(<Font 'FreeSerif' (FreeSerifBoldItalic.ttf) italic normal bold normal>) = 11.335\n"
     ]
    },
    {
     "name": "stderr",
     "output_type": "stream",
     "text": [
      "2020-04-29 10:56:28,161 matplotlib.font_manager DEBUG    findfont: score(<Font 'TeX Gyre Termes Math' (texgyretermes-math.otf) normal normal regular normal>) = 10.05\n",
      "2020-04-29 10:56:28,161 matplotlib.font_manager DEBUG    findfont: score(<Font 'Droid Sans Arabic' (DroidSansArabic.ttf) normal normal 400 normal>) = 10.05\n",
      "2020-04-29 10:56:28,162 matplotlib.font_manager DEBUG    findfont: score(<Font 'Latin Modern Mono Prop' (lmmonoprop10-regular.otf) normal normal regular normal>) = 10.05\n",
      "2020-04-29 10:56:28,163 matplotlib.font_manager DEBUG    findfont: score(<Font 'TeX Gyre Heros' (texgyreheros-regular.otf) normal normal 400 normal>) = 10.05\n",
      "2020-04-29 10:56:28,163 matplotlib.font_manager DEBUG    findfont: score(<Font 'Latin Modern Sans' (lmsans17-oblique.otf) oblique normal 400 normal>) = 11.05\n",
      "2020-04-29 10:56:28,164 matplotlib.font_manager DEBUG    findfont: score(<Font 'TeX Gyre Adventor' (texgyreadventor-bolditalic.otf) italic normal bold normal>) = 11.335\n",
      "2020-04-29 10:56:28,165 matplotlib.font_manager DEBUG    findfont: score(<Font 'TeX Gyre Schola' (texgyreschola-bolditalic.otf) italic normal bold normal>) = 11.335\n",
      "2020-04-29 10:56:28,165 matplotlib.font_manager DEBUG    findfont: score(<Font 'Latin Modern Roman Slanted' (lmromanslant9-regular.otf) normal normal regular normal>) = 10.05\n",
      "2020-04-29 10:56:28,166 matplotlib.font_manager DEBUG    findfont: score(<Font 'Latin Modern Mono Prop Light' (lmmonoproplt10-bold.otf) normal normal light normal>) = 10.24\n",
      "2020-04-29 10:56:28,167 matplotlib.font_manager DEBUG    findfont: score(<Font 'Latin Modern Sans' (lmsans9-regular.otf) normal normal regular normal>) = 10.05\n",
      "2020-04-29 10:56:28,167 matplotlib.font_manager DEBUG    findfont: score(<Font 'Latin Modern Roman' (lmroman17-regular.otf) normal normal regular normal>) = 10.05\n",
      "2020-04-29 10:56:28,168 matplotlib.font_manager DEBUG    findfont: score(<Font 'TeX Gyre Heros Cn' (texgyreheroscn-regular.otf) normal normal 400 normal>) = 10.05\n",
      "2020-04-29 10:56:28,168 matplotlib.font_manager DEBUG    findfont: score(<Font 'Latin Modern Mono' (lmmono12-regular.otf) normal normal regular normal>) = 10.05\n",
      "2020-04-29 10:56:28,169 matplotlib.font_manager DEBUG    findfont: score(<Font 'TeX Gyre Bonum' (texgyrebonum-regular.otf) normal normal 400 normal>) = 10.05\n",
      "2020-04-29 10:56:28,170 matplotlib.font_manager DEBUG    findfont: score(<Font 'TeX Gyre Cursor' (texgyrecursor-italic.otf) italic normal 400 normal>) = 11.05\n",
      "2020-04-29 10:56:28,170 matplotlib.font_manager DEBUG    findfont: score(<Font 'Droid Sans Hebrew' (DroidSansHebrew-Regular.ttf) normal normal 400 normal>) = 10.05\n",
      "2020-04-29 10:56:28,171 matplotlib.font_manager DEBUG    findfont: score(<Font 'Latin Modern Roman Dunhill' (lmromandunh10-oblique.otf) oblique normal roman normal>) = 11.145\n",
      "2020-04-29 10:56:28,176 matplotlib.font_manager DEBUG    findfont: score(<Font 'FreeSans' (FreeSans.ttf) normal normal 400 normal>) = 10.05\n",
      "2020-04-29 10:56:28,176 matplotlib.font_manager DEBUG    findfont: score(<Font 'Latin Modern Sans' (lmsans10-regular.otf) normal normal regular normal>) = 10.05\n",
      "2020-04-29 10:56:28,177 matplotlib.font_manager DEBUG    findfont: score(<Font 'Latin Modern Mono Light Cond' (lmmonoltcond10-regular.otf) normal normal light condensed>) = 10.44\n",
      "2020-04-29 10:56:28,178 matplotlib.font_manager DEBUG    findfont: score(<Font 'Droid Serif' (DroidSerif-Regular.ttf) normal normal 400 normal>) = 10.05\n",
      "2020-04-29 10:56:28,178 matplotlib.font_manager DEBUG    findfont: score(<Font 'DejaVu Serif' (DejaVuSerifCondensed-Italic.ttf) italic normal 400 condensed>) = 11.25\n",
      "2020-04-29 10:56:28,179 matplotlib.font_manager DEBUG    findfont: score(<Font 'Latin Modern Roman' (lmroman5-bold.otf) normal normal roman normal>) = 10.145\n",
      "2020-04-29 10:56:28,179 matplotlib.font_manager DEBUG    findfont: score(<Font 'Latin Modern Sans' (lmsans12-regular.otf) normal normal regular normal>) = 10.05\n",
      "2020-04-29 10:56:28,180 matplotlib.font_manager DEBUG    findfont: score(<Font 'Latin Modern Roman' (lmroman8-bold.otf) normal normal roman normal>) = 10.145\n",
      "2020-04-29 10:56:28,180 matplotlib.font_manager DEBUG    findfont: score(<Font 'Latin Modern Sans Quotation' (lmsansquot8-oblique.otf) oblique normal 700 normal>) = 11.335\n",
      "2020-04-29 10:56:28,181 matplotlib.font_manager DEBUG    findfont: score(<Font 'TeX Gyre Heros' (texgyreheros-bolditalic.otf) italic normal bold normal>) = 11.335\n",
      "2020-04-29 10:56:28,182 matplotlib.font_manager DEBUG    findfont: score(<Font 'Latin Modern Mono' (lmmono10-italic.otf) italic normal 400 normal>) = 11.05\n",
      "2020-04-29 10:56:28,182 matplotlib.font_manager DEBUG    findfont: score(<Font 'Latin Modern Sans' (lmsans10-boldoblique.otf) oblique normal bold normal>) = 11.335\n",
      "2020-04-29 10:56:28,183 matplotlib.font_manager DEBUG    findfont: score(<Font 'Droid Serif' (DroidSerif-Italic.ttf) italic normal 400 normal>) = 11.05\n",
      "2020-04-29 10:56:28,183 matplotlib.font_manager DEBUG    findfont: score(<Font 'Latin Modern Roman Unslanted' (lmromanunsl10-regular.otf) normal normal regular normal>) = 10.05\n",
      "2020-04-29 10:56:28,184 matplotlib.font_manager DEBUG    findfont: score(<Font 'Latin Modern Roman Dunhill' (lmromandunh10-regular.otf) normal normal regular normal>) = 10.05\n",
      "2020-04-29 10:56:28,184 matplotlib.font_manager DEBUG    findfont: score(<Font 'Latin Modern Roman' (lmroman5-regular.otf) normal normal regular normal>) = 10.05\n",
      "2020-04-29 10:56:28,185 matplotlib.font_manager DEBUG    findfont: score(<Font 'Latin Modern Sans' (lmsans17-regular.otf) normal normal regular normal>) = 10.05\n",
      "2020-04-29 10:56:28,185 matplotlib.font_manager DEBUG    findfont: score(<Font 'DejaVu Sans' (DejaVuSansCondensed.ttf) normal normal 400 condensed>) = 0.25\n",
      "2020-04-29 10:56:28,186 matplotlib.font_manager DEBUG    findfont: score(<Font 'Latin Modern Roman' (lmroman12-bold.otf) normal normal roman normal>) = 10.145\n",
      "2020-04-29 10:56:28,187 matplotlib.font_manager DEBUG    findfont: score(<Font 'Droid Sans Georgian' (DroidSansGeorgian.ttf) normal normal 400 normal>) = 10.05\n",
      "2020-04-29 10:56:28,187 matplotlib.font_manager DEBUG    findfont: score(<Font 'TeX Gyre Schola' (texgyreschola-italic.otf) italic normal 400 normal>) = 11.05\n",
      "2020-04-29 10:56:28,188 matplotlib.font_manager DEBUG    findfont: score(<Font 'TeX Gyre Schola Math' (texgyreschola-math.otf) normal normal regular normal>) = 10.05\n",
      "2020-04-29 10:56:28,188 matplotlib.font_manager DEBUG    findfont: score(<Font 'FreeMono' (FreeMonoOblique.ttf) oblique normal 400 normal>) = 11.05\n",
      "2020-04-29 10:56:28,189 matplotlib.font_manager DEBUG    findfont: score(<Font 'TeX Gyre Adventor' (texgyreadventor-bold.otf) normal normal bold normal>) = 10.335\n",
      "2020-04-29 10:56:28,189 matplotlib.font_manager DEBUG    findfont: score(<Font 'TeX Gyre Pagella' (texgyrepagella-italic.otf) italic normal 400 normal>) = 11.05\n",
      "2020-04-29 10:56:28,190 matplotlib.font_manager DEBUG    findfont: score(<Font 'Latin Modern Mono Caps' (lmmonocaps10-oblique.otf) oblique normal 400 normal>) = 11.05\n",
      "2020-04-29 10:56:28,190 matplotlib.font_manager DEBUG    findfont: score(<Font 'Latin Modern Mono Light Cond' (lmmonoltcond10-oblique.otf) oblique normal light condensed>) = 11.44\n",
      "2020-04-29 10:56:28,191 matplotlib.font_manager DEBUG    findfont: score(<Font 'Latin Modern Roman' (lmroman6-regular.otf) normal normal regular normal>) = 10.05\n",
      "2020-04-29 10:56:28,192 matplotlib.font_manager DEBUG    findfont: score(<Font 'Latin Modern Roman Slanted' (lmromanslant12-regular.otf) normal normal regular normal>) = 10.05\n",
      "2020-04-29 10:56:28,192 matplotlib.font_manager DEBUG    findfont: score(<Font 'Latin Modern Sans Quotation' (lmsansquot8-bold.otf) normal normal bold normal>) = 10.335\n",
      "2020-04-29 10:56:28,193 matplotlib.font_manager DEBUG    findfont: score(<Font 'Latin Modern Roman' (lmroman7-italic.otf) italic normal roman normal>) = 11.145\n",
      "2020-04-29 10:56:28,193 matplotlib.font_manager DEBUG    findfont: score(<Font 'Latin Modern Roman Demi' (lmromandemi10-oblique.otf) oblique normal roman normal>) = 11.145\n",
      "2020-04-29 10:56:28,194 matplotlib.font_manager DEBUG    findfont: score(<Font 'Latin Modern Roman Slanted' (lmromanslant17-regular.otf) normal normal regular normal>) = 10.05\n",
      "2020-04-29 10:56:28,194 matplotlib.font_manager DEBUG    findfont: score(<Font 'Liberation Serif' (LiberationSerif-Italic.ttf) italic normal 400 normal>) = 11.05\n"
     ]
    },
    {
     "name": "stderr",
     "output_type": "stream",
     "text": [
      "2020-04-29 10:56:28,195 matplotlib.font_manager DEBUG    findfont: score(<Font 'Liberation Serif' (LiberationSerif-Bold.ttf) normal normal bold normal>) = 10.335\n",
      "2020-04-29 10:56:28,195 matplotlib.font_manager DEBUG    findfont: score(<Font 'Latin Modern Roman' (lmroman12-regular.otf) normal normal regular normal>) = 10.05\n",
      "2020-04-29 10:56:28,196 matplotlib.font_manager DEBUG    findfont: score(<Font 'Latin Modern Roman' (lmroman7-regular.otf) normal normal regular normal>) = 10.05\n",
      "2020-04-29 10:56:28,197 matplotlib.font_manager DEBUG    findfont: score(<Font 'Liberation Sans Narrow' (LiberationSansNarrow-BoldItalic.ttf) italic normal bold condensed>) = 11.535\n",
      "2020-04-29 10:56:28,197 matplotlib.font_manager DEBUG    findfont: score(<Font 'Latin Modern Sans' (lmsans10-oblique.otf) oblique normal 400 normal>) = 11.05\n",
      "2020-04-29 10:56:28,198 matplotlib.font_manager DEBUG    findfont: score(<Font 'OpenSymbol' (opens___.ttf) normal normal 400 normal>) = 10.05\n",
      "2020-04-29 10:56:28,198 matplotlib.font_manager DEBUG    findfont: score(<Font 'TeX Gyre Bonum' (texgyrebonum-bolditalic.otf) italic normal bold normal>) = 11.335\n",
      "2020-04-29 10:56:28,199 matplotlib.font_manager DEBUG    findfont: score(<Font 'TeX Gyre Cursor' (texgyrecursor-regular.otf) normal normal 400 normal>) = 10.05\n",
      "2020-04-29 10:56:28,199 matplotlib.font_manager DEBUG    findfont: score(<Font 'Droid Sans Hebrew' (DroidSansHebrew-Bold.ttf) normal normal bold normal>) = 10.335\n",
      "2020-04-29 10:56:28,200 matplotlib.font_manager DEBUG    findfont: score(<Font 'Latin Modern Mono' (lmmono10-regular.otf) normal normal regular normal>) = 10.05\n",
      "2020-04-29 10:56:28,201 matplotlib.font_manager DEBUG    findfont: score(<Font 'Latin Modern Roman' (lmroman10-bolditalic.otf) italic normal roman normal>) = 11.145\n",
      "2020-04-29 10:56:28,201 matplotlib.font_manager DEBUG    findfont: score(<Font 'Droid Sans Fallback' (DroidSansFallbackFull.ttf) normal normal 400 normal>) = 10.05\n",
      "2020-04-29 10:56:28,202 matplotlib.font_manager DEBUG    findfont: score(<Font 'DejaVu Serif' (DejaVuSerifCondensed-BoldItalic.ttf) italic normal bold condensed>) = 11.535\n",
      "2020-04-29 10:56:28,202 matplotlib.font_manager DEBUG    findfont: score(<Font 'Latin Modern Roman' (lmroman10-italic.otf) italic normal roman normal>) = 11.145\n",
      "2020-04-29 10:56:28,203 matplotlib.font_manager DEBUG    findfont: score(<Font 'Latin Modern Mono' (lmmono8-regular.otf) normal normal regular normal>) = 10.05\n",
      "2020-04-29 10:56:28,203 matplotlib.font_manager DEBUG    findfont: score(<Font 'Latin Modern Mono Light' (lmmonolt10-bold.otf) normal normal light normal>) = 10.24\n",
      "2020-04-29 10:56:28,204 matplotlib.font_manager DEBUG    findfont: score(<Font 'FreeSans' (FreeSansBold.ttf) normal normal bold normal>) = 10.335\n",
      "2020-04-29 10:56:28,204 matplotlib.font_manager DEBUG    findfont: score(<Font 'Latin Modern Sans Demi Cond' (lmsansdemicond10-regular.otf) normal normal regular condensed>) = 10.25\n",
      "2020-04-29 10:56:28,205 matplotlib.font_manager DEBUG    findfont: score(<Font 'Droid Arabic Naskh' (DroidNaskh-Bold.ttf) normal normal bold normal>) = 10.335\n",
      "2020-04-29 10:56:28,205 matplotlib.font_manager DEBUG    findfont: score(<Font 'Latin Modern Sans' (lmsans8-regular.otf) normal normal regular normal>) = 10.05\n",
      "2020-04-29 10:56:28,206 matplotlib.font_manager DEBUG    findfont: score(<Font 'Droid Naskh Shift Alt' (DroidNaskhUI-Regular.ttf) normal normal 400 normal>) = 10.05\n",
      "2020-04-29 10:56:28,206 matplotlib.font_manager DEBUG    findfont: score(<Font 'Liberation Serif' (LiberationSerif-Regular.ttf) normal normal 400 normal>) = 10.05\n",
      "2020-04-29 10:56:28,207 matplotlib.font_manager DEBUG    findfont: score(<Font 'Latin Modern Roman' (lmroman6-bold.otf) normal normal roman normal>) = 10.145\n",
      "2020-04-29 10:56:28,208 matplotlib.font_manager DEBUG    findfont: score(<Font 'Latin Modern Mono Prop' (lmmonoprop10-oblique.otf) oblique normal 400 normal>) = 11.05\n",
      "2020-04-29 10:56:28,208 matplotlib.font_manager DEBUG    findfont: score(<Font 'TeX Gyre Cursor' (texgyrecursor-bold.otf) normal normal bold normal>) = 10.335\n",
      "2020-04-29 10:56:28,209 matplotlib.font_manager DEBUG    findfont: score(<Font 'Latin Modern Roman Caps' (lmromancaps10-regular.otf) normal normal regular normal>) = 10.05\n",
      "2020-04-29 10:56:28,209 matplotlib.font_manager DEBUG    findfont: score(<Font 'FreeMono' (FreeMono.ttf) normal normal 400 normal>) = 10.05\n",
      "2020-04-29 10:56:28,210 matplotlib.font_manager DEBUG    findfont: score(<Font 'TeX Gyre Heros Cn' (texgyreheroscn-bold.otf) normal normal bold normal>) = 10.335\n",
      "2020-04-29 10:56:28,210 matplotlib.font_manager DEBUG    findfont: score(<Font 'Liberation Sans' (LiberationSans-BoldItalic.ttf) italic normal bold normal>) = 11.335\n",
      "2020-04-29 10:56:28,211 matplotlib.font_manager DEBUG    findfont: score(<Font 'Latin Modern Roman Caps' (lmromancaps10-oblique.otf) oblique normal roman normal>) = 11.145\n",
      "2020-04-29 10:56:28,211 matplotlib.font_manager DEBUG    findfont: score(<Font 'Latin Modern Sans Quotation' (lmsansquot8-boldoblique.otf) oblique normal bold normal>) = 11.335\n",
      "2020-04-29 10:56:28,212 matplotlib.font_manager DEBUG    findfont: score(<Font 'Cantarell' (Cantarell-Regular.otf) normal normal regular normal>) = 10.05\n",
      "2020-04-29 10:56:28,212 matplotlib.font_manager DEBUG    findfont: score(<Font 'Droid Sans' (DroidSans-Bold.ttf) normal normal bold normal>) = 10.335\n",
      "2020-04-29 10:56:28,213 matplotlib.font_manager DEBUG    findfont: score(<Font 'Liberation Sans Narrow' (LiberationSansNarrow-Italic.ttf) italic normal 400 condensed>) = 11.25\n",
      "2020-04-29 10:56:28,214 matplotlib.font_manager DEBUG    findfont: score(<Font 'Latin Modern Roman' (lmroman7-bold.otf) normal normal roman normal>) = 10.145\n",
      "2020-04-29 10:56:28,214 matplotlib.font_manager DEBUG    findfont: score(<Font 'TeX Gyre Termes' (texgyretermes-regular.otf) normal normal 400 normal>) = 10.05\n",
      "2020-04-29 10:56:28,214 matplotlib.font_manager DEBUG    findfont: score(<Font 'Latin Modern Mono Caps' (lmmonocaps10-regular.otf) normal normal regular normal>) = 10.05\n",
      "2020-04-29 10:56:28,215 matplotlib.font_manager DEBUG    findfont: score(<Font 'Liberation Serif' (LiberationSerif-BoldItalic.ttf) italic normal bold normal>) = 11.335\n",
      "2020-04-29 10:56:28,215 matplotlib.font_manager DEBUG    findfont: score(<Font 'Droid Sans Mono' (DroidSansMono.ttf) normal normal 400 normal>) = 10.05\n",
      "2020-04-29 10:56:28,215 matplotlib.font_manager DEBUG    findfont: score(<Font 'Latin Modern Mono Light' (lmmonolt10-oblique.otf) oblique normal light normal>) = 11.24\n",
      "2020-04-29 10:56:28,216 matplotlib.font_manager DEBUG    findfont: score(<Font 'Latin Modern Mono Prop Light' (lmmonoproplt10-boldoblique.otf) oblique normal light normal>) = 11.24\n",
      "2020-04-29 10:56:28,222 matplotlib.font_manager DEBUG    findfont: score(<Font 'Droid Sans Ethiopic' (DroidSansEthiopic-Bold.ttf) normal normal bold normal>) = 10.335\n",
      "2020-04-29 10:56:28,223 matplotlib.font_manager DEBUG    findfont: score(<Font 'TeX Gyre Bonum Math' (texgyrebonum-math.otf) normal normal regular normal>) = 10.05\n",
      "2020-04-29 10:56:28,223 matplotlib.font_manager DEBUG    findfont: score(<Font 'TeX Gyre Termes' (texgyretermes-bold.otf) normal normal bold normal>) = 10.335\n",
      "2020-04-29 10:56:28,224 matplotlib.font_manager DEBUG    findfont: score(<Font 'Latin Modern Mono Slanted' (lmmonoslant10-regular.otf) normal normal regular normal>) = 10.05\n",
      "2020-04-29 10:56:28,224 matplotlib.font_manager DEBUG    findfont: score(<Font 'TeX Gyre Schola' (texgyreschola-regular.otf) normal normal 400 normal>) = 10.05\n",
      "2020-04-29 10:56:28,224 matplotlib.font_manager DEBUG    findfont: score(<Font 'TeX Gyre Adventor' (texgyreadventor-italic.otf) italic normal 400 normal>) = 11.05\n",
      "2020-04-29 10:56:28,225 matplotlib.font_manager DEBUG    findfont: score(<Font 'Droid Arabic Naskh' (DroidNaskh-Regular.ttf) normal normal 400 normal>) = 10.05\n",
      "2020-04-29 10:56:28,225 matplotlib.font_manager DEBUG    findfont: score(<Font 'Latin Modern Sans' (lmsans9-oblique.otf) oblique normal 400 normal>) = 11.05\n",
      "2020-04-29 10:56:28,226 matplotlib.font_manager DEBUG    findfont: score(<Font 'TeX Gyre Cursor' (texgyrecursor-bolditalic.otf) italic normal bold normal>) = 11.335\n",
      "2020-04-29 10:56:28,226 matplotlib.font_manager DEBUG    findfont: score(<Font 'FreeSerif' (FreeSerifBold.ttf) normal normal bold normal>) = 10.335\n"
     ]
    },
    {
     "name": "stderr",
     "output_type": "stream",
     "text": [
      "2020-04-29 10:56:28,226 matplotlib.font_manager DEBUG    findfont: score(<Font 'Liberation Mono' (LiberationMono-Bold.ttf) normal normal bold normal>) = 10.335\n",
      "2020-04-29 10:56:28,227 matplotlib.font_manager DEBUG    findfont: score(<Font 'Latin Modern Sans Demi Cond' (lmsansdemicond10-oblique.otf) oblique normal demi condensed>) = 11.44\n",
      "2020-04-29 10:56:28,227 matplotlib.font_manager DEBUG    findfont: score(<Font 'TeX Gyre Termes' (texgyretermes-italic.otf) italic normal 400 normal>) = 11.05\n",
      "2020-04-29 10:56:28,227 matplotlib.font_manager DEBUG    findfont: score(<Font 'TeX Gyre Chorus' (texgyrechorus-mediumitalic.otf) normal normal 400 normal>) = 10.05\n",
      "2020-04-29 10:56:28,228 matplotlib.font_manager DEBUG    findfont: Matching :family=sans-serif:style=normal:variant=normal:weight=normal:stretch=normal:size=10.0 to DejaVu Sans ('/home/earneodo/anaconda3/envs/py36/lib/python3.6/site-packages/matplotlib/mpl-data/fonts/ttf/DejaVuSans.ttf') with score of 0.050000.\n"
     ]
    },
    {
     "data": {
      "image/png": "[encoded data removed]",
      "text/plain": [
       "<Figure size 432x288 with 1 Axes>"
      ]
     },
     "metadata": {
      "needs_background": "light"
     },
     "output_type": "display_data"
    }
   ],
   "source": [
    "sys_pars = {'alpha_1': 0.15,\n",
    "            'beta_1': 0.15,\n",
    "            'alpha_2': 0.15,\n",
    "            'beta_2': 0.15,\n",
    "            'gamma': 23500.,\n",
    "            'Ch_inv': 4.5E10,\n",
    "            'Lb_inv': 1.E-4,\n",
    "            'Lg_inv': 1/82.,\n",
    "            'Rb': 5E6,\n",
    "            'Rh': 6E5,\n",
    "            'V_ext': 0.,\n",
    "            'dV_ext': 0.,\n",
    "            'noise': 0.,\n",
    "            'envelope': 0.,\n",
    "            'noise_fraction_beta_1': 0.1,\n",
    "            'noise_fraction_env': 0.1,\n",
    "            's_f': 44100.,\n",
    "            'steps_per_sample': 20\n",
    "            }\n",
    "\n",
    "vocal_pars = {'sys': sys_pars,\n",
    "              'S_1': 0.2,\n",
    "              'S_2': 0.2,\n",
    "              'S_3': 0.2,\n",
    "              'l_1': 1.5,\n",
    "              'l_2': 1.5,\n",
    "              'l_3': 1.0,\n",
    "              'r_out': 0.1,\n",
    "              'r_12': None,\n",
    "              'r_21': None,\n",
    "              'r_23': None,\n",
    "              'r_32': None,\n",
    "              't_12': None,\n",
    "              't_21': None,\n",
    "              't_23': None,\n",
    "              't_32': None,\n",
    "              't_in': 0.5,\n",
    "              'tau_1': None,\n",
    "              'tau_2': None,\n",
    "              'tau_3': None,\n",
    "              'max_tau': None,\n",
    "              'A_1': 0.,\n",
    "              'A_2': None,\n",
    "              'A_3': None}\n",
    "\n",
    "#lines, ab_g= tk.cusp_grid()\n",
    "lines, ab_g = tk.cusp_grid(b_max=0.07, b_min=-1/3 , a_step=1E-3, b_steps=500, b_log_step_exp=5, f_max=None)\n",
    "plt.plot(lines[:,1], lines[:,0])\n",
    "plt.plot(lines[:,2], lines[:,0])\n",
    "plt.plot(ab_g[:,0], ab_g[:,1], '.')"
   ]
  },
  {
   "cell_type": "markdown",
   "metadata": {},
   "source": [
    "### Same, but for a region that is wider in the beta parameter \n",
    "(beta controls more directly the fundamental frequency)"
   ]
  },
  {
   "cell_type": "code",
   "execution_count": 3,
   "metadata": {},
   "outputs": [
    {
     "data": {
      "image/png": "[encoded data removed]",
      "text/plain": [
       "<Figure size 432x288 with 1 Axes>"
      ]
     },
     "metadata": {
      "needs_background": "light"
     },
     "output_type": "display_data"
    }
   ],
   "source": [
    "# upper line\n",
    "plt.plot(lines[:,1], lines[:,0])\n",
    "# lower line\n",
    "plt.plot(lines[:,2], lines[:,0])\n",
    "#get values that are a<0, b<lowerline\n",
    "\n",
    "def cusp_grid(b_span, b_steps, a_max=-.08, a_min=-0.16, a_step=1e-3, b_log_step_exp=2):\n",
    "    lines = tk.cusp_lines(step=a_step)\n",
    "    b_sweep = np.logspace(0, b_log_step_exp, b_steps) * b_span  / (10 ** (b_log_step_exp))\n",
    "    ab_grid = []\n",
    "    for a in np.linspace(a_max, a_min, int(abs(a_max - a_min)/a_step)):\n",
    "        b_m = lines[np.where(lines[:,2] < a)[0][0], 0]\n",
    "        for b in b_sweep:\n",
    "            ab_grid.append([a, b_m - b])\n",
    "        \n",
    "    return b_sweep, np.array(ab_grid)\n",
    "        \n",
    "l, abg = cusp_grid(2.5, 2000)\n",
    "plt.plot(np.array(abg)[:,0], np.array(abg)[:,1], '*');"
   ]
  },
  {
   "cell_type": "code",
   "execution_count": 4,
   "metadata": {},
   "outputs": [
    {
     "data": {
      "text/plain": [
       "(160000, 2)"
      ]
     },
     "execution_count": 4,
     "metadata": {},
     "output_type": "execute_result"
    }
   ],
   "source": [
    "abg.shape"
   ]
  },
  {
   "cell_type": "markdown",
   "metadata": {},
   "source": [
    "### Pick one pair a, b and make a synthetic song segment"
   ]
  },
  {
   "cell_type": "code",
   "execution_count": 5,
   "metadata": {},
   "outputs": [],
   "source": [
    "alpha = -0.15\n",
    "beta = -1.5\n",
    "\n",
    "sim_pars = {'gamma': 23500,\n",
    "            'alpha':alpha,\n",
    "            'beta': beta,\n",
    "            'vocal_pars': vocal_pars,\n",
    "            'sim_samples': 3300,\n",
    "            's_f': 33000.,\n",
    "            'steps_per_sample': 20,\n",
    "            'x_0': np.array([5.E-12, 1.E-11, 1.E-12, 1.E-11, 1.E-12])\n",
    "           }\n",
    "\n",
    "\n",
    "alpha_values = sim_pars['alpha'] * np.ones(sim_pars['sim_samples'])\n",
    "beta_values = sim_pars['beta'] * np.ones(sim_pars['sim_samples'])\n",
    "env_values = np.ones(sim_pars['sim_samples'])*100\n",
    "par_stream = np.array([alpha_values, beta_values, env_values]).T\n",
    "for key in ['alpha', 'beta', 'gamma', 's_f', 'steps_per_sample']:\n",
    "    vocal_pars['sys'][key] = sim_pars[key]\n",
    "song_synth = zf.finch(vocal_pars, par_stream, x_0=sim_pars['x_0'])"
   ]
  },
  {
   "cell_type": "code",
   "execution_count": 7,
   "metadata": {},
   "outputs": [
    {
     "data": {
      "text/plain": [
       "[<matplotlib.lines.Line2D at 0x7f7c8cd997f0>]"
      ]
     },
     "execution_count": 7,
     "metadata": {},
     "output_type": "execute_result"
    },
    {
     "data": {
      "image/png": "[encoded data removed]",
      "text/plain": [
       "<Figure size 432x288 with 1 Axes>"
      ]
     },
     "metadata": {
      "needs_background": "light"
     },
     "output_type": "display_data"
    }
   ],
   "source": [
    "plt.plot(song_synth[:200, 1])"
   ]
  },
  {
   "cell_type": "code",
   "execution_count": 11,
   "metadata": {},
   "outputs": [
    {
     "data": {
      "text/plain": [
       "[<matplotlib.lines.Line2D at 0x7f7c89eb8b38>]"
      ]
     },
     "execution_count": 11,
     "metadata": {},
     "output_type": "execute_result"
    },
    {
     "data": {
      "image/png": "[encoded data removed]",
      "text/plain": [
       "<Figure size 432x288 with 1 Axes>"
      ]
     },
     "metadata": {
      "needs_background": "light"
     },
     "output_type": "display_data"
    }
   ],
   "source": [
    "par_stream[300:1000, 0] = 0.15\n",
    "par_stream[300:1000, 1] = 0\n",
    "\n",
    "song_synth = zf.finch(vocal_pars, par_stream, x_0=sim_pars['x_0'])\n",
    "plt.plot(song_synth[:2000, 1])"
   ]
  },
  {
   "cell_type": "code",
   "execution_count": 18,
   "metadata": {},
   "outputs": [
    {
     "data": {
      "text/plain": [
       "(3300, 2)"
      ]
     },
     "execution_count": 18,
     "metadata": {},
     "output_type": "execute_result"
    }
   ],
   "source": [
    "song_synth.shape"
   ]
  },
  {
   "cell_type": "code",
   "execution_count": 19,
   "metadata": {},
   "outputs": [
    {
     "data": {
      "text/plain": [
       "[<matplotlib.lines.Line2D at 0x7fec44713748>]"
      ]
     },
     "execution_count": 19,
     "metadata": {},
     "output_type": "execute_result"
    },
    {
     "data": {
      "image/png": "[encoded data removed]",
      "text/plain": [
       "<Figure size 432x288 with 1 Axes>"
      ]
     },
     "metadata": {
      "needs_background": "light"
     },
     "output_type": "display_data"
    }
   ],
   "source": [
    "plt.plot(song_synth[:500,1])"
   ]
  },
  {
   "cell_type": "code",
   "execution_count": 20,
   "metadata": {},
   "outputs": [
    {
     "data": {
      "image/png": "[encoded data removed]",
      "text/plain": [
       "<Figure size 432x288 with 1 Axes>"
      ]
     },
     "metadata": {
      "needs_background": "light"
     },
     "output_type": "display_data"
    }
   ],
   "source": [
    "plt.plot(par_stream);"
   ]
  },
  {
   "cell_type": "markdown",
   "metadata": {},
   "source": [
    "## Run parallel integration of the model\n",
    " - All parameters are fixed but the apha/beta\n",
    " - Runs many threads, each to a different h5 file, and then merges them onto a single file"
   ]
  },
  {
   "cell_type": "code",
   "execution_count": 120,
   "metadata": {
    "collapsed": true
   },
   "outputs": [],
   "source": [
    "sweep_name = 'sweep_001'\n",
    "sweep_file_path = os.path.join(es.file_names('')['folders']['tmp'], 'syn_sweeps', 'finch_00.h5')\n",
    "\n",
    "sim_pars = {'sweep_name' : sweep_name,\n",
    "            'gamma': 23500,\n",
    "            'alpha': 0.,\n",
    "            'beta': 0.,\n",
    "            'vocal_pars': vocal_pars,\n",
    "            'sim_samples': 4410,\n",
    "            's_f': 44100.,\n",
    "            'steps_per_sample': 20,\n",
    "            'x_0': np.array([5.E-12, 1.E-11, 1.E-12, 1.E-11, 1.E-12])\n",
    "           }\n",
    "\n",
    "#s.mkdir_p(os.path.split(h5_path)[0])\n",
    "\n",
    "\n",
    "@h5tools.h5_decorator(leave_open=False)\n",
    "def sweep_to_file(h5_path, ab_list, sim_pars, mode='x'):\n",
    "    logger.info('Sweeping {0} values of alpha, beta with g={1} to file {2}'.format(\n",
    "            ab_list.shape[0], sim_pars['gamma'], h5_path))\n",
    "    try:\n",
    "        total_sim = ab_list.shape[0]\n",
    "        count = 0\n",
    "        round_count = 0\n",
    "        \n",
    "        for sim_pars['alpha'], sim_pars['beta'] in np.nditer([ab_list[:,0], ab_list[:,1]]):\n",
    "            if round_count==0:\n",
    "                logger.info('Simulating {0}/{1} with {0}, {1}'.format(count,\n",
    "                                                                  total_sim, \n",
    "                                                                  sim_pars['alpha'],\n",
    "                                                                  sim_pars['beta']))\n",
    "                round_count = 50\n",
    "                count+=50\n",
    "            sim_and_store(sim_pars, h5_path)\n",
    "            round_count-=1\n",
    "        logger.info('Sweep done successfully')\n",
    "    except UnboundLocalError, err:\n",
    "        last_err = err\n",
    "        logger.error(err)\n",
    "\n",
    "# An attempt to run in parallel and write to the same file.\n",
    "# Failed; h5 doesn't play well with mpi.\n",
    "        \n",
    "# def parallel_sweep(h5_path, ab_list, sim_pars, mode='x', threads=1):\n",
    "#     es.mkdir_p(os.path.split(h5_path)[0])\n",
    "#     logger.info('Sweeping {0} values of alpha, beta with g={1} to file {2} in {3} threads'.format(\n",
    "#             ab_list.shape[0], sim_pars['gamma'], h5_path, threads))\n",
    "#     try:\n",
    "#         sweep_threads = []\n",
    "#         f = h5py.File(h5_path, mode, driver='mpio', comm=MPI.COMM_WORLD)\n",
    "#         for chunk in chunkify(range(ab_list.shape[0]), threads):\n",
    "#             a_sweep = td.threadedFunction(args=(sweep_to_file,\n",
    "#                                                 f,\n",
    "#                                                 ab_list[chunk, :],\n",
    "#                                                 sim_pars))\n",
    "#             a_sweep.start()\n",
    "#             sweep_threads.append(a_sweep)\n",
    "#         logger.info('Parallel sweep done successfully')\n",
    "#     except UnboundLocalError, err:\n",
    "#         f.close()\n",
    "#         last_err = err\n",
    "#         logger.error(err)\n",
    "        \n",
    "def parallel_files_sweep(h5_path, ab_list, sim_pars, mode='x', threads=1):\n",
    "    file_path = os.path.split(h5_path)[0]\n",
    "    file_name = os.path.split(h5_path)[-1]\n",
    "    \n",
    "    es.mkdir_p(file_path)\n",
    "    logger.info('Sweeping {0} values of alpha, beta with g={1} to file {2} in {3} threads'.format(\n",
    "            ab_list.shape[0], sim_pars['gamma'], h5_path, threads))\n",
    "    try:\n",
    "        sweep_threads = []\n",
    "        sim_pars_base = []\n",
    "        for i_chunk, chunk in enumerate(chunkify(range(ab_list.shape[0]), threads)):\n",
    "            f_chunk_path = os.path.join(file_path, file_name + '.{}'.format(i_chunk))\n",
    "            sim_pars_base.append(copy.deepcopy(sim_pars))\n",
    "            a_sweep = td.threadedFunction(args=(sweep_to_file,\n",
    "                                                f_chunk_path,\n",
    "                                                ab_list[chunk, :],\n",
    "                                                sim_pars_base[i_chunk]),\n",
    "                                         kwargs = {'mode':mode})\n",
    "            a_sweep.start()\n",
    "            sweep_threads.append(a_sweep)\n",
    "        logger.info('Parallel sweep done successfully')\n",
    "    except UnboundLocalError, err:\n",
    "        f.close()\n",
    "        last_err = err\n",
    "        logger.error(err)\n",
    "    \n",
    "\n",
    "par_list = np.array([np.linspace(-.15, -.3, 2), np.linspace(0, -.5, 2)]).T\n",
    "#sweep_to_file(sweep_file_path, ab_g, sim_pars, mode='a')\n",
    "#parallel_sweep(sweep_file_path, ab_g, sim_pars, mode='a')\n"
   ]
  },
  {
   "cell_type": "code",
   "execution_count": 121,
   "metadata": {
    "collapsed": true
   },
   "outputs": [],
   "source": [
    "log_path = os.path.split(sweep_file_path)[0]\n",
    "log_file = os.path.split(sweep_file_path)[1].split('.')[0] + '.log'\n",
    "log_file_path = os.path.join(log_path, log_file)\n",
    "\n",
    "\n",
    "#handler = logging.StreamHandler()\n",
    "handler = logging.FileHandler(log_file_path)\n",
    "formatter = logging.Formatter(\n",
    "        '%(asctime)s %(name)-12s %(levelname)-8s (%(threadName)-10s) %(message)s')\n",
    "handler.setFormatter(formatter)\n",
    "logger.addHandler(handler)\n",
    "logger.setLevel(logging.INFO)"
   ]
  },
  {
   "cell_type": "code",
   "execution_count": 122,
   "metadata": {},
   "outputs": [
    {
     "name": "stderr",
     "output_type": "stream",
     "text": [
      "Process threadedFunction-1:\n"
     ]
    }
   ],
   "source": [
    "parallel_files_sweep(sweep_file_path, abg, sim_pars, mode='a', threads=6)"
   ]
  },
  {
   "cell_type": "code",
   "execution_count": 5,
   "metadata": {},
   "outputs": [
    {
     "name": "stderr",
     "output_type": "stream",
     "text": [
      "2016-10-20 10:46:44,975 simulate     DEBUG    tu vieja\n"
     ]
    }
   ],
   "source": [
    "logger.debug('tu vieja')"
   ]
  },
  {
   "cell_type": "code",
   "execution_count": 46,
   "metadata": {
    "collapsed": true
   },
   "outputs": [
    {
     "name": "stderr",
     "output_type": "stream",
     "text": [
      "2016-10-19 18:30:35,424 h5tools      INFO     Starting function file_checker in thread Thread-25\n",
      "2016-10-19 18:30:35,429 h5tools      DEBUG    leave open False\n",
      "2016-10-19 18:30:35,431 h5tools      DEBUG    mode r\n"
     ]
    },
    {
     "name": "stdout",
     "output_type": "stream",
     "text": [
      "<HDF5 file \"finch_02.h5\" (mode r+)>\n",
      "[[-0.15  0.  ]\n",
      " [-0.3  -0.5 ]]\n",
      "{'beta': array(0.0), 'vocal_pars': {'S_1': 0.2, 'S_3': 0.2, 'S_2': 0.2, 't_21': 1.0, 't_23': 1.0, 'r_12': 0.0, 'r_out': 0.1, 'r_32': 0.0, 'l_2': 1.5, 'l_3': 1.0, 'l_1': 1.5, 'A_3': None, 'A_2': None, 'A_1': 0.96862672249878645, 't_in': 0.5, 'r_23': 0.0, 'r_21': 0.0, 'sys': {'beta_1': -0.41897052472084306, 'V_ext': 5362.0835480047654, 'beta_2': 0.15, 'dV_ext': 701095026.98225522, 'noise_fraction_beta_1': 0.1, 'Rh': 600000.0, 's_f': 44100.0, 'envelope': 1.0, 'beta': array(-0.5), 'noise_fraction_env': 0.1, 'steps_per_sample': 20, 'noise': array([-0.31373278, -1.62058951]), 'alpha_2': 0.15, 'Rb': 5000000.0, 'alpha_1': -0.29999999999999999, 'alpha': array(-0.3), 'Ch_inv': 45000000000.0, 'Lb_inv': 0.0001, 'Lg_inv': 0.012195121951219513, 'gamma': 23500}, 't_32': 1.0, 't_12': 1.0, 'tau_2': 37, 'tau_3': 25, 'max_tau': 37, 'tau_1': 37}, 'x_0': array([  5.00000000e-12,   1.00000000e-11,   1.00000000e-12,\n",
      "         1.00000000e-11,   1.00000000e-12]), 's_f': 44100.0, 'sweep_name': 'sweep_000', 'alpha': array(-0.15), 'steps_per_sample': 20, 'sim_samples': 4410, 'gamma': 23500}\n"
     ]
    },
    {
     "name": "stderr",
     "output_type": "stream",
     "text": [
      "2016-10-19 18:30:35,434 root         INFO     Sweeping 2 values of alpha, beta with g=23500 to file <HDF5 file \"finch_02.h5\" (mode r+)>\n",
      "2016-10-19 18:30:35,436 root         INFO     Simulating with -0.15, 0.0\n",
      "2016-10-19 18:30:35,439 h5tools      DEBUG    Translating dictionary key vocal_pars into its own group\n",
      "2016-10-19 18:30:35,445 h5tools      DEBUG    Translating dictionary key sys into its own group\n",
      "2016-10-19 18:30:35,453 tables       INFO     Creating unbounded table /sweep_000/synth/23500 in group alpha_beta\n",
      "2016-10-19 18:30:39,039 tables       INFO     Creating unbounded table /sweep_000/synth/23500 in group pre_in\n",
      "2016-10-19 18:30:39,040 tables       INFO     Creating unbounded table /sweep_000/synth/23500 in group pre_out\n",
      "2016-10-19 18:30:39,042 root         INFO     Simulating with -0.3, -0.5\n",
      "2016-10-19 18:30:39,042 h5tools      DEBUG    Translating dictionary key vocal_pars into its own group\n",
      "2016-10-19 18:30:39,043 h5tools      DEBUG    Unable to create group (Name already exists)\n",
      "2016-10-19 18:30:39,044 h5tools      WARNING  Group vocal_pars already exists; skipping\n",
      "2016-10-19 18:30:39,044 tables       INFO     Creating unbounded table /sweep_000/synth/23500 in group alpha_beta\n",
      "2016-10-19 18:30:39,045 tables       DEBUG    Table alpha_beta already exists, appending the data\n",
      "2016-10-19 18:30:42,431 tables       INFO     Creating unbounded table /sweep_000/synth/23500 in group pre_in\n",
      "2016-10-19 18:30:42,433 tables       DEBUG    Table pre_in already exists, appending the data\n",
      "2016-10-19 18:30:42,434 tables       INFO     Creating unbounded table /sweep_000/synth/23500 in group pre_out\n",
      "2016-10-19 18:30:42,435 tables       DEBUG    Table pre_out already exists, appending the data\n",
      "2016-10-19 18:30:42,437 root         INFO     Sweep done successfully\n",
      "2016-10-19 18:30:42,437 h5tools      INFO     done thread Thread-25\n"
     ]
    }
   ],
   "source": [
    "sweep_file_path = os.path.join(es.file_names('')['folders']['tmp'], 'syn_sweeps', 'finch_02.h5')\n",
    "\n",
    "#with h5py.File(sweep_file_path, 'a', driver='mpio', comm=MPI.COMM_WORLD) as sweep_file:\n",
    "    \n",
    "sweep_file = h5py.File(sweep_file_path, 'a', driver='mpio', comm=MPI.COMM_WORLD)\n",
    "threaded_sweep = td.threadedFunction(args=(sweep_to_file, sweep_file, par_list, sim_pars))\n",
    "threaded_sweep.start()"
   ]
  },
  {
   "cell_type": "code",
   "execution_count": 5,
   "metadata": {},
   "outputs": [
    {
     "data": {
      "text/plain": [
       "{'kai': '/mnt/cube/kai/results/',\n",
       " 'prb': '/mnt/cube/earneodo/bci_zf/probes',\n",
       " 'raw': '/usr/local/experiment/raw_data/',\n",
       " 'rw': '/mnt/cube/earneodo/bci_zf/raw_data/',\n",
       " 'ss': '/mnt/cube/earneodo/bci_zf/ss_data/',\n",
       " 'stim': '/mnt/cube/earneodo/bci_zf/stim_data/',\n",
       " 'templ': '/mnt/cube/earneodo/bci_zf/templates',\n",
       " 'tmp': '/usr/local/experiment/tmp_data/'}"
      ]
     },
     "execution_count": 5,
     "metadata": {},
     "output_type": "execute_result"
    }
   ],
   "source": [
    "es.file_names('')['folders']"
   ]
  },
  {
   "cell_type": "code",
   "execution_count": 12,
   "metadata": {},
   "outputs": [
    {
     "name": "stdout",
     "output_type": "stream",
     "text": [
      "0\n",
      "1\n"
     ]
    }
   ],
   "source": [
    "for i_chunk, chunk in enumerate(chunkify(range(ab_g.shape[0]), 2)):\n",
    "    print i_chunk\n",
    "    #f_chunk_path = os.path.join(file_path, file_name + '.{}'.i_chunk)"
   ]
  },
  {
   "cell_type": "code",
   "execution_count": 10,
   "metadata": {},
   "outputs": [
    {
     "data": {
      "text/plain": [
       "19937.5"
      ]
     },
     "execution_count": 10,
     "metadata": {},
     "output_type": "execute_result"
    }
   ],
   "source": [
    "ab_g.shape[0]/8"
   ]
  },
  {
   "cell_type": "code",
   "execution_count": null,
   "metadata": {
    "collapsed": true
   },
   "outputs": [],
   "source": []
  }
 ],
 "metadata": {
  "anaconda-cloud": {},
  "kernelspec": {
   "display_name": "Py36-tf",
   "language": "python",
   "name": "py36"
  },
  "language_info": {
   "codemirror_mode": {
    "name": "ipython",
    "version": 3
   },
   "file_extension": ".py",
   "mimetype": "text/x-python",
   "name": "python",
   "nbconvert_exporter": "python",
   "pygments_lexer": "ipython3",
   "version": "3.6.10"
  }
 },
 "nbformat": 4,
 "nbformat_minor": 1
}
