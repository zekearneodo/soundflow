{
 "cells": [
  {
   "cell_type": "code",
   "execution_count": 1,
   "metadata": {
    "collapsed": true
   },
   "outputs": [],
   "source": [
    "%matplotlib inline\n",
    "from __future__ import division\n",
    "from scipy import signal as sg\n",
    "from scipy.io import wavfile\n",
    "import glob\n",
    "import os\n",
    "from tqdm import tqdm\n",
    "import numpy as np\n",
    "import pandas as pd\n",
    "import matplotlib.pyplot as plt"
   ]
  },
  {
   "cell_type": "code",
   "execution_count": 2,
   "metadata": {},
   "outputs": [
    {
     "name": "stderr",
     "output_type": "stream",
     "text": [
      "\r",
      "  0%|          | 0/86 [00:00<?, ?it/s]"
     ]
    },
    {
     "name": "stdout",
     "output_type": "stream",
     "text": [
      "Bad file /mnt/cube/earneodo/decoding/other_birds/WH62.wav\n"
     ]
    },
    {
     "name": "stderr",
     "output_type": "stream",
     "text": [
      " 26%|██▌       | 22/86 [03:42<03:44,  3.51s/it] "
     ]
    },
    {
     "name": "stdout",
     "output_type": "stream",
     "text": [
      "Bad file /mnt/cube/earneodo/decoding/other_birds/WH-DG DG825.wav\n"
     ]
    },
    {
     "name": "stderr",
     "output_type": "stream",
     "text": [
      " 44%|████▍     | 38/86 [03:56<01:22,  1.72s/it]"
     ]
    },
    {
     "name": "stdout",
     "output_type": "stream",
     "text": [
      "Bad file /mnt/cube/earneodo/decoding/other_birds/WH27 LG147.wav\n"
     ]
    },
    {
     "name": "stderr",
     "output_type": "stream",
     "text": [
      " 63%|██████▎   | 54/86 [04:25<02:09,  4.05s/it]"
     ]
    },
    {
     "name": "stdout",
     "output_type": "stream",
     "text": [
      "Bad file /mnt/cube/earneodo/decoding/other_birds/Y46 DB837.wav\n"
     ]
    },
    {
     "name": "stderr",
     "output_type": "stream",
     "text": [
      " 79%|███████▉  | 68/86 [07:10<11:47, 39.32s/it]"
     ]
    },
    {
     "name": "stdout",
     "output_type": "stream",
     "text": [
      "Bad file /mnt/cube/earneodo/decoding/other_birds/WH-R PK967.wav\n"
     ]
    },
    {
     "name": "stderr",
     "output_type": "stream",
     "text": [
      "100%|██████████| 86/86 [08:59<00:00,  6.28s/it]\n"
     ]
    }
   ],
   "source": [
    "wavs_folder = '/mnt/cube/earneodo/decoding/other_birds'\n",
    "\n",
    "def resample_wav(wave_in, in_sf, out_sf):\n",
    "    if int(in_sf) == int(out_sf):\n",
    "        wave_out = wave_in\n",
    "    else:\n",
    "        new_len = int(round(wave_in.shape[0] * out_sf / in_sf))\n",
    "        wave_out = sg.resample(wave_in, new_len)\n",
    "    return wave_out\n",
    "\n",
    "def load_all_wavs(folder, s_f=None):\n",
    "    f_list = glob.glob(os.path.join(wavs_folder, '*.wav'))\n",
    "    all_wavs = []\n",
    "    #logger.info('loading waves')\n",
    "    for f in tqdm(f_list, total=len(f_list)):\n",
    "        try:\n",
    "            one_wav = wavfile.read(f)\n",
    "            if s_f:\n",
    "                x = resample_wav(one_wav[1].astype(np.float), one_wav[0], s_f)\n",
    "            else:\n",
    "                x = one_wav[1].astype(np.float)\n",
    "                s_f = one_wav[0]\n",
    "            all_wavs.append( (os.path.split(f)[1].split('.')[0], s_f, x))\n",
    "        except:\n",
    "            print('Bad file {}'.format(f))\n",
    "        \n",
    "    return pd.DataFrame(all_wavs, columns=['m_id', 's_f', 'x'])\n",
    "\n",
    "aw = load_all_wavs(wavs_folder, s_f=30000)\n",
    "\n",
    "aw.to_pickle(os.path.join('/mnt/cube/earneodo/bci_zf/stim_data/z_000', 'more_bird_mot_30khz.pickle'))\n"
   ]
  },
  {
   "cell_type": "code",
   "execution_count": 3,
   "metadata": {},
   "outputs": [
    {
     "data": {
      "text/plain": [
       "[<matplotlib.lines.Line2D at 0x7f9069254208>]"
      ]
     },
     "execution_count": 3,
     "metadata": {},
     "output_type": "execute_result"
    },
    {
     "data": {
      "image/png": "[encoded data removed]",
      "text/plain": [
       "<matplotlib.figure.Figure at 0x7f9069ccac88>"
      ]
     },
     "metadata": {},
     "output_type": "display_data"
    }
   ],
   "source": [
    "x = aw.x.tolist()[40]\n",
    "plt.plot(x)"
   ]
  },
  {
   "cell_type": "code",
   "execution_count": 4,
   "metadata": {},
   "outputs": [
    {
     "data": {
      "text/html": [
       "<div>\n",
       "<style>\n",
       "    .dataframe thead tr:only-child th {\n",
       "        text-align: right;\n",
       "    }\n",
       "\n",
       "    .dataframe thead th {\n",
       "        text-align: left;\n",
       "    }\n",
       "\n",
       "    .dataframe tbody tr th {\n",
       "        vertical-align: top;\n",
       "    }\n",
       "</style>\n",
       "<table border=\"1\" class=\"dataframe\">\n",
       "  <thead>\n",
       "    <tr style=\"text-align: right;\">\n",
       "      <th></th>\n",
       "      <th>m_id</th>\n",
       "      <th>s_f</th>\n",
       "      <th>x</th>\n",
       "    </tr>\n",
       "  </thead>\n",
       "  <tbody>\n",
       "    <tr>\n",
       "      <th>0</th>\n",
       "      <td>z029</td>\n",
       "      <td>30000</td>\n",
       "      <td>[-1125.5540432133887, 222.1629593874052, -296....</td>\n",
       "    </tr>\n",
       "    <tr>\n",
       "      <th>1</th>\n",
       "      <td>PK111 PK112</td>\n",
       "      <td>30000</td>\n",
       "      <td>[127.0617696650341, -65.56386581314155, 87.800...</td>\n",
       "    </tr>\n",
       "    <tr>\n",
       "      <th>2</th>\n",
       "      <td>z052</td>\n",
       "      <td>30000</td>\n",
       "      <td>[-34.173258502382666, -17.277507849836343, -7....</td>\n",
       "    </tr>\n",
       "    <tr>\n",
       "      <th>3</th>\n",
       "      <td>R-LG PK192</td>\n",
       "      <td>30000</td>\n",
       "      <td>[93.563273774888, 197.9805349979143, 155.99816...</td>\n",
       "    </tr>\n",
       "    <tr>\n",
       "      <th>4</th>\n",
       "      <td>LG69</td>\n",
       "      <td>30000</td>\n",
       "      <td>[-63.254691180509504, -38.552025731351094, -39...</td>\n",
       "    </tr>\n",
       "  </tbody>\n",
       "</table>\n",
       "</div>"
      ],
      "text/plain": [
       "          m_id    s_f                                                  x\n",
       "0         z029  30000  [-1125.5540432133887, 222.1629593874052, -296....\n",
       "1  PK111 PK112  30000  [127.0617696650341, -65.56386581314155, 87.800...\n",
       "2         z052  30000  [-34.173258502382666, -17.277507849836343, -7....\n",
       "3   R-LG PK192  30000  [93.563273774888, 197.9805349979143, 155.99816...\n",
       "4         LG69  30000  [-63.254691180509504, -38.552025731351094, -39..."
      ]
     },
     "execution_count": 4,
     "metadata": {},
     "output_type": "execute_result"
    }
   ],
   "source": [
    "aw.head()"
   ]
  },
  {
   "cell_type": "code",
   "execution_count": 5,
   "metadata": {
    "collapsed": true
   },
   "outputs": [],
   "source": [
    "import pickle\n",
    "pickle.dump(aw, open(os.path.join('/mnt/cube/earneodo/bci_zf/stim_data/z_000', \n",
    "                          'all_bird_mot_30khz.pickle.v2'), 'wb'), protocol=2)\n"
   ]
  },
  {
   "cell_type": "code",
   "execution_count": null,
   "metadata": {
    "collapsed": true
   },
   "outputs": [],
   "source": [
    "pickle.dump(w, open(\"a_py2.pkl\",\"wb\"), protocol=2)\n"
   ]
  },
  {
   "cell_type": "code",
   "execution_count": null,
   "metadata": {
    "collapsed": true
   },
   "outputs": [],
   "source": []
  }
 ],
 "metadata": {
  "kernelspec": {
   "display_name": "Python [conda env:py35]",
   "language": "python",
   "name": "conda-env-py35-py"
  },
  "language_info": {
   "codemirror_mode": {
    "name": "ipython",
    "version": 3
   },
   "file_extension": ".py",
   "mimetype": "text/x-python",
   "name": "python",
   "nbconvert_exporter": "python",
   "pygments_lexer": "ipython3",
   "version": "3.5.3"
  }
 },
 "nbformat": 4,
 "nbformat_minor": 2
}
