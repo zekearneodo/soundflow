{
 "cells": [
  {
   "cell_type": "code",
   "execution_count": 1,
   "metadata": {
    "collapsed": false
   },
   "outputs": [
    {
     "name": "stdout",
     "output_type": "stream",
     "text": [
      "Computer: chim\n"
     ]
    }
   ],
   "source": [
    "#read a wav file, try to filter it, show spectrogram, find finch-like song\n",
    "%matplotlib inline\n",
    "import pdb\n",
    "import sys\n",
    "import pandas as pd\n",
    "import numpy as np\n",
    "import scipy.io as sio\n",
    "import matplotlib.pyplot as plt\n",
    "import matplotlib\n",
    "import scipy.signal as sg\n",
    "import math\n",
    "import scipy as sp\n",
    "import socket\n",
    "import os\n",
    "import wave\n",
    "import struct\n",
    "\n",
    "matplotlib.style.use('ggplot')\n",
    "\n",
    "comp_name=socket.gethostname()\n",
    "print 'Computer: ' + comp_name\n",
    "if  comp_name == 'chim':\n",
    "    sys.path.append('C:\\Users\\GentnerLab\\Documents\\Experiment\\scripts\\sound_tools')\n",
    "    experiment_folde-*/$Recycle.Bin/\n",
    "    r = os.path.join('C:\\Users\\GentnerLab\\Documents\\Experiment')\n",
    "    raw_data_folder = os.path.join(experiment_folder, 'raw_data')\n",
    "\n",
    "#file structure\n",
    "bird_id = 'zk_zf_001'\n",
    "sess = 2\n",
    "rec = 'a'\n",
    "run = 1\n",
    "\n",
    "raw_file_folder = os.path.join(raw_data_folder, bird_id, str(sess).zfill(3))\n",
    "raw_file_name = rec + '_' + str(run).zfill(2) + '_song.wav'\n",
    "raw_file_path = os.path.join(raw_file_folder, raw_file_name)"
   ]
  },
  {
   "cell_type": "code",
   "execution_count": null,
   "metadata": {
    "collapsed": false
   },
   "outputs": [],
   "source": [
    "#open the fie\n",
    "raw_song = wave.open(raw_file_path, 'rb')\n",
    "s_f = raw_song.getparams()[2]\n",
    "n_samples = raw_song.getparams()[3]\n",
    "frame_size = raw_song.getparams()[1]\n",
    "n_chans = raw_song.getparams()[0]\n",
    "print raw_song.getparams()"
   ]
  },
  {
   "cell_type": "code",
   "execution_count": null,
   "metadata": {
    "collapsed": false
   },
   "outputs": [],
   "source": [
    "#get a piece, filter it, plot it\n",
    "window_t = 234700 #time window in msec\n",
    "window_size = 1000 # window len in msec\n",
    "\n",
    "window_t_samples = int(round(window_t*s_f/1000.))\n",
    "window_samples = int(round(window_size*s_f/1000.))\n",
    "window_samples = min(window_samples, n_samples - window_t_samples)\n",
    "\n",
    "raw_song.setpos(window_t_samples)\n",
    "chunk_bit = raw_song.readframes(window_samples)\n",
    "chunk = struct.unpack('<' + str(window_samples*n_chans) + 'h', chunk_bit)[::n_chans]"
   ]
  },
  {
   "cell_type": "code",
   "execution_count": null,
   "metadata": {
    "collapsed": false
   },
   "outputs": [],
   "source": [
    "plt.plot(chunk)"
   ]
  },
  {
   "cell_type": "code",
   "execution_count": null,
   "metadata": {
    "collapsed": false
   },
   "outputs": [],
   "source": [
    "#filter the signal\n",
    "filt_lo = 22000 #Hz\n",
    "filt_hi = 50 #Hz\n",
    "hp_b, hp_a = sg.butter(4, filt_hi/(s_f/2.), btype='high')\n",
    "lp_b, lp_a = sg.butter(4, filt_lo/(s_f/2.), btype='low')\n",
    "\n",
    "chunk_hi = sg.filtfilt(hp_b, hp_a, chunk)\n",
    "chunk_filt = sg.filtfilt(lp_b, lp_a, chunk_hi)\n",
    "plt.plot(chunk_filt)"
   ]
  },
  {
   "cell_type": "code",
   "execution_count": null,
   "metadata": {
    "collapsed": false
   },
   "outputs": [],
   "source": [
    "spec_win = 5 #ms\n",
    "f, t, s = sg.spectrogram(chunk_filt, fs=s_f, window=('hamming'), nperseg=int(spec_win*s_f/1000.))\n",
    "plt.figure(figsize=(15, 7.5))\n",
    "plt.imshow(s, origin='lower', cmap='jet')"
   ]
  },
  {
   "cell_type": "code",
   "execution_count": null,
   "metadata": {
    "collapsed": true
   },
   "outputs": [],
   "source": []
  }
 ],
 "metadata": {
  "kernelspec": {
   "display_name": "Python 2",
   "language": "python",
   "name": "python2"
  },
  "language_info": {
   "codemirror_mode": {
    "name": "ipython",
    "version": 2
   },
   "file_extension": ".py",
   "mimetype": "text/x-python",
   "name": "python",
   "nbconvert_exporter": "python",
   "pygments_lexer": "ipython2",
   "version": "2.7.11"
  }
 },
 "nbformat": 4,
 "nbformat_minor": 0
}
