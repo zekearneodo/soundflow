{
 "cells": [
  {
   "cell_type": "code",
   "execution_count": 16,
   "metadata": {
    "collapsed": false
   },
   "outputs": [
    {
     "name": "stdout",
     "output_type": "stream",
     "text": [
      "Computer: passaro\n"
     ]
    }
   ],
   "source": [
    "#notebook for testing the search of song in a wav file\n",
    "\n",
    "## Load everything\n",
    "%matplotlib inline\n",
    "import pdb\n",
    "import sys\n",
    "import numpy as np\n",
    "import scipy.io as sio\n",
    "import matplotlib.pyplot as plt\n",
    "import matplotlib\n",
    "import scipy.signal as sg\n",
    "import math\n",
    "import scipy as sp\n",
    "import socket\n",
    "import os\n",
    "\n",
    "matplotlib.style.use('ggplot')\n",
    "\n",
    "# Set up Computer and paths\n",
    "comp_name=socket.gethostname()\n",
    "print 'Computer: ' + comp_name\n",
    "if  comp_name == 'chim':\n",
    "    sys.path.append('C:\\Users\\GentnerLab\\Documents\\Experiment\\scripts\\sound_tools')\n",
    "    experiment_folder = os.path.join('C:\\Users\\GentnerLab\\Documents\\Experiment')\n",
    "    r = os.path.join('C:\\Users\\GentnerLab\\Documents\\Experiment')\n",
    "    raw_data_folder = os.path.join(experiment_folder, 'raw_data')\n",
    "\n",
    "if 'lintu' in comp_name:\n",
    "    sys.path.append('/mnt/cube/earneodo/repos/soundflow/sound_tools')\n",
    "    experiment_folder = os.path.join('/mnt/cube/earneodo/bci_zf/')\n",
    "    raw_data_folder = os.path.join(experiment_folder, 'raw_data')\n",
    "\n",
    "if 'lookfar' in comp_name:\n",
    "    sys.path.append('/Users/zeke/repos/soundflow/sound_tools')\n",
    "    experiment_folder = os.path.join('/Users/zeke/experiments/bci_zf/')\n",
    "    raw_data_folder = os.path.join(experiment_folder, 'raw_data')\n",
    "\n",
    "if 'passaro' in comp_name:\n",
    "    sys.path.append('/mnt/cube/earneodo/repos/soundflow/sound_tools')\n",
    "    sys.path.append('/mnt/cube/earneodo/repos/ephysflow')\n",
    "    sys.path.append('/mnt/cube/earneodo/repos/analysis-tools')\n",
    "    experiment_folder = os.path.join('/mnt/cube/earneodo/bci_zf/')\n",
    "    raw_data_folder = os.path.join(experiment_folder, 'raw_data')\n",
    "    ss_data_folder = os.path.join(experiment_folder, 'ss_data')\n",
    "    \n",
    "#grab soundtools\n",
    "from soundtools import WavData, Chunk\n",
    "    \n",
    "#file structure\n",
    "bird_id = 'z025'\n",
    "sess = 1\n",
    "rec = 'a'\n",
    "run = 1\n",
    "#bout = '2251_869'\n",
    "bout = None\n",
    "\n",
    "#load the bout and the whole sound file for searching\n",
    "raw_file_folder = os.path.join(raw_data_folder, bird_id, str(sess).zfill(3))\n",
    "raw_file_name = rec + '_' + str(run).zfill(2) + '_song.wav'\n",
    "raw_file_path = os.path.join(raw_file_folder, raw_file_name)\n",
    "\n",
    "bout_file_name = rec + '_' + str(run).zfill(2) + '_autobouts.wav'\n",
    "bout_file_path = os.path.join(raw_file_folder, bout_file_name)\n",
    "\n",
    "#the whole sound\n",
    "all_sound = WavData(raw_file_path)\n",
    "\n",
    "#the bout\n",
    "if bout is not None:\n",
    "    raw_file_folder = os.path.join(raw_file_folder, 'bouts')\n",
    "    raw_file_name = rec + '_' + str(run).zfill(2) + '_song_' + bout + '.wav'\n",
    "\n",
    "raw_file_path = os.path.join(raw_file_folder, raw_file_name)\n",
    "bout_sound = WavData(raw_file_path)"
   ]
  },
  {
   "cell_type": "code",
   "execution_count": 17,
   "metadata": {
    "collapsed": true
   },
   "outputs": [],
   "source": [
    "#functions that should be in a package\n",
    "def rms(x):\n",
    "    return np.linalg.norm(x)\n",
    "\n",
    "def mad(x):\n",
    "    med = np.median(x)\n",
    "    dev = np.abs(x - np.median(x))\n",
    "    return np.median(dev)\n",
    "\n",
    "def identity(x):\n",
    "    return x\n",
    "\n",
    "#decorator for getting the rms after applying a filter to a segment\n",
    "def rms_after_filter(filter_func):\n",
    "    def out_of_filtered(*args, **kwargs):\n",
    "        #print \"Arguments were: %s, %s\" % (args, kwargs)\n",
    "        #plt.plot(np.transpose(filter_func(*args, **kwargs)))\n",
    "        return np.linalg.norm(filter_func(*args, **kwargs))\n",
    "    return out_of_filtered"
   ]
  },
  {
   "cell_type": "code",
   "execution_count": 18,
   "metadata": {
    "collapsed": false
   },
   "outputs": [],
   "source": [
    "# preparations and parameters\n",
    "# filter parameters and filter function\n",
    "#filter the signal\n",
    "s_f = all_sound.s_f\n",
    "\n",
    "#The band where we expect most of the energy of zf song to be in\n",
    "filt_lo = 10000 #Hz\n",
    "filt_hi = 500 #Hz\n",
    "hp_b, hp_a = sg.butter(4, filt_hi/(s_f/2.), btype='high')\n",
    "lp_b, lp_a = sg.butter(4, filt_lo/(s_f/2.), btype='low')\n",
    "\n",
    "\n",
    "def band_pass_filter(chunk, hp_b, hp_a, lp_b, lp_a):    \n",
    "    chunk_hi = sg.filtfilt(hp_b, hp_a, chunk)\n",
    "    chunk_filt = sg.filtfilt(lp_b, lp_a, chunk_hi)\n",
    "    return chunk_filt\n",
    "\n",
    "@rms_after_filter\n",
    "def rms_band_pass_filter(chunk, hp_b, hp_a, lp_b, lp_a):\n",
    "    #plt.plot(np.transpose(chunk))\n",
    "    chunk_hi = sg.filtfilt(hp_b, hp_a, chunk)\n",
    "    chunk_filt = sg.filtfilt(lp_b, lp_a, chunk_hi)\n",
    "    return chunk_filt\n",
    "\n",
    "@rms_after_filter\n",
    "def rms_identity(chunk):\n",
    "    return(chunk)"
   ]
  },
  {
   "cell_type": "code",
   "execution_count": 19,
   "metadata": {
    "collapsed": false
   },
   "outputs": [
    {
     "name": "stdout",
     "output_type": "stream",
     "text": [
      "629.0\n",
      "30.0\n",
      "1229.0\n"
     ]
    }
   ],
   "source": [
    "#Parameters of the search\n",
    "bit_size = 70 # ms; size of sound bits\n",
    "refractory = 5 # bits; refractory period in bits\n",
    "bits_bout = 4 # bits; how many bouts together is considered a bout\n",
    "threshold = 20 # threshold in mads (median deviation of the median)\n",
    "\n",
    "bit_size_sample = np.int(bit_size*all_sound.s_f*0.001)\n",
    "all_starts = np.arange(0, all_sound.n_samples - bit_size_sample, bit_size_sample)\n",
    "\n",
    "all_rms = all_sound.apply_repeated(all_starts, bit_size_sample, rms_band_pass_filter, hp_b, hp_a, lp_b, lp_a)\n",
    "\n",
    "thresh_rms = np.median(all_rms) + threshold * mad(all_rms)\n",
    "\n",
    "print np.median(all_rms)\n",
    "print mad(all_rms)\n",
    "print thresh_rms"
   ]
  },
  {
   "cell_type": "code",
   "execution_count": 20,
   "metadata": {
    "collapsed": false
   },
   "outputs": [
    {
     "data": {
      "text/plain": [
       "array([        0,      3087,      6174, ..., 181413729, 181416816,\n",
       "       181419903])"
      ]
     },
     "execution_count": 20,
     "metadata": {},
     "output_type": "execute_result"
    }
   ],
   "source": [
    "all_starts"
   ]
  },
  {
   "cell_type": "code",
   "execution_count": null,
   "metadata": {
    "collapsed": true
   },
   "outputs": [],
   "source": []
  },
  {
   "cell_type": "code",
   "execution_count": 21,
   "metadata": {
    "collapsed": false,
    "scrolled": true
   },
   "outputs": [
    {
     "data": {
      "text/plain": [
       "[<matplotlib.lines.Line2D at 0x7fa5f2597f10>]"
      ]
     },
     "execution_count": 21,
     "metadata": {},
     "output_type": "execute_result"
    },
    {
     "data": {
      "image/png": "[encoded data removed]",
      "text/plain": [
       "<matplotlib.figure.Figure at 0x7fa60023a8d0>"
      ]
     },
     "metadata": {},
     "output_type": "display_data"
    }
   ],
   "source": [
    "supra_bits = np.where(all_rms > thresh_rms)[0]\n",
    "plt.plot(np.arange(supra_bits.size), supra_bits, '*')"
   ]
  },
  {
   "cell_type": "code",
   "execution_count": 22,
   "metadata": {
    "collapsed": false
   },
   "outputs": [],
   "source": [
    "# Another way of finding the bouts:\n",
    "# No refractory period for now\n",
    "\n",
    "from itertools import groupby\n",
    "from operator import itemgetter\n",
    "group_bound = np.array([0, 0], dtype=np.int32)\n",
    "\n",
    "for k, g in groupby(enumerate(supra_bits), lambda (i, x): i-x):\n",
    "    group = map(itemgetter(1), g)\n",
    "    if len(group) >= bits_bout:\n",
    "        group_bound = np.vstack((group_bound, np.array([group[0], group[-1]])) )\n",
    "        #print group\n",
    "\n",
    "if group_bound.size > 2:\n",
    "    found_bouts = True\n",
    "    group_bound = np.delete(group_bound, 0, axis=0)\n",
    "    # segments has to be in samples \n",
    "    segments = np.array([all_starts[group_bound[:,0]], all_starts[group_bound[:,1]]])\n",
    "    assert(np.all(np.diff(segments, axis=0)[0]>0))\n",
    "\n",
    "else:\n",
    "    found_bouts = False\n",
    "\n",
    "assert(found_bouts)"
   ]
  },
  {
   "cell_type": "code",
   "execution_count": 23,
   "metadata": {
    "collapsed": false
   },
   "outputs": [
    {
     "data": {
      "text/plain": [
       "58766"
      ]
     },
     "execution_count": 23,
     "metadata": {},
     "output_type": "execute_result"
    }
   ],
   "source": [
    "group[-1]"
   ]
  },
  {
   "cell_type": "code",
   "execution_count": 24,
   "metadata": {
    "collapsed": false,
    "scrolled": true
   },
   "outputs": [
    {
     "name": "stdout",
     "output_type": "stream",
     "text": [
      "768\n",
      "/mnt/cube/earneodo/bci_zf/raw_data/z025/001/a_01_autobouts.wav\n"
     ]
    }
   ],
   "source": [
    "#Make a chunk with each segment and record it to a file\n",
    "more = 2 #how many bits before and after to save\n",
    "n_seg = segments.shape[1]\n",
    "\n",
    "print n_seg\n",
    "# bout_file_name = rec + '_' + str(run).zfill(2) + 'bouts.wav'\n",
    "# bout_file_path = os.path.join(raw_file_folder, bout_file_name)\n",
    "\n",
    "# bout_file_path = '/Users/zeke/bout_test2.wav'\n",
    "\n",
    "import wave\n",
    "import struct\n",
    "\n",
    "bouts_out = wave.open(bout_file_path, 'w')\n",
    "print bout_file_path\n",
    "bouts_out.setparams((all_sound.n_chans, 2, all_sound.s_f, 0, 'NONE', 'not compressed'))\n",
    "\n",
    "for seg in segments.T:\n",
    "    seg = seg + np.array([-more, more])* bit_size_sample\n",
    "\n",
    "    start = seg[0] if seg[0] > 0 else 0\n",
    "    end = seg[1] if seg[1] < all_sound.n_samples else all_sound.n_samples\n",
    "    #print start, end\n",
    "    sg_chunk = Chunk(all_sound, segment = [start, end])\n",
    "    # save the chunk to a data file\n",
    "    #filter for debugging\n",
    "    #sg_chunk.apply_filter(band_pass_filter, hp_b, hp_a, lp_b, lp_a)\n",
    "    data_out = np.array(sg_chunk.data, dtype=np.int16)[0]\n",
    "    packed_data = struct.pack('<' + str((end - start)) + 'h', *data_out)\n",
    "    bouts_out.writeframes(data_out)\n",
    "\n",
    "bouts_out.close()"
   ]
  },
  {
   "cell_type": "code",
   "execution_count": 25,
   "metadata": {
    "collapsed": false,
    "scrolled": true
   },
   "outputs": [
    {
     "data": {
      "image/png": "[encoded data removed]",
      "text/plain": [
       "<matplotlib.figure.Figure at 0x7fa6001f7650>"
      ]
     },
     "metadata": {},
     "output_type": "display_data"
    }
   ],
   "source": [
    "j = 10\n",
    "chu = Chunk(all_sound, segment=[segments[0, j] - more *bit_size_sample, segments[1, j] + more *bit_size_sample])\n",
    "chu.apply_filter(band_pass_filter, hp_b, hp_a, lp_b, lp_a)\n",
    "\n",
    "chu_starts = np.arange(segments[0, j] - more*bit_size_sample, segments[1,j] + more *bit_size_sample, bit_size_sample)\n",
    "rms_chu = all_sound.apply_repeated(chu_starts, bit_size_sample, rms_band_pass_filter, hp_b, hp_a, lp_b, lp_a)\n",
    "plt.plot(np.transpose(chu.data))\n",
    "plt.plot(chu_starts-chu_starts[0], rms_chu, '*')\n",
    "plt.plot(np.arange(chu.data.size), np.ones_like(np.transpose(chu.data)) * thresh_rms, 'k--' )\n",
    "\n",
    "#just one bit for visualizing and debugging more\n",
    "k = more\n",
    "test_bit = Chunk(all_sound, segment=[segments[0, j] + k* bit_size_sample, segments[0, j] + (k+1)* bit_size_sample])\n",
    "test_bit.apply_filter(band_pass_filter, hp_b, hp_a, lp_b, lp_a)\n",
    "#plt.plot(np.transpose(test_bit.data))\n",
    "rms_test = rms(test_bit.data)"
   ]
  },
  {
   "cell_type": "code",
   "execution_count": null,
   "metadata": {
    "collapsed": true
   },
   "outputs": [],
   "source": []
  },
  {
   "cell_type": "code",
   "execution_count": null,
   "metadata": {
    "collapsed": true
   },
   "outputs": [],
   "source": []
  }
 ],
 "metadata": {
  "kernelspec": {
   "display_name": "Python 2",
   "language": "python",
   "name": "python2"
  },
  "language_info": {
   "codemirror_mode": {
    "name": "ipython",
    "version": 2
   },
   "file_extension": ".py",
   "mimetype": "text/x-python",
   "name": "python",
   "nbconvert_exporter": "python",
   "pygments_lexer": "ipython2",
   "version": "2.7.12"
  }
 },
 "nbformat": 4,
 "nbformat_minor": 0
}
