{
 "cells": [
  {
   "cell_type": "code",
   "execution_count": 1,
   "metadata": {
    "collapsed": false
   },
   "outputs": [
    {
     "name": "stdout",
     "output_type": "stream",
     "text": [
      "Computer: lookfar.local\n"
     ]
    }
   ],
   "source": [
    "#notebook for testing the search of song in a wav file\n",
    "\n",
    "## Load everything\n",
    "%matplotlib inline\n",
    "import pdb\n",
    "import sys\n",
    "import numpy as np\n",
    "import scipy.io as sio\n",
    "import matplotlib.pyplot as plt\n",
    "import matplotlib\n",
    "import scipy.signal as sg\n",
    "import math\n",
    "import scipy as sp\n",
    "import socket\n",
    "import os\n",
    "\n",
    "matplotlib.style.use('ggplot')\n",
    "\n",
    "# Set up Computer and paths\n",
    "comp_name=socket.gethostname()\n",
    "print 'Computer: ' + comp_name\n",
    "if  comp_name == 'chim':\n",
    "    sys.path.append('C:\\Users\\GentnerLab\\Documents\\Experiment\\scripts\\sound_tools')\n",
    "    experiment_folder = os.path.join('C:\\Users\\GentnerLab\\Documents\\Experiment')\n",
    "    r = os.path.join('C:\\Users\\GentnerLab\\Documents\\Experiment')\n",
    "    raw_data_folder = os.path.join(experiment_folder, 'raw_data')\n",
    "\n",
    "if 'lintu' in comp_name:\n",
    "    sys.path.append('/mnt/cube/earneodo/repos/soundflow/sound_tools')\n",
    "    experiment_folder = os.path.join('/mnt/cube/earneodo/bci_zf/')\n",
    "    raw_data_folder = os.path.join(experiment_folder, 'raw_data')\n",
    "\n",
    "if 'lookfar' in comp_name:\n",
    "    sys.path.append('/Users/zeke/repos/soundflow/sound_tools')\n",
    "    experiment_folder = os.path.join('/Users/zeke/experiments/bci_zf/')\n",
    "    raw_data_folder = os.path.join(experiment_folder, 'raw_data')\n",
    "\n",
    "#grab soundtools\n",
    "from soundtools import WavData, Chunk\n",
    "    \n",
    "#file structure\n",
    "bird_id = 'z004'\n",
    "sess = 2\n",
    "rec = 'a'\n",
    "run = 1\n",
    "#bout = '2251_869'\n",
    "bout = None\n",
    "\n",
    "#load the bout and the whole sound file for searching\n",
    "raw_file_folder = os.path.join(raw_data_folder, bird_id, str(sess).zfill(3))\n",
    "raw_file_name = rec + '_' + str(run).zfill(2) + '_song.wav'\n",
    "raw_file_path = os.path.join(raw_file_folder, raw_file_name)\n",
    "\n",
    "bout_file_name = rec + '_' + str(run).zfill(2) + '_autobouts.wav'\n",
    "bout_file_path = os.path.join(raw_file_folder, bout_file_name)\n",
    "\n",
    "#the whole sound\n",
    "all_sound = WavData(raw_file_path)\n",
    "\n",
    "#the bout\n",
    "if bout is not None:\n",
    "    raw_file_folder = os.path.join(raw_file_folder, 'bouts')\n",
    "    raw_file_name = rec + '_' + str(run).zfill(2) + '_song_' + bout + '.wav'\n",
    "\n",
    "raw_file_path = os.path.join(raw_file_folder, raw_file_name)\n",
    "bout_sound = WavData(raw_file_path)"
   ]
  },
  {
   "cell_type": "code",
   "execution_count": 2,
   "metadata": {
    "collapsed": true
   },
   "outputs": [],
   "source": [
    "#functions that should be in a package\n",
    "def rms(x):\n",
    "    return np.linalg.norm(x)\n",
    "\n",
    "def mad(x):\n",
    "    med = np.median(x)\n",
    "    dev = np.abs(x - np.median(x))\n",
    "    return np.median(dev)\n",
    "\n",
    "def identity(x):\n",
    "    return x\n",
    "\n",
    "#decorator for getting the rms after applying a filter to a segment\n",
    "def rms_after_filter(filter_func):\n",
    "    def out_of_filtered(*args, **kwargs):\n",
    "        #print \"Arguments were: %s, %s\" % (args, kwargs)\n",
    "        #plt.plot(np.transpose(filter_func(*args, **kwargs)))\n",
    "        return np.linalg.norm(filter_func(*args, **kwargs))\n",
    "    return out_of_filtered"
   ]
  },
  {
   "cell_type": "code",
   "execution_count": 3,
   "metadata": {
    "collapsed": false
   },
   "outputs": [],
   "source": [
    "# preparations and parameters\n",
    "# filter parameters and filter function\n",
    "#filter the signal\n",
    "s_f = all_sound.s_f\n",
    "\n",
    "#The band where we expect most of the energy of zf song to be in\n",
    "filt_lo = 10000 #Hz\n",
    "filt_hi = 500 #Hz\n",
    "hp_b, hp_a = sg.butter(4, filt_hi/(s_f/2.), btype='high')\n",
    "lp_b, lp_a = sg.butter(4, filt_lo/(s_f/2.), btype='low')\n",
    "\n",
    "\n",
    "def band_pass_filter(chunk, hp_b, hp_a, lp_b, lp_a):    \n",
    "    chunk_hi = sg.filtfilt(hp_b, hp_a, chunk)\n",
    "    chunk_filt = sg.filtfilt(lp_b, lp_a, chunk_hi)\n",
    "    return chunk_filt\n",
    "\n",
    "@rms_after_filter\n",
    "def rms_band_pass_filter(chunk, hp_b, hp_a, lp_b, lp_a):\n",
    "    #plt.plot(np.transpose(chunk))\n",
    "    chunk_hi = sg.filtfilt(hp_b, hp_a, chunk)\n",
    "    chunk_filt = sg.filtfilt(lp_b, lp_a, chunk_hi)\n",
    "    return chunk_filt\n",
    "\n",
    "@rms_after_filter\n",
    "def rms_identity(chunk):\n",
    "    return(chunk)"
   ]
  },
  {
   "cell_type": "code",
   "execution_count": 252,
   "metadata": {
    "collapsed": false
   },
   "outputs": [
    {
     "name": "stdout",
     "output_type": "stream",
     "text": [
      "557.0\n",
      "26.0\n",
      "3157.0\n"
     ]
    }
   ],
   "source": [
    "#Parameters of the search\n",
    "bit_size = 100 # ms; size of sound bits\n",
    "refractory = 5 # bits; refractory period in bits\n",
    "bits_bout = 4 # bits; how many bouts together is considered a bout\n",
    "threshold = 100 # threshold in mads (median deviation of the median)\n",
    "\n",
    "bit_size_sample = np.int(bit_size*all_sound.s_f*0.001)\n",
    "all_starts = np.arange(0, all_sound.n_samples - bit_size_sample, bit_size_sample)\n",
    "\n",
    "all_rms = all_sound.apply_repeated(all_starts, bit_size_sample, rms_band_pass_filter, hp_b, hp_a, lp_b, lp_a)\n",
    "\n",
    "thresh_rms = np.median(all_rms) + threshold * mad(all_rms)\n",
    "\n",
    "print np.median(all_rms)\n",
    "print mad(all_rms)\n",
    "print thresh_rms"
   ]
  },
  {
   "cell_type": "code",
   "execution_count": 253,
   "metadata": {
    "collapsed": false
   },
   "outputs": [
    {
     "data": {
      "text/plain": [
       "[<matplotlib.lines.Line2D at 0x1289601d0>]"
      ]
     },
     "execution_count": 253,
     "metadata": {},
     "output_type": "execute_result"
    },
    {
     "data": {
      "image/png": "[encoded data removed]",
      "text/plain": [
       "<matplotlib.figure.Figure at 0x11c7ac310>"
      ]
     },
     "metadata": {},
     "output_type": "display_data"
    }
   ],
   "source": [
    "supra_bits = np.where(all_rms > thresh_rms)[0]\n",
    "plt.plot(np.arange(supra_bits.size), supra_bits, '*')"
   ]
  },
  {
   "cell_type": "code",
   "execution_count": 254,
   "metadata": {
    "collapsed": false
   },
   "outputs": [],
   "source": [
    "# Starts of probable bouts\n",
    "possible_bouts = np.where(np.diff(supra_bits, bits_bout)==0)[0]\n",
    "\n",
    "#get begginings of bits_bout chunks above threshold\n",
    "firsts = possible_bouts[np.where(np.diff(possible_bouts,1)>1)[0]+1]\n",
    "firsts = np.insert(firsts, 0, possible_bouts[0])\n",
    "\n",
    "lasts = possible_bouts[np.where(np.diff(possible_bouts,1)>1)[0]] + bits_bout\n",
    "lasts = np.insert(lasts, lasts.size, possible_bouts[-1]) \n",
    "\n",
    "#gather segments that are less than refractory apart\n",
    "together = np.where((firsts[1:] - lasts[:-1]) < refractory)[0]\n",
    "\n",
    "lasts = np.delete(lasts, together)\n",
    "firsts = np.delete(firsts, together +1)\n",
    "assert(firsts.size == lasts.size)\n",
    "\n",
    "segments = np.array([all_starts[supra_bits[firsts]], all_starts[supra_bits[lasts]]])\n",
    "segment = np.delete(segments,np.where(np.diff(segments, axis=0)[0]==0)[0], axis=1)\n",
    "assert(np.all(np.diff(segments, axis=0)[0]>0))\n"
   ]
  },
  {
   "cell_type": "code",
   "execution_count": 93,
   "metadata": {
    "collapsed": false
   },
   "outputs": [
    {
     "data": {
      "text/plain": [
       "132"
      ]
     },
     "execution_count": 93,
     "metadata": {},
     "output_type": "execute_result"
    }
   ],
   "source": [
    "segment.size\n",
    "segment = np.delete(segments,np.where(np.diff(segments, axis=0)[0]==0)[0], axis=1)\n",
    "segment.size"
   ]
  },
  {
   "cell_type": "code",
   "execution_count": 255,
   "metadata": {
    "collapsed": false
   },
   "outputs": [],
   "source": [
    "# Another way of finding the bouts:\n",
    "# No refractory period for now\n",
    "\n",
    "from itertools import groupby\n",
    "from operator import itemgetter\n",
    "group_bound = np.array([0, 0], dtype=np.int32)\n",
    "\n",
    "for k, g in groupby(enumerate(supra_bits), lambda (i, x): i-x):\n",
    "    group = map(itemgetter(1), g)\n",
    "    if len(group) >= bits_bout:\n",
    "        group_bound = np.vstack((group_bound, np.array([group[0], group[-1] + 1])) )\n",
    "        #print group\n",
    "\n",
    "group_bound = np.delete(group_bound, 0, axis=0)\n",
    "# group_bound is in index of supra_bits\n",
    "# segments has to be in samples \n",
    "segments = np.array([all_starts[group_bound[:,0]], all_starts[group_bound[:,1]]])\n",
    "assert(np.all(np.diff(segments, axis=0)[0]>0))"
   ]
  },
  {
   "cell_type": "code",
   "execution_count": 242,
   "metadata": {
    "collapsed": false
   },
   "outputs": [
    {
     "data": {
      "text/plain": [
       "array([[ 15435,  15435,  15435,  15435,  15435,  15435,  15435,  15435,\n",
       "         18522,  21609,  15435,  15435,  18522,  15435,  15435,  15435,\n",
       "         15435,  15435,  15435,  33957,  15435,  15435,  24696,  27783,\n",
       "         15435,  15435,  15435,  15435,  15435,  15435,  15435,  15435,\n",
       "         24696,  27783,  15435,  15435,  15435,  15435,  15435,  15435,\n",
       "         15435,  15435,  15435,  15435,  18522,  18522,  15435,  15435,\n",
       "         15435,  15435,  15435,  15435,  15435,  15435,  15435,  24696,\n",
       "         15435,  18522,  15435,  15435,  15435,  15435,  15435,  18522,\n",
       "         15435,  24696,  15435,  15435,  15435,  15435,  21609,  18522,\n",
       "         24696,  21609,  15435,  18522,  18522,  15435,  24696,  24696,\n",
       "         15435,  15435,  15435,  15435,  24696,  15435,  15435,  15435,\n",
       "         15435,  15435,  15435,  18522,  15435,  21609,  18522,  18522,\n",
       "         18522,  15435,  24696,  15435,  15435,  15435,  18522,  15435,\n",
       "         15435,  15435,  15435,  15435,  15435,  18522,  18522,  15435,\n",
       "         15435,  15435,  18522,  15435,  15435,  18522,  15435,  18522,\n",
       "         15435,  15435,  18522,  15435,  21609,  15435,  18522,  24696,\n",
       "         18522,  15435,  15435,  15435,  18522,  15435,  24696,  18522,\n",
       "         15435,  15435,  15435,  24696,  27783,  27783,  15435,  21609,\n",
       "         15435,  15435,  15435,  15435,  18522,  15435,  15435,  74088,\n",
       "        120393,  52479, 222264,  49392,  40131,  27783,  24696,  18522,\n",
       "         27783,  27783,  74088,  95697,  40131,  24696,  18522,  15435,\n",
       "         24696, 142002,  77175]])"
      ]
     },
     "execution_count": 242,
     "metadata": {},
     "output_type": "execute_result"
    }
   ],
   "source": [
    "np.diff(segments, axis=0)"
   ]
  },
  {
   "cell_type": "code",
   "execution_count": 256,
   "metadata": {
    "collapsed": false
   },
   "outputs": [
    {
     "data": {
      "text/plain": [
       "(2, 203)"
      ]
     },
     "execution_count": 256,
     "metadata": {},
     "output_type": "execute_result"
    }
   ],
   "source": [
    "segments.shape"
   ]
  },
  {
   "cell_type": "code",
   "execution_count": 260,
   "metadata": {
    "collapsed": false
   },
   "outputs": [
    {
     "name": "stdout",
     "output_type": "stream",
     "text": [
      "/Users/zeke/experiments/bci_zf/raw_data/z004/002/a_01_autobouts.wav\n"
     ]
    }
   ],
   "source": [
    "#Make a chunk with each segment and record it to a file\n",
    "more = 2 #how many bits before and after to save\n",
    "n_seg = segments.shape[1]\n",
    "\n",
    "# bout_file_name = rec + '_' + str(run).zfill(2) + 'bouts.wav'\n",
    "# bout_file_path = os.path.join(raw_file_folder, bout_file_name)\n",
    "\n",
    "# bout_file_path = '/Users/zeke/bout_test2.wav'\n",
    "\n",
    "import wave\n",
    "import struct\n",
    "\n",
    "bouts_out = wave.open(bout_file_path, 'w')\n",
    "print bout_file_path\n",
    "bouts_out.setparams((all_sound.n_chans, 2, all_sound.s_f, 0, 'NONE', 'not compressed'))\n",
    "\n",
    "for seg in segments.T:\n",
    "    seg = seg + np.array([-more, more])* bit_size_sample\n",
    "\n",
    "    start = seg[0] if seg[0] > 0 else 0\n",
    "    end = seg[1] if seg[1] < all_sound.n_samples else all_sound.n_samples\n",
    "    #print start, end\n",
    "    sg_chunk = Chunk(all_sound, segment = [start, end])\n",
    "    # save the chunk to a data file\n",
    "    #filter for debugging\n",
    "    #sg_chunk.apply_filter(band_pass_filter, hp_b, hp_a, lp_b, lp_a)\n",
    "    data_out = np.array(sg_chunk.data, dtype=np.int16)[0]\n",
    "    packed_data = struct.pack('<' + str((end - start)) + 'h', *data_out)\n",
    "    bouts_out.writeframes(data_out)\n",
    "\n",
    "bouts_out.close()"
   ]
  },
  {
   "cell_type": "code",
   "execution_count": null,
   "metadata": {
    "collapsed": true
   },
   "outputs": [],
   "source": []
  },
  {
   "cell_type": "code",
   "execution_count": 258,
   "metadata": {
    "collapsed": false
   },
   "outputs": [
    {
     "data": {
      "image/png": "[encoded data removed]",
      "text/plain": [
       "<matplotlib.figure.Figure at 0x11c7ac4d0>"
      ]
     },
     "metadata": {},
     "output_type": "display_data"
    }
   ],
   "source": [
    "j = 50\n",
    "more=0\n",
    "chu = Chunk(all_sound, segment=[segments[0, j] - more *bit_size_sample, segments[1, j] + more *bit_size_sample])\n",
    "chu.apply_filter(band_pass_filter, hp_b, hp_a, lp_b, lp_a)\n",
    "\n",
    "chu_starts = np.arange(segments[0, j] - more*bit_size_sample, segments[1,j] + more *bit_size_sample, bit_size_sample)\n",
    "rms_chu = all_sound.apply_repeated(chu_starts, bit_size_sample, rms_band_pass_filter, hp_b, hp_a, lp_b, lp_a)\n",
    "plt.plot(np.transpose(chu.data))\n",
    "plt.plot(chu_starts-chu_starts[0], rms_chu, '*')\n",
    "\n",
    "#just one bit for visualizing and debugging more\n",
    "k = 0\n",
    "test_bit = Chunk(all_sound, segment=[segments[0, j] + k* bit_size_sample, segments[0, j] + (k+1)* bit_size_sample])\n",
    "test_bit.apply_filter(band_pass_filter, hp_b, hp_a, lp_b, lp_a)\n",
    "plt.plot(np.transpose(test_bit.data))\n",
    "rms_test = rms(test_bit.data)"
   ]
  },
  {
   "cell_type": "code",
   "execution_count": 259,
   "metadata": {
    "collapsed": false
   },
   "outputs": [
    {
     "data": {
      "text/plain": [
       "array([ 13118, 133973,  14847,   6868])"
      ]
     },
     "execution_count": 259,
     "metadata": {},
     "output_type": "execute_result"
    }
   ],
   "source": [
    "rms_chu"
   ]
  },
  {
   "cell_type": "code",
   "execution_count": 236,
   "metadata": {
    "collapsed": false,
    "scrolled": true
   },
   "outputs": [
    {
     "data": {
      "text/plain": [
       "array([110992, 234015, 186633, 119681,  18371])"
      ]
     },
     "execution_count": 236,
     "metadata": {},
     "output_type": "execute_result"
    }
   ],
   "source": [
    "rms_chu[rms_chu>thresh_rms]\n",
    "\n",
    "#print rms_test"
   ]
  },
  {
   "cell_type": "code",
   "execution_count": 234,
   "metadata": {
    "collapsed": false
   },
   "outputs": [
    {
     "data": {
      "text/plain": [
       "array([False, False,  True,  True,  True,  True,  True, False], dtype=bool)"
      ]
     },
     "execution_count": 234,
     "metadata": {},
     "output_type": "execute_result"
    }
   ],
   "source": [
    "rms_chu > thresh_rms"
   ]
  },
  {
   "cell_type": "code",
   "execution_count": null,
   "metadata": {
    "collapsed": true
   },
   "outputs": [],
   "source": [
    "seg"
   ]
  },
  {
   "cell_type": "code",
   "execution_count": 31,
   "metadata": {
    "collapsed": false
   },
   "outputs": [
    {
     "name": "stdout",
     "output_type": "stream",
     "text": [
      "466.0\n",
      "23.0\n",
      "696.0\n"
     ]
    }
   ],
   "source": [
    "refractory = 2 # bits; refractory period in bits\n",
    "bits_bout = 7 # bits; how many bouts together is considered a bout\n",
    "threshold = 10 # threshold in mads (median deviation of the median)\n",
    "\n",
    "bit_size_sample = np.int(bit_size*all_sound.s_f*0.001)\n",
    "all_starts = np.arange(0, all_sound.n_samples - bit_size_sample, bit_size_sample)\n",
    "\n",
    "all_rms = all_sound.apply_repeated(all_starts, bit_size_sample, rms_band_pass_filter, hp_b, hp_a, lp_b, lp_a)\n",
    "\n",
    "thresh_rms = np.median(all_rms) + threshold * mad(all_rms)\n",
    "\n",
    "print np.median(all_rms)\n",
    "print mad(all_rms)\n",
    "print thresh_rms\n",
    "supra_bits = np.where(all_rms > thresh_rms)[0]"
   ]
  },
  {
   "cell_type": "code",
   "execution_count": 29,
   "metadata": {
    "collapsed": false
   },
   "outputs": [
    {
     "data": {
      "text/plain": [
       "array([    0,  3087,  6174,  9261, 12348, 15435, 18522, 21609, 24696,\n",
       "       27783, 30870, 33957, 37044, 40131, 43218, 46305, 49392, 52479,\n",
       "       55566, 58653])"
      ]
     },
     "execution_count": 29,
     "metadata": {},
     "output_type": "execute_result"
    }
   ],
   "source": [
    "all_starts[0:20]"
   ]
  },
  {
   "cell_type": "code",
   "execution_count": 138,
   "metadata": {
    "collapsed": false
   },
   "outputs": [
    {
     "data": {
      "text/plain": [
       "(array([ 110,  191,  227,  244,  245,  297,  320,  401,  416,  447,  571,\n",
       "         691,  754,  755,  756,  757,  758,  759,  825,  826,  827,  835,\n",
       "         836,  837,  838,  985,  986,  987,  993,  994,  995,  996, 1116,\n",
       "        1162, 1163, 1463, 1494, 1500, 1503, 1539, 1583, 1729, 1839, 1840,\n",
       "        1841, 1860, 1922, 2077, 2225, 2226, 2227, 2444, 2445, 2459, 2469,\n",
       "        2470, 2471, 2492, 2493, 2564, 2584, 2644, 2645, 2646, 2660, 2661,\n",
       "        2662, 2776, 2777, 2778, 2831, 2851, 2917, 2938, 2942, 2943, 2951,\n",
       "        2967, 2973, 3028, 3094, 3095, 3096, 3173, 3298, 3408, 3427, 3485,\n",
       "        3523, 3528, 3573, 3647, 3672, 3788, 3809, 3821, 3822, 3871, 3877,\n",
       "        3885, 3886, 3887, 3896, 4034, 4142, 4143, 4144, 4190, 4249, 4250,\n",
       "        4251, 4257, 4258, 4259, 4260, 4266, 4267, 4268, 4269, 4288, 4289,\n",
       "        4484, 4526, 4527, 4528, 4529, 4530, 4531, 4532, 4533, 4534, 4535,\n",
       "        4536, 4537, 4538, 4539, 4540, 4541, 4542, 4543, 4544, 4550, 4551,\n",
       "        4552, 4553, 4554, 4555, 4556, 4557, 4558, 4559, 4560, 4561, 4562,\n",
       "        4563, 4564, 4565, 4566, 4567, 4568, 4569, 4570, 4571, 4572, 4573,\n",
       "        4574, 4575, 4576, 4577, 4578, 4579, 4580, 4581, 4582, 4583, 4589,\n",
       "        4590, 4591, 4592, 4593, 4594, 4595, 4596, 4597, 4598, 4599, 4600,\n",
       "        4606, 4607, 4608, 4609, 4610, 4611, 4612, 4613, 4614, 4615, 4616,\n",
       "        4617, 4618, 4619, 4620, 4621, 4622, 4623, 4624, 4625, 4626, 4627,\n",
       "        4628, 4629, 4630, 4631, 4632, 4633, 4634, 4635, 4636, 4637, 4638,\n",
       "        4639, 4640, 4641, 4642, 4643, 4644, 4645, 4646, 4647, 4648, 4649,\n",
       "        4650, 4651, 4652, 4653, 4654, 4655, 4656, 4657, 4658, 4659, 4660,\n",
       "        4661, 4662, 4663, 4664, 4665, 4666, 4667, 4668, 4669, 4670, 4671,\n",
       "        4672, 4678, 4679, 4680, 4681, 4682, 4683, 4684, 4685, 4686, 4687,\n",
       "        4688, 4696, 4697, 4698, 4699, 4700, 4701, 4702, 4703, 4709, 4710,\n",
       "        4711, 4712, 4718, 4719, 4720, 4726, 4736, 4737, 4738, 4739, 4745,\n",
       "        4746, 4747, 4748, 4754, 4755, 4756, 4757, 4758, 4759, 4760, 4761,\n",
       "        4762, 4763, 4764, 4765, 4766, 4767, 4768, 4769, 4770, 4771, 4772,\n",
       "        4781, 4782, 4783, 4784, 4785, 4786, 4787, 4788, 4789, 4790, 4791,\n",
       "        4792, 4793, 4794, 4795, 4796, 4797, 4798, 4799, 4800, 4801, 4802,\n",
       "        4803, 4804, 4805, 4806, 4812, 4813, 4814, 4815, 4816, 4817, 4818,\n",
       "        4819, 4832, 4833, 4834, 4840, 4863, 4864, 4865, 4882, 4883, 4884,\n",
       "        4885, 4886, 4887, 4888, 4889, 4890, 4891, 4892, 4893, 4894, 4895,\n",
       "        4896, 4897, 4898, 4899, 4900, 4901, 4902, 4903, 4904, 4905, 4906,\n",
       "        4907, 4908, 4909, 4910, 4911, 4912, 4913, 4914, 4915, 4916, 4917,\n",
       "        4918, 4919, 4920, 4921, 4922, 4928, 4929, 4930, 4931, 4932, 4933,\n",
       "        4934, 4935, 4936, 4937, 4938, 4939, 4940, 4941, 4942, 4943, 4944,\n",
       "        4945, 4946, 4947]),)"
      ]
     },
     "execution_count": 138,
     "metadata": {},
     "output_type": "execute_result"
    }
   ],
   "source": [
    "pb = np.where(np.diff(supra_bits, 5)==0)\n",
    "pb[0:2]"
   ]
  },
  {
   "cell_type": "code",
   "execution_count": 135,
   "metadata": {
    "collapsed": false
   },
   "outputs": [
    {
     "data": {
      "text/plain": [
       "array([6337, 6341, 6342, 6343, 6347, 6348, 6351, 6372, 6373, 6374, 6375,\n",
       "       6378])"
      ]
     },
     "execution_count": 135,
     "metadata": {},
     "output_type": "execute_result"
    }
   ],
   "source": [
    "supra_bits[108:120]"
   ]
  },
  {
   "cell_type": "code",
   "execution_count": 129,
   "metadata": {
    "collapsed": false
   },
   "outputs": [
    {
     "data": {
      "text/plain": [
       "array([ 1599, -1041,   398, ...,    65,   -48,    27])"
      ]
     },
     "execution_count": 129,
     "metadata": {},
     "output_type": "execute_result"
    }
   ],
   "source": [
    "np.diff(supra_bits, 5)"
   ]
  },
  {
   "cell_type": "code",
   "execution_count": 240,
   "metadata": {
    "collapsed": false
   },
   "outputs": [
    {
     "name": "stdout",
     "output_type": "stream",
     "text": [
      "[5671, 5672, 5673, 5674, 5675]\n",
      "[5831, 5832, 5833, 5834, 5835]\n",
      "[6036, 6037, 6038, 6039, 6040]\n",
      "[6129, 6130, 6131, 6132, 6133]\n",
      "[6561, 6562, 6563, 6564, 6565]\n",
      "[6607, 6608, 6609, 6610, 6611]\n",
      "[6889, 6890, 6891, 6892, 6893]\n",
      "[6938, 6939, 6940, 6941, 6942]\n",
      "[6960, 6961, 6962, 6963, 6964, 6965]\n",
      "[7011, 7012, 7013, 7014, 7015, 7016, 7017]\n",
      "[7144, 7145, 7146, 7147, 7148]\n",
      "[7230, 7231, 7232, 7233, 7234]\n",
      "[7782, 7783, 7784, 7785, 7786, 7787]\n",
      "[8747, 8748, 8749, 8750, 8751]\n",
      "[8799, 8800, 8801, 8802, 8803]\n",
      "[9113, 9114, 9115, 9116, 9117]\n",
      "[9142, 9143, 9144, 9145, 9146]\n",
      "[9332, 9333, 9334, 9335, 9336]\n",
      "[9716, 9717, 9718, 9719, 9720]\n",
      "[9873, 9874, 9875, 9876, 9877, 9878, 9879, 9880, 9881, 9882, 9883]\n",
      "[9942, 9943, 9944, 9945, 9946]\n",
      "[9982, 9983, 9984, 9985, 9986]\n",
      "[10549, 10550, 10551, 10552, 10553, 10554, 10555, 10556]\n",
      "[10591, 10592, 10593, 10594, 10595, 10596, 10597, 10598, 10599]\n",
      "[10650, 10651, 10652, 10653, 10654]\n",
      "[10660, 10661, 10662, 10663, 10664]\n",
      "[10706, 10707, 10708, 10709, 10710]\n",
      "[10765, 10766, 10767, 10768, 10769]\n",
      "[10792, 10793, 10794, 10795, 10796]\n",
      "[10870, 10871, 10872, 10873, 10874]\n",
      "[11033, 11034, 11035, 11036, 11037]\n",
      "[11474, 11475, 11476, 11477, 11478]\n",
      "[11492, 11493, 11494, 11495, 11496, 11497, 11498, 11499]\n",
      "[11512, 11513, 11514, 11515, 11516, 11517, 11518, 11519, 11520]\n",
      "[11605, 11606, 11607, 11608, 11609]\n",
      "[12589, 12590, 12591, 12592, 12593]\n",
      "[12638, 12639, 12640, 12641, 12642]\n",
      "[12993, 12994, 12995, 12996, 12997]\n",
      "[13147, 13148, 13149, 13150, 13151]\n",
      "[13264, 13265, 13266, 13267, 13268]\n",
      "[13273, 13274, 13275, 13276, 13277]\n",
      "[13352, 13353, 13354, 13355, 13356]\n",
      "[13557, 13558, 13559, 13560, 13561]\n",
      "[13608, 13609, 13610, 13611, 13612]\n",
      "[13828, 13829, 13830, 13831, 13832, 13833]\n",
      "[13936, 13937, 13938, 13939, 13940, 13941]\n",
      "[14003, 14004, 14005, 14006, 14007]\n",
      "[14037, 14038, 14039, 14040, 14041]\n",
      "[14089, 14090, 14091, 14092, 14093]\n",
      "[14364, 14365, 14366, 14367, 14368]\n",
      "[14374, 14375, 14376, 14377, 14378]\n",
      "[14512, 14513, 14514, 14515, 14516]\n",
      "[14649, 14650, 14651, 14652, 14653]\n",
      "[14766, 14767, 14768, 14769, 14770]\n",
      "[16267, 16268, 16269, 16270, 16271]\n",
      "[16285, 16286, 16287, 16288, 16289, 16290, 16291, 16292]\n",
      "[16337, 16338, 16339, 16340, 16341]\n",
      "[16382, 16383, 16384, 16385, 16386, 16387]\n",
      "[16527, 16528, 16529, 16530, 16531]\n",
      "[16708, 16709, 16710, 16711, 16712]\n",
      "[16862, 16863, 16864, 16865, 16866]\n",
      "[16930, 16931, 16932, 16933, 16934]\n",
      "[17040, 17041, 17042, 17043, 17044]\n",
      "[17560, 17561, 17562, 17563, 17564, 17565]\n",
      "[18051, 18052, 18053, 18054, 18055]\n",
      "[18277, 18278, 18279, 18280, 18281, 18282, 18283, 18284]\n",
      "[18383, 18384, 18385, 18386, 18387]\n",
      "[19084, 19085, 19086, 19087, 19088]\n",
      "[19099, 19100, 19101, 19102, 19103]\n",
      "[19130, 19131, 19132, 19133, 19134]\n",
      "[19283, 19284, 19285, 19286, 19287, 19288, 19289]\n",
      "[19374, 19375, 19376, 19377, 19378, 19379]\n",
      "[19404, 19405, 19406, 19407, 19408, 19409, 19410, 19411]\n",
      "[19487, 19488, 19489, 19490, 19491, 19492, 19493]\n",
      "[19651, 19652, 19653, 19654, 19655]\n",
      "[19799, 19800, 19801, 19802, 19803, 19804]\n",
      "[19871, 19872, 19873, 19874, 19875, 19876]\n",
      "[20014, 20015, 20016, 20017, 20018]\n",
      "[20675, 20676, 20677, 20678, 20679, 20680, 20681, 20682]\n",
      "[20737, 20738, 20739, 20740, 20741, 20742, 20743, 20744]\n",
      "[20773, 20774, 20775, 20776, 20777]\n",
      "[20793, 20794, 20795, 20796, 20797]\n",
      "[21104, 21105, 21106, 21107, 21108]\n",
      "[21259, 21260, 21261, 21262, 21263]\n",
      "[21400, 21401, 21402, 21403, 21404, 21405, 21406, 21407]\n",
      "[21563, 21564, 21565, 21566, 21567]\n",
      "[21627, 21628, 21629, 21630, 21631]\n",
      "[21666, 21667, 21668, 21669, 21670]\n",
      "[21746, 21747, 21748, 21749, 21750]\n",
      "[21785, 21786, 21787, 21788, 21789]\n",
      "[21945, 21946, 21947, 21948, 21949]\n",
      "[21971, 21972, 21973, 21974, 21975, 21976]\n",
      "[22007, 22008, 22009, 22010, 22011]\n",
      "[22057, 22058, 22059, 22060, 22061, 22062, 22063]\n",
      "[22078, 22079, 22080, 22081, 22082, 22083]\n",
      "[22151, 22152, 22153, 22154, 22155, 22156]\n",
      "[22170, 22171, 22172, 22173, 22174, 22175]\n",
      "[22455, 22456, 22457, 22458, 22459]\n",
      "[22857, 22858, 22859, 22860, 22861, 22862, 22863, 22864]\n",
      "[23080, 23081, 23082, 23083, 23084]\n",
      "[23563, 23564, 23565, 23566, 23567]\n",
      "[23626, 23627, 23628, 23629, 23630]\n",
      "[23838, 23839, 23840, 23841, 23842, 23843]\n",
      "[23874, 23875, 23876, 23877, 23878]\n",
      "[24162, 24163, 24164, 24165, 24166]\n",
      "[24273, 24274, 24275, 24276, 24277]\n",
      "[24431, 24432, 24433, 24434, 24435]\n",
      "[24911, 24912, 24913, 24914, 24915]\n",
      "[24949, 24950, 24951, 24952, 24953]\n",
      "[24960, 24961, 24962, 24963, 24964, 24965]\n",
      "[25040, 25041, 25042, 25043, 25044, 25045]\n",
      "[25049, 25050, 25051, 25052, 25053]\n",
      "[25084, 25085, 25086, 25087, 25088]\n",
      "[25148, 25149, 25150, 25151, 25152]\n",
      "[25228, 25229, 25230, 25231, 25232, 25233]\n",
      "[25249, 25250, 25251, 25252, 25253]\n",
      "[25280, 25281, 25282, 25283, 25284]\n",
      "[25363, 25364, 25365, 25366, 25367, 25368]\n",
      "[25463, 25464, 25465, 25466, 25467]\n",
      "[25987, 25988, 25989, 25990, 25991, 25992]\n",
      "[26177, 26178, 26179, 26180, 26181]\n",
      "[26535, 26536, 26537, 26538, 26539]\n",
      "[26636, 26637, 26638, 26639, 26640, 26641]\n",
      "[26722, 26723, 26724, 26725, 26726]\n",
      "[26757, 26758, 26759, 26760, 26761, 26762, 26763]\n",
      "[26907, 26908, 26909, 26910, 26911]\n",
      "[27021, 27022, 27023, 27024, 27025, 27026]\n",
      "[27041, 27042, 27043, 27044, 27045, 27046, 27047, 27048]\n",
      "[27073, 27074, 27075, 27076, 27077, 27078]\n",
      "[27141, 27142, 27143, 27144, 27145]\n",
      "[27698, 27699, 27700, 27701, 27702]\n",
      "[27720, 27721, 27722, 27723, 27724]\n",
      "[27786, 27787, 27788, 27789, 27790, 27791]\n",
      "[28074, 28075, 28076, 28077, 28078]\n",
      "[28327, 28328, 28329, 28330, 28331, 28332, 28333, 28334]\n",
      "[28540, 28541, 28542, 28543, 28544, 28545]\n",
      "[28588, 28589, 28590, 28591, 28592]\n",
      "[28701, 28702, 28703, 28704, 28705]\n",
      "[29177, 29178, 29179, 29180, 29181]\n",
      "[29724, 29725, 29726, 29727, 29728, 29729, 29730, 29731]\n",
      "[29738, 29739, 29740, 29741, 29742, 29743, 29744, 29745, 29746]\n",
      "[29755, 29756, 29757, 29758, 29759, 29760, 29761, 29762, 29763]\n",
      "[29800, 29801, 29802, 29803, 29804]\n",
      "[29842, 29843, 29844, 29845, 29846, 29847, 29848]\n",
      "[34054, 34055, 34056, 34057, 34058]\n",
      "[35435, 35436, 35437, 35438, 35439]\n",
      "[46140, 46141, 46142, 46143, 46144]\n",
      "[46195, 46196, 46197, 46198, 46199]\n",
      "[50400, 50401, 50402, 50403, 50404, 50405]\n",
      "[50548, 50549, 50550, 50551, 50552]\n",
      "[54403, 54404, 54405, 54406, 54407]\n",
      "[54409, 54410, 54411, 54412, 54413, 54414, 54415, 54416, 54417, 54418, 54419, 54420, 54421, 54422, 54423, 54424, 54425, 54426, 54427, 54428, 54429, 54430, 54431, 54432]\n",
      "[54434, 54435, 54436, 54437, 54438, 54439, 54440, 54441, 54442, 54443, 54444, 54445, 54446, 54447, 54448, 54449, 54450, 54451, 54452, 54453, 54454, 54455, 54456, 54457, 54458, 54459, 54460, 54461, 54462, 54463, 54464, 54465, 54466, 54467, 54468, 54469, 54470, 54471, 54472]\n",
      "[54474, 54475, 54476, 54477, 54478, 54479, 54480, 54481, 54482, 54483, 54484, 54485, 54486, 54487, 54488, 54489, 54490]\n",
      "[54493, 54494, 54495, 54496, 54497, 54498, 54499, 54500, 54501, 54502, 54503, 54504, 54505, 54506, 54507, 54508, 54509, 54510, 54511, 54512, 54513, 54514, 54515, 54516, 54517, 54518, 54519, 54520, 54521, 54522, 54523, 54524, 54525, 54526, 54527, 54528, 54529, 54530, 54531, 54532, 54533, 54534, 54535, 54536, 54537, 54538, 54539, 54540, 54541, 54542, 54543, 54544, 54545, 54546, 54547, 54548, 54549, 54550, 54551, 54552, 54553, 54554, 54555, 54556, 54557, 54558, 54559, 54560, 54561, 54562, 54563, 54564]\n",
      "[54567, 54568, 54569, 54570, 54571, 54572, 54573, 54574, 54575, 54576, 54577, 54578, 54579, 54580, 54581, 54582]\n",
      "[54587, 54588, 54589, 54590, 54591, 54592, 54593, 54594, 54595, 54596, 54597, 54598, 54599]\n",
      "[54603, 54604, 54605, 54606, 54607, 54608, 54609, 54610, 54611]\n",
      "[54615, 54616, 54617, 54618, 54619, 54620, 54621, 54622]\n",
      "[54624, 54625, 54626, 54627, 54628, 54629]\n",
      "[54637, 54638, 54639, 54640, 54641, 54642, 54643, 54644, 54645]\n",
      "[54648, 54649, 54650, 54651, 54652, 54653, 54654, 54655, 54656]\n",
      "[54659, 54660, 54661, 54662, 54663, 54664, 54665, 54666, 54667, 54668, 54669, 54670, 54671, 54672, 54673, 54674, 54675, 54676, 54677, 54678, 54679, 54680, 54681, 54682]\n",
      "[54689, 54690, 54691, 54692, 54693, 54694, 54695, 54696, 54697, 54698, 54699, 54700, 54701, 54702, 54703, 54704, 54705, 54706, 54707, 54708, 54709, 54710, 54711, 54712, 54713, 54714, 54715, 54716, 54717, 54718, 54719]\n",
      "[54721, 54722, 54723, 54724, 54725, 54726, 54727, 54728, 54729, 54730, 54731, 54732, 54733]\n",
      "[54748, 54749, 54750, 54751, 54752, 54753, 54754, 54755]\n",
      "[54766, 54767, 54768, 54769, 54770, 54771]\n",
      "[54788, 54789, 54790, 54791, 54792]\n",
      "[54823, 54824, 54825, 54826, 54827, 54828, 54829, 54830]\n",
      "[54867, 54868, 54869, 54870, 54871, 54872, 54873, 54874, 54875, 54876, 54877, 54878, 54879, 54880, 54881, 54882, 54883, 54884, 54885, 54886, 54887, 54888, 54889, 54890, 54891, 54892, 54893, 54894, 54895, 54896, 54897, 54898, 54899, 54900, 54901, 54902, 54903, 54904, 54905, 54906, 54907, 54908, 54909, 54910, 54911, 54912]\n",
      "[54914, 54915, 54916, 54917, 54918, 54919, 54920, 54921, 54922, 54923, 54924, 54925, 54926, 54927, 54928, 54929, 54930, 54931, 54932, 54933, 54934, 54935, 54936, 54937, 54938]\n"
     ]
    }
   ],
   "source": [
    "from itertools import groupby\n",
    "from operator import itemgetter\n",
    "group_bound = np.array([0, 0], dtype=np.int32)\n",
    "\n",
    "for k, g in groupby(enumerate(supra_bits), lambda (i, x): i-x):\n",
    "    group = map(itemgetter(1), g)\n",
    "    if len(group) >= bits_bout:\n",
    "        group_bound = np.vstack((group_bound, np.array([group[0], group[-1]])) )\n",
    "        print group\n",
    "group_bound = np.delete(group_bound, 0, axis=0)"
   ]
  },
  {
   "cell_type": "code",
   "execution_count": 209,
   "metadata": {
    "collapsed": false
   },
   "outputs": [
    {
     "data": {
      "text/plain": [
       "array([[ 5671,  5675],\n",
       "       [ 5831,  5835],\n",
       "       [ 6036,  6040],\n",
       "       [ 6129,  6133],\n",
       "       [ 6561,  6565],\n",
       "       [ 6607,  6611],\n",
       "       [ 6889,  6893],\n",
       "       [ 6938,  6942],\n",
       "       [ 6960,  6965],\n",
       "       [ 7011,  7017],\n",
       "       [ 7144,  7148],\n",
       "       [ 7230,  7234],\n",
       "       [ 7782,  7787],\n",
       "       [ 8747,  8751],\n",
       "       [ 8799,  8803],\n",
       "       [ 9113,  9117],\n",
       "       [ 9142,  9146],\n",
       "       [ 9332,  9336],\n",
       "       [ 9716,  9720],\n",
       "       [ 9873,  9883],\n",
       "       [ 9942,  9946],\n",
       "       [ 9982,  9986],\n",
       "       [10549, 10556],\n",
       "       [10591, 10599],\n",
       "       [10650, 10654],\n",
       "       [10660, 10664],\n",
       "       [10706, 10710],\n",
       "       [10765, 10769],\n",
       "       [10792, 10796],\n",
       "       [10870, 10874],\n",
       "       [11033, 11037],\n",
       "       [11474, 11478],\n",
       "       [11492, 11499],\n",
       "       [11512, 11520],\n",
       "       [11605, 11609],\n",
       "       [12589, 12593],\n",
       "       [12638, 12642],\n",
       "       [12993, 12997],\n",
       "       [13147, 13151],\n",
       "       [13264, 13268],\n",
       "       [13273, 13277],\n",
       "       [13352, 13356],\n",
       "       [13557, 13561],\n",
       "       [13608, 13612],\n",
       "       [13828, 13833],\n",
       "       [13936, 13941],\n",
       "       [14003, 14007],\n",
       "       [14037, 14041],\n",
       "       [14089, 14093],\n",
       "       [14364, 14368],\n",
       "       [14374, 14378],\n",
       "       [14512, 14516],\n",
       "       [14649, 14653],\n",
       "       [14766, 14770],\n",
       "       [16267, 16271],\n",
       "       [16285, 16292],\n",
       "       [16337, 16341],\n",
       "       [16382, 16387],\n",
       "       [16527, 16531],\n",
       "       [16708, 16712],\n",
       "       [16862, 16866],\n",
       "       [16930, 16934],\n",
       "       [17040, 17044],\n",
       "       [17560, 17565],\n",
       "       [18051, 18055],\n",
       "       [18277, 18284],\n",
       "       [18383, 18387],\n",
       "       [19084, 19088],\n",
       "       [19099, 19103],\n",
       "       [19130, 19134],\n",
       "       [19283, 19289],\n",
       "       [19374, 19379],\n",
       "       [19404, 19411],\n",
       "       [19487, 19493],\n",
       "       [19651, 19655],\n",
       "       [19799, 19804],\n",
       "       [19871, 19876],\n",
       "       [20014, 20018],\n",
       "       [20675, 20682],\n",
       "       [20737, 20744],\n",
       "       [20773, 20777],\n",
       "       [20793, 20797],\n",
       "       [21104, 21108],\n",
       "       [21259, 21263],\n",
       "       [21400, 21407],\n",
       "       [21563, 21567],\n",
       "       [21627, 21631],\n",
       "       [21666, 21670],\n",
       "       [21746, 21750],\n",
       "       [21785, 21789],\n",
       "       [21945, 21949],\n",
       "       [21971, 21976],\n",
       "       [22007, 22011],\n",
       "       [22057, 22063],\n",
       "       [22078, 22083],\n",
       "       [22151, 22156],\n",
       "       [22170, 22175],\n",
       "       [22455, 22459],\n",
       "       [22857, 22864],\n",
       "       [23080, 23084],\n",
       "       [23563, 23567],\n",
       "       [23626, 23630],\n",
       "       [23838, 23843],\n",
       "       [23874, 23878],\n",
       "       [24162, 24166],\n",
       "       [24273, 24277],\n",
       "       [24431, 24435],\n",
       "       [24911, 24915],\n",
       "       [24949, 24953],\n",
       "       [24960, 24965],\n",
       "       [25040, 25045],\n",
       "       [25049, 25053],\n",
       "       [25084, 25088],\n",
       "       [25148, 25152],\n",
       "       [25228, 25233],\n",
       "       [25249, 25253],\n",
       "       [25280, 25284],\n",
       "       [25363, 25368],\n",
       "       [25463, 25467],\n",
       "       [25987, 25992],\n",
       "       [26177, 26181],\n",
       "       [26535, 26539],\n",
       "       [26636, 26641],\n",
       "       [26722, 26726],\n",
       "       [26757, 26763],\n",
       "       [26907, 26911],\n",
       "       [27021, 27026],\n",
       "       [27041, 27048],\n",
       "       [27073, 27078],\n",
       "       [27141, 27145],\n",
       "       [27698, 27702],\n",
       "       [27720, 27724],\n",
       "       [27786, 27791],\n",
       "       [28074, 28078],\n",
       "       [28327, 28334],\n",
       "       [28540, 28545],\n",
       "       [28588, 28592],\n",
       "       [28701, 28705],\n",
       "       [29177, 29181],\n",
       "       [29724, 29731],\n",
       "       [29738, 29746],\n",
       "       [29755, 29763],\n",
       "       [29800, 29804],\n",
       "       [29842, 29848],\n",
       "       [34054, 34058],\n",
       "       [35435, 35439],\n",
       "       [46140, 46144],\n",
       "       [46195, 46199],\n",
       "       [50400, 50405],\n",
       "       [50548, 50552],\n",
       "       [54403, 54407],\n",
       "       [54409, 54432],\n",
       "       [54434, 54472],\n",
       "       [54474, 54490],\n",
       "       [54493, 54564],\n",
       "       [54567, 54582],\n",
       "       [54587, 54599],\n",
       "       [54603, 54611],\n",
       "       [54615, 54622],\n",
       "       [54624, 54629],\n",
       "       [54637, 54645],\n",
       "       [54648, 54656],\n",
       "       [54659, 54682],\n",
       "       [54689, 54719],\n",
       "       [54721, 54733],\n",
       "       [54748, 54755],\n",
       "       [54766, 54771],\n",
       "       [54788, 54792],\n",
       "       [54823, 54830],\n",
       "       [54867, 54912],\n",
       "       [54914, 54938]])"
      ]
     },
     "execution_count": 209,
     "metadata": {},
     "output_type": "execute_result"
    }
   ],
   "source": [
    "group_bound"
   ]
  },
  {
   "cell_type": "code",
   "execution_count": 239,
   "metadata": {
    "collapsed": false
   },
   "outputs": [
    {
     "data": {
      "text/plain": [
       "[54969, 54970, 54971]"
      ]
     },
     "execution_count": 239,
     "metadata": {},
     "output_type": "execute_result"
    }
   ],
   "source": [
    "group"
   ]
  },
  {
   "cell_type": "code",
   "execution_count": 199,
   "metadata": {
    "collapsed": false
   },
   "outputs": [],
   "source": [
    "group_bound = np.zeros((1,2), dtype=np.int32)\n",
    "group_bound[:] = np.nan"
   ]
  },
  {
   "cell_type": "code",
   "execution_count": 200,
   "metadata": {
    "collapsed": false
   },
   "outputs": [
    {
     "data": {
      "text/plain": [
       "array([[-2147483648, -2147483648]], dtype=int32)"
      ]
     },
     "execution_count": 200,
     "metadata": {},
     "output_type": "execute_result"
    }
   ],
   "source": [
    "group_bound"
   ]
  },
  {
   "cell_type": "code",
   "execution_count": null,
   "metadata": {
    "collapsed": true
   },
   "outputs": [],
   "source": []
  }
 ],
 "metadata": {
  "kernelspec": {
   "display_name": "Python 2",
   "language": "python",
   "name": "python2"
  },
  "language_info": {
   "codemirror_mode": {
    "name": "ipython",
    "version": 2
   },
   "file_extension": ".py",
   "mimetype": "text/x-python",
   "name": "python",
   "nbconvert_exporter": "python",
   "pygments_lexer": "ipython2",
   "version": "2.7.11"
  }
 },
 "nbformat": 4,
 "nbformat_minor": 0
}
