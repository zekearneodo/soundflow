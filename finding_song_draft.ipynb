{
 "cells": [
  {
   "cell_type": "code",
   "execution_count": 195,
   "metadata": {
    "collapsed": false
   },
   "outputs": [
    {
     "name": "stdout",
     "output_type": "stream",
     "text": [
      "Computer: lookfar.local\n"
     ]
    }
   ],
   "source": [
    "#notebook for testing the search of song in a wav file\n",
    "\n",
    "## Load everything\n",
    "%matplotlib inline\n",
    "import pdb\n",
    "import sys\n",
    "import numpy as np\n",
    "import scipy.io as sio\n",
    "import matplotlib.pyplot as plt\n",
    "import matplotlib\n",
    "import scipy.signal as sg\n",
    "import math\n",
    "import scipy as sp\n",
    "import socket\n",
    "import os\n",
    "\n",
    "matplotlib.style.use('ggplot')\n",
    "\n",
    "# Set up Computer and paths\n",
    "comp_name=socket.gethostname()\n",
    "print 'Computer: ' + comp_name\n",
    "if  comp_name == 'chim':\n",
    "    sys.path.append('C:\\Users\\GentnerLab\\Documents\\Experiment\\scripts\\sound_tools')\n",
    "    experiment_folder = os.path.join('C:\\Users\\GentnerLab\\Documents\\Experiment')\n",
    "    r = os.path.join('C:\\Users\\GentnerLab\\Documents\\Experiment')\n",
    "    raw_data_folder = os.path.join(experiment_folder, 'raw_data')\n",
    "\n",
    "if 'lintu' in comp_name:\n",
    "    sys.path.append('/mnt/cube/earneodo/repos/soundflow/sound_tools')\n",
    "    experiment_folder = os.path.join('/mnt/cube/earneodo/bci_zf/')\n",
    "    raw_data_folder = os.path.join(experiment_folder, 'raw_data')\n",
    "\n",
    "if 'lookfar' in comp_name:\n",
    "    sys.path.append('/Users/zeke/repos/soundflow/sound_tools')\n",
    "    experiment_folder = os.path.join('/Volumes/gentner/earneodo/bci_zf/')\n",
    "    raw_data_folder = os.path.join(experiment_folder, 'raw_data')\n",
    "\n",
    "#grab soundtools\n",
    "from soundtools import WavData, Chunk\n",
    "    \n",
    "#file structure\n",
    "bird_id = 'z003'\n",
    "sess = 1\n",
    "rec = 'a'\n",
    "run = 5\n",
    "bout = '2251_869'\n",
    "\n",
    "#load the bout and the whole sound file for searching\n",
    "raw_file_folder = os.path.join(raw_data_folder, bird_id, str(sess).zfill(3))\n",
    "raw_file_name = rec + '_' + str(run).zfill(2) + '_song.wav'\n",
    "raw_file_path = os.path.join(raw_file_folder, raw_file_name)\n",
    "\n",
    "#the whole sound\n",
    "all_sound = WavData(raw_file_path)\n",
    "\n",
    "#the bout\n",
    "if bout is not None:\n",
    "    raw_file_folder = os.path.join(raw_file_folder, 'bouts')\n",
    "    raw_file_name = rec + '_' + str(run).zfill(2) + '_song_' + bout + '.wav'\n",
    "\n",
    "raw_file_path = os.path.join(raw_file_folder, raw_file_name)\n",
    "bout_sound = WavData(raw_file_path)"
   ]
  },
  {
   "cell_type": "code",
   "execution_count": 196,
   "metadata": {
    "collapsed": true
   },
   "outputs": [],
   "source": [
    "#functions that should be in a package\n",
    "def rms(x):\n",
    "    return np.linalg.norm(x)\n",
    "\n",
    "def mad(x):\n",
    "    med = np.median(x)\n",
    "    dev = np.abs(x - np.median(x))\n",
    "    return np.median(dev)\n",
    "\n",
    "def identity(x):\n",
    "    return x\n",
    "\n",
    "#decorator for getting the rms after applying a filter to a segment\n",
    "def rms_after_filter(filter_func):\n",
    "    def out_of_filtered(*args, **kwargs):\n",
    "        #print \"Arguments were: %s, %s\" % (args, kwargs)\n",
    "        #plt.plot(np.transpose(filter_func(*args, **kwargs)))\n",
    "        return np.linalg.norm(filter_func(*args, **kwargs))\n",
    "    return out_of_filtered"
   ]
  },
  {
   "cell_type": "code",
   "execution_count": 197,
   "metadata": {
    "collapsed": true
   },
   "outputs": [],
   "source": [
    "# preparations and parameters\n",
    "# filter parameters and filter function\n",
    "#filter the signal\n",
    "s_f = all_sound.s_f\n",
    "\n",
    "#The band where we expect most of the energy of zf song to be in\n",
    "filt_lo = 10000 #Hz\n",
    "filt_hi = 400 #Hz\n",
    "hp_b, hp_a = sg.butter(4, filt_hi/(s_f/2.), btype='high')\n",
    "lp_b, lp_a = sg.butter(4, filt_lo/(s_f/2.), btype='low')\n",
    "\n",
    "\n",
    "def band_pass_filter(chunk, hp_b, hp_a, lp_b, lp_a):    \n",
    "    chunk_hi = sg.filtfilt(hp_b, hp_a, chunk)\n",
    "    chunk_filt = sg.filtfilt(lp_b, lp_a, chunk_hi)\n",
    "    return chunk_filt\n",
    "\n",
    "@rms_after_filter\n",
    "def rms_band_pass_filter(chunk, hp_b, hp_a, lp_b, lp_a):\n",
    "    #plt.plot(np.transpose(chunk))\n",
    "    chunk_hi = sg.filtfilt(hp_b, hp_a, chunk)\n",
    "    chunk_filt = sg.filtfilt(lp_b, lp_a, chunk_hi)\n",
    "    return chunk_filt\n",
    "\n",
    "@rms_after_filter\n",
    "def rms_identity(chunk):\n",
    "    return(chunk)"
   ]
  },
  {
   "cell_type": "code",
   "execution_count": 198,
   "metadata": {
    "collapsed": false
   },
   "outputs": [
    {
     "ename": "KeyboardInterrupt",
     "evalue": "",
     "output_type": "error",
     "traceback": [
      "\u001b[0;31m---------------------------------------------------------------------------\u001b[0m",
      "\u001b[0;31mKeyboardInterrupt\u001b[0m                         Traceback (most recent call last)",
      "\u001b[0;32m<ipython-input-198-84ce58b1fc18>\u001b[0m in \u001b[0;36m<module>\u001b[0;34m()\u001b[0m\n\u001b[1;32m      8\u001b[0m \u001b[0mall_starts\u001b[0m \u001b[0;34m=\u001b[0m \u001b[0mnp\u001b[0m\u001b[0;34m.\u001b[0m\u001b[0marange\u001b[0m\u001b[0;34m(\u001b[0m\u001b[0;36m0\u001b[0m\u001b[0;34m,\u001b[0m \u001b[0mall_sound\u001b[0m\u001b[0;34m.\u001b[0m\u001b[0mn_samples\u001b[0m \u001b[0;34m-\u001b[0m \u001b[0mbit_size_sample\u001b[0m\u001b[0;34m,\u001b[0m \u001b[0mbit_size_sample\u001b[0m\u001b[0;34m)\u001b[0m\u001b[0;34m\u001b[0m\u001b[0m\n\u001b[1;32m      9\u001b[0m \u001b[0;34m\u001b[0m\u001b[0m\n\u001b[0;32m---> 10\u001b[0;31m \u001b[0mall_rms\u001b[0m \u001b[0;34m=\u001b[0m \u001b[0mall_sound\u001b[0m\u001b[0;34m.\u001b[0m\u001b[0mapply_repeated\u001b[0m\u001b[0;34m(\u001b[0m\u001b[0mall_starts\u001b[0m\u001b[0;34m,\u001b[0m \u001b[0mbit_size_sample\u001b[0m\u001b[0;34m,\u001b[0m \u001b[0mrms_band_pass_filter\u001b[0m\u001b[0;34m,\u001b[0m \u001b[0mhp_b\u001b[0m\u001b[0;34m,\u001b[0m \u001b[0mhp_a\u001b[0m\u001b[0;34m,\u001b[0m \u001b[0mlp_b\u001b[0m\u001b[0;34m,\u001b[0m \u001b[0mlp_a\u001b[0m\u001b[0;34m)\u001b[0m\u001b[0;34m\u001b[0m\u001b[0m\n\u001b[0m\u001b[1;32m     11\u001b[0m \u001b[0;34m\u001b[0m\u001b[0m\n\u001b[1;32m     12\u001b[0m \u001b[0mthresh_rms\u001b[0m \u001b[0;34m=\u001b[0m \u001b[0mnp\u001b[0m\u001b[0;34m.\u001b[0m\u001b[0mmedian\u001b[0m\u001b[0;34m(\u001b[0m\u001b[0mall_rms\u001b[0m\u001b[0;34m)\u001b[0m \u001b[0;34m+\u001b[0m \u001b[0mthreshold\u001b[0m \u001b[0;34m*\u001b[0m \u001b[0mmad\u001b[0m\u001b[0;34m(\u001b[0m\u001b[0mall_rms\u001b[0m\u001b[0;34m)\u001b[0m\u001b[0;34m\u001b[0m\u001b[0m\n",
      "\u001b[0;32m/Users/zeke/repos/soundflow/sound_tools/soundtools.py\u001b[0m in \u001b[0;36mapply_repeated\u001b[0;34m(self, starts, window, scalar_func, *args, **kwargs)\u001b[0m\n\u001b[1;32m     42\u001b[0m         \u001b[0my\u001b[0m \u001b[0;34m=\u001b[0m \u001b[0mnp\u001b[0m\u001b[0;34m.\u001b[0m\u001b[0mempty_like\u001b[0m\u001b[0;34m(\u001b[0m\u001b[0mstarts\u001b[0m\u001b[0;34m)\u001b[0m\u001b[0;34m\u001b[0m\u001b[0m\n\u001b[1;32m     43\u001b[0m         \u001b[0;32mfor\u001b[0m \u001b[0mi_s\u001b[0m\u001b[0;34m,\u001b[0m \u001b[0mstart\u001b[0m \u001b[0;32min\u001b[0m \u001b[0menumerate\u001b[0m\u001b[0;34m(\u001b[0m\u001b[0mstarts\u001b[0m\u001b[0;34m)\u001b[0m\u001b[0;34m:\u001b[0m\u001b[0;34m\u001b[0m\u001b[0m\n\u001b[0;32m---> 44\u001b[0;31m             \u001b[0ma_chunk\u001b[0m \u001b[0;34m=\u001b[0m \u001b[0mChunk\u001b[0m\u001b[0;34m(\u001b[0m\u001b[0mself\u001b[0m\u001b[0;34m,\u001b[0m \u001b[0msegment\u001b[0m\u001b[0;34m=\u001b[0m\u001b[0;34m[\u001b[0m\u001b[0mstart\u001b[0m\u001b[0;34m,\u001b[0m \u001b[0mstart\u001b[0m \u001b[0;34m+\u001b[0m \u001b[0mwindow\u001b[0m\u001b[0;34m]\u001b[0m\u001b[0;34m)\u001b[0m\u001b[0;34m\u001b[0m\u001b[0m\n\u001b[0m\u001b[1;32m     45\u001b[0m             \u001b[0my\u001b[0m\u001b[0;34m[\u001b[0m\u001b[0mi_s\u001b[0m\u001b[0;34m]\u001b[0m \u001b[0;34m=\u001b[0m \u001b[0mscalar_func\u001b[0m\u001b[0;34m(\u001b[0m\u001b[0ma_chunk\u001b[0m\u001b[0;34m.\u001b[0m\u001b[0mdata\u001b[0m\u001b[0;34m,\u001b[0m \u001b[0;34m*\u001b[0m\u001b[0margs\u001b[0m\u001b[0;34m,\u001b[0m \u001b[0;34m**\u001b[0m\u001b[0mkwargs\u001b[0m\u001b[0;34m)\u001b[0m\u001b[0;34m\u001b[0m\u001b[0m\n\u001b[1;32m     46\u001b[0m \u001b[0;34m\u001b[0m\u001b[0m\n",
      "\u001b[0;32m/Users/zeke/repos/soundflow/sound_tools/soundtools.py\u001b[0m in \u001b[0;36m__init__\u001b[0;34m(self, sound, chan_list, segment)\u001b[0m\n\u001b[1;32m     77\u001b[0m \u001b[0;34m\u001b[0m\u001b[0m\n\u001b[1;32m     78\u001b[0m         \u001b[0;31m# Read the data\u001b[0m\u001b[0;34m\u001b[0m\u001b[0;34m\u001b[0m\u001b[0m\n\u001b[0;32m---> 79\u001b[0;31m         \u001b[0mself\u001b[0m\u001b[0;34m.\u001b[0m\u001b[0mdata\u001b[0m \u001b[0;34m=\u001b[0m \u001b[0msound\u001b[0m\u001b[0;34m.\u001b[0m\u001b[0mget_chunk\u001b[0m\u001b[0;34m(\u001b[0m\u001b[0mself\u001b[0m\u001b[0;34m.\u001b[0m\u001b[0mstart\u001b[0m\u001b[0;34m,\u001b[0m \u001b[0mself\u001b[0m\u001b[0;34m.\u001b[0m\u001b[0mend\u001b[0m\u001b[0;34m,\u001b[0m \u001b[0mchan_list\u001b[0m\u001b[0;34m=\u001b[0m\u001b[0mchan_list\u001b[0m\u001b[0;34m)\u001b[0m\u001b[0;34m\u001b[0m\u001b[0m\n\u001b[0m\u001b[1;32m     80\u001b[0m \u001b[0;34m\u001b[0m\u001b[0m\n\u001b[1;32m     81\u001b[0m     \u001b[0;32mdef\u001b[0m \u001b[0mapply_filter\u001b[0m\u001b[0;34m(\u001b[0m\u001b[0mself\u001b[0m\u001b[0;34m,\u001b[0m \u001b[0mfilter_func\u001b[0m\u001b[0;34m,\u001b[0m \u001b[0;34m*\u001b[0m\u001b[0margs\u001b[0m\u001b[0;34m,\u001b[0m \u001b[0;34m**\u001b[0m\u001b[0mkwargs\u001b[0m\u001b[0;34m)\u001b[0m\u001b[0;34m:\u001b[0m\u001b[0;34m\u001b[0m\u001b[0m\n",
      "\u001b[0;32m/Users/zeke/repos/soundflow/sound_tools/soundtools.py\u001b[0m in \u001b[0;36mget_chunk\u001b[0;34m(self, start, end, chan_list)\u001b[0m\n\u001b[1;32m     31\u001b[0m         \u001b[0mdata_unpacked\u001b[0m \u001b[0;34m=\u001b[0m \u001b[0mstruct\u001b[0m\u001b[0;34m.\u001b[0m\u001b[0munpack\u001b[0m\u001b[0;34m(\u001b[0m\u001b[0;34m'<'\u001b[0m \u001b[0;34m+\u001b[0m \u001b[0mstr\u001b[0m\u001b[0;34m(\u001b[0m\u001b[0;34m(\u001b[0m\u001b[0mend\u001b[0m \u001b[0;34m-\u001b[0m \u001b[0mstart\u001b[0m\u001b[0;34m)\u001b[0m\u001b[0;34m*\u001b[0m\u001b[0mn_chans\u001b[0m\u001b[0;34m)\u001b[0m \u001b[0;34m+\u001b[0m \u001b[0mdata_type\u001b[0m\u001b[0;34m,\u001b[0m \u001b[0mchunk_bit\u001b[0m\u001b[0;34m)\u001b[0m\u001b[0;34m\u001b[0m\u001b[0m\n\u001b[1;32m     32\u001b[0m         \u001b[0;32mfor\u001b[0m \u001b[0mi\u001b[0m\u001b[0;34m,\u001b[0m \u001b[0mchannel\u001b[0m \u001b[0;32min\u001b[0m \u001b[0menumerate\u001b[0m\u001b[0;34m(\u001b[0m\u001b[0mchan_list\u001b[0m\u001b[0;34m)\u001b[0m\u001b[0;34m:\u001b[0m\u001b[0;34m\u001b[0m\u001b[0m\n\u001b[0;32m---> 33\u001b[0;31m             \u001b[0mdata\u001b[0m\u001b[0;34m[\u001b[0m\u001b[0mi\u001b[0m\u001b[0;34m,\u001b[0m \u001b[0;34m:\u001b[0m\u001b[0;34m]\u001b[0m \u001b[0;34m=\u001b[0m \u001b[0mdata_unpacked\u001b[0m\u001b[0;34m[\u001b[0m\u001b[0mchannel\u001b[0m\u001b[0;34m:\u001b[0m\u001b[0;34m:\u001b[0m\u001b[0mn_chans\u001b[0m\u001b[0;34m]\u001b[0m\u001b[0;34m\u001b[0m\u001b[0m\n\u001b[0m\u001b[1;32m     34\u001b[0m \u001b[0;34m\u001b[0m\u001b[0m\n\u001b[1;32m     35\u001b[0m         \u001b[0mdata\u001b[0m \u001b[0;34m=\u001b[0m \u001b[0mnp\u001b[0m\u001b[0;34m.\u001b[0m\u001b[0marray\u001b[0m\u001b[0;34m(\u001b[0m\u001b[0mdata\u001b[0m\u001b[0;34m,\u001b[0m \u001b[0mdtype\u001b[0m\u001b[0;34m=\u001b[0m\u001b[0mnp\u001b[0m\u001b[0;34m.\u001b[0m\u001b[0mint64\u001b[0m\u001b[0;34m)\u001b[0m\u001b[0;34m\u001b[0m\u001b[0m\n",
      "\u001b[0;31mKeyboardInterrupt\u001b[0m: "
     ]
    }
   ],
   "source": [
    "#Parameters of the search\n",
    "bit_size = 100 # ms; size of sound bits\n",
    "refractory = 5 # bits; refractory period in bits\n",
    "bits_bout = 5 # bits; how many bouts together is considered a bout\n",
    "threshold = 5 # threshold in mads (median deviation of the median)\n",
    "\n",
    "bit_size_sample = np.int(bit_size*all_sound.s_f*0.001)\n",
    "all_starts = np.arange(0, all_sound.n_samples - bit_size_sample, bit_size_sample)\n",
    "\n",
    "all_rms = all_sound.apply_repeated(all_starts, bit_size_sample, rms_band_pass_filter, hp_b, hp_a, lp_b, lp_a)\n",
    "\n",
    "thresh_rms = np.median(all_rms) + threshold * mad(all_rms)\n",
    "\n",
    "print np.median(all_rms)\n",
    "print mad(all_rms)\n",
    "print thresh_rms"
   ]
  },
  {
   "cell_type": "code",
   "execution_count": null,
   "metadata": {
    "collapsed": false
   },
   "outputs": [],
   "source": [
    "supra_bits = np.where(all_rms > thresh_rms)[0]\n",
    "plt.plot(np.arange(supra_bits.size), supra_bits, '*')\n",
    "\n",
    "\n",
    "for bit, start in enumerate(supra_bits, all_starts[supra_bits]):\n",
    "    #check if it is the beginning of a chunk\n",
    "    if diff(supra_bits[bit:bit+bits_bout+1] == 0)\n",
    "        begin = bit\n",
    "        "
   ]
  },
  {
   "cell_type": "code",
   "execution_count": null,
   "metadata": {
    "collapsed": true
   },
   "outputs": [],
   "source": [
    "# Starts of probable bouts\n",
    "possible_bouts = np.where(np.diff(supra_bits, bits_bout)==0)[0]\n",
    "firsts = possible_bouts[np.where(np.diff(possible_bouts,1)>10)[0]+1]\n",
    "firsts = np.insert(firsts, 0, possible_bouts[0])\n",
    "lasts = possible_bouts[np.where(np.diff(possible_bouts,1)>10)[0]-1]\n",
    "lasts = np.insert(lasts, lasts.size, possible_bouts[-1])\n",
    "\n",
    "assert(firsts.size == lasts.size)\n",
    "segments = np.array([firsts, lasts])\n",
    "more = 2\n",
    "i=12\n",
    "start = all_starts[segments[0, i]] - more * bits_bout \n",
    "end = all_starts[segments[1, i]] + more * bits_bout\n",
    "start = start if start > 0 else 0\n",
    "end = end if end < all_sound.n_samples else all_sound.n_samples\n",
    "sg_chunk = Chunk(all_sound, segment = [start, end])\n",
    "plt.plot(np.transpose(sg_chunk.data))"
   ]
  },
  {
   "cell_type": "code",
   "execution_count": null,
   "metadata": {
    "collapsed": false
   },
   "outputs": [],
   "source": [
    "# Starts of probable bouts\n",
    "possible_bouts = np.where(np.diff(supra_bits, bits_bout)==0)[0]\n",
    "\n",
    "#get begginings of bits_bout chunks above threshold\n",
    "firsts = possible_bouts[np.where(np.diff(possible_bouts,1)>1)[0]+1]\n",
    "firsts = np.insert(firsts, 0, possible_bouts[0])\n",
    "\n",
    "lasts = possible_bouts[np.where(np.diff(possible_bouts,1)>1)[0]] + bits_bout\n",
    "lasts = np.insert(lasts, lasts.size, possible_bouts[-1]) \n",
    "\n",
    "#gather segments that are less than refractory apart\n",
    "together = np.where((firsts[1:] - lasts[:-1]) < refractory)[0]\n",
    "\n",
    "lasts = np.delete(lasts, together)\n",
    "firsts = np.delete(firsts, together +1)\n",
    "assert(firsts.size == lasts.size)\n",
    "\n",
    "segments = np.array([all_starts[supra_bits[firsts]], all_starts[supra_bits[lasts]]])\n",
    "assert(np.all(np.diff(segments, axis=0)[0]>0))\n"
   ]
  },
  {
   "cell_type": "code",
   "execution_count": null,
   "metadata": {
    "collapsed": false
   },
   "outputs": [],
   "source": [
    "#Make a chunk with each segment and record it to a file\n",
    "more = 2 #how many bits before and after to save\n",
    "n_seg = segments.shape[1]\n",
    "\n",
    "bout_file_name = rec + '_' + str(run).zfill(2) + 'bouts.wav'\n",
    "bout_file_path = os.path.join(raw_file_folder, bout_file_name)\n",
    "\n",
    "bout_file_path = '/Users/zeke/bout_test.wav'\n",
    "\n",
    "import wave\n",
    "import struct\n",
    "\n",
    "bouts_out = wave.open(bout_file_path, 'w')\n",
    "bouts_out.setparams((all_sound.n_chans, 2, all_sound.s_f, 0, 'NONE', 'not compressed'))\n",
    "\n",
    "for seg in segments.T:\n",
    "    seg = seg + np.array([-more, more])* bit_size_sample\n",
    "\n",
    "    start = seg[0] if seg[0] > 0 else 0\n",
    "    end = seg[1] if seg[1] < all_sound.n_samples else all_sound.n_samples\n",
    "    #print start, end\n",
    "    sg_chunk = Chunk(all_sound, segment = [start, end])\n",
    "    # save the chunk to a data file\n",
    "    data_out = np.array(sg_chunk.data, dtype=np.int16)[0]\n",
    "    packed_data = struct.pack('<' + str((end - start)) + 'h', *data_out)\n",
    "    bouts_out.writeframes(data_out)\n",
    "\n",
    "bouts_out.close()"
   ]
  },
  {
   "cell_type": "code",
   "execution_count": null,
   "metadata": {
    "collapsed": false
   },
   "outputs": [],
   "source": [
    "'<' + str((end - start)) + 'h'"
   ]
  },
  {
   "cell_type": "code",
   "execution_count": null,
   "metadata": {
    "collapsed": false
   },
   "outputs": [],
   "source": [
    "data_out.shape"
   ]
  },
  {
   "cell_type": "code",
   "execution_count": null,
   "metadata": {
    "collapsed": false
   },
   "outputs": [],
   "source": [
    "firsts = possible_bouts[np.where(np.diff(possible_bouts,1)>1)[0]+1]\n",
    "firsts = np.insert(firsts, 0, possible_bouts[0])\n",
    "print firsts"
   ]
  },
  {
   "cell_type": "code",
   "execution_count": null,
   "metadata": {
    "collapsed": false
   },
   "outputs": [],
   "source": [
    "sg_chunk = Chunk(all_sound, segment=[0, 10000]) "
   ]
  },
  {
   "cell_type": "code",
   "execution_count": null,
   "metadata": {
    "collapsed": false
   },
   "outputs": [],
   "source": [
    "lasts = possible_bouts[np.where(np.diff(possible_bouts,1)>1)[0]] + bits_bout\n",
    "lasts = np.insert(lasts, lasts.size, possible_bouts[-1]) \n",
    "print lasts"
   ]
  },
  {
   "cell_type": "code",
   "execution_count": null,
   "metadata": {
    "collapsed": false
   },
   "outputs": [],
   "source": [
    "firsts[1:] - lasts[:-1]"
   ]
  },
  {
   "cell_type": "code",
   "execution_count": null,
   "metadata": {
    "collapsed": false
   },
   "outputs": [],
   "source": [
    "together = np.where((firsts[1:] - lasts[:-1]) < refractory)[0]\n",
    "print together"
   ]
  },
  {
   "cell_type": "code",
   "execution_count": null,
   "metadata": {
    "collapsed": false
   },
   "outputs": [],
   "source": [
    "lasts = np.delete(lasts, together)"
   ]
  },
  {
   "cell_type": "code",
   "execution_count": null,
   "metadata": {
    "collapsed": false
   },
   "outputs": [],
   "source": [
    "firsts = np.delete(firsts, together +1)"
   ]
  },
  {
   "cell_type": "code",
   "execution_count": null,
   "metadata": {
    "collapsed": false
   },
   "outputs": [],
   "source": [
    "possible_bouts = np.where(np.diff(supra_bits, 5)==0)[0]\n",
    "pb = possible_bouts[80:120]\n",
    "print pb\n"
   ]
  },
  {
   "cell_type": "code",
   "execution_count": null,
   "metadata": {
    "collapsed": false
   },
   "outputs": [],
   "source": [
    "bstarts = all_starts[supra_bits[firsts]]"
   ]
  },
  {
   "cell_type": "code",
   "execution_count": null,
   "metadata": {
    "collapsed": false
   },
   "outputs": [],
   "source": [
    "bends = all_starts[supra_bits[lasts]]"
   ]
  },
  {
   "cell_type": "code",
   "execution_count": null,
   "metadata": {
    "collapsed": false
   },
   "outputs": [],
   "source": [
    "bends - bstarts"
   ]
  },
  {
   "cell_type": "code",
   "execution_count": null,
   "metadata": {
    "collapsed": true
   },
   "outputs": [],
   "source": [
    "pb[np.where(np.diff(pb)>1)]"
   ]
  },
  {
   "cell_type": "code",
   "execution_count": null,
   "metadata": {
    "collapsed": false
   },
   "outputs": [],
   "source": [
    "supra_bits[starts[0]:ends[0]]"
   ]
  },
  {
   "cell_type": "code",
   "execution_count": null,
   "metadata": {
    "collapsed": false
   },
   "outputs": [],
   "source": [
    "j = 8\n",
    "chu = Chunk(all_sound, segment=[bstarts[j], bends[j]])\n",
    "chu.apply_filter(band_pass_filter, hp_b, hp_a, lp_b, lp_a)\n",
    "plt.plot(np.transpose(chu.data))"
   ]
  },
  {
   "cell_type": "code",
   "execution_count": null,
   "metadata": {
    "collapsed": false
   },
   "outputs": [],
   "source": [
    "possible_bouts"
   ]
  },
  {
   "cell_type": "code",
   "execution_count": null,
   "metadata": {
    "collapsed": true
   },
   "outputs": [],
   "source": []
  }
 ],
 "metadata": {
  "kernelspec": {
   "display_name": "Python 2",
   "language": "python",
   "name": "python2"
  },
  "language_info": {
   "codemirror_mode": {
    "name": "ipython",
    "version": 2
   },
   "file_extension": ".py",
   "mimetype": "text/x-python",
   "name": "python",
   "nbconvert_exporter": "python",
   "pygments_lexer": "ipython2",
   "version": "2.7.11"
  }
 },
 "nbformat": 4,
 "nbformat_minor": 0
}
