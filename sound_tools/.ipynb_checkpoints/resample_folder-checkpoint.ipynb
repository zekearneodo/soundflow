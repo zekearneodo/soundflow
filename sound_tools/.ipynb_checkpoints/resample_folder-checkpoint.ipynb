{
 "cells": [
  {
   "cell_type": "code",
   "execution_count": 2,
   "metadata": {
    "collapsed": true
   },
   "outputs": [],
   "source": [
    "#resample a bunch of wav files\n",
    "import wav\n",
    "import os"
   ]
  },
  {
   "cell_type": "code",
   "execution_count": 3,
   "metadata": {
    "collapsed": false
   },
   "outputs": [
    {
     "name": "stdout",
     "output_type": "stream",
     "text": [
      "['bos.wav', '._song_synth_bos.wav', '._bos_rev.wav', 'bos_rev.wav', '._bos.wav', 'song_synth_bos.wav']\n"
     ]
    }
   ],
   "source": [
    "fold = os.path.join('/mnt/cube/earneodo', 'bci_zf', 'stim_data', 'z010','set_001')\n",
    "f_list = [f for f in os.listdir(fold) if not f.beginswith('.')\n",
    "print f_list"
   ]
  },
  {
   "cell_type": "code",
   "execution_count": 15,
   "metadata": {
    "collapsed": false
   },
   "outputs": [
    {
     "name": "stdout",
     "output_type": "stream",
     "text": [
      "/Volumes/gentner/earneodo/bci_zf/stim_data/z005/set_001/bos.wav\n",
      "/Volumes/gentner/earneodo/bci_zf/stim_data/z005/set_001/40000/bos.wav\n",
      "/Volumes/gentner/earneodo/bci_zf/stim_data/z005/set_001/bos_synth.wav\n",
      "/Volumes/gentner/earneodo/bci_zf/stim_data/z005/set_001/40000/bos_synth.wav\n",
      "/Volumes/gentner/earneodo/bci_zf/stim_data/z005/set_001/bos_inv.wav\n",
      "/Volumes/gentner/earneodo/bci_zf/stim_data/z005/set_001/40000/bos_inv.wav\n",
      "/Volumes/gentner/earneodo/bci_zf/stim_data/z005/set_001/cons.wav\n",
      "/Volumes/gentner/earneodo/bci_zf/stim_data/z005/set_001/40000/cons.wav\n"
     ]
    }
   ],
   "source": [
    "for bout_file in f_list:\n",
    "    if bout_file.endswith('.wav') and not bout_file.startswith('._'):\n",
    "        in_file = os.path.join(fold, bout_file)\n",
    "        print in_file\n",
    "        out_file = os.path.join(fold,'40000', bout_file)\n",
    "        wav.resample_wav(in_file, 40000, out_file = out_file)"
   ]
  }
 ],
 "metadata": {
  "kernelspec": {
   "display_name": "Python 2",
   "language": "python",
   "name": "python2"
  },
  "language_info": {
   "codemirror_mode": {
    "name": "ipython",
    "version": 2
   },
   "file_extension": ".py",
   "mimetype": "text/x-python",
   "name": "python",
   "nbconvert_exporter": "python",
   "pygments_lexer": "ipython2",
   "version": "2.7.10"
  }
 },
 "nbformat": 4,
 "nbformat_minor": 0
}
