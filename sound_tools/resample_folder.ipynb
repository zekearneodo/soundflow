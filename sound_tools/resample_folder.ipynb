{
 "cells": [
  {
   "cell_type": "code",
   "execution_count": 2,
   "metadata": {
    "collapsed": true
   },
   "outputs": [],
   "source": [
    "#resample a bunch of wav files\n",
    "import wav\n",
    "import os"
   ]
  },
  {
   "cell_type": "code",
   "execution_count": 6,
   "metadata": {
    "collapsed": false
   },
   "outputs": [
    {
     "name": "stdout",
     "output_type": "stream",
     "text": [
      "['bos.wav', 'bos_rev.wav', 'song_synth_bos.wav']\n"
     ]
    }
   ],
   "source": [
    "fold = os.path.join('/mnt/cube/earneodo', 'bci_zf', 'stim_data', 'z010','set_001')\n",
    "f_list = [f for f in os.listdir(fold) if not f.startswith('.')]\n",
    "print f_list"
   ]
  },
  {
   "cell_type": "code",
   "execution_count": 9,
   "metadata": {
    "collapsed": false
   },
   "outputs": [
    {
     "name": "stdout",
     "output_type": "stream",
     "text": [
      "/mnt/cube/earneodo/bci_zf/stim_data/z010/set_001/bos.wav\n",
      "/mnt/cube/earneodo/bci_zf/stim_data/z010/set_001/40000/bos.wav\n",
      "/mnt/cube/earneodo/bci_zf/stim_data/z010/set_001/bos_rev.wav\n",
      "/mnt/cube/earneodo/bci_zf/stim_data/z010/set_001/40000/bos_rev.wav\n",
      "/mnt/cube/earneodo/bci_zf/stim_data/z010/set_001/song_synth_bos.wav\n",
      "/mnt/cube/earneodo/bci_zf/stim_data/z010/set_001/40000/song_synth_bos.wav\n"
     ]
    }
   ],
   "source": [
    "for bout_file in f_list:\n",
    "    if bout_file.endswith('.wav') and not bout_file.startswith('._'):\n",
    "        in_file = os.path.join(fold, bout_file)\n",
    "        print in_file\n",
    "        out_dir = os.path.join(fold,'40000')\n",
    "        if not os.path.isdir(out_dir):\n",
    "            os.makedirs(out_dir)\n",
    "        out_file = os.path.join(fold,'40000', bout_file)\n",
    "        wav.resample_wav(in_file, 40000, out_file = out_file)"
   ]
  },
  {
   "cell_type": "code",
   "execution_count": 5,
   "metadata": {
    "collapsed": false
   },
   "outputs": [
    {
     "data": {
      "text/plain": [
       "'bos.wav'"
      ]
     },
     "execution_count": 5,
     "metadata": {},
     "output_type": "execute_result"
    }
   ],
   "source": [
    "f"
   ]
  },
  {
   "cell_type": "code",
   "execution_count": null,
   "metadata": {
    "collapsed": true
   },
   "outputs": [],
   "source": [
    "os.path.isdir()"
   ]
  }
 ],
 "metadata": {
  "kernelspec": {
   "display_name": "Python 2",
   "language": "python",
   "name": "python2"
  },
  "language_info": {
   "codemirror_mode": {
    "name": "ipython",
    "version": 2
   },
   "file_extension": ".py",
   "mimetype": "text/x-python",
   "name": "python",
   "nbconvert_exporter": "python",
   "pygments_lexer": "ipython2",
   "version": "2.7.10"
  }
 },
 "nbformat": 4,
 "nbformat_minor": 0
}
