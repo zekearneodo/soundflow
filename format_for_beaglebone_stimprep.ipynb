{
 "cells": [
  {
   "cell_type": "code",
   "execution_count": 1,
   "metadata": {},
   "outputs": [
    {
     "name": "stderr",
     "output_type": "stream",
     "text": [
      "/home/earneodo/.conda/envs/py35/lib/python3.5/site-packages/h5py/__init__.py:34: FutureWarning: Conversion of the second argument of issubdtype from `float` to `np.floating` is deprecated. In future, it will be treated as `np.float64 == np.dtype(float).type`.\n",
      "  from ._conv import register_converters as _register_converters\n",
      "2018-05-01 12:28:08,376 root         INFO     Computer: passaro\n"
     ]
    }
   ],
   "source": [
    "# Searching a motif within the mic channel of a .kwd file\n",
    "# the i-th motiff is in the file pattern_i.wav\n",
    "# the raw data comes in file experiment.raw.kwd\n",
    "# Definitions and functions\n",
    "%matplotlib inline\n",
    "import pdb\n",
    "import sys\n",
    "import pandas as pd\n",
    "import numpy as np\n",
    "import scipy.io as sio\n",
    "import matplotlib.pyplot as plt\n",
    "import matplotlib\n",
    "import scipy.signal as sg\n",
    "import math\n",
    "import scipy as sp\n",
    "import socket\n",
    "import os\n",
    "import wave\n",
    "import struct\n",
    "import h5py\n",
    "from scipy.io import wavfile\n",
    "from scipy.signal import spectrogram\n",
    "import logging\n",
    "from IPython.display import display\n",
    "matplotlib.style.use('ggplot')\n",
    "from ipywidgets import *\n",
    "import yaml\n",
    "from scipy.io import wavfile\n",
    "from scipy.signal import resample\n",
    "from __future__ import division\n",
    "\n",
    "from helperephys.boner import stimprep\n",
    "from swissknife.bci.core import expstruct as et\n",
    "# Check wich computer to decide where the things are mounted\n",
    "comp_name=socket.gethostname()\n",
    "\n",
    "logger = logging.getLogger()\n",
    "handler = logging.StreamHandler()\n",
    "formatter = logging.Formatter(\n",
    "        '%(asctime)s %(name)-12s %(levelname)-8s %(message)s')\n",
    "handler.setFormatter(formatter)\n",
    "logger.addHandler(handler)\n",
    "logger.setLevel(logging.INFO)\n",
    "logger.debug('all modules loaded')\n",
    "logger.info('Computer: ' + comp_name)\n",
    "\n",
    "\n"
   ]
  },
  {
   "cell_type": "code",
   "execution_count": 7,
   "metadata": {
    "scrolled": true
   },
   "outputs": [
    {
     "name": "stdout",
     "output_type": "stream",
     "text": [
      "['bos02.wav', 'bos03.wav', 'bos02-rev.wav', 'bos03-rev.wav', 'bos01.wav']\n"
     ]
    }
   ],
   "source": [
    "fold = os.path.join('/mnt/cube/earneodo', 'bci_zf', 'stim_data', 'b1159','001')\n",
    "f_list = [f for f in os.listdir(fold) if f.split('.')[-1] == 'wav']\n",
    "\n",
    "print(f_list)"
   ]
  },
  {
   "cell_type": "code",
   "execution_count": 8,
   "metadata": {},
   "outputs": [
    {
     "name": "stderr",
     "output_type": "stream",
     "text": [
      "2018-05-01 18:12:55,875 helperephys.boner.stimprep INFO     Processing /mnt/cube/earneodo/bci_zf/stim_data/b1159/001/bos02.wav\n",
      "2018-05-01 18:12:55,878 helperephys.boner.stimprep INFO     tag_freq = 2000\n",
      "2018-05-01 18:12:56,092 helperephys.boner.stimprep INFO     Saved to /mnt/cube/earneodo/bci_zf/stim_data/b1159/001/bb_stim/bos02_tag.wav\n",
      "2018-05-01 18:12:56,094 helperephys.boner.stimprep INFO     Processing /mnt/cube/earneodo/bci_zf/stim_data/b1159/001/bos03.wav\n",
      "2018-05-01 18:12:56,096 helperephys.boner.stimprep INFO     tag_freq = 3000\n",
      "2018-05-01 18:12:56,479 helperephys.boner.stimprep INFO     Saved to /mnt/cube/earneodo/bci_zf/stim_data/b1159/001/bb_stim/bos03_tag.wav\n",
      "2018-05-01 18:12:56,481 helperephys.boner.stimprep INFO     Processing /mnt/cube/earneodo/bci_zf/stim_data/b1159/001/bos02-rev.wav\n",
      "2018-05-01 18:12:56,483 helperephys.boner.stimprep INFO     tag_freq = 5000\n",
      "2018-05-01 18:12:56,663 helperephys.boner.stimprep INFO     Saved to /mnt/cube/earneodo/bci_zf/stim_data/b1159/001/bb_stim/bos02-rev_tag.wav\n",
      "2018-05-01 18:12:56,665 helperephys.boner.stimprep INFO     Processing /mnt/cube/earneodo/bci_zf/stim_data/b1159/001/bos03-rev.wav\n",
      "2018-05-01 18:12:56,667 helperephys.boner.stimprep INFO     tag_freq = 7000\n",
      "2018-05-01 18:12:57,020 helperephys.boner.stimprep INFO     Saved to /mnt/cube/earneodo/bci_zf/stim_data/b1159/001/bb_stim/bos03-rev_tag.wav\n",
      "2018-05-01 18:12:57,021 helperephys.boner.stimprep INFO     Processing /mnt/cube/earneodo/bci_zf/stim_data/b1159/001/bos01.wav\n",
      "2018-05-01 18:12:57,022 helperephys.boner.stimprep INFO     tag_freq = 1000\n",
      "2018-05-01 18:12:57,215 helperephys.boner.stimprep INFO     Saved to /mnt/cube/earneodo/bci_zf/stim_data/b1159/001/bb_stim/bos01_tag.wav\n",
      "2018-05-01 18:12:57,219 helperephys.boner.stimprep INFO     Saved tags .yml file to /mnt/cube/earneodo/bci_zf/stim_data/b1159/001/bb_stim/stim_tags.yml\n"
     ]
    }
   ],
   "source": [
    "\n",
    "## Enter stim to tag manually\n",
    "stims_to_tag = {'bos01': 1000,\n",
    "                'bos03-rev': 7000,\n",
    "                'bos02': 2000,\n",
    "                'bos03': 3000,\n",
    "                'bos04': 4000,\n",
    "                'bos02-rev': 5000}\n",
    "\n",
    "\n",
    "out_s_f = 44100\n",
    "\n",
    "stimprep.create_bb_stim(f_list, fold, out_s_f, stim_tag_dict=stims_to_tag)\n",
    "    "
   ]
  },
  {
   "cell_type": "code",
   "execution_count": 3,
   "metadata": {},
   "outputs": [
    {
     "name": "stdout",
     "output_type": "stream",
     "text": [
      "/mnt/cube/earneodo/bci_zf/stim_data/b1067/001/bos01.wav\n",
      "/mnt/cube/earneodo/bci_zf/stim_data/b1067/001/bos01_tag.wav\n",
      "/mnt/cube/earneodo/bci_zf/stim_data/b1067/001/bos05-rev.wav\n",
      "/mnt/cube/earneodo/bci_zf/stim_data/b1067/001/bos05-rev_tag.wav\n",
      "/mnt/cube/earneodo/bci_zf/stim_data/b1067/001/bos02.wav\n",
      "/mnt/cube/earneodo/bci_zf/stim_data/b1067/001/bos02_tag.wav\n",
      "/mnt/cube/earneodo/bci_zf/stim_data/b1067/001/bos03.wav\n",
      "/mnt/cube/earneodo/bci_zf/stim_data/b1067/001/bos03_tag.wav\n",
      "/mnt/cube/earneodo/bci_zf/stim_data/b1067/001/bos04.wav\n",
      "/mnt/cube/earneodo/bci_zf/stim_data/b1067/001/bos04_tag.wav\n",
      "/mnt/cube/earneodo/bci_zf/stim_data/b1067/001/bos05.wav\n",
      "/mnt/cube/earneodo/bci_zf/stim_data/b1067/001/bos05_tag.wav\n"
     ]
    }
   ],
   "source": [
    "# THIS IS THE ACTUAL THING\n",
    "def make_stereo_stim(wave_in, tag_freq, out_sf):\n",
    "    in_sf, data = wavfile.read(wave_in)\n",
    "    new_len = int(round(data.shape[0] * out_sf / in_sf))\n",
    "    new_len = data.shape[0]\n",
    "    #song_out = np.round(resample(data, new_len)).astype(np.int16)\n",
    "    song_out = data\n",
    "    tag_out = np.round(np.sin(2*np.pi*tag_freq*np.arange(new_len)/out_sf)*30000).astype(np.int16)\n",
    "    \n",
    "    return np.column_stack([song_out, tag_out])\n",
    "\n",
    "bird = 'b1067'\n",
    "stim_sess = '001'\n",
    "out_sf = 30000\n",
    "\n",
    "# stims_to_tag = {'bos': 1000,\n",
    "#                 'con': 3000,\n",
    "#                 'bos_rev': 5000}\n",
    "\n",
    "# stims_to_tag = {'bos': 1000,\n",
    "#                 'con': 2000,\n",
    "#                 'bos_rev': 3000,\n",
    "#                 'bos_syn': 4000}\n",
    "\n",
    "stims_to_tag = {'bos01': 1000,\n",
    "                'bos05-rev': 7000,\n",
    "                'bos02': 2000,\n",
    "                'bos03': 3000,\n",
    "                'bos04': 4000,\n",
    "                'bos05': 5000}\n",
    "\n",
    "# stims_to_tag = {'bos05': 6000,\n",
    "#                 'bos06': 500}\n",
    "\n",
    "# stims_to_tag = {'bos01': 1000,\n",
    "#                 'bos01_rev': 5000,\n",
    "#                 'con01': 4000,\n",
    "#                 'bos01_syn': 2000}\n",
    "\n",
    "# stims_to_tag = {'bos01': 1000,\n",
    "#                 'bos02': 2000,\n",
    "#                 'bos03': 3000,\n",
    "#                 'con01': 4000}\n",
    "\n",
    "\n",
    "#stims_to_tag = {'bos01_rev': 500}\n",
    "#stims_to_tag = {'bos03_rev': 1500}\n",
    "\n",
    "#wave_out = os.path.join(os.path.abspath('/mnt/cube/earneodo/bci_zf/stim_data/z021/001'), 'bos_syn_tag.wav')\n",
    "fn = et.file_names(bird, stim_sess)\n",
    "for stim_name, tag_f in stims_to_tag.items():\n",
    "    wave_in = os.path.join(fn['folders']['stim'], '{}.wav'.format(stim_name))\n",
    "    print(wave_in)\n",
    "    wave_out = os.path.join(fn['folders']['stim'], '{}_tag.wav'.format(stim_name))\n",
    "    song_out = make_stereo_stim(wave_in, tag_f, out_sf)\n",
    "    wavfile.write(wave_out, out_sf, song_out)\n",
    "    print(wave_out)\n",
    "    \n",
    "tags_par_file = os.path.join(fn['folders']['stim'], 'stim_tags.yml')\n",
    "with open(tags_par_file, 'w') as outfile:\n",
    "    yaml.dump(stims_to_tag, outfile, default_flow_style=False)"
   ]
  },
  {
   "cell_type": "code",
   "execution_count": null,
   "metadata": {
    "collapsed": true
   },
   "outputs": [],
   "source": [
    "tags_par_file = os.path.join(fn['folders']['stim'], 'stim_tags.yaml')\n",
    "with open(tags_par_file, 'w') as outfile:\n",
    "    yaml.dump(stims_to_tag, outfile, default_flow_style=False)"
   ]
  },
  {
   "cell_type": "code",
   "execution_count": null,
   "metadata": {
    "collapsed": true
   },
   "outputs": [],
   "source": [
    "bird = 'z023'\n",
    "et.file_names(bird, '001')"
   ]
  },
  {
   "cell_type": "code",
   "execution_count": null,
   "metadata": {
    "collapsed": true
   },
   "outputs": [],
   "source": [
    "plt.plot(song_out.T[:1000])"
   ]
  },
  {
   "cell_type": "code",
   "execution_count": null,
   "metadata": {
    "collapsed": true
   },
   "outputs": [],
   "source": [
    "song_out.shape"
   ]
  },
  {
   "cell_type": "code",
   "execution_count": null,
   "metadata": {
    "collapsed": true
   },
   "outputs": [],
   "source": [
    "A1x16-5mm-50\n",
    "passaro16-nn_acute"
   ]
  }
 ],
 "metadata": {
  "anaconda-cloud": {},
  "kernelspec": {
   "display_name": "Python [conda env:py35]",
   "language": "python",
   "name": "conda-env-py35-py"
  },
  "language_info": {
   "codemirror_mode": {
    "name": "ipython",
    "version": 3
   },
   "file_extension": ".py",
   "mimetype": "text/x-python",
   "name": "python",
   "nbconvert_exporter": "python",
   "pygments_lexer": "ipython3",
   "version": "3.5.3"
  }
 },
 "nbformat": 4,
 "nbformat_minor": 1
}
