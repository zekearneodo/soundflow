{
 "cells": [
  {
   "cell_type": "code",
   "execution_count": 1,
   "metadata": {},
   "outputs": [
    {
     "name": "stdout",
     "output_type": "stream",
     "text": [
      "Computer: passaro\n"
     ]
    },
    {
     "name": "stderr",
     "output_type": "stream",
     "text": [
      "2017-06-21 10:41:28,374 streamtools.streams INFO     wavdata\n"
     ]
    }
   ],
   "source": [
    "#notebook for testing the search of song in a wav file\n",
    "\n",
    "## Load everything\n",
    "%matplotlib inline\n",
    "import pdb\n",
    "import sys\n",
    "import numpy as np\n",
    "import scipy.io as sio\n",
    "import matplotlib.pyplot as plt\n",
    "import matplotlib\n",
    "import scipy.signal as sg\n",
    "import math\n",
    "import scipy as sp\n",
    "import socket\n",
    "import os\n",
    "import logging\n",
    "matplotlib.style.use('ggplot')\n",
    "\n",
    "logger = logging.getLogger()\n",
    "handler = logging.StreamHandler()\n",
    "formatter = logging.Formatter(\n",
    "        '%(asctime)s %(name)-12s %(levelname)-8s %(message)s')\n",
    "handler.setFormatter(formatter)\n",
    "logger.addHandler(handler)\n",
    "logger.setLevel(logging.DEBUG)\n",
    "\n",
    "matplotlib.style.use('ggplot')\n",
    "\n",
    "# Set up Computer and paths\n",
    "comp_name=socket.gethostname()\n",
    "print 'Computer: ' + comp_name\n",
    "\n",
    "if 'passaro' in comp_name or 'niao' in comp_name:\n",
    "    experiment_folder = os.path.join('/mnt/cube/earneodo/bci_zf/')\n",
    "    raw_data_folder = os.path.join(experiment_folder, 'raw_data')\n",
    "    ss_data_folder = os.path.join(experiment_folder, 'ss_data')\n",
    "    \n",
    "#grab soundtools\n",
    "from swissknife.streamtools.streams import WavData, Chunk\n",
    "from swissknife.streamtools import findsong\n",
    "\n",
    "    \n",
    "#file structure\n",
    "bird_id = 'z035'\n",
    "sess = '2017-04-18'\n",
    "rec = '06-00-01-12'\n",
    "bout = None\n",
    "\n",
    "#load the bout and the whole sound file for searching\n",
    "raw_file_folder = os.path.join(raw_data_folder, bird_id, str(sess).zfill(3))\n",
    "raw_file_name = rec + '.wav'\n",
    "raw_file_path = os.path.join(raw_file_folder, raw_file_name)\n",
    "\n",
    "bout_file_name = rec + '_autobouts.wav'\n",
    "bout_file_path = os.path.join(raw_file_folder, bout_file_name)\n",
    "\n",
    "#the whole sound\n",
    "all_sound = WavData(raw_file_path)\n",
    "\n",
    "#the bout\n",
    "if bout is not None:\n",
    "    raw_file_folder = os.path.join(raw_file_folder, 'bouts')\n",
    "    raw_file_name = rec + '_' + str(run).zfill(2) + '_song_' + bout + '.wav'\n",
    "\n",
    "raw_file_path = os.path.join(raw_file_folder, raw_file_name)\n",
    "# bout_sound = WavData(raw_file_path)\n",
    "# bout_sound.close()"
   ]
  },
  {
   "cell_type": "code",
   "execution_count": 2,
   "metadata": {},
   "outputs": [],
   "source": [
    "raw_file_path = '/mnt/cube/earneodo/bci_zf/raw_data/s001/2017-03-26/06-00-02-20.wav'\n",
    "bout_file_path = '/mnt/cube/earneodo/bci_zf/raw_data/s001/2017-03-26/06-00-02-20_tuvieja.wav'\n",
    "#bout_sound = WavData(raw_file_path)"
   ]
  },
  {
   "cell_type": "code",
   "execution_count": 3,
   "metadata": {
    "collapsed": true
   },
   "outputs": [],
   "source": [
    "def rms(x):\n",
    "    return np.std(x, axis=0)\n",
    "\n",
    "def mad(x):\n",
    "    med = np.median(x)\n",
    "    dev = np.abs(x - np.median(x))\n",
    "    return np.median(dev)\n",
    "\n",
    "\n",
    "\n",
    "def band_pass_filter(chunk, hp_b, hp_a, lp_b, lp_a):    \n",
    "    chunk_hi = sg.filtfilt(hp_b, hp_a, chunk)\n",
    "    chunk_filt = sg.filtfilt(lp_b, lp_a, chunk_hi)\n",
    "    return chunk_filt\n",
    "\n",
    "#decorator for getting the rms after applying a filter to a segment\n",
    "def rms_after_filter(filter_func):\n",
    "    def out_of_filtered(*args, **kwargs):\n",
    "        #print \"Arguments were: %s, %s\" % (args, kwargs)\n",
    "        #plt.plot(np.transpose(filter_func(*args, **kwargs)))\n",
    "        return np.linalg.norm(filter_func(*args, **kwargs))\n",
    "    return out_of_filtered\n",
    "\n",
    "@rms_after_filter\n",
    "def rms_band_pass_filter(chunk, hp_b, hp_a, lp_b, lp_a):\n",
    "    #plt.plot(np.transpose(chunk))\n",
    "    chunk_hi = sg.filtfilt(hp_b, hp_a, chunk)\n",
    "    chunk_filt = sg.filtfilt(lp_b, lp_a, chunk_hi)\n",
    "    return chunk_filt\n",
    "\n",
    "@rms_after_filter\n",
    "def rms_identity(chunk):\n",
    "    return(chunk)"
   ]
  },
  {
   "cell_type": "code",
   "execution_count": 8,
   "metadata": {},
   "outputs": [
    {
     "name": "stderr",
     "output_type": "stream",
     "text": [
      "2017-06-21 10:44:17,434 findsong     DEBUG    Saving bouts in /mnt/cube/earneodo/bci_zf/raw_data/s001/2017-03-26/06-00-02-20_tuvieja.wav\n"
     ]
    }
   ],
   "source": [
    "#Parameters of the search\n",
    "bit_size = 50 # ms; size of sound bits\n",
    "refractory = 5 # bits; refractory period in bits\n",
    "bits_bout = 2 # bits; how many bouts together is considered a bout\n",
    "threshold = 20 # threshold in mads (median deviation of the median)\n",
    "\n",
    "#The band where we expect most of the energy of zf song to be in\n",
    "filt_lo = 10000 #Hz\n",
    "filt_hi = 300 #Hz\n",
    "\n",
    "from itertools import groupby\n",
    "from operator import itemgetter\n",
    "import wave\n",
    "import struct\n",
    "\n",
    "def get_bouts(all_sound, bit_size=70, refractory=5, bits_bout=4, threshold=20, \n",
    "              filt_lo=1000, filt_hi=500):\n",
    "    \n",
    "    s_f = all_sound.s_f\n",
    "    \n",
    "    #make the filter\n",
    "    hp_b, hp_a = sg.butter(4, filt_hi/(s_f/2.), btype='high')\n",
    "    lp_b, lp_a = sg.butter(4, filt_lo/(s_f/2.), btype='low')\n",
    "\n",
    "    bit_size_sample = np.int(bit_size*all_sound.s_f*0.001)\n",
    "    all_starts = np.arange(0, all_sound.n_samples - bit_size_sample, bit_size_sample)\n",
    "\n",
    "    #get all the rms\n",
    "    print('getting rms')\n",
    "    all_rms = all_sound.apply_repeated(all_starts, bit_size_sample, rms_band_pass_filter, hp_b, hp_a, lp_b, lp_a)\n",
    "\n",
    "    thresh_rms = np.median(all_rms) + threshold * mad(all_rms)\n",
    "    \n",
    "    supra_bits = np.where(all_rms > thresh_rms)[0]\n",
    "    plt.plot(np.arange(supra_bits.size), supra_bits, '*')\n",
    "    \n",
    "    group_bound = np.array([0, 0], dtype=np.int32)\n",
    "\n",
    "    for k, g in groupby(enumerate(supra_bits), lambda (i, x): i-x):\n",
    "        group = map(itemgetter(1), g)\n",
    "        if len(group) >= bits_bout:\n",
    "            group_bound = np.vstack((group_bound, np.array([group[0], group[-1]])) )\n",
    "            #print group\n",
    "\n",
    "    if group_bound.size > 2:\n",
    "        found_bouts = True\n",
    "        group_bound = np.delete(group_bound, 0, axis=0)\n",
    "        # segments has to be in samples \n",
    "        segments = np.array([all_starts[group_bound[:,0]], all_starts[group_bound[:,1]]])\n",
    "        assert(np.all(np.diff(segments, axis=0)[0]>0))\n",
    "\n",
    "    else:\n",
    "        segments = None\n",
    "\n",
    "    return segments\n",
    "\n",
    "def write_segments(segments, all_sound, bout_file_path, bit_size, more=2):\n",
    "    bit_size_sample = np.int(bit_size*all_sound.s_f*0.001)\n",
    "    n_seg = segments.shape[1]\n",
    "    chopped_segments = np.zeros_like(found_segments.T)\n",
    "    #open the file\n",
    "    print(bout_file_path)\n",
    "    bouts_out = wave.open(bout_file_path, 'w')\n",
    "    \n",
    "    try:\n",
    "        #logger.info(bout_file_path)\n",
    "        bouts_out.setparams((all_sound.n_chans, 2, all_sound.s_f, 0, 'NONE', 'not compressed'))\n",
    "        for i_seg, seg in enumerate(segments.T):\n",
    "            seg = seg + np.array([-more, more])* bit_size_sample\n",
    "            start = seg[0] if seg[0] > 0 else 0\n",
    "            end = seg[1] if seg[1] < all_sound.n_samples else all_sound.n_samples\n",
    "            chopped_segments[i_seg] = np.array([start, end])\n",
    "            #print start, end\n",
    "            sg_chunk = Chunk(all_sound, segment = [start, end])\n",
    "            # save the chunk to a data file\n",
    "            #filter for debugging\n",
    "            #sg_chunk.apply_filter(band_pass_filter, hp_b, hp_a, lp_b, lp_a)\n",
    "            data_out = np.array(sg_chunk.data, dtype=np.int16)[0]\n",
    "            packed_data = struct.pack('<' + str((end - start)) + 'h', *data_out)\n",
    "            bouts_out.writeframes(data_out)\n",
    "        bouts_out.close()\n",
    "        \n",
    "    except Exception as inst:\n",
    "        bouts_out.close()\n",
    "        raise(inst)\n",
    "    \n",
    "\n",
    "            \n",
    "found_segments = findsong.get_bouts(all_sound, bit_size=bit_size, refractory=refractory, bits_bout=bits_bout,\n",
    "                       threshold=threshold, filt_lo=filt_lo, filt_hi=filt_hi)\n",
    "\n",
    "chopped_segments = findsong.write_segments(found_segments, all_sound, bout_file_path, bit_size, more=2)\n"
   ]
  },
  {
   "cell_type": "code",
   "execution_count": 12,
   "metadata": {},
   "outputs": [
    {
     "data": {
      "text/plain": [
       "<module 'swissknife.streamtools.findsong' from '/mnt/cube/earneodo/repos/swissknife/swissknife/streamtools/findsong.py'>"
      ]
     },
     "execution_count": 12,
     "metadata": {},
     "output_type": "execute_result"
    }
   ],
   "source": [
    "import imp\n",
    "imp.reload(findsong)"
   ]
  },
  {
   "cell_type": "code",
   "execution_count": 25,
   "metadata": {
    "scrolled": true
   },
   "outputs": [],
   "source": [
    "chopped_segments = np.zeros_like(found_segments.T)\n",
    "chopped_segments[:] = np.nan"
   ]
  },
  {
   "cell_type": "code",
   "execution_count": 27,
   "metadata": {},
   "outputs": [
    {
     "data": {
      "text/plain": [
       "dtype('int64')"
      ]
     },
     "execution_count": 27,
     "metadata": {},
     "output_type": "execute_result"
    }
   ],
   "source": [
    "chopped_segments[0] = np.array([3, 4])\n",
    "chopped_segments.dtype"
   ]
  },
  {
   "cell_type": "code",
   "execution_count": null,
   "metadata": {
    "collapsed": true
   },
   "outputs": [],
   "source": [
    "for seg in segments.T:\n",
    "    seg = seg + np.array([-more, more])* bit_size_sample\n",
    "\n",
    "    start = seg[0] if seg[0] > 0 else 0\n",
    "    end = seg[1] if seg[1] < all_sound.n_samples else all_sound.n_samples"
   ]
  },
  {
   "cell_type": "code",
   "execution_count": 13,
   "metadata": {
    "scrolled": true
   },
   "outputs": [
    {
     "name": "stderr",
     "output_type": "stream",
     "text": [
      "2017-06-21 10:51:03,199 findsong     INFO     Will get bouts for file /mnt/cube/earneodo/bci_zf/raw_data/s001/2017-03-26/06-00-02-20.wav\n",
      "2017-06-21 10:51:03,200 findsong     DEBUG    Auto assigned bout_file_name\n",
      "2017-06-21 10:51:03,218 streamtools.streams INFO     wavdata\n",
      "2017-06-21 10:51:24,408 findsong     INFO     Writing segments to /mnt/cube/earneodo/bci_zf/raw_data/s001/2017-03-26/06-00-02-20_auto.wav\n",
      "2017-06-21 10:51:24,409 findsong     DEBUG    Saving bouts in /mnt/cube/earneodo/bci_zf/raw_data/s001/2017-03-26/06-00-02-20_auto.wav\n",
      "2017-06-21 10:51:27,974 findsong     DEBUG    Saving stamps to /mnt/cube/earneodo/bci_zf/raw_data/s001/2017-03-26/06-00-02-20_auto.stamps.npy\n",
      "2017-06-21 10:51:27,994 findsong     DEBUG    Closing raw file\n"
     ]
    }
   ],
   "source": [
    "found_seg = findsong.get_all_bouts(raw_file_path, bit_size=bit_size, refractory=refractory, bits_bout=bits_bout,\n",
    "                       threshold=threshold, filt_lo=filt_lo, filt_hi=filt_hi)"
   ]
  },
  {
   "cell_type": "code",
   "execution_count": 15,
   "metadata": {},
   "outputs": [
    {
     "name": "stderr",
     "output_type": "stream",
     "text": [
      "2017-06-20 18:20:23,738 streamtools.streams INFO     wavdata\n"
     ]
    },
    {
     "name": "stdout",
     "output_type": "stream",
     "text": [
      "getting rms\n"
     ]
    },
    {
     "data": {
      "image/png": "[encoded data removed]",
      "text/plain": [
       "<matplotlib.figure.Figure at 0x7f547c6a2990>"
      ]
     },
     "metadata": {},
     "output_type": "display_data"
    }
   ],
   "source": [
    "all_sound = WavData(raw_file_path)\n",
    "found_segments = get_bouts(all_sound, bit_size=bit_size, refractory=refractory, bits_bout=bits_bout,\n",
    "                      threshold=threshold, filt_lo=filt_lo, filt_hi=filt_hi)"
   ]
  }
 ],
 "metadata": {
  "anaconda-cloud": {},
  "kernelspec": {
   "display_name": "Python [default]",
   "language": "python",
   "name": "python2"
  },
  "language_info": {
   "codemirror_mode": {
    "name": "ipython",
    "version": 2
   },
   "file_extension": ".py",
   "mimetype": "text/x-python",
   "name": "python",
   "nbconvert_exporter": "python",
   "pygments_lexer": "ipython2",
   "version": "2.7.13"
  }
 },
 "nbformat": 4,
 "nbformat_minor": 1
}
