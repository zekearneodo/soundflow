{
 "cells": [
  {
   "cell_type": "code",
   "execution_count": 1,
   "metadata": {},
   "outputs": [
    {
     "name": "stderr",
     "output_type": "stream",
     "text": [
      "/home/earneodo/anaconda3/envs/tf12/lib/python3.6/site-packages/h5py/__init__.py:34: FutureWarning: Conversion of the second argument of issubdtype from `float` to `np.floating` is deprecated. In future, it will be treated as `np.float64 == np.dtype(float).type`.\n",
      "  from ._conv import register_converters as _register_converters\n"
     ]
    },
    {
     "name": "stdout",
     "output_type": "stream",
     "text": [
      "Computer: txori\n"
     ]
    },
    {
     "name": "stderr",
     "output_type": "stream",
     "text": [
      "/home/earneodo/anaconda3/envs/tf12/lib/python3.6/importlib/_bootstrap.py:205: RuntimeWarning: compiletime version 3.5 of module 'tensorflow.python.framework.fast_tensor_util' does not match runtime version 3.6\n",
      "  return f(*args, **kwds)\n"
     ]
    }
   ],
   "source": [
    "# Searching a motif within the mic channel of a .kwd file\n",
    "# the i-th motiff is in the file pattern_i.wav\n",
    "# the raw data comes in file experiment.raw.kwd\n",
    "# Definitions and functions\n",
    "%matplotlib inline\n",
    "import pdb\n",
    "import sys\n",
    "import pandas as pd\n",
    "import numpy as np\n",
    "import scipy.io as sio\n",
    "import matplotlib.pyplot as plt\n",
    "import matplotlib\n",
    "import scipy.signal as sg\n",
    "import math\n",
    "import scipy as sp\n",
    "import socket\n",
    "import os\n",
    "import wave\n",
    "import struct\n",
    "import h5py\n",
    "from scipy.io import wavfile\n",
    "from scipy.signal import spectrogram\n",
    "import logging\n",
    "from IPython.display import display\n",
    "matplotlib.style.use('ggplot')\n",
    "from ipywidgets import *\n",
    "import yaml\n",
    "from scipy.io import wavfile\n",
    "from scipy.signal import resample\n",
    "from __future__ import division\n",
    "# Check wich computer to decide where the things are mounted\n",
    "comp_name=socket.gethostname()\n",
    "print('Computer: ' + comp_name)\n",
    "\n",
    "if 'txori' in comp_name or 'passaro' in comp_name or 'manu' in comp_name:\n",
    "    repos_folder = os.path.abspath('/mnt/cube/earneodo/repos')\n",
    "    experiment_folder = os.path.join('/mnt/cube/earneodo/bci_zf/')\n",
    "\n",
    "sys.path.append(os.path.join(repos_folder, 'soundflow', 'sound_tools'))\n",
    "sys.path.append(os.path.join(repos_folder, 'ephysflow'))\n",
    "sys.path.append(os.path.join(repos_folder, 'analysis-tools'))\n",
    "\n",
    "#setup the data folder\n",
    "ss_data_folder = os.path.join(experiment_folder, 'ss_data')\n",
    "\n",
    "import soundtools as st\n",
    "import Kwik as oe\n",
    "from file_tools import experiment as et"
   ]
  },
  {
   "cell_type": "code",
   "execution_count": 2,
   "metadata": {
    "scrolled": true
   },
   "outputs": [
    {
     "name": "stdout",
     "output_type": "stream",
     "text": [
      "['bos02.wav', 'bos05.wav', 'bos01_tag.wav', 'bos05_tag.wav', 'bos05-rev.wav', 'bos04.wav', 'bos04_tag.wav', 'bos03.wav', 'bos05-rev_tag.wav', 'stim_tags.yml', 'bos02_tag.wav', 'bos01.wav', 'bos03_tag.wav']\n"
     ]
    }
   ],
   "source": [
    "fold = os.path.join('/mnt/cube/earneodo', 'bci_zf', 'stim_data', 'b1067','001')\n",
    "f_list = os.listdir(fold)\n",
    "print(f_list)"
   ]
  },
  {
   "cell_type": "code",
   "execution_count": null,
   "metadata": {
    "collapsed": true
   },
   "outputs": [],
   "source": [
    "for bout_file in f_list:\n",
    "    if bout_file.endswith('.wav') and not bout_file.startswith('._'):\n",
    "        in_file = os.path.join(fold, bout_file)\n",
    "        print in_file\n",
    "        out_file = os.path.join(fold,'40000', bout_file)\n",
    "        print out_file\n",
    "        wav.resample_wav(in_file, 30000, out_file = out_file)"
   ]
  },
  {
   "cell_type": "code",
   "execution_count": null,
   "metadata": {
    "collapsed": true
   },
   "outputs": [],
   "source": [
    "plt.plot(data)"
   ]
  },
  {
   "cell_type": "code",
   "execution_count": null,
   "metadata": {
    "collapsed": true
   },
   "outputs": [],
   "source": [
    "plt.plot(t, song_out)"
   ]
  },
  {
   "cell_type": "code",
   "execution_count": null,
   "metadata": {
    "collapsed": true,
    "scrolled": true
   },
   "outputs": [],
   "source": [
    "resample(data, new_len)"
   ]
  },
  {
   "cell_type": "code",
   "execution_count": 3,
   "metadata": {},
   "outputs": [
    {
     "name": "stdout",
     "output_type": "stream",
     "text": [
      "/mnt/cube/earneodo/bci_zf/stim_data/b1067/001/bos01.wav\n",
      "/mnt/cube/earneodo/bci_zf/stim_data/b1067/001/bos01_tag.wav\n",
      "/mnt/cube/earneodo/bci_zf/stim_data/b1067/001/bos05-rev.wav\n",
      "/mnt/cube/earneodo/bci_zf/stim_data/b1067/001/bos05-rev_tag.wav\n",
      "/mnt/cube/earneodo/bci_zf/stim_data/b1067/001/bos02.wav\n",
      "/mnt/cube/earneodo/bci_zf/stim_data/b1067/001/bos02_tag.wav\n",
      "/mnt/cube/earneodo/bci_zf/stim_data/b1067/001/bos03.wav\n",
      "/mnt/cube/earneodo/bci_zf/stim_data/b1067/001/bos03_tag.wav\n",
      "/mnt/cube/earneodo/bci_zf/stim_data/b1067/001/bos04.wav\n",
      "/mnt/cube/earneodo/bci_zf/stim_data/b1067/001/bos04_tag.wav\n",
      "/mnt/cube/earneodo/bci_zf/stim_data/b1067/001/bos05.wav\n",
      "/mnt/cube/earneodo/bci_zf/stim_data/b1067/001/bos05_tag.wav\n"
     ]
    }
   ],
   "source": [
    "# THIS IS THE ACTUAL THING\n",
    "def make_stereo_stim(wave_in, tag_freq, out_sf):\n",
    "    in_sf, data = wavfile.read(wave_in)\n",
    "    new_len = int(round(data.shape[0] * out_sf / in_sf))\n",
    "    new_len = data.shape[0]\n",
    "    #song_out = np.round(resample(data, new_len)).astype(np.int16)\n",
    "    song_out = data\n",
    "    tag_out = np.round(np.sin(2*np.pi*tag_freq*np.arange(new_len)/out_sf)*30000).astype(np.int16)\n",
    "    \n",
    "    return np.column_stack([song_out, tag_out])\n",
    "\n",
    "bird = 'b1067'\n",
    "stim_sess = '001'\n",
    "out_sf = 30000\n",
    "\n",
    "# stims_to_tag = {'bos': 1000,\n",
    "#                 'con': 3000,\n",
    "#                 'bos_rev': 5000}\n",
    "\n",
    "# stims_to_tag = {'bos': 1000,\n",
    "#                 'con': 2000,\n",
    "#                 'bos_rev': 3000,\n",
    "#                 'bos_syn': 4000}\n",
    "\n",
    "stims_to_tag = {'bos01': 1000,\n",
    "                'bos05-rev': 7000,\n",
    "                'bos02': 2000,\n",
    "                'bos03': 3000,\n",
    "                'bos04': 4000,\n",
    "                'bos05': 5000}\n",
    "\n",
    "# stims_to_tag = {'bos05': 6000,\n",
    "#                 'bos06': 500}\n",
    "\n",
    "# stims_to_tag = {'bos01': 1000,\n",
    "#                 'bos01_rev': 5000,\n",
    "#                 'con01': 4000,\n",
    "#                 'bos01_syn': 2000}\n",
    "\n",
    "# stims_to_tag = {'bos01': 1000,\n",
    "#                 'bos02': 2000,\n",
    "#                 'bos03': 3000,\n",
    "#                 'con01': 4000}\n",
    "\n",
    "\n",
    "#stims_to_tag = {'bos01_rev': 500}\n",
    "#stims_to_tag = {'bos03_rev': 1500}\n",
    "\n",
    "#wave_out = os.path.join(os.path.abspath('/mnt/cube/earneodo/bci_zf/stim_data/z021/001'), 'bos_syn_tag.wav')\n",
    "fn = et.file_names(bird, stim_sess)\n",
    "for stim_name, tag_f in stims_to_tag.items():\n",
    "    wave_in = os.path.join(fn['folders']['stim'], '{}.wav'.format(stim_name))\n",
    "    print(wave_in)\n",
    "    wave_out = os.path.join(fn['folders']['stim'], '{}_tag.wav'.format(stim_name))\n",
    "    song_out = make_stereo_stim(wave_in, tag_f, out_sf)\n",
    "    wavfile.write(wave_out, out_sf, song_out)\n",
    "    print(wave_out)\n",
    "    \n",
    "tags_par_file = os.path.join(fn['folders']['stim'], 'stim_tags.yml')\n",
    "with open(tags_par_file, 'w') as outfile:\n",
    "    yaml.dump(stims_to_tag, outfile, default_flow_style=False)"
   ]
  },
  {
   "cell_type": "code",
   "execution_count": null,
   "metadata": {
    "collapsed": true
   },
   "outputs": [],
   "source": [
    "tags_par_file = os.path.join(fn['folders']['stim'], 'stim_tags.yaml')\n",
    "with open(tags_par_file, 'w') as outfile:\n",
    "    yaml.dump(stims_to_tag, outfile, default_flow_style=False)"
   ]
  },
  {
   "cell_type": "code",
   "execution_count": null,
   "metadata": {
    "collapsed": true
   },
   "outputs": [],
   "source": [
    "bird = 'z023'\n",
    "et.file_names(bird, '001')"
   ]
  },
  {
   "cell_type": "code",
   "execution_count": null,
   "metadata": {
    "collapsed": true
   },
   "outputs": [],
   "source": [
    "plt.plot(song_out.T[:1000])"
   ]
  },
  {
   "cell_type": "code",
   "execution_count": null,
   "metadata": {
    "collapsed": true
   },
   "outputs": [],
   "source": [
    "song_out.shape"
   ]
  },
  {
   "cell_type": "code",
   "execution_count": null,
   "metadata": {
    "collapsed": true
   },
   "outputs": [],
   "source": [
    "A1x16-5mm-50\n",
    "passaro16-nn_acute"
   ]
  }
 ],
 "metadata": {
  "anaconda-cloud": {},
  "kernelspec": {
   "display_name": "Tf 1.2 - Py3.6",
   "language": "python",
   "name": "tf12"
  },
  "language_info": {
   "codemirror_mode": {
    "name": "ipython",
    "version": 3
   },
   "file_extension": ".py",
   "mimetype": "text/x-python",
   "name": "python",
   "nbconvert_exporter": "python",
   "pygments_lexer": "ipython3",
   "version": "3.6.2"
  }
 },
 "nbformat": 4,
 "nbformat_minor": 1
}
