{
 "cells": [
  {
   "cell_type": "code",
   "execution_count": 3,
   "metadata": {
    "collapsed": false
   },
   "outputs": [],
   "source": [
    "# Tools for monitoring audio and maybe recording too\n",
    "%matplotlib inline\n",
    "\n",
    "import pyaudio\n",
    "import wave\n",
    "import numpy as np\n",
    "import matplotlib.pyplot as plt\n",
    "import sys\n",
    "import time\n",
    "import os\n",
    "\n",
    "def dated_file_path(sess_path=None):\n",
    "    if sess_path == None:\n",
    "        sess_path = os.getcwd()\n",
    "    \n",
    "    st = time.strptime(time.ctime())\n",
    "    file_name = \"{:04d}{:02d}{:02d}t{:02d}{:02d}{:02d}_sound.wav\".format(st.tm_year, st.tm_mon, st.tm_mday, \n",
    "                                                                 st.tm_hour, st.tm_min, st.tm_sec)\n",
    "    return file_name\n",
    "\n",
    "def unpack_bits(stream, dtype='<h', n_chans=1):\n",
    "    formatted = np.fromstring(stream, dtype=np.dtype(dtype))\n",
    "    return formatted\n",
    "\n",
    "def rms(x):\n",
    "    return np.linalg.norm(np.array(x, dtype=np.int64))/np.sqrt(x.size)\n",
    "\n",
    "def mad(x):\n",
    "    med = np.median(x)\n",
    "    dev = np.abs(x - np.median(x))\n",
    "    return np.median(dev)\n",
    "\n",
    "def msg(string):\n",
    "    print string\n",
    "    sys.stdout.flush()\n",
    "\n",
    "class audioBuffer:\n",
    "    \n",
    "    def __init__(self, dtype='<h', n_chans=1):\n",
    "        self._stream = ''\n",
    "        self.dtype = '<h'\n",
    "        self.n_chans = n_chans\n",
    "\n",
    "    def append(self, new_stream):\n",
    "        self._stream = self._stream + new_stream\n",
    "    \n",
    "    def write(self, new_stream):\n",
    "        self._stream = new_stream\n",
    "        \n",
    "    def read_binary(self):\n",
    "        return self._stream\n",
    "    \n",
    "    # size in bytes\n",
    "    def get_size(self):\n",
    "        return len(self._stream)\n",
    "    \n",
    "    def get_n_formatted(self):\n",
    "        return len(self._stream) / np.zeros(1, dtype=np.dtype(self.dtype)).nbytes\n",
    "    \n",
    "    def clear_data(self):\n",
    "        self._stream = ''\n",
    "    \n",
    "    def read_formatted(self):\n",
    "        return unpack_bits(self._stream, self.dtype, self.n_chans)\n",
    "\n",
    "\n",
    "class Recorder:\n",
    "    \n",
    "    \n",
    "    def __init__(self, channels=1, rate=44100, frames_per_buffer=1024):\n",
    "        self.channels = channels\n",
    "        self.rate = rate\n",
    "        self.sampling_step_ms = 1000./rate\n",
    "        self.frames_per_buffer = frames_per_buffer\n",
    "        self._pa = pyaudio.PyAudio()\n",
    "        self._stream = None\n",
    "        self.stream_buffer = audioBuffer(dtype='<h', n_chans = channels)\n",
    "        self.wavefile = None\n",
    "    \n",
    "        self._is_recording = False\n",
    "        self.rms_thresh = 2000.\n",
    "        self.rms_stop_thresh = 1400.\n",
    "        self.monitor_channel = 0\n",
    "        self.monitor_buffer_size_ms = 2000\n",
    "        self.monitor_buffer_max_elem = self.monitor_buffer_size_ms/self.sampling_step_ms * channels\n",
    "        self.monitor_status = 'off'\n",
    "        self.recorded_samples = 0\n",
    "        self.record_epoch_ms = 10000 #records maximum 60 sec epochs\n",
    "        self.record_epoch_max_elem = self.record_epoch_ms/self.sampling_step_ms * channels\n",
    "        self.ms_in_buf = 0\n",
    "        self.callback_count = 0\n",
    "        \n",
    "    def msec_to_frames(self, n_msec):\n",
    "        return np.int(np.ceil(self.rate/(1000.*self.frames_per_buffer)*n_msec))\n",
    "    \n",
    "    \n",
    "    def read_frames(self, n, msec=True):\n",
    "        self._stream = self._pa.open(format=pyaudio.paInt16,\n",
    "                                    channels=self.channels,\n",
    "                                    rate=self.rate,\n",
    "                                    input=True,\n",
    "                                    frames_per_buffer=self.frames_per_buffer)\n",
    "        self._is_recording = True\n",
    "        n_frames = self.msec_to_frames(n) if msec else n_frames\n",
    "        self.stream_buffer.clear_data()\n",
    "        for frame in range(n_frames):\n",
    "            self.stream_buffer.append(self._stream.read(self.frames_per_buffer))\n",
    "        self._is_recording = False\n",
    "        return self.stream_buffer\n",
    "    \n",
    "    def get_avg_rms(self, window_len = 3000):\n",
    "        rms_buffer_formatted = self.read_frames(3000).read_formatted()\n",
    "        \n",
    "        return rms(rms_buffer_formatted), np.median(rms_buffer_formatted), mad(rms_buffer_formatted)\n",
    "    \n",
    "    \n",
    "    def start_triggered_mode(self):\n",
    "        msg(\"starting monitoring\")\n",
    "        self._stream = self._pa.open(format=pyaudio.paInt16,\n",
    "                            channels=self.channels,\n",
    "                            rate=self.rate,\n",
    "                            input=True,\n",
    "                            frames_per_buffer=self.frames_per_buffer,\n",
    "                            stream_callback=self.get_callback())\n",
    "        \n",
    "        self.stream_buffer.clear_data()\n",
    "        self.monitor_status = 'armed'\n",
    "        self._stream.start_stream()\n",
    "        return self\n",
    "    \n",
    "    def stop_triggered_mode(self):\n",
    "        msg('Stopping monitor: ' + self.monitor_status)\n",
    "        if self.monitor_status == 'triggered':\n",
    "            self.stop_triggered_recording()\n",
    "            \n",
    "        self._stream.stop_stream()\n",
    "        self.monitor_status = 'off'\n",
    "        \n",
    "        \n",
    "    def get_callback(self):\n",
    "        def callback(in_data, frame_count, time_info, status):\n",
    "            \n",
    "            self.callback_count = self.callback_count + 1\n",
    "            self.stream_buffer.append(in_data)            \n",
    "            elem_in_buf = self.stream_buffer.get_n_formatted()\n",
    "            \n",
    "            # Decide whether to analyze state of the machine\n",
    "            if elem_in_buf > self.monitor_buffer_max_elem:\n",
    "                #print \"full buffer\"\n",
    "                #plt.plot(self.stream_buffer.read_formatted())\n",
    "                msg(str(rms(self.stream_buffer.read_formatted())))\n",
    "                \n",
    "                if self.monitor_status == 'armed':\n",
    "                    msg('Armed with rms ' + str(rms(self.stream_buffer.read_formatted())))\n",
    "                    \n",
    "                    if rms(self.stream_buffer.read_formatted()) > self.rms_thresh:\n",
    "                        print('Should start recording')\n",
    "                        sys.stdout.flush()\n",
    "                        self.start_triggered_recording()\n",
    "                        self.recorded_samples = elem_in_buf\n",
    "\n",
    "                \n",
    "                elif self.monitor_status == 'triggered':\n",
    "                    msg('Triggered with rms ' + str(rms(self.stream_buffer.read_formatted())))\n",
    "                    if rms(self.stream_buffer.read_formatted()) >= self.rms_stop_thresh:\n",
    "                        self.continue_triggered_recording()\n",
    "                        self.recorded_samples = self.recorded_samples + elem_in_buf\n",
    "                        if self.recorded_samples > self.record_epoch_max_elem:\n",
    "                            msg('Recording went too long, stopping it')\n",
    "                            self.stop_triggered_recording()\n",
    "                    else:\n",
    "                        self.stop_triggered_recording()\n",
    "                \n",
    "                self.stream_buffer.clear_data()\n",
    "            return in_data, pyaudio.paContinue\n",
    "        return callback\n",
    "    \n",
    "    def start_triggered_recording(self):\n",
    "        print \"Starting to record\"\n",
    "        sys.stdout.flush()\n",
    "        file_name = self.make_file_path()\n",
    "        self._prep_file(file_name)\n",
    "        self._buffer_to_file()\n",
    "        self.monitor_status = 'triggered'\n",
    "        \n",
    "    def continue_triggered_recording(self):\n",
    "        print \"continuing recording\"\n",
    "        sys.stdout.flush()\n",
    "        self._buffer_to_file()\n",
    "    \n",
    "    def stop_triggered_recording(self):\n",
    "        print \"Recording Stopped\"\n",
    "        self._buffer_to_file()\n",
    "        self._close_file()\n",
    "        self.monitor_status = 'armed'\n",
    "        return self\n",
    "        \n",
    "    def make_file_path(self):\n",
    "        return dated_file_path()\n",
    "    \n",
    "    def _prep_file(self, file_name, mode='wb'):\n",
    "        msg(\"preparing file \" + file_name)\n",
    "        self.wavefile = wave.open(file_name, mode)\n",
    "        self.wavefile.setnchannels(self.channels)\n",
    "        self.wavefile.setsampwidth(self._pa.get_sample_size(pyaudio.paInt16))\n",
    "        self.wavefile.setframerate(self.rate)\n",
    "        msg('file open')\n",
    "    \n",
    "    def _close_file(self):\n",
    "        self.wavefile.close()\n",
    "        \n",
    "    def _buffer_to_file(self):\n",
    "        # send the data to file\n",
    "        print \"storing data\"\n",
    "        self.wavefile.writeframes(self.stream_buffer.read_binary())\n",
    "        #plt.plot(self.stream_buffer.read_formatted())\n",
    "        self.stream_buffer.clear_data()\n",
    "\n",
    "\n",
    "moni = Recorder()\n",
    "#moni.start_triggered_mode()\n",
    "#bufread = moni.read_frames(1000)"
   ]
  },
  {
   "cell_type": "code",
   "execution_count": null,
   "metadata": {
    "collapsed": false,
    "scrolled": true
   },
   "outputs": [],
   "source": [
    "moni._prep_file('tuvieja.wav')\n",
    "moni.buffer_to_file()\n",
    "moni._close_file()"
   ]
  },
  {
   "cell_type": "code",
   "execution_count": null,
   "metadata": {
    "collapsed": false
   },
   "outputs": [],
   "source": [
    "moni.wavefile.writeframes(moni.stream_buffer.read_binary())"
   ]
  },
  {
   "cell_type": "code",
   "execution_count": null,
   "metadata": {
    "collapsed": false
   },
   "outputs": [],
   "source": [
    "moni.rms_thresh = 2000"
   ]
  },
  {
   "cell_type": "code",
   "execution_count": 8,
   "metadata": {
    "collapsed": false,
    "scrolled": false
   },
   "outputs": [
    {
     "name": "stdout",
     "output_type": "stream",
     "text": [
      "starting monitoring\n"
     ]
    },
    {
     "data": {
      "text/plain": [
       "<__main__.Recorder instance at 0x107489bd8>"
      ]
     },
     "execution_count": 8,
     "metadata": {},
     "output_type": "execute_result"
    },
    {
     "name": "stdout",
     "output_type": "stream",
     "text": [
      "1253.41120136\n",
      "Armed with rms 1253.41120136\n",
      "1290.00822939\n",
      "Armed with rms 1290.00822939\n",
      "983.257738522\n",
      "Armed with rms 983.257738522\n",
      "2415.02567056\n",
      "Armed with rms 2415.02567056\n",
      "Should start recording\n",
      "Starting to record\n",
      "preparing file 20160311t124856_sound.wav\n",
      "file open\n",
      "storing data\n",
      "2827.69660506\n",
      "Triggered with rms 2827.69660506\n",
      "continuing recording\n",
      "storing data\n",
      "1444.26497678\n",
      "Triggered with rms 1444.26497678\n",
      "continuing recording\n",
      "storing data\n",
      "1071.53623808\n",
      "Triggered with rms 1071.53623808\n",
      "Recording Stopped\n",
      "storing data\n",
      "957.287536772\n",
      "Armed with rms 957.287536772\n",
      "983.544998415\n",
      "Armed with rms 983.544998415\n"
     ]
    }
   ],
   "source": [
    "moni.start_triggered_mode()"
   ]
  },
  {
   "cell_type": "code",
   "execution_count": 9,
   "metadata": {
    "collapsed": false
   },
   "outputs": [
    {
     "name": "stdout",
     "output_type": "stream",
     "text": [
      "Stopping monitor: armed\n"
     ]
    }
   ],
   "source": [
    "moni.stop_triggered_mode()"
   ]
  },
  {
   "cell_type": "code",
   "execution_count": 1,
   "metadata": {
    "collapsed": true
   },
   "outputs": [],
   "source": [
    "import wave"
   ]
  },
  {
   "cell_type": "code",
   "execution_count": 7,
   "metadata": {
    "collapsed": false
   },
   "outputs": [
    {
     "name": "stdout",
     "output_type": "stream",
     "text": [
      "1386.91824659\n",
      "1386.91816968\n",
      "836.0\n"
     ]
    },
    {
     "data": {
      "image/png": "[encoded data removed]",
      "text/plain": [
       "<matplotlib.figure.Figure at 0x10a5a9d90>"
      ]
     },
     "metadata": {},
     "output_type": "display_data"
    }
   ],
   "source": [
    "bufread = moni.read_frames(2000)\n",
    "chunk = bufread.read_formatted()\n",
    "plt.plot(chunk)\n",
    "print rms(chunk)\n",
    "print np.std(chunk)\n",
    "print mad(chunk)"
   ]
  },
  {
   "cell_type": "code",
   "execution_count": 4,
   "metadata": {
    "collapsed": false,
    "scrolled": true
   },
   "outputs": [
    {
     "data": {
      "text/plain": [
       "'off'"
      ]
     },
     "execution_count": 4,
     "metadata": {},
     "output_type": "execute_result"
    }
   ],
   "source": [
    "moni.monitor_status"
   ]
  },
  {
   "cell_type": "code",
   "execution_count": null,
   "metadata": {
    "collapsed": false
   },
   "outputs": [],
   "source": [
    "chunk64=((np.array(chunk, dtype=np.int64)))\n",
    "np.sqrt(sum(np.transpose(chunk64)*chunk64)/chunk64.size)"
   ]
  },
  {
   "cell_type": "code",
   "execution_count": null,
   "metadata": {
    "collapsed": false
   },
   "outputs": [],
   "source": [
    "plt.plot(moni.stream_buffer.read_formatted())"
   ]
  },
  {
   "cell_type": "code",
   "execution_count": null,
   "metadata": {
    "collapsed": false
   },
   "outputs": [],
   "source": [
    "moni.stop_triggered_mode()"
   ]
  },
  {
   "cell_type": "code",
   "execution_count": null,
   "metadata": {
    "collapsed": false
   },
   "outputs": [],
   "source": [
    "moni.stop_triggered_mode()"
   ]
  },
  {
   "cell_type": "code",
   "execution_count": null,
   "metadata": {
    "collapsed": false
   },
   "outputs": [],
   "source": [
    "moni.record_epoch_max_elem"
   ]
  },
  {
   "cell_type": "code",
   "execution_count": null,
   "metadata": {
    "collapsed": true
   },
   "outputs": [],
   "source": [
    "def interrupt_wrapper(func):\n",
    "        "
   ]
  },
  {
   "cell_type": "code",
   "execution_count": null,
   "metadata": {
    "collapsed": false
   },
   "outputs": [],
   "source": [
    "import glob\n",
    "import os\n",
    "glob.glob()"
   ]
  }
 ],
 "metadata": {
  "kernelspec": {
   "display_name": "Python 2",
   "language": "python",
   "name": "python2"
  },
  "language_info": {
   "codemirror_mode": {
    "name": "ipython",
    "version": 2
   },
   "file_extension": ".py",
   "mimetype": "text/x-python",
   "name": "python",
   "nbconvert_exporter": "python",
   "pygments_lexer": "ipython2",
   "version": "2.7.11"
  }
 },
 "nbformat": 4,
 "nbformat_minor": 0
}
