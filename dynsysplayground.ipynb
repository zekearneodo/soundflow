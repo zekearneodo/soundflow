{
 "cells": [
  {
   "cell_type": "code",
   "execution_count": null,
   "metadata": {
    "collapsed": true
   },
   "outputs": [],
   "source": [
    "%matplotlib inline\n",
    "import numpy as np\n",
    "import matplotlib\n",
    "from matplotlib import pyplot as plt\n",
    "from __future__ import division\n",
    "\n",
    "def rk4(f, x, h, *args):\n",
    "   \n",
    "    k_1 = f(x, *args)*h\n",
    "    k_2 = f(x + 0.5*k_1, *args)*h\n",
    "    k_3 = f(x + 0.5*k_2, *args)*h\n",
    "    k_4 = f(x + k_3, *args)*h\n",
    "    \n",
    "    return x + 1/6. * (k_1 + 2.*(k_2 + k_3) + k_4 )\n",
    "\n",
    "def harmonic(x, w, w_0):\n",
    "    return np.array([x[1], - w*w*x[0]/(w_0*w_0)])\n",
    "\n",
    "def takens(x, a, b, g):\n",
    "    gg = g*g\n",
    "    return np.array([\n",
    "            x[1],\n",
    "            gg*(a - x[0]*(b + x[0]*(1. - x[0]))) - g*x[0]*x[1]*(x[0]-1.) \n",
    "        ])"
   ]
  },
  {
   "cell_type": "code",
   "execution_count": null,
   "metadata": {
    "collapsed": false
   },
   "outputs": [],
   "source": [
    "x = np.array([0.1, -0.1])\n",
    "w = 1.\n",
    "w_0 = 0.5\n",
    "\n",
    "dt = 1/10000.\n",
    "\n",
    "y = np.zeros(20*1000)\n",
    "\n",
    "for i in range(20*np.int(1/dt)):\n",
    "    x = rk4(harmonic, x, dt, w, w_0)\n",
    "    if not i%10:\n",
    "        y[i / 10] = x[0]\n",
    "        \n",
    "    \n",
    "plt.plot(y)"
   ]
  },
  {
   "cell_type": "code",
   "execution_count": 7,
   "metadata": {
    "collapsed": false
   },
   "outputs": [],
   "source": [
    "import numpy as np\n",
    "\n",
    "class System(object):\n",
    "\n",
    "    def __init__(self, vector_field, initial_cond,\n",
    "                 t_0=0, field_pars=None, dt=1e-4, ode_func=rk4, sampling_rate=None):\n",
    "        \n",
    "        self.vector_field = vector_field\n",
    "        self.field_pars = field_pars\n",
    "        self.x = initial_cond\n",
    "        self.t = t_0\n",
    "        \n",
    "        self.ode_func = rk4\n",
    "        self.dt = dt\n",
    "        self.sampling_rate = np.int(0.1/dt) if sampling_rate is None else sampling_rate\n",
    "        self.steps_per_sample = np.int(1/(self.sampling_rate*self.dt))\n",
    "        \n",
    "    def __iter__(self):\n",
    "        return(self)\n",
    "    \n",
    "    def next(self):\n",
    "        self.x = self.ode_func(self.vector_field, self.x, self.dt, *self.field_pars)\n",
    "        self.t = self.t + self.dt\n",
    "        return self.x\n",
    "    \n",
    "    def integrate(self, t_f, t_0=None, x_0=None):\n",
    "        # integrate over a period of time\n",
    "        self.t = self.t if t_0 is None else t_0\n",
    "        self.x = self.x if x_0 is None else x_0\n",
    "        \n",
    "        n_steps = np.int((t_f - self.t)/self.dt)\n",
    "        n_samples = np.int(np.floor(n_steps/self.steps_per_sample))\n",
    "        \n",
    "\n",
    "        x = np.zeros([n_samples, self.x.shape[0]])\n",
    "        x[:] = np.nan\n",
    "        print x.shape\n",
    "        for i in range(n_steps):\n",
    "            self.next()\n",
    "            if not i%self.steps_per_sample:\n",
    "                x[i / self.steps_per_sample, :] = self.x\n",
    "        return x\n",
    "    "
   ]
  },
  {
   "cell_type": "code",
   "execution_count": 8,
   "metadata": {
    "collapsed": false
   },
   "outputs": [
    {
     "name": "stdout",
     "output_type": "stream",
     "text": [
      "(200000, 2)\n"
     ]
    }
   ],
   "source": [
    "# very basic example: harmonic oscillator\n",
    "x = np.array([0.1, -0.1])\n",
    "w = 1.\n",
    "w_0 = 0.5\n",
    "\n",
    "s = System(harmonic, np.array([0, -0.1]), field_pars = [w, w_0], sampling_rate=10000)\n",
    "z = s.integrate(20)\n",
    "#plt.plot(z[0,:]);"
   ]
  },
  {
   "cell_type": "code",
   "execution_count": 13,
   "metadata": {
    "collapsed": false
   },
   "outputs": [
    {
     "data": {
      "image/png": "[encoded data removed]",
      "text/plain": [
       "<matplotlib.figure.Figure at 0x7f75e0226410>"
      ]
     },
     "metadata": {},
     "output_type": "display_data"
    }
   ],
   "source": [
    "plt.plot(z[:,0], z[:,1]);"
   ]
  },
  {
   "cell_type": "code",
   "execution_count": 32,
   "metadata": {
    "collapsed": false
   },
   "outputs": [
    {
     "data": {
      "text/plain": [
       "[<matplotlib.lines.Line2D at 0x7f766a556610>]"
      ]
     },
     "execution_count": 32,
     "metadata": {},
     "output_type": "execute_result"
    },
    {
     "data": {
      "image/png": "[encoded data removed]",
      "text/plain": [
       "<matplotlib.figure.Figure at 0x7f7688159cd0>"
      ]
     },
     "metadata": {},
     "output_type": "display_data"
    }
   ],
   "source": [
    "y = np.zeros(20*1000)\n",
    "for i in range(20*np.int(1/dt)):\n",
    "    s.next()\n",
    "    if not i%10:\n",
    "        y[i / 10] = s.x[0]\n",
    "plt.plot(y)"
   ]
  },
  {
   "cell_type": "code",
   "execution_count": 7,
   "metadata": {
    "collapsed": false
   },
   "outputs": [
    {
     "name": "stdout",
     "output_type": "stream",
     "text": [
      "<function harmonic at 0x7f857a6556e0>\n",
      "(6,)\n"
     ]
    }
   ],
   "source": [
    "def tst(vector_field, dt=0.001,  *field_pars):\n",
    "    print vector_field\n",
    "    print field_pars\n",
    "\n",
    "tst(harmonic, 1., 5., 6)"
   ]
  },
  {
   "cell_type": "code",
   "execution_count": null,
   "metadata": {
    "collapsed": true
   },
   "outputs": [],
   "source": [
    "x = np.array([0.1, -0.1])\n",
    "w = 1.\n",
    "\n",
    "dt = 1/10000.\n",
    "\n",
    "y = np.zeros(20*1000)\n",
    "\n",
    "for i in range(20*np.int(1/dt)):\n",
    "    x = rk4(harmonic, x, dt, w)\n",
    "    if not i%10:\n",
    "        y[i / 10] = x[0]\n",
    "        \n",
    "    \n",
    "plt.plot(y)"
   ]
  },
  {
   "cell_type": "code",
   "execution_count": 5,
   "metadata": {
    "collapsed": false
   },
   "outputs": [
    {
     "data": {
      "text/plain": [
       "(20000,)"
      ]
     },
     "execution_count": 5,
     "metadata": {},
     "output_type": "execute_result"
    }
   ],
   "source": [
    "y.shape"
   ]
  },
  {
   "cell_type": "code",
   "execution_count": 8,
   "metadata": {
    "collapsed": false
   },
   "outputs": [
    {
     "data": {
      "text/plain": [
       "True"
      ]
     },
     "execution_count": 8,
     "metadata": {},
     "output_type": "execute_result"
    }
   ],
   "source": [
    "a is None"
   ]
  },
  {
   "cell_type": "code",
   "execution_count": null,
   "metadata": {
    "collapsed": true
   },
   "outputs": [],
   "source": []
  }
 ],
 "metadata": {
  "kernelspec": {
   "display_name": "Python 2",
   "language": "python",
   "name": "python2"
  },
  "language_info": {
   "codemirror_mode": {
    "name": "ipython",
    "version": 2
   },
   "file_extension": ".py",
   "mimetype": "text/x-python",
   "name": "python",
   "nbconvert_exporter": "python",
   "pygments_lexer": "ipython2",
   "version": "2.7.11"
  }
 },
 "nbformat": 4,
 "nbformat_minor": 0
}
