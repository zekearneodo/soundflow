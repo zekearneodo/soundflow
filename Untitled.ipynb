{
 "cells": [
  {
   "cell_type": "code",
   "execution_count": 2,
   "metadata": {
    "collapsed": false
   },
   "outputs": [
    {
     "name": "stdout",
     "output_type": "stream",
     "text": [
      "Computer: lintu.ucsd.edu\n"
     ]
    }
   ],
   "source": [
    "#notebook for testing the search of song in a wav file\n",
    "\n",
    "## Load everything\n",
    "%matplotlib inline\n",
    "import pdb\n",
    "import sys\n",
    "import numpy as np\n",
    "import scipy.io as sio\n",
    "import matplotlib.pyplot as plt\n",
    "import matplotlib\n",
    "import scipy.signal as sg\n",
    "import math\n",
    "import scipy as sp\n",
    "import socket\n",
    "import os\n",
    "\n",
    "matplotlib.style.use('ggplot')\n",
    "\n",
    "# Set up Computer and paths\n",
    "comp_name=socket.gethostname()\n",
    "print 'Computer: ' + comp_name\n",
    "if  comp_name == 'chim':\n",
    "    sys.path.append('C:\\Users\\GentnerLab\\Documents\\Experiment\\scripts\\sound_tools')\n",
    "    experiment_folder = os.path.join('C:\\Users\\GentnerLab\\Documents\\Experiment')\n",
    "    r = os.path.join('C:\\Users\\GentnerLab\\Documents\\Experiment')\n",
    "    raw_data_folder = os.path.join(experiment_folder, 'raw_data')\n",
    "\n",
    "if 'lintu' in comp_name:\n",
    "    sys.path.append('/mnt/cube/earneodo/repos/soundflow/sound_tools')\n",
    "    experiment_folder = os.path.join('/mnt/cube/earneodo/bci_zf/')\n",
    "    raw_data_folder = os.path.join(experiment_folder, 'raw_data')\n",
    "\n",
    "#grab soundtools\n",
    "from soundtools import WavData, Chunk\n",
    "    \n",
    "#file structure\n",
    "bird_id = 'z003'\n",
    "sess = 1\n",
    "rec = 'a'\n",
    "run = 5\n",
    "bout = '2251_869'\n",
    "\n",
    "#load the bout and the whole sound file for searching\n",
    "raw_file_folder = os.path.join(raw_data_folder, bird_id, str(sess).zfill(3))\n",
    "raw_file_name = rec + '_' + str(run).zfill(2) + '_song.wav'\n",
    "raw_file_path = os.path.join(raw_file_folder, raw_file_name)\n",
    "\n",
    "#the whole sound\n",
    "all_sound = WavData(raw_file_path)\n",
    "\n",
    "#the bout\n",
    "if bout is not None:\n",
    "    raw_file_folder = os.path.join(raw_file_folder, 'bouts')\n",
    "    raw_file_name = rec + '_' + str(run).zfill(2) + '_song_' + bout + '.wav'\n",
    "\n",
    "raw_file_path = os.path.join(raw_file_folder, raw_file_name)\n",
    "bout_sound = WavData(raw_file_path)"
   ]
  },
  {
   "cell_type": "code",
   "execution_count": 3,
   "metadata": {
    "collapsed": true
   },
   "outputs": [],
   "source": [
    "#functions that should be in a package\n",
    "def rms(x):\n",
    "    return np.linalg.norm(x)\n",
    "\n",
    "def mad(x):\n",
    "    med = np.median(x)\n",
    "    dev = np.abs(x - np.median(x))\n",
    "    return np.median(dev)\n",
    "\n",
    "def identity(x):\n",
    "    return x\n",
    "\n",
    "#decorator for getting the rms after applying a filter to a segment\n",
    "def rms_after_filter(filter_func):\n",
    "    def out_of_filtered(*args, **kwargs):\n",
    "        #print \"Arguments were: %s, %s\" % (args, kwargs)\n",
    "        #plt.plot(np.transpose(filter_func(*args, **kwargs)))\n",
    "        return np.linalg.norm(filter_func(*args, **kwargs))\n",
    "    return out_of_filtered"
   ]
  },
  {
   "cell_type": "code",
   "execution_count": 4,
   "metadata": {
    "collapsed": true
   },
   "outputs": [],
   "source": [
    "# preparations and parameters\n",
    "# filter parameters and filter function\n",
    "#filter the signal\n",
    "s_f = all_sound.s_f\n",
    "\n",
    "#The band where we expect most of the energy of zf song to be in\n",
    "filt_lo = 10000 #Hz\n",
    "filt_hi = 400 #Hz\n",
    "hp_b, hp_a = sg.butter(4, filt_hi/(s_f/2.), btype='high')\n",
    "lp_b, lp_a = sg.butter(4, filt_lo/(s_f/2.), btype='low')\n",
    "\n",
    "\n",
    "def band_pass_filter(chunk, hp_b, hp_a, lp_b, lp_a):    \n",
    "    chunk_hi = sg.filtfilt(hp_b, hp_a, chunk)\n",
    "    chunk_filt = sg.filtfilt(lp_b, lp_a, chunk_hi)\n",
    "    return chunk_filt\n",
    "\n",
    "@rms_after_filter\n",
    "def rms_band_pass_filter(chunk, hp_b, hp_a, lp_b, lp_a):\n",
    "    #plt.plot(np.transpose(chunk))\n",
    "    chunk_hi = sg.filtfilt(hp_b, hp_a, chunk)\n",
    "    chunk_filt = sg.filtfilt(lp_b, lp_a, chunk_hi)\n",
    "    return chunk_filt\n",
    "\n",
    "@rms_after_filter\n",
    "def rms_identity(chunk):\n",
    "    return(chunk)"
   ]
  },
  {
   "cell_type": "code",
   "execution_count": 37,
   "metadata": {
    "collapsed": false
   },
   "outputs": [
    {
     "name": "stdout",
     "output_type": "stream",
     "text": [
      "602.0\n",
      "119.0\n",
      "721.0\n"
     ]
    }
   ],
   "source": [
    "#Parameters of the search\n",
    "bit_size = 100 # ms; size of sound bits\n",
    "refractory = 5 # bits; refractory period in bits\n",
    "bits_bout = 5 # bits; how many bouts together is considered a bout\n",
    "threshold = 5 # threshold in mads (median deviation of the median)\n",
    "\n",
    "bit_size_sample = np.int(bit_size*all_sound.s_f*0.001)\n",
    "all_starts = np.arange(0, all_sound.n_samples - bit_size_sample, bit_size_sample)\n",
    "\n",
    "all_rms = all_sound.apply_repeated(all_starts, bit_size_sample, rms_band_pass_filter, hp_b, hp_a, lp_b, lp_a)\n",
    "\n",
    "thresh_rms = np.median(all_rms) + threshold * mad(all_rms)\n",
    "\n",
    "print np.median(all_rms)\n",
    "print mad(all_rms)\n",
    "print thresh_rms"
   ]
  },
  {
   "cell_type": "code",
   "execution_count": 39,
   "metadata": {
    "collapsed": false
   },
   "outputs": [
    {
     "name": "stdout",
     "output_type": "stream",
     "text": [
      "602.0\n",
      "119.0\n",
      "1197.0\n"
     ]
    }
   ],
   "source": [
    "thresh_rms = np.median(all_rms) + threshold * mad(all_rms)\n",
    "\n",
    "print np.median(all_rms)\n",
    "print mad(all_rms)\n",
    "print thresh_rms"
   ]
  },
  {
   "cell_type": "code",
   "execution_count": 40,
   "metadata": {
    "collapsed": true
   },
   "outputs": [],
   "source": [
    "# Find where is larger than threshold\n",
    "supra_bits = np.where(all_rms > thresh_rms)[0]\n",
    "for bit in supra_bits:\n",
    "    #check if it is isolated\n",
    "    if bit+1 not in supra_bits\n",
    "#get non_contiguous supra"
   ]
  },
  {
   "cell_type": "code",
   "execution_count": 41,
   "metadata": {
    "collapsed": false
   },
   "outputs": [
    {
     "data": {
      "text/plain": [
       "[<matplotlib.lines.Line2D at 0x7f3d93678d50>]"
      ]
     },
     "execution_count": 41,
     "metadata": {},
     "output_type": "execute_result"
    },
    {
     "data": {
      "image/png": "[encoded data removed]",
      "text/plain": [
       "<matplotlib.figure.Figure at 0x7f3d937a3390>"
      ]
     },
     "metadata": {},
     "output_type": "display_data"
    }
   ],
   "source": [
    "plt.plot(np.arange(supra_bits.size), supra_bits, '*')"
   ]
  },
  {
   "cell_type": "code",
   "execution_count": 209,
   "metadata": {
    "collapsed": false
   },
   "outputs": [
    {
     "ename": "error",
     "evalue": "pack expected 88200 items for packing (got 1)",
     "output_type": "error",
     "traceback": [
      "\u001b[1;31m---------------------------------------------------------------------------\u001b[0m",
      "\u001b[1;31merror\u001b[0m                                     Traceback (most recent call last)",
      "\u001b[1;32m<ipython-input-209-822a8084a66e>\u001b[0m in \u001b[0;36m<module>\u001b[1;34m()\u001b[0m\n\u001b[0;32m     30\u001b[0m     \u001b[0msg_chunk\u001b[0m \u001b[1;33m=\u001b[0m \u001b[0mChunk\u001b[0m\u001b[1;33m(\u001b[0m\u001b[0mall_sound\u001b[0m\u001b[1;33m,\u001b[0m \u001b[0msegment\u001b[0m \u001b[1;33m=\u001b[0m \u001b[1;33m[\u001b[0m\u001b[0mstart\u001b[0m\u001b[1;33m,\u001b[0m \u001b[0mend\u001b[0m\u001b[1;33m]\u001b[0m\u001b[1;33m)\u001b[0m\u001b[1;33m\u001b[0m\u001b[0m\n\u001b[0;32m     31\u001b[0m     \u001b[0mdata_out\u001b[0m \u001b[1;33m=\u001b[0m \u001b[0mnp\u001b[0m\u001b[1;33m.\u001b[0m\u001b[0marray\u001b[0m\u001b[1;33m(\u001b[0m\u001b[0msg_chunk\u001b[0m\u001b[1;33m.\u001b[0m\u001b[0mdata\u001b[0m\u001b[1;33m,\u001b[0m \u001b[0mdtype\u001b[0m\u001b[1;33m=\u001b[0m\u001b[0mnp\u001b[0m\u001b[1;33m.\u001b[0m\u001b[0mint16\u001b[0m\u001b[1;33m)\u001b[0m\u001b[1;33m\u001b[0m\u001b[0m\n\u001b[1;32m---> 32\u001b[1;33m     \u001b[0mpacked_data\u001b[0m \u001b[1;33m=\u001b[0m \u001b[0mstruct\u001b[0m\u001b[1;33m.\u001b[0m\u001b[0mpack\u001b[0m\u001b[1;33m(\u001b[0m\u001b[1;34m'<'\u001b[0m \u001b[1;33m+\u001b[0m \u001b[0mstr\u001b[0m\u001b[1;33m(\u001b[0m\u001b[1;33m(\u001b[0m\u001b[0mend\u001b[0m \u001b[1;33m-\u001b[0m \u001b[0mstart\u001b[0m\u001b[1;33m)\u001b[0m\u001b[1;33m)\u001b[0m \u001b[1;33m+\u001b[0m \u001b[1;34m'h'\u001b[0m\u001b[1;33m,\u001b[0m \u001b[1;33m*\u001b[0m\u001b[0mdata_out\u001b[0m\u001b[1;33m)\u001b[0m\u001b[1;33m\u001b[0m\u001b[0m\n\u001b[0m\u001b[0;32m     33\u001b[0m     \u001b[0mbouts_out\u001b[0m\u001b[1;33m.\u001b[0m\u001b[0msetpos\u001b[0m\u001b[1;33m(\u001b[0m\u001b[0mstart\u001b[0m\u001b[1;33m)\u001b[0m\u001b[1;33m\u001b[0m\u001b[0m\n\u001b[0;32m     34\u001b[0m     \u001b[0mbouts_out\u001b[0m\u001b[1;33m.\u001b[0m\u001b[0mwriteframes\u001b[0m\u001b[1;33m(\u001b[0m\u001b[0mdata_out\u001b[0m\u001b[1;33m)\u001b[0m\u001b[1;33m\u001b[0m\u001b[0m\n",
      "\u001b[1;31merror\u001b[0m: pack expected 88200 items for packing (got 1)"
     ]
    }
   ],
   "source": [
    "# Starts of probable bouts\n",
    "possible_bouts = np.where(np.diff(supra_bits, bits_bout)==0)[0]\n",
    "firsts = possible_bouts[np.where(np.diff(possible_bouts,1)>10)[0]+1]\n",
    "firsts = np.insert(firsts, 0, possible_bouts[0])\n",
    "lasts = possible_bouts[np.where(np.diff(possible_bouts,1)>10)[0]-1]\n",
    "lasts = np.insert(lasts, lasts.size, possible_bouts[-1])\n",
    "\n",
    "assert(firsts.size == lasts.size)\n",
    "segments = np.array([firsts, lasts])\n",
    "\n",
    "#Make a chunk with each segment\n",
    "more = 2\n",
    "n_seg = segments.shape[1]\n",
    "\n",
    "bout_file_name = rec + '_' + str(run).zfill(2) + 'bouts.wav'\n",
    "bout_file_path = os.path.join(raw_file_folder, bout_file_name)\n",
    "\n",
    "import wave\n",
    "import struct\n",
    "\n",
    "bouts_out = wave.open(bout_file_path, 'w')\n",
    "bouts_out.setparams((2, 2, all_sound.s_f, 0, 'NONE', 'not compressed'))\n",
    "\n",
    "for i in range(n_seg):\n",
    "    start = (segments[0, i] - more) * bits_bout * bit_size_sample\n",
    "    end = (segments[0, i] + more) * bits_bout * bit_size_sample\n",
    "    start = start if start > 0 else 0\n",
    "    end = end if end < all_sound.n_samples else all_sound.n_samples\n",
    "    \n",
    "    sg_chunk = Chunk(all_sound, segment = [start, end])\n",
    "    data_out = np.array(sg_chunk.data, dtype=np.int16)\n",
    "    packed_data = struct.pack('<' + str((end - start)) + 'h', *data_out)\n",
    "    bouts_out.setpos(start)\n",
    "    bouts_out.writeframes(data_out)\n",
    "    "
   ]
  },
  {
   "cell_type": "code",
   "execution_count": 206,
   "metadata": {
    "collapsed": false
   },
   "outputs": [
    {
     "data": {
      "text/plain": [
       "array([ 615,  626,  627, ..., 1721, 1718, 1714], dtype=int16)"
      ]
     },
     "execution_count": 206,
     "metadata": {},
     "output_type": "execute_result"
    }
   ],
   "source": [
    "data_out[0]"
   ]
  },
  {
   "cell_type": "code",
   "execution_count": null,
   "metadata": {
    "collapsed": true
   },
   "outputs": [],
   "source": []
  },
  {
   "cell_type": "code",
   "execution_count": 163,
   "metadata": {
    "collapsed": false
   },
   "outputs": [
    {
     "name": "stdout",
     "output_type": "stream",
     "text": [
      "[ 133  204  267  355  393  468  594  635  667  687  703  835  866  899  979\n",
      " 1076 1148 1181 1250 1324 1399 1435 1770 1865 1889 1936 1977]\n"
     ]
    }
   ],
   "source": [
    "firsts = possible_bouts[np.where(np.diff(possible_bouts,1)>10)[0]+1]\n",
    "firsts = np.insert(firsts, 0, possible_bouts[0])\n",
    "print firsts"
   ]
  },
  {
   "cell_type": "code",
   "execution_count": 196,
   "metadata": {
    "collapsed": false
   },
   "outputs": [],
   "source": [
    "sg_chunk = Chunk(all_sound, segment=[0, 10000]) "
   ]
  },
  {
   "cell_type": "code",
   "execution_count": 180,
   "metadata": {
    "collapsed": false
   },
   "outputs": [
    {
     "name": "stdout",
     "output_type": "stream",
     "text": [
      "[ 134  217  342  377  455  578  623  644  669  688  754  836  837  899  994\n",
      " 1120 1154 1155 1311 1378 1411 1447 1455 1867 1877 1889 1980]\n"
     ]
    }
   ],
   "source": [
    "lasts = possible_bouts[np.where(np.diff(possible_bouts,1)>10)[0]-1]\n",
    "lasts = np.insert(lasts, lasts.size, possible_bouts[-1])\n",
    "print lasts"
   ]
  },
  {
   "cell_type": "code",
   "execution_count": 167,
   "metadata": {
    "collapsed": false
   },
   "outputs": [
    {
     "data": {
      "text/plain": [
       "27"
      ]
     },
     "execution_count": 167,
     "metadata": {},
     "output_type": "execute_result"
    }
   ],
   "source": [
    "lasts.size"
   ]
  },
  {
   "cell_type": "code",
   "execution_count": 150,
   "metadata": {
    "collapsed": false
   },
   "outputs": [
    {
     "data": {
      "text/plain": [
       "1980"
      ]
     },
     "execution_count": 150,
     "metadata": {},
     "output_type": "execute_result"
    }
   ],
   "source": [
    "possible_bouts[-1]"
   ]
  },
  {
   "cell_type": "code",
   "execution_count": 56,
   "metadata": {
    "collapsed": true
   },
   "outputs": [
    {
     "data": {
      "text/plain": [
       "(array([ 133,  134,  135,  204,  205,  206,  207,  217,  218,  267,  268,\n",
       "         269,  270,  271,  272,  273,  274,  275,  276,  277,  278,  279,\n",
       "         280,  281,  282,  283,  284,  285,  291,  292,  293,  294,  295,\n",
       "         296,  297,  298,  299,  300,  301,  302,  303,  304,  305,  306,\n",
       "         307,  308,  309,  310,  311,  312,  313,  314,  315,  321,  322,\n",
       "         323,  324,  325,  326,  327,  328,  334,  335,  336,  337,  338,\n",
       "         339,  340,  341,  342,  343,  355,  356,  357,  358,  359,  360,\n",
       "         361,  362,  363,  364,  365,  366,  376,  377,  378,  393,  394,\n",
       "         395,  396,  397,  398,  399,  400,  401,  402,  403,  404,  405,\n",
       "         406,  407,  408,  409,  410,  411,  412,  413,  414,  415,  416,\n",
       "         417,  418,  419,  420,  421,  422,  423,  424,  425,  426,  427,\n",
       "         435,  440,  441,  442,  443,  444,  445,  446,  447,  448,  449,\n",
       "         450,  451,  452,  453,  454,  455,  456,  468,  469,  470,  476,\n",
       "         477,  478,  479,  480,  481,  482,  483,  484,  485,  486,  487,\n",
       "         488,  489,  490,  491,  492,  493,  494,  495,  496,  497,  503,\n",
       "         504,  505,  506,  507,  508,  509,  510,  511,  512,  520,  521,\n",
       "         522,  523,  524,  525,  526,  527,  528,  529,  530,  531,  532,\n",
       "         533,  534,  535,  536,  537,  538,  539,  540,  541,  547,  548,\n",
       "         549,  550,  551,  552,  553,  554,  555,  556,  565,  566,  567,\n",
       "         568,  569,  570,  571,  572,  573,  574,  575,  576,  577,  578,\n",
       "         579,  594,  595,  596,  597,  598,  599,  600,  601,  607,  608,\n",
       "         609,  610,  611,  612,  613,  614,  620,  621,  622,  623,  624,\n",
       "         635,  636,  637,  638,  644,  653,  667,  668,  669,  676,  687,\n",
       "         688,  689,  703,  704,  705,  706,  707,  708,  709,  715,  716,\n",
       "         717,  718,  728,  729,  735,  736,  737,  738,  739,  748,  749,\n",
       "         750,  751,  752,  753,  754,  755,  835,  836,  837,  866,  899,\n",
       "         909,  979,  980,  981,  982,  983,  984,  994,  997, 1076, 1077,\n",
       "        1078, 1079, 1080, 1081, 1082, 1083, 1084, 1085, 1086, 1087, 1088,\n",
       "        1089, 1090, 1091, 1092, 1093, 1094, 1095, 1096, 1097, 1098, 1099,\n",
       "        1100, 1101, 1107, 1108, 1109, 1110, 1111, 1112, 1113, 1114, 1115,\n",
       "        1116, 1117, 1118, 1119, 1120, 1121, 1148, 1149, 1150, 1151, 1152,\n",
       "        1153, 1154, 1155, 1181, 1250, 1251, 1252, 1253, 1254, 1255, 1256,\n",
       "        1257, 1258, 1259, 1260, 1261, 1262, 1263, 1264, 1265, 1266, 1267,\n",
       "        1268, 1269, 1270, 1271, 1272, 1273, 1274, 1275, 1276, 1277, 1278,\n",
       "        1279, 1280, 1281, 1282, 1283, 1284, 1285, 1286, 1287, 1288, 1289,\n",
       "        1290, 1291, 1292, 1293, 1294, 1295, 1301, 1302, 1303, 1304, 1305,\n",
       "        1306, 1307, 1308, 1309, 1310, 1311, 1312, 1324, 1325, 1326, 1327,\n",
       "        1328, 1329, 1330, 1331, 1332, 1333, 1334, 1335, 1336, 1337, 1338,\n",
       "        1339, 1340, 1341, 1342, 1343, 1344, 1345, 1346, 1347, 1348, 1349,\n",
       "        1350, 1351, 1352, 1353, 1354, 1355, 1356, 1357, 1358, 1359, 1360,\n",
       "        1361, 1362, 1363, 1364, 1365, 1366, 1367, 1368, 1369, 1370, 1371,\n",
       "        1377, 1378, 1379, 1399, 1400, 1401, 1402, 1403, 1404, 1405, 1406,\n",
       "        1407, 1408, 1409, 1410, 1411, 1420, 1435, 1441, 1442, 1443, 1444,\n",
       "        1445, 1446, 1447, 1455, 1770, 1865, 1867, 1877, 1889, 1936, 1977,\n",
       "        1978, 1979, 1980]),)"
      ]
     },
     "execution_count": 56,
     "metadata": {},
     "output_type": "execute_result"
    }
   ],
   "source": [
    "np.where(np.diff(supra_bits,5)==0)"
   ]
  },
  {
   "cell_type": "code",
   "execution_count": 63,
   "metadata": {
    "collapsed": false
   },
   "outputs": [],
   "source": [
    "a=range(1,10)+range(13,16)"
   ]
  },
  {
   "cell_type": "code",
   "execution_count": 64,
   "metadata": {
    "collapsed": false
   },
   "outputs": [
    {
     "data": {
      "text/plain": [
       "array([  0,   0,   0,   0,   3, -12,  18])"
      ]
     },
     "execution_count": 64,
     "metadata": {},
     "output_type": "execute_result"
    }
   ],
   "source": [
    "np.diff(a,5)"
   ]
  },
  {
   "cell_type": "code",
   "execution_count": null,
   "metadata": {
    "collapsed": true
   },
   "outputs": [],
   "source": []
  }
 ],
 "metadata": {
  "kernelspec": {
   "display_name": "Python 2",
   "language": "python",
   "name": "python2"
  },
  "language_info": {
   "codemirror_mode": {
    "name": "ipython",
    "version": 2
   },
   "file_extension": ".py",
   "mimetype": "text/x-python",
   "name": "python",
   "nbconvert_exporter": "python",
   "pygments_lexer": "ipython2",
   "version": "2.7.10"
  }
 },
 "nbformat": 4,
 "nbformat_minor": 0
}
