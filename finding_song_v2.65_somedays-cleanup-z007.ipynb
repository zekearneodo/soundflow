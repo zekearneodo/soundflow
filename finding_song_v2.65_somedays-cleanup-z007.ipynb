{
 "cells": [
  {
   "cell_type": "markdown",
   "metadata": {},
   "source": [
    "# Find songs for all files of a bird (or a day of a bird)"
   ]
  },
  {
   "cell_type": "code",
   "execution_count": null,
   "metadata": {},
   "outputs": [],
   "source": [
    "#notebook for testing the search of song in a wav file\n",
    "## Load everything\n",
    "%matplotlib inline\n",
    "import pdb\n",
    "import sys\n",
    "import numpy as np\n",
    "import scipy.io as sio\n",
    "import matplotlib.pyplot as plt\n",
    "import matplotlib\n",
    "import math\n",
    "import scipy as sp\n",
    "import socket\n",
    "import os\n",
    "import logging\n",
    "import glob\n",
    "\n",
    "matplotlib.style.use('ggplot')\n",
    "\n",
    "logger = logging.getLogger()\n",
    "handler = logging.StreamHandler()\n",
    "formatter = logging.Formatter(\n",
    "        '%(asctime)s %(name)-12s %(levelname)-8s %(message)s')\n",
    "handler.setFormatter(formatter)\n",
    "logger.addHandler(handler)\n",
    "logger.setLevel(logging.DEBUG)\n",
    "\n",
    "# Set up Computer and paths\n",
    "comp_name=socket.gethostname()\n",
    "logger.info('Computer: ' + comp_name)\n",
    "   \n",
    "#grab soundtools\n",
    "from swissknife.streamtools import findsong\n",
    "from swissknife.bci.core import expstruct as et\n",
    "import swissknife.streamtools.findbout as fb\n",
    "from swissknife.threadtools.threadedfunction import threadedFunction"
   ]
  },
  {
   "cell_type": "markdown",
   "metadata": {},
   "source": [
    "### Define the bird, the day of the recording, and the location of the raw_data\n",
    "No need for rec and sess_day, those can be entered later"
   ]
  },
  {
   "cell_type": "code",
   "execution_count": 2,
   "metadata": {
    "collapsed": true
   },
   "outputs": [],
   "source": [
    "bird_id = 'z007' \n",
    "sess_day = '005'\n",
    "rec = 'a_02_song'\n",
    "raw_location = 'rw'\n",
    "raw_data_folder_bird = et.file_names(bird_id)['folders'][raw_location]"
   ]
  },
  {
   "cell_type": "markdown",
   "metadata": {},
   "source": [
    "#### For instance, here functions for getting all the sessions of a bird"
   ]
  },
  {
   "cell_type": "code",
   "execution_count": 3,
   "metadata": {
    "collapsed": true
   },
   "outputs": [],
   "source": [
    "def list_flatten(lists):\n",
    "    return [t for sublist in lists for l in sublist for t in l]\n",
    "\n",
    "def all_bird_sessions(raw_folder):\n",
    "    return list(os.walk(raw_folder))[0][1]\n",
    "\n",
    "def all_day_wavs(day_folder):\n",
    "    return glob.glob(os.path.join(day_folder, '*.wav'))\n",
    "\n",
    "def get_day_files(raw_data_folder_bird, day):\n",
    "    day_path = os.path.join(raw_data_folder_bird, day)\n",
    "    logger.info('Getting all wav names for day {}'.format(day_path))\n",
    "    all_wavs = all_day_wavs(day_path)\n",
    "    return all_wavs\n",
    "\n",
    "def get_bird_files(raw_data_folder_bird, only_days=None):\n",
    "    if only_days:\n",
    "        all_days = only_days\n",
    "        logger.info('Only days {}'.format(all_days))\n",
    "    else:\n",
    "        all_days = all_bird_sessions(raw_data_folder_bird)\n",
    "    all_bird_files = [get_day_files(raw_data_folder_bird, day) for day in all_days]\n",
    "    return [x for sublist in all_bird_files for x in sublist]\n"
   ]
  },
  {
   "cell_type": "code",
   "execution_count": 4,
   "metadata": {
    "scrolled": true
   },
   "outputs": [
    {
     "name": "stderr",
     "output_type": "stream",
     "text": [
      "2018-05-04 09:46:19,865 root         INFO     Only days ['005']\n",
      "2018-05-04 09:46:19,866 root         INFO     Getting all wav names for day /mnt/cube/earneodo/bci_zf/raw_data/z007/005\n"
     ]
    }
   ],
   "source": [
    "only_days = [sess_day]\n",
    "raw_file_list = get_bird_files(raw_data_folder_bird, only_days=only_days)\n",
    "all_raw_file_list = [x for x in raw_file_list if 'autobouts' not in x]\n",
    "all_raw_file_list.sort()"
   ]
  },
  {
   "cell_type": "code",
   "execution_count": 5,
   "metadata": {},
   "outputs": [
    {
     "data": {
      "text/plain": [
       "['/mnt/cube/earneodo/bci_zf/raw_data/z007/005/a_01_song.wav',\n",
       " '/mnt/cube/earneodo/bci_zf/raw_data/z007/005/a_02_song.wav']"
      ]
     },
     "execution_count": 5,
     "metadata": {},
     "output_type": "execute_result"
    }
   ],
   "source": [
    "all_raw_file_list"
   ]
  },
  {
   "cell_type": "markdown",
   "metadata": {},
   "source": [
    "### Now set to find song (a pattern) in a list of folders, each for one day"
   ]
  },
  {
   "cell_type": "code",
   "execution_count": 6,
   "metadata": {
    "collapsed": true
   },
   "outputs": [],
   "source": [
    "## One option is to go through all of the days (sessions) of the bird\n",
    "\n",
    "#all_days = all_bird_sessions(raw_data_folder_bird)\n",
    "#all_days.sort()\n",
    "#len(all_days)"
   ]
  },
  {
   "cell_type": "code",
   "execution_count": 7,
   "metadata": {},
   "outputs": [],
   "source": [
    "# Screw that, I want the days listed specifically\n",
    "all_days = ['005']"
   ]
  },
  {
   "cell_type": "code",
   "execution_count": 8,
   "metadata": {},
   "outputs": [
    {
     "name": "stdout",
     "output_type": "stream",
     "text": [
      "/mnt/cube/earneodo/bci_zf/raw_data/z007/search_bout_one_day_2_mot_1.log\n"
     ]
    }
   ],
   "source": [
    "# create file handler which logs even debug messages\n",
    "log_f_name = os.path.join(raw_data_folder_bird, 'search_bout_one_day_2_mot_1.log')\n",
    "fh = logging.FileHandler(log_f_name)\n",
    "fh.setLevel(logging.DEBUG)\n",
    "formatter = logging.Formatter('%(asctime)s - %(name)s - %(levelname)s - %(message)s')\n",
    "fh.setFormatter(formatter)\n",
    "# add the handlers to the logger\n",
    "logger.addHandler(fh)\n",
    "print(log_f_name)"
   ]
  },
  {
   "cell_type": "markdown",
   "metadata": {},
   "source": [
    "### The hi level function to serach for bouts in all the wavs of a session\n",
    "looks for a stim.par.yml file in the stimulus's folder (..\\bci_zf\\stim_data\\bird\\stim_sess\\stim.par.yml).\n",
    "It has to contain the .wav filename of the pattern name, and the parameters for filtering, fft window, thresholds and peak detection.\n",
    "\n",
    "This runs a search and spits a pandas file and an h5 file with the putative motifs."
   ]
  },
  {
   "cell_type": "code",
   "execution_count": 9,
   "metadata": {
    "collapsed": true
   },
   "outputs": [],
   "source": [
    "def search_bouts_song(bird, sess, stim_name, stim_ver='001'):\n",
    "    fn = et.file_names(bird, stim_ver)\n",
    "    stim_par = et.read_yml(os.path.join(fn['folders']['stim'], 'stim.par.yml'))\n",
    "    \n",
    "    search_par = stim_par['search_motiff']\n",
    "    pattern_path = os.path.join(fn['folders']['stim'], search_par['motiff_patterns'][stim_name])\n",
    "    \n",
    "    fn_data = et.file_names(bird, sess)\n",
    "    stream_folder = fn_data['folders']['rw']\n",
    "    dest_folder = fn_data['folders']['ss']\n",
    "    et.mkdir_p(dest_folder)\n",
    "    \n",
    "    log_f_name = os.path.join(dest_folder, 'search_bout_{}.log'.format(stim_name))\n",
    "    formatter = logging.Formatter('%(asctime)s - %(name)s - %(levelname)s - %(message)s')\n",
    "\n",
    "    fh = logging.FileHandler(log_f_name)\n",
    "    fh.setFormatter(formatter)\n",
    "    logger.addHandler(fh)\n",
    "    \n",
    "    all_candidates = fb.search_bouts_sess(stream_folder, pattern_path, search_par, \n",
    "                                          chunked_specgram=False)\n",
    "    logger.info('Done collecting all candidates for all files in the folder')\n",
    "    all_candidates = fb.collect_bouts_waveforms(all_candidates, pattern_path, border_samples=3000)\n",
    "    all_candidates.to_pickle(os.path.join(dest_folder, '{}_match_cand.pickle'.format(stim_name)))\n",
    "    logger.info('Saved file, nothing more to do')\n",
    "    logger.removeHandler(fh)\n",
    "    fh.flush()\n",
    "    fh.close()\n",
    "    return all_candidates\n",
    "\n"
   ]
  },
  {
   "cell_type": "markdown",
   "metadata": {},
   "source": [
    "#### This is to search in only one session"
   ]
  },
  {
   "cell_type": "code",
   "execution_count": 10,
   "metadata": {},
   "outputs": [
    {
     "name": "stderr",
     "output_type": "stream",
     "text": [
      "2018-05-04 09:46:32,830 bci.core.expstruct DEBUG    Creating directory /mnt/cube/earneodo/bci_zf/ss_data/z007/005\n",
      "2018-05-04 09:46:32,858 bci.core.expstruct DEBUG    Directory existed, doing nothing\n",
      "2018-05-04 09:46:32,860 swissknife.streamtools.findbout INFO     will search for pattern in all waves of folder /mnt/cube/earneodo/bci_zf/raw_data/z007/005\n",
      "2018-05-04 09:46:32,861 swissknife.streamtools.findbout INFO     found 2 wav files\n",
      "2018-05-04 09:46:32,862 swissknife.streamtools.findbout INFO     searching for pattern in /mnt/cube/earneodo/bci_zf/raw_data/z007/005/a_01_song.wav\n",
      "2018-05-04 09:47:37,449 swissknife.streamtools.findbout INFO     418195456 samples loaded at 44100 Hz\n",
      "2018-05-04 09:47:37,452 swissknife.streamtools.findbout INFO     Calling find_the_bouts\n",
      "2018-05-04 09:47:39,551 swissknife.streamtools.findbout INFO     Begin to get scores (rms, env_corr)\n",
      "2018-05-04 09:47:40,695 swissknife.streamtools.findbout INFO     Getting the spectral scores\n",
      "2018-05-04 09:47:40,696 swissknife.streamtools.findbout DEBUG    No chunked specgram\n",
      "2018-05-04 09:47:40,697 swissknife.streamtools.findbout INFO     Getting pattern spectrogram\n",
      "2018-05-04 09:47:40,817 swissknife.streamtools.findbout INFO     Getting stream spectrogram\n",
      "2018-05-04 09:51:05,190 swissknife.streamtools.findbout INFO     Getting all scores in 9504061 points\n",
      "2018-05-04 09:51:05,195 swissknife.streamtools.findbout INFO     done collecting scores\n",
      "2018-05-04 10:45:03,189 swissknife.streamtools.findbout INFO     Getting spectrogram correlation peaks\n",
      "2018-05-04 10:45:03,193 swissknife.streamtools.findbout INFO     Finding peaks ...\n",
      "2018-05-04 10:45:03,310 swissknife.streamtools.findbout INFO     350 peaks found\n",
      "2018-05-04 10:45:03,331 swissknife.streamtools.findbout INFO     233 peaks left after filtering redundant\n",
      "2018-05-04 10:45:03,343 swissknife.streamtools.findbout INFO     Found 233 correlation peaks\n",
      "2018-05-04 10:45:03,345 swissknife.streamtools.findbout DEBUG    actual dt 0.000997732425275899\n",
      "2018-05-04 10:45:03,347 swissknife.streamtools.findbout INFO     Found 233 candidates\n",
      "2018-05-04 10:45:03,349 swissknife.streamtools.findbout INFO     Clustering candidates\n",
      "2018-05-04 10:45:03,350 swissknife.streamtools.findbout INFO     Attempting to cluster bout candidates by spectrogram similarity\n",
      "2018-05-04 10:45:03,399 swissknife.streamtools.findbout INFO     Attempting to cluster bout candidates by spectrogram similarity\n",
      "2018-05-04 10:45:03,431 swissknife.streamtools.findbout DEBUG    Returning clustered candidates\n",
      "2018-05-04 10:45:03,591 swissknife.streamtools.findbout INFO     Returning candidates panda\n",
      "2018-05-04 10:45:03,711 swissknife.streamtools.findbout INFO     searching for pattern in /mnt/cube/earneodo/bci_zf/raw_data/z007/005/a_02_song.wav\n",
      "2018-05-04 10:45:26,212 swissknife.streamtools.findbout INFO     147994624 samples loaded at 44100 Hz\n",
      "2018-05-04 10:45:26,215 swissknife.streamtools.findbout INFO     Calling find_the_bouts\n",
      "2018-05-04 10:45:26,625 swissknife.streamtools.findbout INFO     Begin to get scores (rms, env_corr)\n",
      "2018-05-04 10:45:27,030 swissknife.streamtools.findbout INFO     Getting the spectral scores\n",
      "2018-05-04 10:45:27,031 swissknife.streamtools.findbout DEBUG    No chunked specgram\n",
      "2018-05-04 10:45:27,032 swissknife.streamtools.findbout INFO     Getting pattern spectrogram\n",
      "2018-05-04 10:45:27,044 swissknife.streamtools.findbout INFO     Getting stream spectrogram\n",
      "2018-05-04 10:46:30,198 swissknife.streamtools.findbout INFO     Getting all scores in 3363133 points\n",
      "2018-05-04 10:46:30,201 swissknife.streamtools.findbout INFO     done collecting scores\n",
      "2018-05-04 11:05:24,722 swissknife.streamtools.findbout INFO     Getting spectrogram correlation peaks\n",
      "2018-05-04 11:05:24,725 swissknife.streamtools.findbout INFO     Finding peaks ...\n",
      "2018-05-04 11:05:24,760 swissknife.streamtools.findbout INFO     91 peaks found\n",
      "2018-05-04 11:05:24,767 swissknife.streamtools.findbout INFO     72 peaks left after filtering redundant\n",
      "2018-05-04 11:05:24,771 swissknife.streamtools.findbout INFO     Found 72 correlation peaks\n",
      "2018-05-04 11:05:24,772 swissknife.streamtools.findbout DEBUG    actual dt 0.0009977324261853937\n",
      "2018-05-04 11:05:24,774 swissknife.streamtools.findbout INFO     Found 72 candidates\n",
      "2018-05-04 11:05:24,775 swissknife.streamtools.findbout INFO     Clustering candidates\n",
      "2018-05-04 11:05:24,776 swissknife.streamtools.findbout INFO     Attempting to cluster bout candidates by spectrogram similarity\n",
      "2018-05-04 11:05:24,797 swissknife.streamtools.findbout INFO     Attempting to cluster bout candidates by spectrogram similarity\n",
      "2018-05-04 11:05:24,817 swissknife.streamtools.findbout DEBUG    Returning clustered candidates\n",
      "2018-05-04 11:05:24,864 swissknife.streamtools.findbout INFO     Returning candidates panda\n",
      "2018-05-04 11:05:24,908 root         INFO     Done collecting all candidates for all files in the folder\n",
      "2018-05-04 11:05:24,913 swissknife.streamtools.findbout INFO     Will collect the waveforms of 305 bouts\n",
      "2018-05-04 11:05:24,914 swissknife.streamtools.findbout INFO     (305, 22768)\n",
      "2018-05-04 11:05:26,851 root         INFO     Saved file, nothing more to do\n"
     ]
    },
    {
     "data": {
      "image/png": "[encoded data removed]",
      "text/plain": [
       "<matplotlib.figure.Figure at 0x7fde5d6fe0f0>"
      ]
     },
     "metadata": {},
     "output_type": "display_data"
    }
   ],
   "source": [
    "sess_cand = search_bouts_song(bird_id, all_days[0], 'motiff_1')"
   ]
  },
  {
   "cell_type": "code",
   "execution_count": null,
   "metadata": {},
   "outputs": [],
   "source": [
    "plt.plot(all_candidates.waveform.tolist()[22][3000:-3000])"
   ]
  },
  {
   "cell_type": "code",
   "execution_count": null,
   "metadata": {},
   "outputs": [],
   "source": [
    "all_sess_cand = []\n",
    "for d in all_days[-1:]:\n",
    "    sess_cand = search_bouts_song(bird_id, d, 'motiff_1')\n",
    "    all_sess_cand.append(sess_cand)"
   ]
  },
  {
   "cell_type": "markdown",
   "metadata": {},
   "source": [
    "## run a thread with search in many sessions\n",
    "- The sessions are in all_days"
   ]
  },
  {
   "cell_type": "markdown",
   "metadata": {},
   "source": [
    "#### Create a log, if you may"
   ]
  },
  {
   "cell_type": "code",
   "execution_count": null,
   "metadata": {
    "collapsed": true
   },
   "outputs": [],
   "source": [
    "# create file handler which logs even debug messages\n",
    "log_f_name = os.path.join(raw_data_folder_bird, 'search_bout_many_days.log')\n",
    "fh = logging.FileHandler(log_f_name)\n",
    "fh.setLevel(logging.DEBUG)\n",
    "formatter = logging.Formatter('%(asctime)s - %(name)s - %(levelname)s - %(message)s')\n",
    "fh.setFormatter(formatter)\n",
    "# add the handlers to the logger\n",
    "logger.addHandler(fh)\n",
    "print(log_f_name)"
   ]
  },
  {
   "cell_type": "code",
   "execution_count": null,
   "metadata": {},
   "outputs": [],
   "source": [
    "[all_days[-1]]"
   ]
  },
  {
   "cell_type": "code",
   "execution_count": null,
   "metadata": {},
   "outputs": [],
   "source": [
    "import pandas as pd\n",
    "def find_bout_list(bird_id, sess_list, pattern_name):\n",
    "    sess_cand_list = [search_bouts_song(bird_id, s, pattern_name) for s in sess_list]\n",
    "    return pd.concat(sess_cand_list)\n",
    "\n",
    "the_long_search = threadedFunction(args=(find_bout_list, bird_id, [all_days[-1]], 'motiff_0'))\n",
    "the_long_search.start()\n"
   ]
  },
  {
   "cell_type": "markdown",
   "metadata": {},
   "source": [
    "## Debugging and all that jizz"
   ]
  },
  {
   "cell_type": "code",
   "execution_count": null,
   "metadata": {
    "scrolled": true
   },
   "outputs": [],
   "source": [
    "import swissknife.streamtools.findbout as fb\n",
    "reload(et)\n",
    "reload(fb)\n",
    "reload(sp)\n",
    "\n",
    "stim_ver = '001'\n",
    "\n",
    "fn = et.file_names(bird_id, stim_ver)\n",
    "\n",
    "stim_par = et.read_yml(os.path.join(fn['folders']['stim'], 'stim.par.yml'))\n",
    "\n",
    "search_par = stim_par['search_motiff']\n",
    "stim_names = list(search_par['motiff_patterns'].keys())\n",
    "print(stim_names)\n",
    "stim_name = 'motiff_0'\n",
    "\n",
    "search_par['corr_thresh'] = 0.5\n",
    "search_par['db_cut'] = 60\n",
    "pattern_path = os.path.join(fn['folders']['stim'], search_par['motiff_patterns'][stim_name])\n",
    "#stream_path = all_raw_file_list[-10]\n",
    "#stream_path = '/mnt/cube/earneodo/bci_zf/raw_data/z036/2017-08-06/06-00-01-23.wav'\n",
    "stream_path = one_file\n",
    "#stream_path = os.path.join('/mnt/cube/earneodo/bci_zf/ss_data/z036/2017-07-10', '06-00-02-11_auto.wav')\n",
    "candy = fb.search_bouts(stream_path, pattern_path, search_par, chunked_specgram=False, debug=True)\n"
   ]
  },
  {
   "cell_type": "code",
   "execution_count": null,
   "metadata": {
    "collapsed": true
   },
   "outputs": [],
   "source": [
    "candy[1].plot(subplots=True)"
   ]
  },
  {
   "cell_type": "code",
   "execution_count": null,
   "metadata": {
    "collapsed": true
   },
   "outputs": [],
   "source": [
    "allcand = map(lambda x: fb.search_bouts(x, pattern_path, search_par, chunked_specgram=False), all_raw_file_list[0:2])"
   ]
  },
  {
   "cell_type": "code",
   "execution_count": null,
   "metadata": {
    "collapsed": true
   },
   "outputs": [],
   "source": [
    "pd_cand.to_pickle?"
   ]
  },
  {
   "cell_type": "code",
   "execution_count": null,
   "metadata": {
    "collapsed": true
   },
   "outputs": [],
   "source": [
    "pd_cand = pd.concat(allcand)"
   ]
  },
  {
   "cell_type": "code",
   "execution_count": null,
   "metadata": {},
   "outputs": [],
   "source": [
    "stream_path = '/mnt/cube/earneodo/bci_zf/raw_data/z036/2017-08-06/06-00-01-23.wav'"
   ]
  },
  {
   "cell_type": "code",
   "execution_count": null,
   "metadata": {
    "collapsed": true
   },
   "outputs": [],
   "source": [
    "candy['file'] = stream_path"
   ]
  },
  {
   "cell_type": "code",
   "execution_count": null,
   "metadata": {
    "collapsed": true
   },
   "outputs": [],
   "source": [
    "candy"
   ]
  },
  {
   "cell_type": "code",
   "execution_count": null,
   "metadata": {},
   "outputs": [],
   "source": [
    "pat =WavData(stream_path)\n",
    "alpat = Chunk(pat).data.flatten()"
   ]
  },
  {
   "cell_type": "code",
   "execution_count": null,
   "metadata": {
    "collapsed": true
   },
   "outputs": [],
   "source": [
    "for start in candy.start.tolist():\n",
    "    plt.figure()\n",
    "    plt.plot(alpat[start:start+30000])"
   ]
  },
  {
   "cell_type": "code",
   "execution_count": null,
   "metadata": {},
   "outputs": [],
   "source": [
    "alpat.samples"
   ]
  },
  {
   "cell_type": "code",
   "execution_count": null,
   "metadata": {},
   "outputs": [],
   "source": [
    "list(search_par['motiff_patterns'].keys())"
   ]
  },
  {
   "cell_type": "code",
   "execution_count": null,
   "metadata": {
    "collapsed": true
   },
   "outputs": [],
   "source": [
    "fn"
   ]
  },
  {
   "cell_type": "code",
   "execution_count": null,
   "metadata": {
    "collapsed": true
   },
   "outputs": [],
   "source": []
  }
 ],
 "metadata": {
  "anaconda-cloud": {},
  "kernelspec": {
   "display_name": "Tf 1.2 - Py3.6",
   "language": "python",
   "name": "tf12"
  },
  "language_info": {
   "codemirror_mode": {
    "name": "ipython",
    "version": 3
   },
   "file_extension": ".py",
   "mimetype": "text/x-python",
   "name": "python",
   "nbconvert_exporter": "python",
   "pygments_lexer": "ipython3",
   "version": "3.6.2"
  }
 },
 "nbformat": 4,
 "nbformat_minor": 1
}
