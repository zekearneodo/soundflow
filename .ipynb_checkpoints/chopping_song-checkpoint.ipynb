{
 "cells": [
  {
   "cell_type": "code",
   "execution_count": 1,
   "metadata": {
    "collapsed": false
   },
   "outputs": [
    {
     "name": "stdout",
     "output_type": "stream",
     "text": [
      "Computer: lintu.ucsd.edu\n"
     ]
    },
    {
     "name": "stderr",
     "output_type": "stream",
     "text": [
      "/usr/local/anaconda/lib/python2.7/site-packages/pytz/__init__.py:29: UserWarning: Module argparse was already imported from /usr/local/anaconda/lib/python2.7/argparse.pyc, but /usr/local/anaconda/lib/python2.7/site-packages is being added to sys.path\n",
      "  from pkg_resources import resource_stream\n"
     ]
    }
   ],
   "source": [
    "#notebook for testing the search of song in a wav file\n",
    "\n",
    "## Load everything\n",
    "%matplotlib inline\n",
    "import pdb\n",
    "import sys\n",
    "import numpy as np\n",
    "import scipy.io as sio\n",
    "import matplotlib.pyplot as plt\n",
    "import matplotlib\n",
    "import scipy.signal as sg\n",
    "import math\n",
    "import scipy as sp\n",
    "import socket\n",
    "import os\n",
    "import wave\n",
    "import struct\n",
    "matplotlib.style.use('ggplot')\n",
    "\n",
    "# Set up Computer and paths\n",
    "comp_name=socket.gethostname()\n",
    "print 'Computer: ' + comp_name\n",
    "\n",
    "if 'lintu' in comp_name:\n",
    "    sys.path.append('/mnt/cube/earneodo/repos/soundflow/sound_tools')\n",
    "    experiment_folder = os.path.join('/mnt/cube/leisenman/')\n",
    "    raw_data_folder = os.path.join(experiment_folder, 'song_data')\n",
    "\n",
    "    \n",
    "#grab soundtools\n",
    "from soundtools import WavData, Chunk\n",
    "    \n",
    "#file structure\n",
    "bird_id = 'b1098'\n",
    "sess = 20160617\n",
    "run = 1\n",
    "\n",
    "# Setup \n",
    "raw_file_folder = os.path.join(raw_data_folder, bird_id, str(sess).zfill(3))\n",
    "raw_file_name = str(run).zfill(3) + '.wav'\n",
    "raw_file_path = os.path.join(raw_file_folder, raw_file_name)\n",
    "\n",
    "bout_file_folder = os.path.join(raw_file_folder, 'bouts')\n",
    "\n",
    "if not os.path.isdir(bout_file_folder):\n",
    "    os.makedirs(bout_file_folder)\n",
    "    \n",
    "\n",
    "# preparations and parameters\n",
    "#the whole sound\n",
    "all_sound = WavData(raw_file_path)\n",
    "s_f = all_sound.s_f\n",
    "\n",
    "#The band where we expect most of the energy of zf song to be in\n",
    "filt_lo = 10000 #Hz\n",
    "filt_hi = 500 #Hz\n",
    "hp_b, hp_a = sg.butter(4, filt_hi/(s_f/2.), btype='high')\n",
    "lp_b, lp_a = sg.butter(4, filt_lo/(s_f/2.), btype='low')\n",
    "\n",
    "\n",
    "def band_pass_filter(chunk, hp_b, hp_a, lp_b, lp_a):    \n",
    "    chunk_hi = sg.filtfilt(hp_b, hp_a, chunk)\n",
    "    chunk_filt = sg.filtfilt(lp_b, lp_a, chunk_hi)\n",
    "    return chunk_filt\n",
    "\n",
    "def seconds(t):\n",
    "    if type(t)==str:\n",
    "        return np.dot(np.fromstring(t, sep=':'), np.array([3600.,60.,1.]))\n",
    "    else:\n",
    "        return t"
   ]
  },
  {
   "cell_type": "code",
   "execution_count": 12,
   "metadata": {
    "collapsed": false
   },
   "outputs": [
    {
     "name": "stdout",
     "output_type": "stream",
     "text": [
      "/mnt/cube/leisenman/song_data/b1098/20160617/bouts/001_23066.wav\n",
      "/mnt/cube/leisenman/song_data/b1098/20160617/bouts/001_32835.wav\n",
      "/mnt/cube/leisenman/song_data/b1098/20160617/bouts/001_32865.wav\n"
     ]
    }
   ],
   "source": [
    "#list of start, end points (in 'h:m:s'):\n",
    "segments = [['6:24:26', '6:24:55'],\n",
    "            ['9:07:15', '9:07:38'],\n",
    "            ['9:07:45', '9:08:02']\n",
    "            ]\n",
    "\n",
    "\n",
    "for segment in segments:\n",
    "    #print start, end\n",
    "    start_seconds = int(seconds(segment[0]))\n",
    "    start = int(seconds(segment[0]) * all_sound.s_f)\n",
    "    end = int(seconds(segment[1]) * all_sound.s_f)\n",
    "    \n",
    "    #Make a chunk with each segment and record it to a file\n",
    "    bout_file_name = str(run).zfill(3) + '_' + str(int(start_seconds)).zfill(5) + '.wav'\n",
    "    bout_file_path = os.path.join(bout_file_folder, bout_file_name)\n",
    "\n",
    "    bout_out = wave.open(bout_file_path, 'w')\n",
    "    print bout_file_path\n",
    "    bout_out.setparams((all_sound.n_chans, 2, all_sound.s_f, 0, 'NONE', 'not compressed'))\n",
    "    \n",
    "    bout_chunk = Chunk(all_sound, segment = [start, end])\n",
    "    # save the chunk to a data file\n",
    "    #filter for debugging\n",
    "    #bout_chunk.apply_filter(band_pass_filter, hp_b, hp_a, lp_b, lp_a)\n",
    "    data_out = np.array(bout_chunk.data, dtype=np.int16)[0]\n",
    "    packed_data = struct.pack('<' + str((end - start)) + 'h', *data_out)\n",
    "    bout_out.writeframes(data_out)\n",
    "    bout_out.close()    "
   ]
  },
  {
   "cell_type": "code",
   "execution_count": 8,
   "metadata": {
    "collapsed": false
   },
   "outputs": [
    {
     "data": {
      "text/plain": [
       "1449346500"
      ]
     },
     "execution_count": 8,
     "metadata": {},
     "output_type": "execute_result"
    }
   ],
   "source": [
    "start"
   ]
  },
  {
   "cell_type": "code",
   "execution_count": 11,
   "metadata": {
    "collapsed": false
   },
   "outputs": [
    {
     "data": {
      "text/plain": [
       "402596"
      ]
     },
     "execution_count": 11,
     "metadata": {},
     "output_type": "execute_result"
    }
   ],
   "source": [
    "start/3600"
   ]
  },
  {
   "cell_type": "code",
   "execution_count": null,
   "metadata": {
    "collapsed": true
   },
   "outputs": [],
   "source": []
  }
 ],
 "metadata": {
  "kernelspec": {
   "display_name": "Python 2",
   "language": "python",
   "name": "python2"
  },
  "language_info": {
   "codemirror_mode": {
    "name": "ipython",
    "version": 2
   },
   "file_extension": ".py",
   "mimetype": "text/x-python",
   "name": "python",
   "nbconvert_exporter": "python",
   "pygments_lexer": "ipython2",
   "version": "2.7.11"
  }
 },
 "nbformat": 4,
 "nbformat_minor": 0
}
