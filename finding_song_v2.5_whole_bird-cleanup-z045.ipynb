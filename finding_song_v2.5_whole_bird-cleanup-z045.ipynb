{
 "cells": [
  {
   "cell_type": "markdown",
   "metadata": {},
   "source": [
    "# Find songs for all files of a bird (or a day of a bird)"
   ]
  },
  {
   "cell_type": "code",
   "execution_count": 1,
   "metadata": {},
   "outputs": [
    {
     "name": "stderr",
     "output_type": "stream",
     "text": [
      "2018-01-09 18:08:55,262 root         INFO     Computer: txori\n"
     ]
    }
   ],
   "source": [
    "#notebook for testing the search of song in a wav file\n",
    "## Load everything\n",
    "%matplotlib inline\n",
    "import pdb\n",
    "import sys\n",
    "import numpy as np\n",
    "import scipy.io as sio\n",
    "import matplotlib.pyplot as plt\n",
    "import matplotlib\n",
    "import math\n",
    "import scipy as sp\n",
    "import socket\n",
    "import os\n",
    "import logging\n",
    "import glob\n",
    "\n",
    "matplotlib.style.use('ggplot')\n",
    "\n",
    "logger = logging.getLogger()\n",
    "handler = logging.StreamHandler()\n",
    "formatter = logging.Formatter(\n",
    "        '%(asctime)s %(name)-12s %(levelname)-8s %(message)s')\n",
    "handler.setFormatter(formatter)\n",
    "logger.addHandler(handler)\n",
    "logger.setLevel(logging.DEBUG)\n",
    "\n",
    "# Set up Computer and paths\n",
    "comp_name=socket.gethostname()\n",
    "logger.info('Computer: ' + comp_name)\n",
    "\n",
    "if 'passaro' in comp_name or 'txori' in comp_name:\n",
    "    experiment_folder = os.path.join('/mnt/cube/earneodo/bci_zf/')\n",
    "    raw_data_folder = os.path.join(experiment_folder, 'raw_data')\n",
    "    ss_data_folder = os.path.join(experiment_folder, 'ss_data')\n",
    "    \n",
    "#grab soundtools\n",
    "from swissknife.streamtools import findsong\n",
    "from swissknife.bci.core import expstruct as et\n",
    "import swissknife.streamtools.findbout as fb\n",
    "from swissknife.threadtools.threadedfunction import threadedFunction"
   ]
  },
  {
   "cell_type": "code",
   "execution_count": 2,
   "metadata": {
    "collapsed": true
   },
   "outputs": [],
   "source": [
    "bird_id = 'z045'\n",
    "sess_day = '2017-11-06'\n",
    "rec = '06-00-01-12'\n",
    "raw_location = 'rw'\n",
    "raw_data_folder_bird = et.file_names(bird_id)['folders'][raw_location]"
   ]
  },
  {
   "cell_type": "code",
   "execution_count": 3,
   "metadata": {
    "collapsed": true
   },
   "outputs": [],
   "source": [
    "def list_flatten(lists):\n",
    "    return [t for sublist in lists for l in sublist for t in l]\n",
    "\n",
    "def all_bird_sessions(raw_folder):\n",
    "    return list(os.walk(raw_folder))[0][1]\n",
    "\n",
    "def all_day_wavs(day_folder):\n",
    "    return glob.glob(os.path.join(day_folder, '*.wav'))\n",
    "\n",
    "def get_day_files(raw_data_folder_bird, day):\n",
    "    day_path = os.path.join(raw_data_folder_bird, day)\n",
    "    logger.info('Getting all wav names for day {}'.format(day_path))\n",
    "    all_wavs = all_day_wavs(day_path)\n",
    "    return all_wavs\n",
    "\n",
    "def get_bird_files(raw_data_folder_bird, only_days=None):\n",
    "    if only_days:\n",
    "        all_days = only_days\n",
    "    else:\n",
    "        all_days = all_bird_sessions(raw_data_folder_bird)\n",
    "    all_bird_files = [get_day_files(raw_data_folder_bird, day) for day in all_days]\n",
    "    return [x for sublist in all_bird_files for x in sublist]\n"
   ]
  },
  {
   "cell_type": "code",
   "execution_count": 4,
   "metadata": {
    "scrolled": true
   },
   "outputs": [
    {
     "name": "stderr",
     "output_type": "stream",
     "text": [
      "2018-01-09 18:08:59,146 root         INFO     Getting all wav names for day /mnt/cube/earneodo/bci_zf/raw_data/z045/2017-11-06\n"
     ]
    }
   ],
   "source": [
    "only_days = [sess_day]\n",
    "raw_file_list = get_bird_files(raw_data_folder_bird, only_days=only_days)\n",
    "all_raw_file_list = [x for x in raw_file_list if 'autobouts' not in x]\n",
    "all_raw_file_list.sort()"
   ]
  },
  {
   "cell_type": "code",
   "execution_count": null,
   "metadata": {
    "collapsed": true
   },
   "outputs": [],
   "source": [
    "raw_file_path = all_raw_file_list[-1]\n",
    "raw_path, raw_fname = os.path.split(raw_file_path)\n",
    "raw_path.replace('raw_data', 'ss_data')"
   ]
  },
  {
   "cell_type": "code",
   "execution_count": null,
   "metadata": {
    "collapsed": true
   },
   "outputs": [],
   "source": [
    "all_raw_file_list"
   ]
  },
  {
   "cell_type": "code",
   "execution_count": null,
   "metadata": {
    "collapsed": true
   },
   "outputs": [],
   "source": [
    "# create file handler which logs even debug messages\n",
    "log_f_name = os.path.join(raw_data_folder_bird, 'search_song_that_day.log')\n",
    "fh = logging.FileHandler(log_f_name)\n",
    "fh.setLevel(logging.DEBUG)\n",
    "formatter = logging.Formatter('%(asctime)s - %(name)s - %(levelname)s - %(message)s')\n",
    "fh.setFormatter(formatter)\n",
    "# add the handlers to the logger\n",
    "logger.addHandler(fh)\n",
    "print(log_f_name)"
   ]
  },
  {
   "cell_type": "markdown",
   "metadata": {},
   "source": [
    "### Find the bouts for all the files"
   ]
  },
  {
   "cell_type": "code",
   "execution_count": 5,
   "metadata": {
    "collapsed": true
   },
   "outputs": [],
   "source": [
    "#Parameters of the search\n",
    "bit_size = 50 # ms; size of sound bits\n",
    "refractory = 5 # bits; refractory period in bits\n",
    "bits_bout = 2 # bits; how many bouts together is considered a bout\n",
    "threshold = 20 # threshold in mads (median deviation of the median)\n",
    "\n",
    "#The band where we expect most of the energy of zf song to be in\n",
    "filt_lo = 10000 #Hz\n",
    "filt_hi = 300 #Hz\n",
    "found_songs = []\n",
    "for raw_file_path in all_raw_file_list:\n",
    "    raw_path, raw_fname = os.path.split(raw_file_path)\n",
    "    ss_path = raw_path.replace('raw_data', 'ss_data')\n",
    "    et.mkdir_p(ss_path)\n",
    "    bout_file_path = os.path.join(ss_path, \n",
    "                                  '{}_auto.wav'.format(raw_fname.split('.')[0]))\n",
    "    found = findsong.get_all_bouts(raw_file_path, bout_file_path=bout_file_path, \n",
    "                       bit_size=bit_size, refractory=refractory, bits_bout=bits_bout,\n",
    "                           threshold=threshold, filt_lo=filt_lo, filt_hi=filt_hi)\n",
    "    found_songs.append(found)"
   ]
  },
  {
   "cell_type": "code",
   "execution_count": null,
   "metadata": {
    "collapsed": true
   },
   "outputs": [],
   "source": [
    "from importlib import reload\n",
    "reload(findsong)\n",
    "\n",
    "found = findsong.get_all_bouts_dbg(raw_file_path, bout_file_path=bout_file_path, \n",
    "                       bit_size=bit_size, refractory=refractory, bits_bout=bits_bout,\n",
    "                           threshold=threshold, filt_lo=filt_lo, filt_hi=filt_hi)"
   ]
  },
  {
   "cell_type": "code",
   "execution_count": null,
   "metadata": {
    "collapsed": true
   },
   "outputs": [],
   "source": [
    "found"
   ]
  },
  {
   "cell_type": "markdown",
   "metadata": {},
   "source": [
    "### search motif\n"
   ]
  },
  {
   "cell_type": "code",
   "execution_count": 11,
   "metadata": {},
   "outputs": [
    {
     "data": {
      "text/plain": [
       "25"
      ]
     },
     "execution_count": 11,
     "metadata": {},
     "output_type": "execute_result"
    }
   ],
   "source": [
    "all_days = all_bird_sessions(raw_data_folder_bird)\n",
    "all_days.sort()\n",
    "len(all_days)"
   ]
  },
  {
   "cell_type": "code",
   "execution_count": 12,
   "metadata": {},
   "outputs": [
    {
     "data": {
      "text/plain": [
       "['2017-11-02',\n",
       " '2017-11-13',\n",
       " '2017-12-18',\n",
       " '2017-12-19',\n",
       " '2017-12-20',\n",
       " '2017-12-21',\n",
       " '2017-12-22',\n",
       " '2017-12-23',\n",
       " '2017-12-24',\n",
       " '2017-12-25',\n",
       " '2017-12-26',\n",
       " '2017-12-27',\n",
       " '2017-12-28',\n",
       " '2017-12-29',\n",
       " '2017-12-30',\n",
       " '2017-12-31',\n",
       " '2018-01-01',\n",
       " '2018-01-02',\n",
       " '2018-01-03',\n",
       " '2018-01-04',\n",
       " '2018-01-05',\n",
       " '2018-01-06',\n",
       " '2018-01-07',\n",
       " '2018-01-08',\n",
       " '2018-01-09']"
      ]
     },
     "execution_count": 12,
     "metadata": {},
     "output_type": "execute_result"
    }
   ],
   "source": [
    "all_days[:]"
   ]
  },
  {
   "cell_type": "code",
   "execution_count": 8,
   "metadata": {},
   "outputs": [
    {
     "name": "stdout",
     "output_type": "stream",
     "text": [
      "/mnt/cube/earneodo/bci_zf/raw_data/z045/search_bout_one_day_mot_1.log\n"
     ]
    }
   ],
   "source": [
    "# create file handler which logs even debug messages\n",
    "log_f_name = os.path.join(raw_data_folder_bird, 'search_bout_one_day_mot_1.log')\n",
    "fh = logging.FileHandler(log_f_name)\n",
    "fh.setLevel(logging.DEBUG)\n",
    "formatter = logging.Formatter('%(asctime)s - %(name)s - %(levelname)s - %(message)s')\n",
    "fh.setFormatter(formatter)\n",
    "# add the handlers to the logger\n",
    "logger.addHandler(fh)\n",
    "print(log_f_name)"
   ]
  },
  {
   "cell_type": "code",
   "execution_count": 9,
   "metadata": {
    "collapsed": true
   },
   "outputs": [],
   "source": [
    "def search_bouts_song(bird, sess, stim_name, stim_ver='001'):\n",
    "    fn = et.file_names(bird, stim_ver)\n",
    "    stim_par = et.read_yml(os.path.join(fn['folders']['stim'], 'stim.par.yml'))\n",
    "    \n",
    "    search_par = stim_par['search_motiff']\n",
    "    pattern_path = os.path.join(fn['folders']['stim'], search_par['motiff_patterns'][stim_name])\n",
    "    \n",
    "    fn_data = et.file_names(bird, sess)\n",
    "    stream_folder = fn_data['folders']['rw']\n",
    "    dest_folder = fn_data['folders']['ss']\n",
    "    et.mkdir_p(dest_folder)\n",
    "    \n",
    "    log_f_name = os.path.join(dest_folder, 'search_bout_{}.log'.format(stim_name))\n",
    "    formatter = logging.Formatter('%(asctime)s - %(name)s - %(levelname)s - %(message)s')\n",
    "\n",
    "    fh = logging.FileHandler(log_f_name)\n",
    "    fh.setFormatter(formatter)\n",
    "    logger.addHandler(fh)\n",
    "    \n",
    "    all_candidates = fb.search_bouts_sess(stream_folder, pattern_path, search_par, \n",
    "                                          chunked_specgram=False)\n",
    "    logger.info('Done collecting all candidates for all files in the folder')\n",
    "    all_candidates = fb.collect_bouts_waveforms(all_candidates, pattern_path, border_samples=3000)\n",
    "    all_candidates.to_pickle(os.path.join(dest_folder, '{}_match_cand.pickle'.format(stim_name)))\n",
    "    logger.info('Saved file, nothing more to do')\n",
    "    logger.removeHandler(fh)\n",
    "    fh.flush()\n",
    "    fh.close()\n",
    "    return all_candidates\n",
    "\n",
    "#sess_cand = search_bouts_song(bird_id, all_days[0], 'motiff_1')"
   ]
  },
  {
   "cell_type": "code",
   "execution_count": 11,
   "metadata": {},
   "outputs": [
    {
     "ename": "NameError",
     "evalue": "name 'all_candidates' is not defined",
     "output_type": "error",
     "traceback": [
      "\u001b[0;31m---------------------------------------------------------------------------\u001b[0m",
      "\u001b[0;31mNameError\u001b[0m                                 Traceback (most recent call last)",
      "\u001b[0;32m<ipython-input-11-d393fe21a3af>\u001b[0m in \u001b[0;36m<module>\u001b[0;34m()\u001b[0m\n\u001b[0;32m----> 1\u001b[0;31m \u001b[0mplt\u001b[0m\u001b[0;34m.\u001b[0m\u001b[0mplot\u001b[0m\u001b[0;34m(\u001b[0m\u001b[0mall_candidates\u001b[0m\u001b[0;34m.\u001b[0m\u001b[0mwaveform\u001b[0m\u001b[0;34m.\u001b[0m\u001b[0mtolist\u001b[0m\u001b[0;34m(\u001b[0m\u001b[0;34m)\u001b[0m\u001b[0;34m[\u001b[0m\u001b[0;36m22\u001b[0m\u001b[0;34m]\u001b[0m\u001b[0;34m[\u001b[0m\u001b[0;36m3000\u001b[0m\u001b[0;34m:\u001b[0m\u001b[0;34m-\u001b[0m\u001b[0;36m3000\u001b[0m\u001b[0;34m]\u001b[0m\u001b[0;34m)\u001b[0m\u001b[0;34m\u001b[0m\u001b[0m\n\u001b[0m",
      "\u001b[0;31mNameError\u001b[0m: name 'all_candidates' is not defined"
     ]
    }
   ],
   "source": [
    "plt.plot(all_candidates.waveform.tolist()[22][3000:-3000])"
   ]
  },
  {
   "cell_type": "code",
   "execution_count": 13,
   "metadata": {},
   "outputs": [
    {
     "name": "stderr",
     "output_type": "stream",
     "text": [
      "2018-01-10 23:27:15,819 bci.core.expstruct DEBUG    Creating directory /mnt/cube/earneodo/bci_zf/ss_data/z045/2018-01-09\n",
      "2018-01-10 23:27:15,874 swissknife.streamtools.findbout INFO     will search for pattern in all waves of folder /mnt/cube/earneodo/bci_zf/raw_data/z045/2018-01-09\n",
      "2018-01-10 23:27:15,881 swissknife.streamtools.findbout INFO     found 27 wav files\n",
      "2018-01-10 23:27:15,883 swissknife.streamtools.findbout INFO     searching for pattern in /mnt/cube/earneodo/bci_zf/raw_data/z045/2018-01-09/06-00-01-01.wav\n",
      "2018-01-10 23:27:31,546 swissknife.streamtools.findbout INFO     79380000 samples loaded at 44100 Hz\n",
      "2018-01-10 23:27:31,555 swissknife.streamtools.findbout INFO     Calling find_the_bouts\n",
      "2018-01-10 23:27:31,792 swissknife.streamtools.findbout INFO     Begin to get scores (rms, env_corr)\n",
      "2018-01-10 23:27:32,059 swissknife.streamtools.findbout INFO     Getting the spectral scores\n",
      "2018-01-10 23:27:32,063 swissknife.streamtools.findbout DEBUG    No chunked specgram\n",
      "2018-01-10 23:27:32,066 swissknife.streamtools.findbout INFO     Getting pattern spectrogram\n",
      "2018-01-10 23:27:32,374 swissknife.streamtools.findbout INFO     Getting stream spectrogram\n",
      "2018-01-10 23:28:59,031 swissknife.streamtools.findbout INFO     Getting all scores in 360741 points\n",
      "2018-01-10 23:28:59,057 swissknife.streamtools.findbout INFO     done collecting scores\n",
      "/home/earneodo/anaconda3/envs/tf12/lib/python3.6/site-packages/scipy/stats/stats.py:3021: RuntimeWarning: invalid value encountered in float_scalars\n",
      "  r = r_num / r_den\n",
      "2018-01-10 23:32:06,863 swissknife.streamtools.findbout INFO     Getting spectrogram correlation peaks\n",
      "2018-01-10 23:32:06,866 swissknife.streamtools.findbout INFO     Finding peaks ...\n",
      "/mnt/cube/earneodo/repos/swissknife/swissknife/streamtools/findbout.py:111: RuntimeWarning: invalid value encountered in greater\n",
      "  max_pos = np.where((a > 0) & (b > 0) & (c > threshold))[0]\n",
      "2018-01-10 23:32:06,873 swissknife.streamtools.findbout INFO     0 peaks found\n",
      "2018-01-10 23:32:06,875 swissknife.streamtools.findbout INFO     0 peaks left after filtering redundant\n",
      "2018-01-10 23:32:06,877 swissknife.streamtools.findbout INFO     Found 0 correlation peaks\n",
      "2018-01-10 23:32:06,879 swissknife.streamtools.findbout DEBUG    actual dt 0.0009977324261853937\n",
      "2018-01-10 23:32:06,883 swissknife.streamtools.findbout INFO     Found 0 candidates\n",
      "2018-01-10 23:32:06,895 swissknife.streamtools.findbout DEBUG    Returning clustered candidates\n",
      "2018-01-10 23:32:06,901 swissknife.streamtools.findbout INFO     Returning candidates panda\n",
      "2018-01-10 23:32:06,923 swissknife.streamtools.findbout INFO     searching for pattern in /mnt/cube/earneodo/bci_zf/raw_data/z045/2018-01-09/06-00-01-02.wav\n",
      "2018-01-10 23:32:21,469 swissknife.streamtools.findbout INFO     79380000 samples loaded at 44100 Hz\n",
      "2018-01-10 23:32:21,477 swissknife.streamtools.findbout INFO     Calling find_the_bouts\n",
      "2018-01-10 23:32:21,686 swissknife.streamtools.findbout INFO     Begin to get scores (rms, env_corr)\n",
      "2018-01-10 23:32:21,901 swissknife.streamtools.findbout INFO     Getting the spectral scores\n",
      "2018-01-10 23:32:21,904 swissknife.streamtools.findbout DEBUG    No chunked specgram\n",
      "2018-01-10 23:32:21,907 swissknife.streamtools.findbout INFO     Getting pattern spectrogram\n",
      "2018-01-10 23:32:21,922 swissknife.streamtools.findbout INFO     Getting stream spectrogram\n",
      "2018-01-10 23:33:45,311 swissknife.streamtools.findbout INFO     Getting all scores in 360741 points\n",
      "2018-01-10 23:33:45,340 swissknife.streamtools.findbout INFO     done collecting scores\n",
      "2018-01-10 23:36:51,007 swissknife.streamtools.findbout INFO     Getting spectrogram correlation peaks\n",
      "2018-01-10 23:36:51,016 swissknife.streamtools.findbout INFO     Finding peaks ...\n",
      "2018-01-10 23:36:51,027 swissknife.streamtools.findbout INFO     0 peaks found\n",
      "2018-01-10 23:36:51,034 swissknife.streamtools.findbout INFO     0 peaks left after filtering redundant\n",
      "2018-01-10 23:36:51,041 swissknife.streamtools.findbout INFO     Found 0 correlation peaks\n",
      "2018-01-10 23:36:51,048 swissknife.streamtools.findbout DEBUG    actual dt 0.0009977324261853937\n",
      "2018-01-10 23:36:51,052 swissknife.streamtools.findbout INFO     Found 0 candidates\n",
      "2018-01-10 23:36:51,056 swissknife.streamtools.findbout DEBUG    Returning clustered candidates\n",
      "2018-01-10 23:36:51,073 swissknife.streamtools.findbout INFO     Returning candidates panda\n",
      "2018-01-10 23:36:51,084 swissknife.streamtools.findbout INFO     searching for pattern in /mnt/cube/earneodo/bci_zf/raw_data/z045/2018-01-09/06-00-01-03.wav\n",
      "2018-01-10 23:37:06,210 swissknife.streamtools.findbout INFO     79380000 samples loaded at 44100 Hz\n",
      "2018-01-10 23:37:06,212 swissknife.streamtools.findbout INFO     Calling find_the_bouts\n",
      "2018-01-10 23:37:06,419 swissknife.streamtools.findbout INFO     Begin to get scores (rms, env_corr)\n",
      "2018-01-10 23:37:06,616 swissknife.streamtools.findbout INFO     Getting the spectral scores\n",
      "2018-01-10 23:37:06,623 swissknife.streamtools.findbout DEBUG    No chunked specgram\n",
      "2018-01-10 23:37:06,630 swissknife.streamtools.findbout INFO     Getting pattern spectrogram\n",
      "2018-01-10 23:37:06,649 swissknife.streamtools.findbout INFO     Getting stream spectrogram\n",
      "2018-01-10 23:38:17,667 swissknife.streamtools.findbout INFO     Getting all scores in 360741 points\n",
      "2018-01-10 23:38:17,671 swissknife.streamtools.findbout INFO     done collecting scores\n",
      "2018-01-10 23:41:28,376 swissknife.streamtools.findbout INFO     Getting spectrogram correlation peaks\n",
      "2018-01-10 23:41:28,385 swissknife.streamtools.findbout INFO     Finding peaks ...\n",
      "2018-01-10 23:41:28,396 swissknife.streamtools.findbout INFO     0 peaks found\n",
      "2018-01-10 23:41:28,404 swissknife.streamtools.findbout INFO     0 peaks left after filtering redundant\n",
      "2018-01-10 23:41:28,411 swissknife.streamtools.findbout INFO     Found 0 correlation peaks\n",
      "2018-01-10 23:41:28,415 swissknife.streamtools.findbout DEBUG    actual dt 0.0009977324261853937\n",
      "2018-01-10 23:41:28,422 swissknife.streamtools.findbout INFO     Found 0 candidates\n",
      "2018-01-10 23:41:28,426 swissknife.streamtools.findbout DEBUG    Returning clustered candidates\n",
      "2018-01-10 23:41:28,437 swissknife.streamtools.findbout INFO     Returning candidates panda\n",
      "2018-01-10 23:41:28,449 swissknife.streamtools.findbout INFO     searching for pattern in /mnt/cube/earneodo/bci_zf/raw_data/z045/2018-01-09/06-00-01-04.wav\n",
      "2018-01-10 23:41:42,937 swissknife.streamtools.findbout INFO     79380000 samples loaded at 44100 Hz\n",
      "2018-01-10 23:41:42,939 swissknife.streamtools.findbout INFO     Calling find_the_bouts\n",
      "2018-01-10 23:41:43,143 swissknife.streamtools.findbout INFO     Begin to get scores (rms, env_corr)\n",
      "2018-01-10 23:41:43,337 swissknife.streamtools.findbout INFO     Getting the spectral scores\n",
      "2018-01-10 23:41:43,344 swissknife.streamtools.findbout DEBUG    No chunked specgram\n",
      "2018-01-10 23:41:43,351 swissknife.streamtools.findbout INFO     Getting pattern spectrogram\n",
      "2018-01-10 23:41:43,371 swissknife.streamtools.findbout INFO     Getting stream spectrogram\n",
      "2018-01-10 23:42:54,023 swissknife.streamtools.findbout INFO     Getting all scores in 360741 points\n",
      "2018-01-10 23:42:54,027 swissknife.streamtools.findbout INFO     done collecting scores\n",
      "2018-01-10 23:46:02,701 swissknife.streamtools.findbout INFO     Getting spectrogram correlation peaks\n",
      "2018-01-10 23:46:02,710 swissknife.streamtools.findbout INFO     Finding peaks ...\n",
      "2018-01-10 23:46:02,720 swissknife.streamtools.findbout INFO     0 peaks found\n",
      "2018-01-10 23:46:02,724 swissknife.streamtools.findbout INFO     0 peaks left after filtering redundant\n",
      "2018-01-10 23:46:02,728 swissknife.streamtools.findbout INFO     Found 0 correlation peaks\n",
      "2018-01-10 23:46:02,731 swissknife.streamtools.findbout DEBUG    actual dt 0.0009977324261853937\n",
      "2018-01-10 23:46:02,738 swissknife.streamtools.findbout INFO     Found 0 candidates\n",
      "2018-01-10 23:46:02,749 swissknife.streamtools.findbout DEBUG    Returning clustered candidates\n",
      "2018-01-10 23:46:02,760 swissknife.streamtools.findbout INFO     Returning candidates panda\n",
      "2018-01-10 23:46:02,778 swissknife.streamtools.findbout INFO     searching for pattern in /mnt/cube/earneodo/bci_zf/raw_data/z045/2018-01-09/06-00-01-05.wav\n"
     ]
    },
    {
     "name": "stderr",
     "output_type": "stream",
     "text": [
      "2018-01-10 23:46:16,435 swissknife.streamtools.findbout INFO     79380000 samples loaded at 44100 Hz\n",
      "2018-01-10 23:46:16,438 swissknife.streamtools.findbout INFO     Calling find_the_bouts\n",
      "2018-01-10 23:46:16,635 swissknife.streamtools.findbout INFO     Begin to get scores (rms, env_corr)\n",
      "2018-01-10 23:46:16,839 swissknife.streamtools.findbout INFO     Getting the spectral scores\n",
      "2018-01-10 23:46:16,846 swissknife.streamtools.findbout DEBUG    No chunked specgram\n",
      "2018-01-10 23:46:16,853 swissknife.streamtools.findbout INFO     Getting pattern spectrogram\n",
      "2018-01-10 23:46:16,873 swissknife.streamtools.findbout INFO     Getting stream spectrogram\n",
      "2018-01-10 23:47:11,771 swissknife.streamtools.findbout INFO     Getting all scores in 360741 points\n",
      "2018-01-10 23:47:11,780 swissknife.streamtools.findbout INFO     done collecting scores\n",
      "2018-01-10 23:50:24,564 swissknife.streamtools.findbout INFO     Getting spectrogram correlation peaks\n",
      "2018-01-10 23:50:24,588 swissknife.streamtools.findbout INFO     Finding peaks ...\n",
      "2018-01-10 23:50:24,599 swissknife.streamtools.findbout INFO     0 peaks found\n",
      "2018-01-10 23:50:24,603 swissknife.streamtools.findbout INFO     0 peaks left after filtering redundant\n",
      "2018-01-10 23:50:24,605 swissknife.streamtools.findbout INFO     Found 0 correlation peaks\n",
      "2018-01-10 23:50:24,612 swissknife.streamtools.findbout DEBUG    actual dt 0.0009977324261853937\n",
      "2018-01-10 23:50:24,616 swissknife.streamtools.findbout INFO     Found 0 candidates\n",
      "2018-01-10 23:50:24,620 swissknife.streamtools.findbout DEBUG    Returning clustered candidates\n",
      "2018-01-10 23:50:24,642 swissknife.streamtools.findbout INFO     Returning candidates panda\n",
      "2018-01-10 23:50:24,653 swissknife.streamtools.findbout INFO     searching for pattern in /mnt/cube/earneodo/bci_zf/raw_data/z045/2018-01-09/06-00-01-06.wav\n",
      "2018-01-10 23:50:38,372 swissknife.streamtools.findbout INFO     79380000 samples loaded at 44100 Hz\n",
      "2018-01-10 23:50:38,380 swissknife.streamtools.findbout INFO     Calling find_the_bouts\n",
      "2018-01-10 23:50:38,591 swissknife.streamtools.findbout INFO     Begin to get scores (rms, env_corr)\n",
      "2018-01-10 23:50:38,819 swissknife.streamtools.findbout INFO     Getting the spectral scores\n",
      "2018-01-10 23:50:38,821 swissknife.streamtools.findbout DEBUG    No chunked specgram\n",
      "2018-01-10 23:50:38,823 swissknife.streamtools.findbout INFO     Getting pattern spectrogram\n",
      "2018-01-10 23:50:38,838 swissknife.streamtools.findbout INFO     Getting stream spectrogram\n",
      "2018-01-10 23:52:11,387 swissknife.streamtools.findbout INFO     Getting all scores in 360741 points\n",
      "2018-01-10 23:52:11,396 swissknife.streamtools.findbout INFO     done collecting scores\n",
      "2018-01-10 23:55:20,833 swissknife.streamtools.findbout INFO     Getting spectrogram correlation peaks\n",
      "2018-01-10 23:55:20,844 swissknife.streamtools.findbout INFO     Finding peaks ...\n",
      "2018-01-10 23:55:20,857 swissknife.streamtools.findbout INFO     0 peaks found\n",
      "2018-01-10 23:55:20,865 swissknife.streamtools.findbout INFO     0 peaks left after filtering redundant\n",
      "2018-01-10 23:55:20,872 swissknife.streamtools.findbout INFO     Found 0 correlation peaks\n",
      "2018-01-10 23:55:20,874 swissknife.streamtools.findbout DEBUG    actual dt 0.0009977324261853937\n",
      "2018-01-10 23:55:20,878 swissknife.streamtools.findbout INFO     Found 0 candidates\n",
      "2018-01-10 23:55:20,885 swissknife.streamtools.findbout DEBUG    Returning clustered candidates\n",
      "2018-01-10 23:55:20,891 swissknife.streamtools.findbout INFO     Returning candidates panda\n",
      "2018-01-10 23:55:20,902 swissknife.streamtools.findbout INFO     searching for pattern in /mnt/cube/earneodo/bci_zf/raw_data/z045/2018-01-09/06-00-01-07.wav\n",
      "2018-01-10 23:55:35,606 swissknife.streamtools.findbout INFO     79380000 samples loaded at 44100 Hz\n",
      "2018-01-10 23:55:35,609 swissknife.streamtools.findbout INFO     Calling find_the_bouts\n",
      "2018-01-10 23:55:35,815 swissknife.streamtools.findbout INFO     Begin to get scores (rms, env_corr)\n",
      "2018-01-10 23:55:36,014 swissknife.streamtools.findbout INFO     Getting the spectral scores\n",
      "2018-01-10 23:55:36,022 swissknife.streamtools.findbout DEBUG    No chunked specgram\n",
      "2018-01-10 23:55:36,029 swissknife.streamtools.findbout INFO     Getting pattern spectrogram\n",
      "2018-01-10 23:55:36,049 swissknife.streamtools.findbout INFO     Getting stream spectrogram\n",
      "2018-01-10 23:56:44,897 swissknife.streamtools.findbout INFO     Getting all scores in 360741 points\n",
      "2018-01-10 23:56:44,914 swissknife.streamtools.findbout INFO     done collecting scores\n",
      "2018-01-10 23:59:52,525 swissknife.streamtools.findbout INFO     Getting spectrogram correlation peaks\n",
      "2018-01-10 23:59:52,528 swissknife.streamtools.findbout INFO     Finding peaks ...\n",
      "2018-01-10 23:59:52,534 swissknife.streamtools.findbout INFO     0 peaks found\n",
      "2018-01-10 23:59:52,536 swissknife.streamtools.findbout INFO     0 peaks left after filtering redundant\n",
      "2018-01-10 23:59:52,538 swissknife.streamtools.findbout INFO     Found 0 correlation peaks\n",
      "2018-01-10 23:59:52,539 swissknife.streamtools.findbout DEBUG    actual dt 0.0009977324261853937\n",
      "2018-01-10 23:59:52,543 swissknife.streamtools.findbout INFO     Found 0 candidates\n",
      "2018-01-10 23:59:52,547 swissknife.streamtools.findbout DEBUG    Returning clustered candidates\n",
      "2018-01-10 23:59:52,552 swissknife.streamtools.findbout INFO     Returning candidates panda\n",
      "2018-01-10 23:59:52,558 swissknife.streamtools.findbout INFO     searching for pattern in /mnt/cube/earneodo/bci_zf/raw_data/z045/2018-01-09/06-00-01-08.wav\n",
      "2018-01-11 00:00:06,480 swissknife.streamtools.findbout INFO     79380000 samples loaded at 44100 Hz\n",
      "2018-01-11 00:00:06,490 swissknife.streamtools.findbout INFO     Calling find_the_bouts\n",
      "2018-01-11 00:00:06,706 swissknife.streamtools.findbout INFO     Begin to get scores (rms, env_corr)\n",
      "2018-01-11 00:00:06,910 swissknife.streamtools.findbout INFO     Getting the spectral scores\n",
      "2018-01-11 00:00:06,918 swissknife.streamtools.findbout DEBUG    No chunked specgram\n",
      "2018-01-11 00:00:06,925 swissknife.streamtools.findbout INFO     Getting pattern spectrogram\n",
      "2018-01-11 00:00:06,944 swissknife.streamtools.findbout INFO     Getting stream spectrogram\n",
      "2018-01-11 00:01:25,276 swissknife.streamtools.findbout INFO     Getting all scores in 360741 points\n",
      "2018-01-11 00:01:25,300 swissknife.streamtools.findbout INFO     done collecting scores\n",
      "2018-01-11 00:04:37,190 swissknife.streamtools.findbout INFO     Getting spectrogram correlation peaks\n",
      "2018-01-11 00:04:37,193 swissknife.streamtools.findbout INFO     Finding peaks ...\n",
      "2018-01-11 00:04:37,202 swissknife.streamtools.findbout INFO     0 peaks found\n",
      "2018-01-11 00:04:37,204 swissknife.streamtools.findbout INFO     0 peaks left after filtering redundant\n",
      "2018-01-11 00:04:37,206 swissknife.streamtools.findbout INFO     Found 0 correlation peaks\n",
      "2018-01-11 00:04:37,208 swissknife.streamtools.findbout DEBUG    actual dt 0.0009977324261853937\n",
      "2018-01-11 00:04:37,210 swissknife.streamtools.findbout INFO     Found 0 candidates\n",
      "2018-01-11 00:04:37,214 swissknife.streamtools.findbout DEBUG    Returning clustered candidates\n",
      "2018-01-11 00:04:37,222 swissknife.streamtools.findbout INFO     Returning candidates panda\n",
      "2018-01-11 00:04:37,229 swissknife.streamtools.findbout INFO     searching for pattern in /mnt/cube/earneodo/bci_zf/raw_data/z045/2018-01-09/06-00-01-09.wav\n",
      "2018-01-11 00:04:52,647 swissknife.streamtools.findbout INFO     79380000 samples loaded at 44100 Hz\n",
      "2018-01-11 00:04:52,672 swissknife.streamtools.findbout INFO     Calling find_the_bouts\n",
      "2018-01-11 00:04:52,970 swissknife.streamtools.findbout INFO     Begin to get scores (rms, env_corr)\n",
      "2018-01-11 00:04:53,164 swissknife.streamtools.findbout INFO     Getting the spectral scores\n",
      "2018-01-11 00:04:53,172 swissknife.streamtools.findbout DEBUG    No chunked specgram\n",
      "2018-01-11 00:04:53,180 swissknife.streamtools.findbout INFO     Getting pattern spectrogram\n",
      "2018-01-11 00:04:53,203 swissknife.streamtools.findbout INFO     Getting stream spectrogram\n",
      "2018-01-11 00:06:01,113 swissknife.streamtools.findbout INFO     Getting all scores in 360741 points\n",
      "2018-01-11 00:06:01,124 swissknife.streamtools.findbout INFO     done collecting scores\n",
      "2018-01-11 00:09:07,856 swissknife.streamtools.findbout INFO     Getting spectrogram correlation peaks\n"
     ]
    },
    {
     "name": "stderr",
     "output_type": "stream",
     "text": [
      "2018-01-11 00:09:07,864 swissknife.streamtools.findbout INFO     Finding peaks ...\n",
      "2018-01-11 00:09:07,875 swissknife.streamtools.findbout INFO     0 peaks found\n",
      "2018-01-11 00:09:07,882 swissknife.streamtools.findbout INFO     0 peaks left after filtering redundant\n",
      "2018-01-11 00:09:07,889 swissknife.streamtools.findbout INFO     Found 0 correlation peaks\n",
      "2018-01-11 00:09:07,895 swissknife.streamtools.findbout DEBUG    actual dt 0.0009977324261853937\n",
      "2018-01-11 00:09:07,899 swissknife.streamtools.findbout INFO     Found 0 candidates\n",
      "2018-01-11 00:09:07,907 swissknife.streamtools.findbout DEBUG    Returning clustered candidates\n",
      "2018-01-11 00:09:07,917 swissknife.streamtools.findbout INFO     Returning candidates panda\n",
      "2018-01-11 00:09:07,925 swissknife.streamtools.findbout INFO     searching for pattern in /mnt/cube/earneodo/bci_zf/raw_data/z045/2018-01-09/06-00-01-10.wav\n",
      "2018-01-11 00:09:22,766 swissknife.streamtools.findbout INFO     79380000 samples loaded at 44100 Hz\n",
      "2018-01-11 00:09:22,774 swissknife.streamtools.findbout INFO     Calling find_the_bouts\n",
      "2018-01-11 00:09:22,990 swissknife.streamtools.findbout INFO     Begin to get scores (rms, env_corr)\n",
      "2018-01-11 00:09:23,196 swissknife.streamtools.findbout INFO     Getting the spectral scores\n",
      "2018-01-11 00:09:23,204 swissknife.streamtools.findbout DEBUG    No chunked specgram\n",
      "2018-01-11 00:09:23,211 swissknife.streamtools.findbout INFO     Getting pattern spectrogram\n",
      "2018-01-11 00:09:23,231 swissknife.streamtools.findbout INFO     Getting stream spectrogram\n",
      "2018-01-11 00:10:38,127 swissknife.streamtools.findbout INFO     Getting all scores in 360741 points\n",
      "2018-01-11 00:10:38,131 swissknife.streamtools.findbout INFO     done collecting scores\n",
      "2018-01-11 00:13:53,997 swissknife.streamtools.findbout INFO     Getting spectrogram correlation peaks\n",
      "2018-01-11 00:13:54,020 swissknife.streamtools.findbout INFO     Finding peaks ...\n",
      "2018-01-11 00:13:54,026 swissknife.streamtools.findbout INFO     0 peaks found\n",
      "2018-01-11 00:13:54,028 swissknife.streamtools.findbout INFO     0 peaks left after filtering redundant\n",
      "2018-01-11 00:13:54,030 swissknife.streamtools.findbout INFO     Found 0 correlation peaks\n",
      "2018-01-11 00:13:54,032 swissknife.streamtools.findbout DEBUG    actual dt 0.0009977324261853937\n",
      "2018-01-11 00:13:54,036 swissknife.streamtools.findbout INFO     Found 0 candidates\n",
      "2018-01-11 00:13:54,041 swissknife.streamtools.findbout DEBUG    Returning clustered candidates\n",
      "2018-01-11 00:13:54,047 swissknife.streamtools.findbout INFO     Returning candidates panda\n",
      "2018-01-11 00:13:54,062 swissknife.streamtools.findbout INFO     searching for pattern in /mnt/cube/earneodo/bci_zf/raw_data/z045/2018-01-09/06-00-01-11.wav\n",
      "2018-01-11 00:14:08,346 swissknife.streamtools.findbout INFO     79380000 samples loaded at 44100 Hz\n",
      "2018-01-11 00:14:08,356 swissknife.streamtools.findbout INFO     Calling find_the_bouts\n",
      "2018-01-11 00:14:08,563 swissknife.streamtools.findbout INFO     Begin to get scores (rms, env_corr)\n",
      "2018-01-11 00:14:08,767 swissknife.streamtools.findbout INFO     Getting the spectral scores\n",
      "2018-01-11 00:14:08,777 swissknife.streamtools.findbout DEBUG    No chunked specgram\n",
      "2018-01-11 00:14:08,785 swissknife.streamtools.findbout INFO     Getting pattern spectrogram\n",
      "2018-01-11 00:14:08,807 swissknife.streamtools.findbout INFO     Getting stream spectrogram\n",
      "2018-01-11 00:15:25,529 swissknife.streamtools.findbout INFO     Getting all scores in 360741 points\n",
      "2018-01-11 00:15:25,533 swissknife.streamtools.findbout INFO     done collecting scores\n",
      "2018-01-11 00:18:25,888 swissknife.streamtools.findbout INFO     Getting spectrogram correlation peaks\n",
      "2018-01-11 00:18:25,899 swissknife.streamtools.findbout INFO     Finding peaks ...\n",
      "2018-01-11 00:18:25,909 swissknife.streamtools.findbout INFO     0 peaks found\n",
      "2018-01-11 00:18:25,912 swissknife.streamtools.findbout INFO     0 peaks left after filtering redundant\n",
      "2018-01-11 00:18:25,915 swissknife.streamtools.findbout INFO     Found 0 correlation peaks\n",
      "2018-01-11 00:18:25,917 swissknife.streamtools.findbout DEBUG    actual dt 0.0009977324261853937\n",
      "2018-01-11 00:18:25,920 swissknife.streamtools.findbout INFO     Found 0 candidates\n",
      "2018-01-11 00:18:25,924 swissknife.streamtools.findbout DEBUG    Returning clustered candidates\n",
      "2018-01-11 00:18:25,930 swissknife.streamtools.findbout INFO     Returning candidates panda\n",
      "2018-01-11 00:18:25,937 swissknife.streamtools.findbout INFO     searching for pattern in /mnt/cube/earneodo/bci_zf/raw_data/z045/2018-01-09/06-00-01-12.wav\n",
      "2018-01-11 00:18:41,388 swissknife.streamtools.findbout INFO     79380000 samples loaded at 44100 Hz\n",
      "2018-01-11 00:18:41,392 swissknife.streamtools.findbout INFO     Calling find_the_bouts\n",
      "2018-01-11 00:18:41,605 swissknife.streamtools.findbout INFO     Begin to get scores (rms, env_corr)\n",
      "2018-01-11 00:18:41,797 swissknife.streamtools.findbout INFO     Getting the spectral scores\n",
      "2018-01-11 00:18:41,804 swissknife.streamtools.findbout DEBUG    No chunked specgram\n",
      "2018-01-11 00:18:41,811 swissknife.streamtools.findbout INFO     Getting pattern spectrogram\n",
      "2018-01-11 00:18:41,831 swissknife.streamtools.findbout INFO     Getting stream spectrogram\n",
      "2018-01-11 00:19:59,522 swissknife.streamtools.findbout INFO     Getting all scores in 360741 points\n",
      "2018-01-11 00:19:59,531 swissknife.streamtools.findbout INFO     done collecting scores\n",
      "2018-01-11 00:23:12,956 swissknife.streamtools.findbout INFO     Getting spectrogram correlation peaks\n",
      "2018-01-11 00:23:12,959 swissknife.streamtools.findbout INFO     Finding peaks ...\n",
      "2018-01-11 00:23:12,966 swissknife.streamtools.findbout INFO     0 peaks found\n",
      "2018-01-11 00:23:12,968 swissknife.streamtools.findbout INFO     0 peaks left after filtering redundant\n",
      "2018-01-11 00:23:12,970 swissknife.streamtools.findbout INFO     Found 0 correlation peaks\n",
      "2018-01-11 00:23:12,972 swissknife.streamtools.findbout DEBUG    actual dt 0.0009977324261853937\n",
      "2018-01-11 00:23:12,976 swissknife.streamtools.findbout INFO     Found 0 candidates\n",
      "2018-01-11 00:23:12,981 swissknife.streamtools.findbout DEBUG    Returning clustered candidates\n",
      "2018-01-11 00:23:12,988 swissknife.streamtools.findbout INFO     Returning candidates panda\n",
      "2018-01-11 00:23:12,995 swissknife.streamtools.findbout INFO     searching for pattern in /mnt/cube/earneodo/bci_zf/raw_data/z045/2018-01-09/06-00-01-13.wav\n",
      "2018-01-11 00:23:29,574 swissknife.streamtools.findbout INFO     79380000 samples loaded at 44100 Hz\n",
      "2018-01-11 00:23:29,577 swissknife.streamtools.findbout INFO     Calling find_the_bouts\n",
      "2018-01-11 00:23:29,785 swissknife.streamtools.findbout INFO     Begin to get scores (rms, env_corr)\n",
      "2018-01-11 00:23:29,992 swissknife.streamtools.findbout INFO     Getting the spectral scores\n",
      "2018-01-11 00:23:30,000 swissknife.streamtools.findbout DEBUG    No chunked specgram\n",
      "2018-01-11 00:23:30,007 swissknife.streamtools.findbout INFO     Getting pattern spectrogram\n",
      "2018-01-11 00:23:30,029 swissknife.streamtools.findbout INFO     Getting stream spectrogram\n",
      "2018-01-11 00:24:56,305 swissknife.streamtools.findbout INFO     Getting all scores in 360741 points\n",
      "2018-01-11 00:24:56,327 swissknife.streamtools.findbout INFO     done collecting scores\n",
      "2018-01-11 00:28:05,120 swissknife.streamtools.findbout INFO     Getting spectrogram correlation peaks\n",
      "2018-01-11 00:28:05,123 swissknife.streamtools.findbout INFO     Finding peaks ...\n",
      "2018-01-11 00:28:05,146 swissknife.streamtools.findbout INFO     0 peaks found\n",
      "2018-01-11 00:28:05,148 swissknife.streamtools.findbout INFO     0 peaks left after filtering redundant\n",
      "2018-01-11 00:28:05,150 swissknife.streamtools.findbout INFO     Found 0 correlation peaks\n",
      "2018-01-11 00:28:05,152 swissknife.streamtools.findbout DEBUG    actual dt 0.0009977324261853937\n",
      "2018-01-11 00:28:05,155 swissknife.streamtools.findbout INFO     Found 0 candidates\n",
      "2018-01-11 00:28:05,159 swissknife.streamtools.findbout DEBUG    Returning clustered candidates\n",
      "2018-01-11 00:28:05,166 swissknife.streamtools.findbout INFO     Returning candidates panda\n",
      "2018-01-11 00:28:05,172 swissknife.streamtools.findbout INFO     searching for pattern in /mnt/cube/earneodo/bci_zf/raw_data/z045/2018-01-09/06-00-01-14.wav\n"
     ]
    },
    {
     "name": "stderr",
     "output_type": "stream",
     "text": [
      "2018-01-11 00:28:20,039 swissknife.streamtools.findbout INFO     79380000 samples loaded at 44100 Hz\n",
      "2018-01-11 00:28:20,052 swissknife.streamtools.findbout INFO     Calling find_the_bouts\n",
      "2018-01-11 00:28:20,259 swissknife.streamtools.findbout INFO     Begin to get scores (rms, env_corr)\n",
      "2018-01-11 00:28:20,442 swissknife.streamtools.findbout INFO     Getting the spectral scores\n",
      "2018-01-11 00:28:20,444 swissknife.streamtools.findbout DEBUG    No chunked specgram\n",
      "2018-01-11 00:28:20,464 swissknife.streamtools.findbout INFO     Getting pattern spectrogram\n",
      "2018-01-11 00:28:20,479 swissknife.streamtools.findbout INFO     Getting stream spectrogram\n",
      "2018-01-11 00:29:34,178 swissknife.streamtools.findbout INFO     Getting all scores in 360741 points\n",
      "2018-01-11 00:29:34,200 swissknife.streamtools.findbout INFO     done collecting scores\n",
      "2018-01-11 00:32:43,309 swissknife.streamtools.findbout INFO     Getting spectrogram correlation peaks\n",
      "2018-01-11 00:32:43,332 swissknife.streamtools.findbout INFO     Finding peaks ...\n",
      "2018-01-11 00:32:43,343 swissknife.streamtools.findbout INFO     0 peaks found\n",
      "2018-01-11 00:32:43,350 swissknife.streamtools.findbout INFO     0 peaks left after filtering redundant\n",
      "2018-01-11 00:32:43,352 swissknife.streamtools.findbout INFO     Found 0 correlation peaks\n",
      "2018-01-11 00:32:43,355 swissknife.streamtools.findbout DEBUG    actual dt 0.0009977324261853937\n",
      "2018-01-11 00:32:43,358 swissknife.streamtools.findbout INFO     Found 0 candidates\n",
      "2018-01-11 00:32:43,362 swissknife.streamtools.findbout DEBUG    Returning clustered candidates\n",
      "2018-01-11 00:32:43,369 swissknife.streamtools.findbout INFO     Returning candidates panda\n",
      "2018-01-11 00:32:43,381 swissknife.streamtools.findbout INFO     searching for pattern in /mnt/cube/earneodo/bci_zf/raw_data/z045/2018-01-09/06-00-01-15.wav\n",
      "2018-01-11 00:32:58,134 swissknife.streamtools.findbout INFO     79380000 samples loaded at 44100 Hz\n",
      "2018-01-11 00:32:58,143 swissknife.streamtools.findbout INFO     Calling find_the_bouts\n",
      "2018-01-11 00:32:58,362 swissknife.streamtools.findbout INFO     Begin to get scores (rms, env_corr)\n",
      "2018-01-11 00:32:58,561 swissknife.streamtools.findbout INFO     Getting the spectral scores\n",
      "2018-01-11 00:32:58,566 swissknife.streamtools.findbout DEBUG    No chunked specgram\n",
      "2018-01-11 00:32:58,568 swissknife.streamtools.findbout INFO     Getting pattern spectrogram\n",
      "2018-01-11 00:32:58,583 swissknife.streamtools.findbout INFO     Getting stream spectrogram\n",
      "2018-01-11 00:33:59,222 swissknife.streamtools.findbout INFO     Getting all scores in 360741 points\n",
      "2018-01-11 00:33:59,244 swissknife.streamtools.findbout INFO     done collecting scores\n",
      "2018-01-11 00:37:07,349 swissknife.streamtools.findbout INFO     Getting spectrogram correlation peaks\n",
      "2018-01-11 00:37:07,358 swissknife.streamtools.findbout INFO     Finding peaks ...\n",
      "2018-01-11 00:37:07,369 swissknife.streamtools.findbout INFO     0 peaks found\n",
      "2018-01-11 00:37:07,377 swissknife.streamtools.findbout INFO     0 peaks left after filtering redundant\n",
      "2018-01-11 00:37:07,384 swissknife.streamtools.findbout INFO     Found 0 correlation peaks\n",
      "2018-01-11 00:37:07,387 swissknife.streamtools.findbout DEBUG    actual dt 0.0009977324261853937\n",
      "2018-01-11 00:37:07,394 swissknife.streamtools.findbout INFO     Found 0 candidates\n",
      "2018-01-11 00:37:07,405 swissknife.streamtools.findbout DEBUG    Returning clustered candidates\n",
      "2018-01-11 00:37:07,415 swissknife.streamtools.findbout INFO     Returning candidates panda\n",
      "2018-01-11 00:37:07,430 swissknife.streamtools.findbout INFO     searching for pattern in /mnt/cube/earneodo/bci_zf/raw_data/z045/2018-01-09/06-00-01-16.wav\n",
      "2018-01-11 00:37:22,969 swissknife.streamtools.findbout INFO     79380000 samples loaded at 44100 Hz\n",
      "2018-01-11 00:37:22,972 swissknife.streamtools.findbout INFO     Calling find_the_bouts\n",
      "2018-01-11 00:37:23,176 swissknife.streamtools.findbout INFO     Begin to get scores (rms, env_corr)\n",
      "2018-01-11 00:37:23,372 swissknife.streamtools.findbout INFO     Getting the spectral scores\n",
      "2018-01-11 00:37:23,377 swissknife.streamtools.findbout DEBUG    No chunked specgram\n",
      "2018-01-11 00:37:23,379 swissknife.streamtools.findbout INFO     Getting pattern spectrogram\n",
      "2018-01-11 00:37:23,400 swissknife.streamtools.findbout INFO     Getting stream spectrogram\n",
      "2018-01-11 00:38:40,827 swissknife.streamtools.findbout INFO     Getting all scores in 360741 points\n",
      "2018-01-11 00:38:40,830 swissknife.streamtools.findbout INFO     done collecting scores\n",
      "2018-01-11 00:41:52,941 swissknife.streamtools.findbout INFO     Getting spectrogram correlation peaks\n",
      "2018-01-11 00:41:52,963 swissknife.streamtools.findbout INFO     Finding peaks ...\n",
      "2018-01-11 00:41:52,969 swissknife.streamtools.findbout INFO     0 peaks found\n",
      "2018-01-11 00:41:52,972 swissknife.streamtools.findbout INFO     0 peaks left after filtering redundant\n",
      "2018-01-11 00:41:52,979 swissknife.streamtools.findbout INFO     Found 0 correlation peaks\n",
      "2018-01-11 00:41:52,980 swissknife.streamtools.findbout DEBUG    actual dt 0.0009977324261853937\n",
      "2018-01-11 00:41:52,983 swissknife.streamtools.findbout INFO     Found 0 candidates\n",
      "2018-01-11 00:41:52,987 swissknife.streamtools.findbout DEBUG    Returning clustered candidates\n",
      "2018-01-11 00:41:52,992 swissknife.streamtools.findbout INFO     Returning candidates panda\n",
      "2018-01-11 00:41:52,998 swissknife.streamtools.findbout INFO     searching for pattern in /mnt/cube/earneodo/bci_zf/raw_data/z045/2018-01-09/06-00-01-17.wav\n",
      "2018-01-11 00:42:08,898 swissknife.streamtools.findbout INFO     79380000 samples loaded at 44100 Hz\n",
      "2018-01-11 00:42:08,901 swissknife.streamtools.findbout INFO     Calling find_the_bouts\n",
      "2018-01-11 00:42:09,112 swissknife.streamtools.findbout INFO     Begin to get scores (rms, env_corr)\n",
      "2018-01-11 00:42:09,321 swissknife.streamtools.findbout INFO     Getting the spectral scores\n",
      "2018-01-11 00:42:09,328 swissknife.streamtools.findbout DEBUG    No chunked specgram\n",
      "2018-01-11 00:42:09,335 swissknife.streamtools.findbout INFO     Getting pattern spectrogram\n",
      "2018-01-11 00:42:09,351 swissknife.streamtools.findbout INFO     Getting stream spectrogram\n",
      "2018-01-11 00:43:21,241 swissknife.streamtools.findbout INFO     Getting all scores in 360741 points\n",
      "2018-01-11 00:43:21,249 swissknife.streamtools.findbout INFO     done collecting scores\n",
      "2018-01-11 00:46:26,796 swissknife.streamtools.findbout INFO     Getting spectrogram correlation peaks\n",
      "2018-01-11 00:46:26,799 swissknife.streamtools.findbout INFO     Finding peaks ...\n",
      "2018-01-11 00:46:26,805 swissknife.streamtools.findbout INFO     0 peaks found\n",
      "2018-01-11 00:46:26,807 swissknife.streamtools.findbout INFO     0 peaks left after filtering redundant\n",
      "2018-01-11 00:46:26,809 swissknife.streamtools.findbout INFO     Found 0 correlation peaks\n",
      "2018-01-11 00:46:26,811 swissknife.streamtools.findbout DEBUG    actual dt 0.0009977324261853937\n",
      "2018-01-11 00:46:26,814 swissknife.streamtools.findbout INFO     Found 0 candidates\n",
      "2018-01-11 00:46:26,818 swissknife.streamtools.findbout DEBUG    Returning clustered candidates\n",
      "2018-01-11 00:46:26,824 swissknife.streamtools.findbout INFO     Returning candidates panda\n",
      "2018-01-11 00:46:26,830 swissknife.streamtools.findbout INFO     searching for pattern in /mnt/cube/earneodo/bci_zf/raw_data/z045/2018-01-09/06-00-01-18.wav\n",
      "2018-01-11 00:46:41,432 swissknife.streamtools.findbout INFO     79380000 samples loaded at 44100 Hz\n",
      "2018-01-11 00:46:41,435 swissknife.streamtools.findbout INFO     Calling find_the_bouts\n",
      "2018-01-11 00:46:41,642 swissknife.streamtools.findbout INFO     Begin to get scores (rms, env_corr)\n",
      "2018-01-11 00:46:41,831 swissknife.streamtools.findbout INFO     Getting the spectral scores\n",
      "2018-01-11 00:46:41,840 swissknife.streamtools.findbout DEBUG    No chunked specgram\n",
      "2018-01-11 00:46:41,850 swissknife.streamtools.findbout INFO     Getting pattern spectrogram\n",
      "2018-01-11 00:46:41,874 swissknife.streamtools.findbout INFO     Getting stream spectrogram\n",
      "2018-01-11 00:47:50,449 swissknife.streamtools.findbout INFO     Getting all scores in 360741 points\n",
      "2018-01-11 00:47:50,452 swissknife.streamtools.findbout INFO     done collecting scores\n",
      "2018-01-11 00:51:04,255 swissknife.streamtools.findbout INFO     Getting spectrogram correlation peaks\n"
     ]
    },
    {
     "name": "stderr",
     "output_type": "stream",
     "text": [
      "2018-01-11 00:51:04,258 swissknife.streamtools.findbout INFO     Finding peaks ...\n",
      "2018-01-11 00:51:04,264 swissknife.streamtools.findbout INFO     0 peaks found\n",
      "2018-01-11 00:51:04,267 swissknife.streamtools.findbout INFO     0 peaks left after filtering redundant\n",
      "2018-01-11 00:51:04,268 swissknife.streamtools.findbout INFO     Found 0 correlation peaks\n",
      "2018-01-11 00:51:04,270 swissknife.streamtools.findbout DEBUG    actual dt 0.0009977324261853937\n",
      "2018-01-11 00:51:04,273 swissknife.streamtools.findbout INFO     Found 0 candidates\n",
      "2018-01-11 00:51:04,278 swissknife.streamtools.findbout DEBUG    Returning clustered candidates\n",
      "2018-01-11 00:51:04,284 swissknife.streamtools.findbout INFO     Returning candidates panda\n",
      "2018-01-11 00:51:04,291 swissknife.streamtools.findbout INFO     searching for pattern in /mnt/cube/earneodo/bci_zf/raw_data/z045/2018-01-09/06-00-01-19.wav\n",
      "2018-01-11 00:51:18,697 swissknife.streamtools.findbout INFO     79380000 samples loaded at 44100 Hz\n",
      "2018-01-11 00:51:18,708 swissknife.streamtools.findbout INFO     Calling find_the_bouts\n",
      "2018-01-11 00:51:18,897 swissknife.streamtools.findbout INFO     Begin to get scores (rms, env_corr)\n",
      "2018-01-11 00:51:19,078 swissknife.streamtools.findbout INFO     Getting the spectral scores\n",
      "2018-01-11 00:51:19,080 swissknife.streamtools.findbout DEBUG    No chunked specgram\n",
      "2018-01-11 00:51:19,082 swissknife.streamtools.findbout INFO     Getting pattern spectrogram\n",
      "2018-01-11 00:51:19,099 swissknife.streamtools.findbout INFO     Getting stream spectrogram\n",
      "2018-01-11 00:52:26,137 swissknife.streamtools.findbout INFO     Getting all scores in 360741 points\n",
      "2018-01-11 00:52:26,147 swissknife.streamtools.findbout INFO     done collecting scores\n",
      "2018-01-11 00:55:32,781 swissknife.streamtools.findbout INFO     Getting spectrogram correlation peaks\n",
      "2018-01-11 00:55:32,784 swissknife.streamtools.findbout INFO     Finding peaks ...\n",
      "2018-01-11 00:55:32,791 swissknife.streamtools.findbout INFO     0 peaks found\n",
      "2018-01-11 00:55:32,794 swissknife.streamtools.findbout INFO     0 peaks left after filtering redundant\n",
      "2018-01-11 00:55:32,796 swissknife.streamtools.findbout INFO     Found 0 correlation peaks\n",
      "2018-01-11 00:55:32,799 swissknife.streamtools.findbout DEBUG    actual dt 0.0009977324261853937\n",
      "2018-01-11 00:55:32,818 swissknife.streamtools.findbout INFO     Found 0 candidates\n",
      "2018-01-11 00:55:32,822 swissknife.streamtools.findbout DEBUG    Returning clustered candidates\n",
      "2018-01-11 00:55:32,828 swissknife.streamtools.findbout INFO     Returning candidates panda\n",
      "2018-01-11 00:55:32,835 swissknife.streamtools.findbout INFO     searching for pattern in /mnt/cube/earneodo/bci_zf/raw_data/z045/2018-01-09/06-00-01-20.wav\n",
      "2018-01-11 00:55:47,587 swissknife.streamtools.findbout INFO     79380000 samples loaded at 44100 Hz\n",
      "2018-01-11 00:55:47,590 swissknife.streamtools.findbout INFO     Calling find_the_bouts\n",
      "2018-01-11 00:55:47,785 swissknife.streamtools.findbout INFO     Begin to get scores (rms, env_corr)\n",
      "2018-01-11 00:55:47,974 swissknife.streamtools.findbout INFO     Getting the spectral scores\n",
      "2018-01-11 00:55:47,982 swissknife.streamtools.findbout DEBUG    No chunked specgram\n",
      "2018-01-11 00:55:47,989 swissknife.streamtools.findbout INFO     Getting pattern spectrogram\n",
      "2018-01-11 00:55:48,009 swissknife.streamtools.findbout INFO     Getting stream spectrogram\n",
      "2018-01-11 00:57:03,863 swissknife.streamtools.findbout INFO     Getting all scores in 360741 points\n",
      "2018-01-11 00:57:03,873 swissknife.streamtools.findbout INFO     done collecting scores\n",
      "2018-01-11 01:00:12,244 swissknife.streamtools.findbout INFO     Getting spectrogram correlation peaks\n",
      "2018-01-11 01:00:12,252 swissknife.streamtools.findbout INFO     Finding peaks ...\n",
      "2018-01-11 01:00:12,264 swissknife.streamtools.findbout INFO     0 peaks found\n",
      "2018-01-11 01:00:12,271 swissknife.streamtools.findbout INFO     0 peaks left after filtering redundant\n",
      "2018-01-11 01:00:12,278 swissknife.streamtools.findbout INFO     Found 0 correlation peaks\n",
      "2018-01-11 01:00:12,282 swissknife.streamtools.findbout DEBUG    actual dt 0.0009977324261853937\n",
      "2018-01-11 01:00:12,289 swissknife.streamtools.findbout INFO     Found 0 candidates\n",
      "2018-01-11 01:00:12,293 swissknife.streamtools.findbout DEBUG    Returning clustered candidates\n",
      "2018-01-11 01:00:12,307 swissknife.streamtools.findbout INFO     Returning candidates panda\n",
      "2018-01-11 01:00:12,315 swissknife.streamtools.findbout INFO     searching for pattern in /mnt/cube/earneodo/bci_zf/raw_data/z045/2018-01-09/06-00-01-21.wav\n",
      "2018-01-11 01:00:28,299 swissknife.streamtools.findbout INFO     79380000 samples loaded at 44100 Hz\n",
      "2018-01-11 01:00:28,301 swissknife.streamtools.findbout INFO     Calling find_the_bouts\n",
      "2018-01-11 01:00:28,516 swissknife.streamtools.findbout INFO     Begin to get scores (rms, env_corr)\n",
      "2018-01-11 01:00:28,719 swissknife.streamtools.findbout INFO     Getting the spectral scores\n",
      "2018-01-11 01:00:28,727 swissknife.streamtools.findbout DEBUG    No chunked specgram\n",
      "2018-01-11 01:00:28,734 swissknife.streamtools.findbout INFO     Getting pattern spectrogram\n",
      "2018-01-11 01:00:28,754 swissknife.streamtools.findbout INFO     Getting stream spectrogram\n",
      "2018-01-11 01:01:28,608 swissknife.streamtools.findbout INFO     Getting all scores in 360741 points\n",
      "2018-01-11 01:01:28,632 swissknife.streamtools.findbout INFO     done collecting scores\n",
      "2018-01-11 01:04:36,942 swissknife.streamtools.findbout INFO     Getting spectrogram correlation peaks\n",
      "2018-01-11 01:04:36,972 swissknife.streamtools.findbout INFO     Finding peaks ...\n",
      "2018-01-11 01:04:36,984 swissknife.streamtools.findbout INFO     0 peaks found\n",
      "2018-01-11 01:04:36,992 swissknife.streamtools.findbout INFO     0 peaks left after filtering redundant\n",
      "2018-01-11 01:04:36,999 swissknife.streamtools.findbout INFO     Found 0 correlation peaks\n",
      "2018-01-11 01:04:37,004 swissknife.streamtools.findbout DEBUG    actual dt 0.0009977324261853937\n",
      "2018-01-11 01:04:37,007 swissknife.streamtools.findbout INFO     Found 0 candidates\n",
      "2018-01-11 01:04:37,016 swissknife.streamtools.findbout DEBUG    Returning clustered candidates\n",
      "2018-01-11 01:04:37,025 swissknife.streamtools.findbout INFO     Returning candidates panda\n",
      "2018-01-11 01:04:37,032 swissknife.streamtools.findbout INFO     searching for pattern in /mnt/cube/earneodo/bci_zf/raw_data/z045/2018-01-09/06-00-01-22.wav\n",
      "2018-01-11 01:04:52,901 swissknife.streamtools.findbout INFO     79380000 samples loaded at 44100 Hz\n",
      "2018-01-11 01:04:52,904 swissknife.streamtools.findbout INFO     Calling find_the_bouts\n",
      "2018-01-11 01:04:53,109 swissknife.streamtools.findbout INFO     Begin to get scores (rms, env_corr)\n",
      "2018-01-11 01:04:53,311 swissknife.streamtools.findbout INFO     Getting the spectral scores\n",
      "2018-01-11 01:04:53,314 swissknife.streamtools.findbout DEBUG    No chunked specgram\n",
      "2018-01-11 01:04:53,316 swissknife.streamtools.findbout INFO     Getting pattern spectrogram\n",
      "2018-01-11 01:04:53,330 swissknife.streamtools.findbout INFO     Getting stream spectrogram\n",
      "2018-01-11 01:05:54,185 swissknife.streamtools.findbout INFO     Getting all scores in 360741 points\n",
      "2018-01-11 01:05:54,194 swissknife.streamtools.findbout INFO     done collecting scores\n",
      "2018-01-11 01:09:05,092 swissknife.streamtools.findbout INFO     Getting spectrogram correlation peaks\n",
      "2018-01-11 01:09:05,095 swissknife.streamtools.findbout INFO     Finding peaks ...\n",
      "2018-01-11 01:09:05,100 swissknife.streamtools.findbout INFO     0 peaks found\n",
      "2018-01-11 01:09:05,120 swissknife.streamtools.findbout INFO     0 peaks left after filtering redundant\n",
      "2018-01-11 01:09:05,125 swissknife.streamtools.findbout INFO     Found 0 correlation peaks\n",
      "2018-01-11 01:09:05,129 swissknife.streamtools.findbout DEBUG    actual dt 0.0009977324261853937\n",
      "2018-01-11 01:09:05,135 swissknife.streamtools.findbout INFO     Found 0 candidates\n",
      "2018-01-11 01:09:05,147 swissknife.streamtools.findbout DEBUG    Returning clustered candidates\n",
      "2018-01-11 01:09:05,162 swissknife.streamtools.findbout INFO     Returning candidates panda\n",
      "2018-01-11 01:09:05,184 swissknife.streamtools.findbout INFO     searching for pattern in /mnt/cube/earneodo/bci_zf/raw_data/z045/2018-01-09/06-00-01-23.wav\n"
     ]
    },
    {
     "name": "stderr",
     "output_type": "stream",
     "text": [
      "2018-01-11 01:09:19,369 swissknife.streamtools.findbout INFO     79380000 samples loaded at 44100 Hz\n",
      "2018-01-11 01:09:19,376 swissknife.streamtools.findbout INFO     Calling find_the_bouts\n",
      "2018-01-11 01:09:19,567 swissknife.streamtools.findbout INFO     Begin to get scores (rms, env_corr)\n",
      "2018-01-11 01:09:19,768 swissknife.streamtools.findbout INFO     Getting the spectral scores\n",
      "2018-01-11 01:09:19,773 swissknife.streamtools.findbout DEBUG    No chunked specgram\n",
      "2018-01-11 01:09:19,776 swissknife.streamtools.findbout INFO     Getting pattern spectrogram\n",
      "2018-01-11 01:09:19,799 swissknife.streamtools.findbout INFO     Getting stream spectrogram\n",
      "2018-01-11 01:10:21,051 swissknife.streamtools.findbout INFO     Getting all scores in 360741 points\n",
      "2018-01-11 01:10:21,054 swissknife.streamtools.findbout INFO     done collecting scores\n",
      "2018-01-11 01:13:27,156 swissknife.streamtools.findbout INFO     Getting spectrogram correlation peaks\n",
      "2018-01-11 01:13:27,159 swissknife.streamtools.findbout INFO     Finding peaks ...\n",
      "2018-01-11 01:13:27,165 swissknife.streamtools.findbout INFO     0 peaks found\n",
      "2018-01-11 01:13:27,167 swissknife.streamtools.findbout INFO     0 peaks left after filtering redundant\n",
      "2018-01-11 01:13:27,168 swissknife.streamtools.findbout INFO     Found 0 correlation peaks\n",
      "2018-01-11 01:13:27,170 swissknife.streamtools.findbout DEBUG    actual dt 0.0009977324261853937\n",
      "2018-01-11 01:13:27,173 swissknife.streamtools.findbout INFO     Found 0 candidates\n",
      "2018-01-11 01:13:27,177 swissknife.streamtools.findbout DEBUG    Returning clustered candidates\n",
      "2018-01-11 01:13:27,182 swissknife.streamtools.findbout INFO     Returning candidates panda\n",
      "2018-01-11 01:13:27,188 swissknife.streamtools.findbout INFO     searching for pattern in /mnt/cube/earneodo/bci_zf/raw_data/z045/2018-01-09/06-00-01-24.wav\n",
      "2018-01-11 01:13:40,461 swissknife.streamtools.findbout INFO     79380000 samples loaded at 44100 Hz\n",
      "2018-01-11 01:13:40,464 swissknife.streamtools.findbout INFO     Calling find_the_bouts\n",
      "2018-01-11 01:13:40,671 swissknife.streamtools.findbout INFO     Begin to get scores (rms, env_corr)\n",
      "2018-01-11 01:13:40,872 swissknife.streamtools.findbout INFO     Getting the spectral scores\n",
      "2018-01-11 01:13:40,874 swissknife.streamtools.findbout DEBUG    No chunked specgram\n",
      "2018-01-11 01:13:40,876 swissknife.streamtools.findbout INFO     Getting pattern spectrogram\n",
      "2018-01-11 01:13:40,892 swissknife.streamtools.findbout INFO     Getting stream spectrogram\n",
      "2018-01-11 01:14:51,193 swissknife.streamtools.findbout INFO     Getting all scores in 360741 points\n",
      "2018-01-11 01:14:51,221 swissknife.streamtools.findbout INFO     done collecting scores\n",
      "2018-01-11 01:18:03,858 swissknife.streamtools.findbout INFO     Getting spectrogram correlation peaks\n",
      "2018-01-11 01:18:03,868 swissknife.streamtools.findbout INFO     Finding peaks ...\n",
      "2018-01-11 01:18:03,879 swissknife.streamtools.findbout INFO     0 peaks found\n",
      "2018-01-11 01:18:03,902 swissknife.streamtools.findbout INFO     0 peaks left after filtering redundant\n",
      "2018-01-11 01:18:03,910 swissknife.streamtools.findbout INFO     Found 0 correlation peaks\n",
      "2018-01-11 01:18:03,916 swissknife.streamtools.findbout DEBUG    actual dt 0.0009977324261853937\n",
      "2018-01-11 01:18:03,924 swissknife.streamtools.findbout INFO     Found 0 candidates\n",
      "2018-01-11 01:18:03,928 swissknife.streamtools.findbout DEBUG    Returning clustered candidates\n",
      "2018-01-11 01:18:03,940 swissknife.streamtools.findbout INFO     Returning candidates panda\n",
      "2018-01-11 01:18:03,958 swissknife.streamtools.findbout INFO     searching for pattern in /mnt/cube/earneodo/bci_zf/raw_data/z045/2018-01-09/06-00-01-25.wav\n",
      "2018-01-11 01:18:18,637 swissknife.streamtools.findbout INFO     79380000 samples loaded at 44100 Hz\n",
      "2018-01-11 01:18:18,645 swissknife.streamtools.findbout INFO     Calling find_the_bouts\n",
      "2018-01-11 01:18:18,938 swissknife.streamtools.findbout INFO     Begin to get scores (rms, env_corr)\n",
      "2018-01-11 01:18:19,314 swissknife.streamtools.findbout INFO     Getting the spectral scores\n",
      "2018-01-11 01:18:19,329 swissknife.streamtools.findbout DEBUG    No chunked specgram\n",
      "2018-01-11 01:18:19,335 swissknife.streamtools.findbout INFO     Getting pattern spectrogram\n",
      "2018-01-11 01:18:19,354 swissknife.streamtools.findbout INFO     Getting stream spectrogram\n",
      "2018-01-11 01:19:11,992 swissknife.streamtools.findbout INFO     Getting all scores in 360741 points\n",
      "2018-01-11 01:19:12,001 swissknife.streamtools.findbout INFO     done collecting scores\n",
      "2018-01-11 01:22:19,997 swissknife.streamtools.findbout INFO     Getting spectrogram correlation peaks\n",
      "2018-01-11 01:22:20,006 swissknife.streamtools.findbout INFO     Finding peaks ...\n",
      "2018-01-11 01:22:20,016 swissknife.streamtools.findbout INFO     0 peaks found\n",
      "2018-01-11 01:22:20,022 swissknife.streamtools.findbout INFO     0 peaks left after filtering redundant\n",
      "2018-01-11 01:22:20,028 swissknife.streamtools.findbout INFO     Found 0 correlation peaks\n",
      "2018-01-11 01:22:20,035 swissknife.streamtools.findbout DEBUG    actual dt 0.0009977324261853937\n",
      "2018-01-11 01:22:20,038 swissknife.streamtools.findbout INFO     Found 0 candidates\n",
      "2018-01-11 01:22:20,043 swissknife.streamtools.findbout DEBUG    Returning clustered candidates\n",
      "2018-01-11 01:22:20,053 swissknife.streamtools.findbout INFO     Returning candidates panda\n",
      "2018-01-11 01:22:20,062 swissknife.streamtools.findbout INFO     searching for pattern in /mnt/cube/earneodo/bci_zf/raw_data/z045/2018-01-09/06-00-01-26.wav\n",
      "2018-01-11 01:22:33,444 swissknife.streamtools.findbout INFO     79380000 samples loaded at 44100 Hz\n",
      "2018-01-11 01:22:33,468 swissknife.streamtools.findbout INFO     Calling find_the_bouts\n",
      "2018-01-11 01:22:33,688 swissknife.streamtools.findbout INFO     Begin to get scores (rms, env_corr)\n",
      "2018-01-11 01:22:33,891 swissknife.streamtools.findbout INFO     Getting the spectral scores\n",
      "2018-01-11 01:22:33,898 swissknife.streamtools.findbout DEBUG    No chunked specgram\n",
      "2018-01-11 01:22:33,905 swissknife.streamtools.findbout INFO     Getting pattern spectrogram\n",
      "2018-01-11 01:22:33,925 swissknife.streamtools.findbout INFO     Getting stream spectrogram\n",
      "2018-01-11 01:23:41,585 swissknife.streamtools.findbout INFO     Getting all scores in 360741 points\n",
      "2018-01-11 01:23:41,593 swissknife.streamtools.findbout INFO     done collecting scores\n",
      "2018-01-11 01:26:46,289 swissknife.streamtools.findbout INFO     Getting spectrogram correlation peaks\n",
      "2018-01-11 01:26:46,299 swissknife.streamtools.findbout INFO     Finding peaks ...\n",
      "2018-01-11 01:26:46,311 swissknife.streamtools.findbout INFO     0 peaks found\n",
      "2018-01-11 01:26:46,319 swissknife.streamtools.findbout INFO     0 peaks left after filtering redundant\n",
      "2018-01-11 01:26:46,327 swissknife.streamtools.findbout INFO     Found 0 correlation peaks\n",
      "2018-01-11 01:26:46,332 swissknife.streamtools.findbout DEBUG    actual dt 0.0009977324261853937\n",
      "2018-01-11 01:26:46,335 swissknife.streamtools.findbout INFO     Found 0 candidates\n",
      "2018-01-11 01:26:46,345 swissknife.streamtools.findbout DEBUG    Returning clustered candidates\n",
      "2018-01-11 01:26:46,354 swissknife.streamtools.findbout INFO     Returning candidates panda\n",
      "2018-01-11 01:26:46,365 swissknife.streamtools.findbout INFO     searching for pattern in /mnt/cube/earneodo/bci_zf/raw_data/z045/2018-01-09/06-00-01-27.wav\n",
      "2018-01-11 01:26:53,284 swissknife.streamtools.findbout INFO     31454208 samples loaded at 44100 Hz\n",
      "2018-01-11 01:26:53,306 swissknife.streamtools.findbout INFO     Calling find_the_bouts\n",
      "2018-01-11 01:26:53,394 swissknife.streamtools.findbout INFO     Begin to get scores (rms, env_corr)\n",
      "2018-01-11 01:26:53,481 swissknife.streamtools.findbout INFO     Getting the spectral scores\n",
      "2018-01-11 01:26:53,488 swissknife.streamtools.findbout DEBUG    No chunked specgram\n",
      "2018-01-11 01:26:53,495 swissknife.streamtools.findbout INFO     Getting pattern spectrogram\n",
      "2018-01-11 01:26:53,516 swissknife.streamtools.findbout INFO     Getting stream spectrogram\n",
      "2018-01-11 01:27:10,253 swissknife.streamtools.findbout INFO     Getting all scores in 142897 points\n",
      "2018-01-11 01:27:10,263 swissknife.streamtools.findbout INFO     done collecting scores\n",
      "2018-01-11 01:28:27,684 swissknife.streamtools.findbout INFO     Getting spectrogram correlation peaks\n"
     ]
    },
    {
     "name": "stderr",
     "output_type": "stream",
     "text": [
      "2018-01-11 01:28:27,693 swissknife.streamtools.findbout INFO     Finding peaks ...\n",
      "2018-01-11 01:28:27,701 swissknife.streamtools.findbout INFO     0 peaks found\n",
      "2018-01-11 01:28:27,709 swissknife.streamtools.findbout INFO     0 peaks left after filtering redundant\n",
      "2018-01-11 01:28:27,715 swissknife.streamtools.findbout INFO     Found 0 correlation peaks\n",
      "2018-01-11 01:28:27,717 swissknife.streamtools.findbout DEBUG    actual dt 0.0009977324262990805\n",
      "2018-01-11 01:28:27,720 swissknife.streamtools.findbout INFO     Found 0 candidates\n",
      "2018-01-11 01:28:27,729 swissknife.streamtools.findbout DEBUG    Returning clustered candidates\n",
      "2018-01-11 01:28:27,735 swissknife.streamtools.findbout INFO     Returning candidates panda\n",
      "2018-01-11 01:28:27,782 root         INFO     Done collecting all candidates for all files in the folder\n",
      "2018-01-11 01:28:27,793 swissknife.streamtools.findbout INFO     Will collect the waveforms of 0 bouts\n",
      "2018-01-11 01:28:27,800 swissknife.streamtools.findbout INFO     (0, 23047)\n",
      "2018-01-11 01:28:27,893 root         INFO     Saved file, nothing more to do\n"
     ]
    },
    {
     "data": {
      "image/png": "[encoded data removed]",
      "text/plain": [
       "<matplotlib.figure.Figure at 0x7f08e073a9e8>"
      ]
     },
     "metadata": {},
     "output_type": "display_data"
    }
   ],
   "source": [
    "all_sess_cand = []\n",
    "for d in all_days[-1:]:\n",
    "    sess_cand = search_bouts_song(bird_id, d, 'motiff_1')\n",
    "    all_sess_cand.append(sess_cand)"
   ]
  },
  {
   "cell_type": "markdown",
   "metadata": {},
   "source": [
    "## run a thread with search in many sessions\n",
    "- The sessions are in all_days"
   ]
  },
  {
   "cell_type": "markdown",
   "metadata": {},
   "source": [
    "#### Create a log, if you may"
   ]
  },
  {
   "cell_type": "code",
   "execution_count": null,
   "metadata": {
    "collapsed": true
   },
   "outputs": [],
   "source": [
    "# create file handler which logs even debug messages\n",
    "log_f_name = os.path.join(raw_data_folder_bird, 'search_bout_many_days.log')\n",
    "fh = logging.FileHandler(log_f_name)\n",
    "fh.setLevel(logging.DEBUG)\n",
    "formatter = logging.Formatter('%(asctime)s - %(name)s - %(levelname)s - %(message)s')\n",
    "fh.setFormatter(formatter)\n",
    "# add the handlers to the logger\n",
    "logger.addHandler(fh)\n",
    "print(log_f_name)"
   ]
  },
  {
   "cell_type": "code",
   "execution_count": null,
   "metadata": {
    "collapsed": true
   },
   "outputs": [],
   "source": [
    "[all_days[-1]]"
   ]
  },
  {
   "cell_type": "code",
   "execution_count": null,
   "metadata": {
    "collapsed": true
   },
   "outputs": [],
   "source": [
    "def find_bout_list(bird_id, sess_list, pattern_name):\n",
    "    sess_cand_list = [search_bouts_song(bird_id, s, pattern_name) for s in sess_list]\n",
    "    return pd.concatenate(sess_cand_list)\n",
    "\n",
    "the_long_search = threadedFunction(args=(find_bout_list, bird_id, [all_days[-1]], 'motiff_1'))\n",
    "the_long_search.start()\n"
   ]
  },
  {
   "cell_type": "markdown",
   "metadata": {},
   "source": [
    "## Debugging and all that jizz"
   ]
  },
  {
   "cell_type": "code",
   "execution_count": null,
   "metadata": {
    "collapsed": true,
    "scrolled": true
   },
   "outputs": [],
   "source": [
    "import swissknife.streamtools.findbout as fb\n",
    "reload(et)\n",
    "reload(fb)\n",
    "reload(sp)\n",
    "\n",
    "stim_ver = '001'\n",
    "\n",
    "fn = et.file_names(bird_id, stim_ver)\n",
    "\n",
    "stim_par = et.read_yml(os.path.join(fn['folders']['stim'], 'stim.par.yml'))\n",
    "\n",
    "search_par = stim_par['search_motiff']\n",
    "stim_names = list(search_par['motiff_patterns'].keys())\n",
    "print(stim_names)\n",
    "stim_name = 'motiff_0'\n",
    "\n",
    "search_par['corr_thresh'] = 0.5\n",
    "search_par['db_cut'] = 60\n",
    "pattern_path = os.path.join(fn['folders']['stim'], search_par['motiff_patterns'][stim_name])\n",
    "#stream_path = all_raw_file_list[-10]\n",
    "#stream_path = '/mnt/cube/earneodo/bci_zf/raw_data/z036/2017-08-06/06-00-01-23.wav'\n",
    "stream_path = one_file\n",
    "#stream_path = os.path.join('/mnt/cube/earneodo/bci_zf/ss_data/z036/2017-07-10', '06-00-02-11_auto.wav')\n",
    "candy = fb.search_bouts(stream_path, pattern_path, search_par, chunked_specgram=False, debug=True)\n"
   ]
  },
  {
   "cell_type": "code",
   "execution_count": null,
   "metadata": {
    "collapsed": true
   },
   "outputs": [],
   "source": [
    "candy[1].plot(subplots=True)"
   ]
  },
  {
   "cell_type": "code",
   "execution_count": null,
   "metadata": {
    "collapsed": true
   },
   "outputs": [],
   "source": [
    "allcand = map(lambda x: fb.search_bouts(x, pattern_path, search_par, chunked_specgram=False), all_raw_file_list[0:2])"
   ]
  },
  {
   "cell_type": "code",
   "execution_count": null,
   "metadata": {
    "collapsed": true
   },
   "outputs": [],
   "source": [
    "pd_cand.to_pickle?"
   ]
  },
  {
   "cell_type": "code",
   "execution_count": null,
   "metadata": {
    "collapsed": true
   },
   "outputs": [],
   "source": [
    "pd_cand = pd.concat(allcand)"
   ]
  },
  {
   "cell_type": "code",
   "execution_count": null,
   "metadata": {
    "collapsed": true
   },
   "outputs": [],
   "source": [
    "stream_path = '/mnt/cube/earneodo/bci_zf/raw_data/z036/2017-08-06/06-00-01-23.wav'"
   ]
  },
  {
   "cell_type": "code",
   "execution_count": null,
   "metadata": {
    "collapsed": true
   },
   "outputs": [],
   "source": [
    "candy['file'] = stream_path"
   ]
  },
  {
   "cell_type": "code",
   "execution_count": null,
   "metadata": {
    "collapsed": true
   },
   "outputs": [],
   "source": [
    "candy"
   ]
  },
  {
   "cell_type": "code",
   "execution_count": null,
   "metadata": {
    "collapsed": true
   },
   "outputs": [],
   "source": [
    "pat =WavData(stream_path)\n",
    "alpat = Chunk(pat).data.flatten()"
   ]
  },
  {
   "cell_type": "code",
   "execution_count": null,
   "metadata": {
    "collapsed": true
   },
   "outputs": [],
   "source": [
    "for start in candy.start.tolist():\n",
    "    plt.figure()\n",
    "    plt.plot(alpat[start:start+30000])"
   ]
  },
  {
   "cell_type": "code",
   "execution_count": null,
   "metadata": {
    "collapsed": true
   },
   "outputs": [],
   "source": [
    "alpat.samples"
   ]
  },
  {
   "cell_type": "code",
   "execution_count": null,
   "metadata": {
    "collapsed": true
   },
   "outputs": [],
   "source": [
    "list(search_par['motiff_patterns'].keys())"
   ]
  },
  {
   "cell_type": "code",
   "execution_count": null,
   "metadata": {
    "collapsed": true
   },
   "outputs": [],
   "source": [
    "fn"
   ]
  },
  {
   "cell_type": "code",
   "execution_count": null,
   "metadata": {
    "collapsed": true
   },
   "outputs": [],
   "source": []
  }
 ],
 "metadata": {
  "anaconda-cloud": {},
  "kernelspec": {
   "display_name": "Tf 1.2 - Py3.6",
   "language": "python",
   "name": "tf12"
  },
  "language_info": {
   "codemirror_mode": {
    "name": "ipython",
    "version": 3
   },
   "file_extension": ".py",
   "mimetype": "text/x-python",
   "name": "python",
   "nbconvert_exporter": "python",
   "pygments_lexer": "ipython3",
   "version": "3.6.2"
  }
 },
 "nbformat": 4,
 "nbformat_minor": 1
}
