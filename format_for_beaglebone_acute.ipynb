{
 "cells": [
  {
   "cell_type": "markdown",
   "metadata": {},
   "source": [
    "## Format a series of wavefiles for use with the open_ephys system and the boner stimulus rig\n",
    "\n",
    "- See function make_stereo_stim.\n"
   ]
  },
  {
   "cell_type": "code",
   "execution_count": null,
   "metadata": {},
   "outputs": [],
   "source": [
    "import socket\n",
    "import os\n",
    "import logging\n",
    "\n",
    "from swissknife.bci.core import expstruct as et\n",
    "from helperephys.boner import stimprep\n",
    "\n",
    "logger = logging.getLogger()\n",
    "handler = logging.StreamHandler()\n",
    "formatter = logging.Formatter(\n",
    "        '%(asctime)s %(name)-12s %(levelname)-8s %(message)s')\n",
    "handler.setFormatter(formatter)\n",
    "logger.addHandler(handler)\n",
    "logger.setLevel(logging.INFO)\n",
    "logger.debug('all modules loaded')\n",
    "\n",
    "comp_name=socket.gethostname()\n",
    "logger.info('Computer: ' + comp_name)"
   ]
  },
  {
   "cell_type": "markdown",
   "metadata": {},
   "source": [
    "### Get a list of all of the wav files in a folder"
   ]
  },
  {
   "cell_type": "code",
   "execution_count": null,
   "metadata": {
    "scrolled": true
   },
   "outputs": [],
   "source": [
    "raw_stim_folder = os.path.join('/mnt/cube/earneodo', 'bci_zf', 'stim_data', 'b1159','001')\n",
    "f_list = [f for f in os.listdir(raw_stim_folder) if f.split('.')[-1] == 'wav']\n",
    "print(f_list)"
   ]
  },
  {
   "cell_type": "markdown",
   "metadata": {},
   "source": [
    "### Define sampling rate for final files and frequency for the tags\n",
    "If the frequency dictionary is skipped, the function create_bb_stim will do 1Khz for all stimuli"
   ]
  },
  {
   "cell_type": "code",
   "execution_count": null,
   "metadata": {},
   "outputs": [
    {
     "name": "stderr",
     "output_type": "stream",
     "text": [
      "2018-04-26 19:32:51,823 helperephys.boner.stimprep INFO     Processing /mnt/cube/earneodo/bci_zf/stim_data/b1159/001/bos02.wav\n",
      "2018-04-26 19:32:51,823 helperephys.boner.stimprep INFO     Processing /mnt/cube/earneodo/bci_zf/stim_data/b1159/001/bos02.wav\n",
      "2018-04-26 19:32:51,825 helperephys.boner.stimprep INFO     tag_freq = 2000\n",
      "2018-04-26 19:32:51,825 helperephys.boner.stimprep INFO     tag_freq = 2000\n",
      "2018-04-26 19:32:51,832 helperephys.boner.stimprep INFO     Will resample from 1751201 to 1191293 sampes\n",
      "2018-04-26 19:32:51,832 helperephys.boner.stimprep INFO     Will resample from 1751201 to 1191293 sampes\n"
     ]
    }
   ],
   "source": [
    "### Manually enter the tags\n",
    "# otherwise they will all be 1000Hz\n",
    "sampling_rate = 30000 # sampling rate of the output files\n",
    "\n",
    "stims_to_tag = {'bos01': 1000,\n",
    "                'bos02': 2000,\n",
    "                'bos03': 3000,\n",
    "                'bos03-rev': 4000,\n",
    "                'bos05': 5000}\n",
    "\n",
    "stimprep.create_bb_stim(f_list, raw_stim_folder, sampling_rate, stim_tag_dict=stims_to_tag)"
   ]
  },
  {
   "cell_type": "code",
   "execution_count": null,
   "metadata": {},
   "outputs": [],
   "source": [
    "def create_bb_stim(file_list, location_fold, out_s_f, stim_tag_dict=None):\n",
    "    out_dir = os.path.join(location_fold, 'bb_stim')\n",
    "    if not os.path.exists(location_fold):\n",
    "        os.makedirs(directory)\n",
    "    for stim_f_name in file_list:\n",
    "        stim_name = stim_f_name.split('.')[0]\n",
    "        wave_in = os.path.join(location_fold, '{}.wav'.format(stim_name))\n",
    "        print('Processing {}'.format(wave_in))\n",
    "        if stim_tag_dict:\n",
    "            tag_freq = stim_tag_dict[stim_name]\n",
    "            print('tag_freq = {}'.format(tag_freq))\n",
    "            song_out = stimprep.make_stereo_stim(wave_in, out_s_f, tag_freq=tag_freq)\n",
    "        else:\n",
    "            song_out = stimprep.make_stereo_stim(wave_in, out_s_f)\n",
    "        wave_out = os.path.join(out_dir, '{}_tag.wav'.format(stim_name))\n",
    "        wavfile.write(wave_out, out_sf, song_out)\n",
    "        print(wave_out)\n",
    "        \n",
    "        tags_par_file = os.path.join(out_dir, 'stim_tags.yml')\n",
    "        with open(tags_par_file, 'w') as outfile:\n",
    "            yaml.dump(stims_to_tag, outfile, default_flow_style=False)\n",
    "\n",
    "create_bb_stim(f_list, raw_stim_folder, sampling_rate, stim_tag_dict=stims_to_tag)"
   ]
  },
  {
   "cell_type": "code",
   "execution_count": null,
   "metadata": {
    "collapsed": true
   },
   "outputs": [],
   "source": [
    "for stim_name, tag_f in stims_to_tag.items():\n",
    "    wave_in = os.path.join(fn['folders']['stim'], '{}.wav'.format(stim_name))\n",
    "    print(wave_in)\n",
    "    wave_out = os.path.join(fn['folders']['stim'], '{}_tag.wav'.format(stim_name))\n",
    "    song_out = make_stereo_stim(wave_in, tag_f, out_sf)\n",
    "    wavfile.write(wave_out, out_sf, song_out)\n",
    "    print(wave_out)\n",
    "    \n",
    "tags_par_file = os.path.join(fn['folders']['stim'], 'stim_tags.yml')\n",
    "with open(tags_par_file, 'w') as outfile:\n",
    "    yaml.dump(stims_to_tag, outfile, default_flow_style=False)"
   ]
  },
  {
   "cell_type": "code",
   "execution_count": null,
   "metadata": {},
   "outputs": [],
   "source": [
    "# THIS IS THE ACTUAL THING\n",
    "def make_stereo_stim(wave_in, tag_freq, out_sf):\n",
    "    in_sf, data = wavfile.read(wave_in)\n",
    "    new_len = int(round(data.shape[0] * out_sf / in_sf))\n",
    "    new_len = data.shape[0]\n",
    "    #song_out = np.round(resample(data, new_len)).astype(np.int16)\n",
    "    song_out = data\n",
    "    tag_out = np.round(np.sin(2*np.pi*tag_freq*np.arange(new_len)/out_sf)*30000).astype(np.int16)\n",
    "    \n",
    "    return np.column_stack([song_out, tag_out])\n",
    "\n",
    "bird = 'b1067'\n",
    "stim_sess = '001'\n",
    "out_sf = 30000\n",
    "\n",
    "# stims_to_tag = {'bos': 1000,\n",
    "#                 'con': 3000,\n",
    "#                 'bos_rev': 5000}\n",
    "\n",
    "# stims_to_tag = {'bos': 1000,\n",
    "#                 'con': 2000,\n",
    "#                 'bos_rev': 3000,\n",
    "#                 'bos_syn': 4000}\n",
    "\n",
    "stims_to_tag = {'bos01': 1000,\n",
    "                'bos05-rev': 7000,\n",
    "                'bos02': 2000,\n",
    "                'bos03': 3000,\n",
    "                'bos04': 4000,\n",
    "                'bos05': 5000}\n",
    "\n",
    "# stims_to_tag = {'bos05': 6000,\n",
    "#                 'bos06': 500}\n",
    "\n",
    "# stims_to_tag = {'bos01': 1000,\n",
    "#                 'bos01_rev': 5000,\n",
    "#                 'con01': 4000,\n",
    "#                 'bos01_syn': 2000}\n",
    "\n",
    "# stims_to_tag = {'bos01': 1000,\n",
    "#                 'bos02': 2000,\n",
    "#                 'bos03': 3000,\n",
    "#                 'con01': 4000}\n",
    "\n",
    "\n",
    "#stims_to_tag = {'bos01_rev': 500}\n",
    "#stims_to_tag = {'bos03_rev': 1500}\n",
    "\n",
    "#wave_out = os.path.join(os.path.abspath('/mnt/cube/earneodo/bci_zf/stim_data/z021/001'), 'bos_syn_tag.wav')\n",
    "fn = et.file_names(bird, stim_sess)\n",
    "for stim_name, tag_f in stims_to_tag.items():\n",
    "    wave_in = os.path.join(fn['folders']['stim'], '{}.wav'.format(stim_name))\n",
    "    print(wave_in)\n",
    "    wave_out = os.path.join(fn['folders']['stim'], '{}_tag.wav'.format(stim_name))\n",
    "    song_out = make_stereo_stim(wave_in, tag_f, out_sf)\n",
    "    wavfile.write(wave_out, out_sf, song_out)\n",
    "    print(wave_out)\n",
    "    \n",
    "tags_par_file = os.path.join(fn['folders']['stim'], 'stim_tags.yml')\n",
    "with open(tags_par_file, 'w') as outfile:\n",
    "    yaml.dump(stims_to_tag, outfile, default_flow_style=False)"
   ]
  },
  {
   "cell_type": "code",
   "execution_count": null,
   "metadata": {
    "collapsed": true
   },
   "outputs": [],
   "source": [
    "tags_par_file = os.path.join(fn['folders']['stim'], 'stim_tags.yaml')\n",
    "with open(tags_par_file, 'w') as outfile:\n",
    "    yaml.dump(stims_to_tag, outfile, default_flow_style=False)"
   ]
  },
  {
   "cell_type": "code",
   "execution_count": null,
   "metadata": {
    "collapsed": true
   },
   "outputs": [],
   "source": [
    "bird = 'z023'\n",
    "et.file_names(bird, '001')"
   ]
  },
  {
   "cell_type": "code",
   "execution_count": null,
   "metadata": {
    "collapsed": true
   },
   "outputs": [],
   "source": [
    "plt.plot(song_out.T[:1000])"
   ]
  },
  {
   "cell_type": "code",
   "execution_count": null,
   "metadata": {
    "collapsed": true
   },
   "outputs": [],
   "source": [
    "song_out.shape"
   ]
  },
  {
   "cell_type": "code",
   "execution_count": null,
   "metadata": {
    "collapsed": true
   },
   "outputs": [],
   "source": [
    "A1x16-5mm-50\n",
    "passaro16-nn_acute"
   ]
  }
 ],
 "metadata": {
  "anaconda-cloud": {},
  "kernelspec": {
   "display_name": "Tf 1.2 - Py3.6",
   "language": "python",
   "name": "tf12"
  },
  "language_info": {
   "codemirror_mode": {
    "name": "ipython",
    "version": 3
   },
   "file_extension": ".py",
   "mimetype": "text/x-python",
   "name": "python",
   "nbconvert_exporter": "python",
   "pygments_lexer": "ipython3",
   "version": "3.6.2"
  }
 },
 "nbformat": 4,
 "nbformat_minor": 1
}
