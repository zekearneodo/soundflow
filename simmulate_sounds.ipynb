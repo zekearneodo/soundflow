{
 "cells": [
  {
   "cell_type": "code",
   "execution_count": 1,
   "metadata": {
    "collapsed": false
   },
   "outputs": [
    {
     "name": "stderr",
     "output_type": "stream",
     "text": [
      "2016-10-07 12:48:16,609 simmulate_sounds INFO     Computer: lookfar.local\n",
      "INFO:simmulate_sounds:Computer: lookfar.local\n"
     ]
    }
   ],
   "source": [
    "# simmulate sounds in a grid of parameter values\n",
    "from __future__ import division\n",
    "%matplotlib inline\n",
    "import numpy as np\n",
    "from matplotlib import pyplot as plt\n",
    "from scipy.signal import spectrogram\n",
    "import scipy.signal as sg\n",
    "import socket\n",
    "import os\n",
    "import sys\n",
    "import logging\n",
    "\n",
    "\n",
    "logger = logging.getLogger('simmulate_sounds')\n",
    "logger.setLevel(logging.DEBUG)\n",
    "\n",
    "formatter = logging.Formatter(\n",
    "        '%(asctime)s %(name)-12s %(levelname)-8s %(message)s')\n",
    "handler = logging.StreamHandler()\n",
    "handler.setFormatter(formatter)\n",
    "logger.addHandler(handler)\n",
    "handler.setLevel(logging.DEBUG)\n",
    "\n",
    "# Check wich computer to decide where the things are mounted\n",
    "comp_name=socket.gethostname()\n",
    "logger.info('Computer: ' + comp_name)\n",
    "\n",
    "if 'txori' in comp_name or 'passaro' in comp_name or 'lintu' in comp_name:\n",
    "    repos_folder = os.path.abspath('/mnt/cube/earneodo/repos')\n",
    "    experiment_folder = os.path.join('/mnt/cube/earneodo/bci_zf/')\n",
    "\n",
    "if 'lookfar' in comp_name:\n",
    "    repos_folder = os.path.abspath('/Users/zeke/repos/')\n",
    "    experiment_folder = os.path.join('/Users/zeke/bci_zf/')\n",
    "\n",
    "sys.path.append(os.path.join(repos_folder, 'swissknife'))\n",
    "\n",
    "#setup the data folder\n",
    "from h5tools import h5tools\n",
    "from h5tools import tables\n",
    "from dynamo import finch as zf\n",
    "from bci import expstruct as es\n",
    "\n",
    "def sim_and_store(sim_pars, h5_file):\n",
    "    sweep_group = h5_file.require_group(sim_pars['sweep_name'])\n",
    "    h5tools.dict_2_group(sweep_group, sim_pars['vocal_pars'], 'vocal_pars')\n",
    "    synth_group = sweep_group.require_group('synth')\n",
    "    # create the group for the gamma\n",
    "    gamma_group = synth_group.require_group('{0:5d}'.format(sim_pars['gamma']))\n",
    "    sweep_table = tables.unlimited_rows_data(gamma_group, 'alpha_beta', \n",
    "                                             np.array([sim_pars['alpha'], \n",
    "                                                       sim_pars['beta']]).reshape([1,2]))\n",
    "                                            \n",
    "    \n",
    "    alpha_values = sim_pars['alpha'] * np.ones(sim_pars['sim_samples'])\n",
    "    beta_values = sim_pars['beta'] * np.ones(sim_pars['sim_samples'])\n",
    "    env_values = np.ones(sim_pars['sim_samples'])\n",
    "    par_stream = np.array([alpha_values, beta_values, env_values]).T\n",
    "    for key in ['alpha', 'beta', 'gamma', 's_f', 'steps_per_sample']:\n",
    "        vocal_pars['sys'][key] = sim_pars[key]\n",
    "    song_synth = zf.finch(vocal_pars, par_stream, x_0=x)\n",
    "    pin_table = tables.unlimited_rows_data(gamma_group, 'pre_in', \n",
    "                                           song_synth[:,1].reshape([1,-1]))\n",
    "    pout_table = tables.unlimited_rows_data(gamma_group, 'pre_out', \n",
    "                                            song_synth[:,0].reshape([1,-1]))"
   ]
  },
  {
   "cell_type": "code",
   "execution_count": 2,
   "metadata": {
    "collapsed": true
   },
   "outputs": [],
   "source": [
    "sys_pars = {'alpha_1': 0.15,\n",
    "            'beta_1': 0.15,\n",
    "            'alpha_2': 0.15,\n",
    "            'beta_2': 0.15,\n",
    "            'gamma': 23500.,\n",
    "            'Ch_inv': 4.5E10,\n",
    "            'Lb_inv': 1.E-4,\n",
    "            'Lg_inv': 1/82.,\n",
    "            'Rb': 5E6,\n",
    "            'Rh': 6E5,\n",
    "            'V_ext': 0.,\n",
    "            'dV_ext': 0.,\n",
    "            'noise': 0.,\n",
    "            'envelope': 0.,\n",
    "            'noise_fraction_beta_1': 0.1,\n",
    "            'noise_fraction_env': 0.1,\n",
    "            's_f': 44100.,\n",
    "            'steps_per_sample': 20\n",
    "            }\n",
    "\n",
    "vocal_pars = {'sys': sys_pars,\n",
    "              'S_1': 0.2,\n",
    "              'S_2': 0.2,\n",
    "              'S_3': 0.2,\n",
    "              'l_1': 1.5,\n",
    "              'l_2': 1.5,\n",
    "              'l_3': 1.0,\n",
    "              'r_out': 0.1,\n",
    "              'r_12': None,\n",
    "              'r_21': None,\n",
    "              'r_23': None,\n",
    "              'r_32': None,\n",
    "              't_12': None,\n",
    "              't_21': None,\n",
    "              't_23': None,\n",
    "              't_32': None,\n",
    "              't_in': 0.5,\n",
    "              'tau_1': None,\n",
    "              'tau_2': None,\n",
    "              'tau_3': None,\n",
    "              'max_tau': None,\n",
    "              'A_1': 0.,\n",
    "              'A_2': None,\n",
    "              'A_3': None}"
   ]
  },
  {
   "cell_type": "code",
   "execution_count": null,
   "metadata": {
    "collapsed": true
   },
   "outputs": [],
   "source": [
    "sweep_name = 'sweep_000'\n",
    "sweep_file = \n",
    "sim_pars = {'sweep_name' : sweep_name,\n",
    "            'gamma': 23500,\n",
    "            'alpha': 0.,\n",
    "            'beta': 0.,\n",
    "            'vocal_pars': vocal_pars,\n",
    "            'sim_samples': 4410,\n",
    "            's_f': 44100.,\n",
    "            'steps_per_sample': 20,\n",
    "            'x': np.array([5.E-12, 1.E-11, 1.E-12, 1.E-11, 1.E-12])\n",
    "           }\n",
    "\n",
    "def sweep(ab_list, sim_pars, h5_path, mode='m'):\n",
    "    logger.info('sweeping {0} values of alpha, beta with g={1} to file {2}'.format(\n",
    "            ab_list.shape[0], sim_pars['gamma'], sweep_file_path))\n",
    "    try:\n",
    "        with h5py.File(h5_path, mode) as f:\n",
    "            for row in par_list.shape[2]\n",
    "            store_sim(sim_pars, f)\n",
    "            store_sim(sim_pars, f)\n",
    "            logger.info('done')\n",
    "\n",
    "            \n",
    "        except UnboundLocalError, err:\n",
    "    last_err = err\n",
    "    print err"
   ]
  },
  {
   "cell_type": "code",
   "execution_count": 14,
   "metadata": {
    "collapsed": false
   },
   "outputs": [],
   "source": [
    "par_list = np.array([np.linspace(-.15, -.3, 4), np.linspace(0, -.5, 4)]).T"
   ]
  },
  {
   "cell_type": "code",
   "execution_count": 16,
   "metadata": {
    "collapsed": false
   },
   "outputs": [
    {
     "name": "stdout",
     "output_type": "stream",
     "text": [
      "((0, 0), -0.14999999999999999)\n",
      "((0, 1), 0.0)\n",
      "((1, 0), -0.19999999999999998)\n",
      "((1, 1), -0.16666666666666666)\n",
      "((2, 0), -0.25)\n",
      "((2, 1), -0.33333333333333331)\n",
      "((3, 0), -0.29999999999999999)\n",
      "((3, 1), -0.5)\n"
     ]
    }
   ],
   "source": [
    "for row in np.ndenumerate(par_list):\n",
    "    print "
   ]
  },
  {
   "cell_type": "code",
   "execution_count": null,
   "metadata": {
    "collapsed": true
   },
   "outputs": [],
   "source": []
  }
 ],
 "metadata": {
  "kernelspec": {
   "display_name": "Python 2",
   "language": "python",
   "name": "python2"
  },
  "language_info": {
   "codemirror_mode": {
    "name": "ipython",
    "version": 2
   },
   "file_extension": ".py",
   "mimetype": "text/x-python",
   "name": "python",
   "nbconvert_exporter": "python",
   "pygments_lexer": "ipython2",
   "version": "2.7.11"
  }
 },
 "nbformat": 4,
 "nbformat_minor": 0
}
