{
 "cells": [
  {
   "cell_type": "code",
   "execution_count": 1,
   "metadata": {
    "collapsed": false
   },
   "outputs": [
    {
     "name": "stderr",
     "output_type": "stream",
     "text": [
      "INFO:root:Computer: lookfar\n",
      "2016-10-13 01:42:57,502 root         INFO     Computer: lookfar\n"
     ]
    }
   ],
   "source": [
    "# simmulate sounds in a grid of parameter values\n",
    "from __future__ import division\n",
    "%matplotlib inline\n",
    "import numpy as np\n",
    "from matplotlib import pyplot as plt\n",
    "from scipy.signal import spectrogram\n",
    "import scipy.signal as sg\n",
    "import socket\n",
    "import os\n",
    "import sys\n",
    "import logging\n",
    "import h5py\n",
    "\n",
    "logger = logging.getLogger()\n",
    "handler = logging.StreamHandler()\n",
    "formatter = logging.Formatter(\n",
    "        '%(asctime)s %(name)-12s %(levelname)-8s %(message)s')\n",
    "handler.setFormatter(formatter)\n",
    "logger.addHandler(handler)\n",
    "logger.setLevel(logging.DEBUG)\n",
    "\n",
    "# Check wich computer to decide where the things are mounted\n",
    "comp_name=socket.gethostname()\n",
    "logger.info('Computer: ' + comp_name)\n",
    "\n",
    "if 'txori' in comp_name or 'passaro' in comp_name or 'lintu' in comp_name:\n",
    "    repos_folder = os.path.abspath('/mnt/cube/earneodo/repos')\n",
    "    experiment_folder = os.path.join('/mnt/cube/earneodo/bci_zf/')\n",
    "\n",
    "if 'lookfar' in comp_name:\n",
    "    repos_folder = os.path.abspath('/Users/zeke/repos/')\n",
    "    experiment_folder = os.path.join('/Users/zeke/bci_zf/')\n",
    "\n",
    "sys.path.append(os.path.join(repos_folder, 'swissknife'))\n",
    "\n",
    "#setup the data folder\n",
    "from h5tools import h5tools\n",
    "from h5tools import tables\n",
    "from dynamo import finch as zf\n",
    "from dynamo import takens as tk\n",
    "from bci import expstruct as es\n",
    "\n",
    "def sim_and_store(sim_pars, h5_file):\n",
    "    sweep_group = h5_file.require_group(sim_pars['sweep_name'])\n",
    "    h5tools.dict_2_group(sweep_group, sim_pars['vocal_pars'], 'vocal_pars')\n",
    "    synth_group = sweep_group.require_group('synth')\n",
    "    # create the group for the gamma\n",
    "    gamma_group = synth_group.require_group('{0:5d}'.format(sim_pars['gamma']))\n",
    "    sweep_table = tables.unlimited_rows_data(gamma_group, 'alpha_beta', \n",
    "                                             np.array([sim_pars['alpha'], \n",
    "                                                       sim_pars['beta']]).reshape([1,2]))\n",
    "                                            \n",
    "    \n",
    "    alpha_values = sim_pars['alpha'] * np.ones(sim_pars['sim_samples'])\n",
    "    beta_values = sim_pars['beta'] * np.ones(sim_pars['sim_samples'])\n",
    "    env_values = np.ones(sim_pars['sim_samples'])\n",
    "    par_stream = np.array([alpha_values, beta_values, env_values]).T\n",
    "    for key in ['alpha', 'beta', 'gamma', 's_f', 'steps_per_sample']:\n",
    "        vocal_pars['sys'][key] = sim_pars[key]\n",
    "    song_synth = zf.finch(vocal_pars, par_stream, x_0=sim_pars['x_0'])\n",
    "    pin_table = tables.unlimited_rows_data(gamma_group, 'pre_in', \n",
    "                                           song_synth[:,1].reshape([1,-1]))\n",
    "    pout_table = tables.unlimited_rows_data(gamma_group, 'pre_out', \n",
    "                                            song_synth[:,0].reshape([1,-1]))"
   ]
  },
  {
   "cell_type": "code",
   "execution_count": 2,
   "metadata": {
    "collapsed": true
   },
   "outputs": [],
   "source": [
    "sys_pars = {'alpha_1': 0.15,\n",
    "            'beta_1': 0.15,\n",
    "            'alpha_2': 0.15,\n",
    "            'beta_2': 0.15,\n",
    "            'gamma': 23500.,\n",
    "            'Ch_inv': 4.5E10,\n",
    "            'Lb_inv': 1.E-4,\n",
    "            'Lg_inv': 1/82.,\n",
    "            'Rb': 5E6,\n",
    "            'Rh': 6E5,\n",
    "            'V_ext': 0.,\n",
    "            'dV_ext': 0.,\n",
    "            'noise': 0.,\n",
    "            'envelope': 0.,\n",
    "            'noise_fraction_beta_1': 0.1,\n",
    "            'noise_fraction_env': 0.1,\n",
    "            's_f': 44100.,\n",
    "            'steps_per_sample': 20\n",
    "            }\n",
    "\n",
    "vocal_pars = {'sys': sys_pars,\n",
    "              'S_1': 0.2,\n",
    "              'S_2': 0.2,\n",
    "              'S_3': 0.2,\n",
    "              'l_1': 1.5,\n",
    "              'l_2': 1.5,\n",
    "              'l_3': 1.0,\n",
    "              'r_out': 0.1,\n",
    "              'r_12': None,\n",
    "              'r_21': None,\n",
    "              'r_23': None,\n",
    "              'r_32': None,\n",
    "              't_12': None,\n",
    "              't_21': None,\n",
    "              't_23': None,\n",
    "              't_32': None,\n",
    "              't_in': 0.5,\n",
    "              'tau_1': None,\n",
    "              'tau_2': None,\n",
    "              'tau_3': None,\n",
    "              'max_tau': None,\n",
    "              'A_1': 0.,\n",
    "              'A_2': None,\n",
    "              'A_3': None}"
   ]
  },
  {
   "cell_type": "code",
   "execution_count": 5,
   "metadata": {
    "collapsed": false
   },
   "outputs": [
    {
     "name": "stderr",
     "output_type": "stream",
     "text": [
      "DEBUG:expstruct:Creating directory /Users/zeke/bci_zf/tmp_data/syn_sweeps\n",
      "2016-10-07 15:40:02,319 expstruct    DEBUG    Creating directory /Users/zeke/bci_zf/tmp_data/syn_sweeps\n",
      "DEBUG:expstruct:Directory existed, doing nothing\n",
      "2016-10-07 15:40:02,321 expstruct    DEBUG    Directory existed, doing nothing\n",
      "INFO:root:Sweeping 4 values of alpha, beta with g=23500 to file /Users/zeke/bci_zf/tmp_data/syn_sweeps/finch_00.h5\n",
      "2016-10-07 15:40:02,321 root         INFO     Sweeping 4 values of alpha, beta with g=23500 to file /Users/zeke/bci_zf/tmp_data/syn_sweeps/finch_00.h5\n",
      "DEBUG:root:Simulating with -0.15, 0.0\n",
      "2016-10-07 15:40:02,322 root         DEBUG    Simulating with -0.15, 0.0\n",
      "DEBUG:h5tools:Translating dictionary key vocal_pars into its own group\n",
      "2016-10-07 15:40:02,323 h5tools      DEBUG    Translating dictionary key vocal_pars into its own group\n",
      "DEBUG:h5tools:Unable to create group (Name already exists)\n",
      "2016-10-07 15:40:02,324 h5tools      DEBUG    Unable to create group (Name already exists)\n",
      "WARNING:h5tools:Group vocal_pars already exists; skipping\n",
      "2016-10-07 15:40:02,325 h5tools      WARNING  Group vocal_pars already exists; skipping\n",
      "INFO:tables:Creating unbounded table /sweep_000/synth/23500 in group alpha_beta\n",
      "2016-10-07 15:40:02,325 tables       INFO     Creating unbounded table /sweep_000/synth/23500 in group alpha_beta\n",
      "DEBUG:tables:Table alpha_beta already exists, appending the data\n",
      "2016-10-07 15:40:02,326 tables       DEBUG    Table alpha_beta already exists, appending the data\n",
      "INFO:tables:Creating unbounded table /sweep_000/synth/23500 in group pre_in\n",
      "2016-10-07 15:40:06,817 tables       INFO     Creating unbounded table /sweep_000/synth/23500 in group pre_in\n",
      "DEBUG:tables:Table pre_in already exists, appending the data\n",
      "2016-10-07 15:40:06,818 tables       DEBUG    Table pre_in already exists, appending the data\n",
      "INFO:tables:Creating unbounded table /sweep_000/synth/23500 in group pre_out\n",
      "2016-10-07 15:40:06,819 tables       INFO     Creating unbounded table /sweep_000/synth/23500 in group pre_out\n",
      "DEBUG:tables:Table pre_out already exists, appending the data\n",
      "2016-10-07 15:40:06,820 tables       DEBUG    Table pre_out already exists, appending the data\n",
      "DEBUG:root:Simulating with -0.2, -0.166666666667\n",
      "2016-10-07 15:40:06,821 root         DEBUG    Simulating with -0.2, -0.166666666667\n",
      "DEBUG:h5tools:Translating dictionary key vocal_pars into its own group\n",
      "2016-10-07 15:40:06,821 h5tools      DEBUG    Translating dictionary key vocal_pars into its own group\n",
      "DEBUG:h5tools:Unable to create group (Name already exists)\n",
      "2016-10-07 15:40:06,822 h5tools      DEBUG    Unable to create group (Name already exists)\n",
      "WARNING:h5tools:Group vocal_pars already exists; skipping\n",
      "2016-10-07 15:40:06,822 h5tools      WARNING  Group vocal_pars already exists; skipping\n",
      "INFO:tables:Creating unbounded table /sweep_000/synth/23500 in group alpha_beta\n",
      "2016-10-07 15:40:06,823 tables       INFO     Creating unbounded table /sweep_000/synth/23500 in group alpha_beta\n",
      "DEBUG:tables:Table alpha_beta already exists, appending the data\n",
      "2016-10-07 15:40:06,824 tables       DEBUG    Table alpha_beta already exists, appending the data\n",
      "INFO:tables:Creating unbounded table /sweep_000/synth/23500 in group pre_in\n",
      "2016-10-07 15:40:11,167 tables       INFO     Creating unbounded table /sweep_000/synth/23500 in group pre_in\n",
      "DEBUG:tables:Table pre_in already exists, appending the data\n",
      "2016-10-07 15:40:11,168 tables       DEBUG    Table pre_in already exists, appending the data\n",
      "INFO:tables:Creating unbounded table /sweep_000/synth/23500 in group pre_out\n",
      "2016-10-07 15:40:11,169 tables       INFO     Creating unbounded table /sweep_000/synth/23500 in group pre_out\n",
      "DEBUG:tables:Table pre_out already exists, appending the data\n",
      "2016-10-07 15:40:11,170 tables       DEBUG    Table pre_out already exists, appending the data\n",
      "DEBUG:root:Simulating with -0.25, -0.333333333333\n",
      "2016-10-07 15:40:11,171 root         DEBUG    Simulating with -0.25, -0.333333333333\n",
      "DEBUG:h5tools:Translating dictionary key vocal_pars into its own group\n",
      "2016-10-07 15:40:11,172 h5tools      DEBUG    Translating dictionary key vocal_pars into its own group\n",
      "DEBUG:h5tools:Unable to create group (Name already exists)\n",
      "2016-10-07 15:40:11,172 h5tools      DEBUG    Unable to create group (Name already exists)\n",
      "WARNING:h5tools:Group vocal_pars already exists; skipping\n",
      "2016-10-07 15:40:11,173 h5tools      WARNING  Group vocal_pars already exists; skipping\n",
      "INFO:tables:Creating unbounded table /sweep_000/synth/23500 in group alpha_beta\n",
      "2016-10-07 15:40:11,174 tables       INFO     Creating unbounded table /sweep_000/synth/23500 in group alpha_beta\n",
      "DEBUG:tables:Table alpha_beta already exists, appending the data\n",
      "2016-10-07 15:40:11,174 tables       DEBUG    Table alpha_beta already exists, appending the data\n",
      "INFO:tables:Creating unbounded table /sweep_000/synth/23500 in group pre_in\n",
      "2016-10-07 15:40:15,578 tables       INFO     Creating unbounded table /sweep_000/synth/23500 in group pre_in\n",
      "DEBUG:tables:Table pre_in already exists, appending the data\n",
      "2016-10-07 15:40:15,579 tables       DEBUG    Table pre_in already exists, appending the data\n",
      "INFO:tables:Creating unbounded table /sweep_000/synth/23500 in group pre_out\n",
      "2016-10-07 15:40:15,580 tables       INFO     Creating unbounded table /sweep_000/synth/23500 in group pre_out\n",
      "DEBUG:tables:Table pre_out already exists, appending the data\n",
      "2016-10-07 15:40:15,581 tables       DEBUG    Table pre_out already exists, appending the data\n",
      "DEBUG:root:Simulating with -0.3, -0.5\n",
      "2016-10-07 15:40:15,582 root         DEBUG    Simulating with -0.3, -0.5\n",
      "DEBUG:h5tools:Translating dictionary key vocal_pars into its own group\n",
      "2016-10-07 15:40:15,583 h5tools      DEBUG    Translating dictionary key vocal_pars into its own group\n",
      "DEBUG:h5tools:Unable to create group (Name already exists)\n",
      "2016-10-07 15:40:15,583 h5tools      DEBUG    Unable to create group (Name already exists)\n",
      "WARNING:h5tools:Group vocal_pars already exists; skipping\n",
      "2016-10-07 15:40:15,584 h5tools      WARNING  Group vocal_pars already exists; skipping\n",
      "INFO:tables:Creating unbounded table /sweep_000/synth/23500 in group alpha_beta\n",
      "2016-10-07 15:40:15,585 tables       INFO     Creating unbounded table /sweep_000/synth/23500 in group alpha_beta\n",
      "DEBUG:tables:Table alpha_beta already exists, appending the data\n",
      "2016-10-07 15:40:15,585 tables       DEBUG    Table alpha_beta already exists, appending the data\n",
      "INFO:tables:Creating unbounded table /sweep_000/synth/23500 in group pre_in\n",
      "2016-10-07 15:40:19,915 tables       INFO     Creating unbounded table /sweep_000/synth/23500 in group pre_in\n",
      "DEBUG:tables:Table pre_in already exists, appending the data\n",
      "2016-10-07 15:40:19,916 tables       DEBUG    Table pre_in already exists, appending the data\n",
      "INFO:tables:Creating unbounded table /sweep_000/synth/23500 in group pre_out\n",
      "2016-10-07 15:40:19,917 tables       INFO     Creating unbounded table /sweep_000/synth/23500 in group pre_out\n",
      "DEBUG:tables:Table pre_out already exists, appending the data\n",
      "2016-10-07 15:40:19,918 tables       DEBUG    Table pre_out already exists, appending the data\n",
      "INFO:root:Sweep done successfully\n",
      "2016-10-07 15:40:19,919 root         INFO     Sweep done successfully\n"
     ]
    }
   ],
   "source": [
    "sweep_name = 'sweep_000'\n",
    "sweep_file_path = os.path.join(es.file_names('')['folders']['tmp'], 'syn_sweeps', 'finch_00.h5')\n",
    "\n",
    "sim_pars = {'sweep_name' : sweep_name,\n",
    "            'gamma': 23500,\n",
    "            'alpha': 0.,\n",
    "            'beta': 0.,\n",
    "            'vocal_pars': vocal_pars,\n",
    "            'sim_samples': 4410,\n",
    "            's_f': 44100.,\n",
    "            'steps_per_sample': 20,\n",
    "            'x_0': np.array([5.E-12, 1.E-11, 1.E-12, 1.E-11, 1.E-12])\n",
    "           }\n",
    "\n",
    "def sweep(ab_list, sim_pars, h5_path, mode='x'):\n",
    "    es.mkdir_p(os.path.split(h5_path)[0])\n",
    "    logger.info('Sweeping {0} values of alpha, beta with g={1} to file {2}'.format(\n",
    "            ab_list.shape[0], sim_pars['gamma'], h5_path))\n",
    "    try:\n",
    "        with h5py.File(h5_path, mode) as f:\n",
    "            for sim_pars['alpha'], sim_pars['beta'] in np.nditer([ab_list[:,0], ab_list[:,1]]):\n",
    "                logger.debug('Simulating with {0}, {1}'.format(sim_pars['alpha'],\n",
    "                                                              sim_pars['beta']))\n",
    "                sim_and_store(sim_pars, f)\n",
    "        logger.info('Sweep done successfully')\n",
    "    except UnboundLocalError, err:\n",
    "        last_err = err\n",
    "        logger.error(err)\n",
    "    \n",
    "\n",
    "par_list = np.array([np.linspace(-.15, -.3, 4), np.linspace(0, -.5, 4)]).T\n",
    "sweep(par_list, sim_pars, sweep_file_path, mode='a')"
   ]
  },
  {
   "cell_type": "code",
   "execution_count": 23,
   "metadata": {
    "collapsed": false
   },
   "outputs": [],
   "source": [
    "sweep_name = 'sweep_000'\n",
    "sim_pars = {'sweep_name' : sweep_name,\n",
    "            'gamma': 23500,\n",
    "            'alpha': 0.,\n",
    "            'beta': 0.,\n",
    "            'vocal_pars': vocal_pars,\n",
    "            'sim_samples': 4410,\n",
    "            's_f': 44100.,\n",
    "            'steps_per_sample': 20,\n",
    "            'x': np.array([5.E-12, 1.E-11, 1.E-12, 1.E-11, 1.E-12])\n",
    "           }"
   ]
  },
  {
   "cell_type": "code",
   "execution_count": 11,
   "metadata": {
    "collapsed": false
   },
   "outputs": [
    {
     "name": "stderr",
     "output_type": "stream",
     "text": [
      "DEBUG:expstruct:Creating directory /Users/zeke/bci_zf/tmp_data/syn_sweeps/finch_01.h5\n",
      "2016-10-07 15:30:39,803 expstruct    DEBUG    Creating directory /Users/zeke/bci_zf/tmp_data/syn_sweeps/finch_01.h5\n",
      "DEBUG:expstruct:Directory existed, doing nothing\n",
      "2016-10-07 15:30:39,804 expstruct    DEBUG    Directory existed, doing nothing\n"
     ]
    }
   ],
   "source": [
    "es.mkdir_p(os.path.join(es.file_names('')['folders']['tmp'], 'syn_sweeps', 'finch_01.h5'))"
   ]
  },
  {
   "cell_type": "code",
   "execution_count": 6,
   "metadata": {
    "collapsed": false
   },
   "outputs": [],
   "source": [
    "import h5py"
   ]
  },
  {
   "cell_type": "code",
   "execution_count": 6,
   "metadata": {
    "collapsed": false
   },
   "outputs": [
    {
     "data": {
      "text/plain": [
       "{'kai': '/mnt/cube/kai/results/',\n",
       " 'prb': '/Volumes/gentner/earneodo/bci_zf/probes',\n",
       " 'raw': '/Users/zeke/bci_zf/raw_data/',\n",
       " 'rw': '/Volumes/gentner/earneodo/bci_zf/raw_data/',\n",
       " 'ss': '/Volumes/gentner/earneodo/bci_zf/ss_data/',\n",
       " 'stim': '/Volumes/gentner/earneodo/bci_zf/stim_data/',\n",
       " 'templ': '/Volumes/gentner/earneodo/bci_zf/templates',\n",
       " 'tmp': '/Users/zeke/bci_zf/tmp_data/'}"
      ]
     },
     "execution_count": 6,
     "metadata": {},
     "output_type": "execute_result"
    }
   ],
   "source": [
    "es.file_names('')['folders']"
   ]
  },
  {
   "cell_type": "code",
   "execution_count": 5,
   "metadata": {
    "collapsed": false
   },
   "outputs": [
    {
     "data": {
      "text/plain": [
       "<module 'bci.expstruct' from '/Users/zeke/repos/swissknife/bci/expstruct.py'>"
      ]
     },
     "execution_count": 5,
     "metadata": {},
     "output_type": "execute_result"
    }
   ],
   "source": [
    "reload(es)"
   ]
  },
  {
   "cell_type": "code",
   "execution_count": 8,
   "metadata": {
    "collapsed": false
   },
   "outputs": [
    {
     "ename": "NameError",
     "evalue": "global name 'mpi4py' is not defined",
     "output_type": "error",
     "traceback": [
      "\u001b[0;31m---------------------------------------------------------------------------\u001b[0m",
      "\u001b[0;31mNameError\u001b[0m                                 Traceback (most recent call last)",
      "\u001b[0;32m<ipython-input-8-4fb1043e36ae>\u001b[0m in \u001b[0;36m<module>\u001b[0;34m()\u001b[0m\n\u001b[0;32m----> 1\u001b[0;31m \u001b[0mf\u001b[0m \u001b[0;34m=\u001b[0m \u001b[0mh5py\u001b[0m\u001b[0;34m.\u001b[0m\u001b[0mFile\u001b[0m\u001b[0;34m(\u001b[0m\u001b[0;34m'parallel_test.hdf5'\u001b[0m\u001b[0;34m,\u001b[0m \u001b[0;34m'w'\u001b[0m\u001b[0;34m,\u001b[0m \u001b[0mdriver\u001b[0m\u001b[0;34m=\u001b[0m\u001b[0;34m'mpio'\u001b[0m\u001b[0;34m)\u001b[0m\u001b[0;34m\u001b[0m\u001b[0m\n\u001b[0m",
      "\u001b[0;32m/Users/zeke/anaconda/lib/python2.7/site-packages/h5py/_hl/files.pyc\u001b[0m in \u001b[0;36m__init__\u001b[0;34m(self, name, mode, driver, libver, userblock_size, swmr, **kwds)\u001b[0m\n\u001b[1;32m    257\u001b[0m                     \u001b[0;32mpass\u001b[0m\u001b[0;34m\u001b[0m\u001b[0m\n\u001b[1;32m    258\u001b[0m \u001b[0;34m\u001b[0m\u001b[0m\n\u001b[0;32m--> 259\u001b[0;31m                 \u001b[0mfapl\u001b[0m \u001b[0;34m=\u001b[0m \u001b[0mmake_fapl\u001b[0m\u001b[0;34m(\u001b[0m\u001b[0mdriver\u001b[0m\u001b[0;34m,\u001b[0m \u001b[0mlibver\u001b[0m\u001b[0;34m,\u001b[0m \u001b[0;34m**\u001b[0m\u001b[0mkwds\u001b[0m\u001b[0;34m)\u001b[0m\u001b[0;34m\u001b[0m\u001b[0m\n\u001b[0m\u001b[1;32m    260\u001b[0m                 \u001b[0mfid\u001b[0m \u001b[0;34m=\u001b[0m \u001b[0mmake_fid\u001b[0m\u001b[0;34m(\u001b[0m\u001b[0mname\u001b[0m\u001b[0;34m,\u001b[0m \u001b[0mmode\u001b[0m\u001b[0;34m,\u001b[0m \u001b[0muserblock_size\u001b[0m\u001b[0;34m,\u001b[0m \u001b[0mfapl\u001b[0m\u001b[0;34m,\u001b[0m \u001b[0mswmr\u001b[0m\u001b[0;34m=\u001b[0m\u001b[0mswmr\u001b[0m\u001b[0;34m)\u001b[0m\u001b[0;34m\u001b[0m\u001b[0m\n\u001b[1;32m    261\u001b[0m \u001b[0;34m\u001b[0m\u001b[0m\n",
      "\u001b[0;32m/Users/zeke/anaconda/lib/python2.7/site-packages/h5py/_hl/files.pyc\u001b[0m in \u001b[0;36mmake_fapl\u001b[0;34m(driver, libver, **kwds)\u001b[0m\n\u001b[1;32m     59\u001b[0m         \u001b[0mplist\u001b[0m\u001b[0;34m.\u001b[0m\u001b[0mset_fapl_family\u001b[0m\u001b[0;34m(\u001b[0m\u001b[0mmemb_fapl\u001b[0m\u001b[0;34m=\u001b[0m\u001b[0mplist\u001b[0m\u001b[0;34m.\u001b[0m\u001b[0mcopy\u001b[0m\u001b[0;34m(\u001b[0m\u001b[0;34m)\u001b[0m\u001b[0;34m,\u001b[0m \u001b[0;34m**\u001b[0m\u001b[0mkwds\u001b[0m\u001b[0;34m)\u001b[0m\u001b[0;34m\u001b[0m\u001b[0m\n\u001b[1;32m     60\u001b[0m     \u001b[0;32melif\u001b[0m\u001b[0;34m(\u001b[0m\u001b[0mdriver\u001b[0m \u001b[0;34m==\u001b[0m \u001b[0;34m'mpio'\u001b[0m\u001b[0;34m)\u001b[0m\u001b[0;34m:\u001b[0m\u001b[0;34m\u001b[0m\u001b[0m\n\u001b[0;32m---> 61\u001b[0;31m         \u001b[0mkwds\u001b[0m\u001b[0;34m.\u001b[0m\u001b[0msetdefault\u001b[0m\u001b[0;34m(\u001b[0m\u001b[0;34m'info'\u001b[0m\u001b[0;34m,\u001b[0m \u001b[0mmpi4py\u001b[0m\u001b[0;34m.\u001b[0m\u001b[0mMPI\u001b[0m\u001b[0;34m.\u001b[0m\u001b[0mInfo\u001b[0m\u001b[0;34m(\u001b[0m\u001b[0;34m)\u001b[0m\u001b[0;34m)\u001b[0m\u001b[0;34m\u001b[0m\u001b[0m\n\u001b[0m\u001b[1;32m     62\u001b[0m         \u001b[0mplist\u001b[0m\u001b[0;34m.\u001b[0m\u001b[0mset_fapl_mpio\u001b[0m\u001b[0;34m(\u001b[0m\u001b[0;34m**\u001b[0m\u001b[0mkwds\u001b[0m\u001b[0;34m)\u001b[0m\u001b[0;34m\u001b[0m\u001b[0m\n\u001b[1;32m     63\u001b[0m     \u001b[0;32melse\u001b[0m\u001b[0;34m:\u001b[0m\u001b[0;34m\u001b[0m\u001b[0m\n",
      "\u001b[0;31mNameError\u001b[0m: global name 'mpi4py' is not defined"
     ]
    }
   ],
   "source": [
    "f = h5py.File('parallel_test.hdf5', 'w', driver='mpio')\n"
   ]
  },
  {
   "cell_type": "code",
   "execution_count": 3,
   "metadata": {
    "collapsed": false
   },
   "outputs": [
    {
     "name": "stdout",
     "output_type": "stream",
     "text": [
      "319\n"
     ]
    },
    {
     "data": {
      "text/plain": [
       "[<matplotlib.lines.Line2D at 0x10a986190>]"
      ]
     },
     "execution_count": 3,
     "metadata": {},
     "output_type": "execute_result"
    },
    {
     "data": {
      "image/png": "[encoded data removed]",
      "text/plain": [
       "<matplotlib.figure.Figure at 0x10a8c9dd0>"
      ]
     },
     "metadata": {},
     "output_type": "display_data"
    }
   ],
   "source": [
    "ab_g= tk.cusp_grid()\n",
    "lines = tk.cusp_lines(b_max=0.07, b_min=-1 / 3, a_step=1E-3, b_steps=100, b_log_step_exp=5, f_max=None)\n",
    "plt.plot(lines[:,1], lines[:,0])\n",
    "plt.plot(lines[:,2], lines[:,0])\n",
    "plt.plot(ab_g[:,0], ab_g[:,1], '.')\n"
   ]
  },
  {
   "cell_type": "code",
   "execution_count": 5,
   "metadata": {
    "collapsed": false
   },
   "outputs": [
    {
     "data": {
      "text/plain": [
       "(31900, 2)"
      ]
     },
     "execution_count": 5,
     "metadata": {},
     "output_type": "execute_result"
    }
   ],
   "source": [
    "ab_g.shape"
   ]
  },
  {
   "cell_type": "code",
   "execution_count": null,
   "metadata": {
    "collapsed": true
   },
   "outputs": [],
   "source": []
  }
 ],
 "metadata": {
  "kernelspec": {
   "display_name": "Python 2",
   "language": "python",
   "name": "python2"
  },
  "language_info": {
   "codemirror_mode": {
    "name": "ipython",
    "version": 2
   },
   "file_extension": ".py",
   "mimetype": "text/x-python",
   "name": "python",
   "nbconvert_exporter": "python",
   "pygments_lexer": "ipython2",
   "version": "2.7.12"
  }
 },
 "nbformat": 4,
 "nbformat_minor": 0
}
